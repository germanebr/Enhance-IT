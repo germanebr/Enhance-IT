{
  "nbformat": 4,
  "nbformat_minor": 0,
  "metadata": {
    "colab": {
      "name": "NLP Classifier.ipynb",
      "provenance": [],
      "collapsed_sections": []
    },
    "kernelspec": {
      "name": "python3",
      "display_name": "Python 3"
    },
    "language_info": {
      "name": "python"
    },
    "gpuClass": "standard",
    "accelerator": "GPU"
  },
  "cells": [
    {
      "cell_type": "markdown",
      "source": [
        "## Import here all the libraries"
      ],
      "metadata": {
        "id": "CXRrNSnTYsSw"
      }
    },
    {
      "cell_type": "code",
      "execution_count": null,
      "metadata": {
        "id": "C5uXRA2_YeTA",
        "colab": {
          "base_uri": "https://localhost:8080/"
        },
        "outputId": "1953831e-5d4c-4f48-9a32-63dba3bff3ca"
      },
      "outputs": [
        {
          "output_type": "stream",
          "name": "stderr",
          "text": [
            "[nltk_data] Downloading package stopwords to /root/nltk_data...\n",
            "[nltk_data]   Package stopwords is already up-to-date!\n",
            "[nltk_data] Downloading package wordnet to /root/nltk_data...\n",
            "[nltk_data]   Package wordnet is already up-to-date!\n",
            "[nltk_data] Downloading package omw-1.4 to /root/nltk_data...\n",
            "[nltk_data]   Package omw-1.4 is already up-to-date!\n",
            "[nltk_data] Downloading package punkt to /root/nltk_data...\n",
            "[nltk_data]   Package punkt is already up-to-date!\n"
          ]
        }
      ],
      "source": [
        "import numpy as np\n",
        "import matplotlib.pyplot as plt\n",
        "import pandas as pd\n",
        "import seaborn as sns\n",
        "# import plotly.express as px\n",
        "import random\n",
        "from keras.utils import np_utils\n",
        "from scipy.stats import multivariate_normal as mvn\n",
        "\n",
        "import string\n",
        "import re #regular expressions\n",
        "import nltk\n",
        "from nltk import word_tokenize\n",
        "from nltk.corpus import stopwords\n",
        "from nltk.stem.porter import PorterStemmer\n",
        "from nltk.stem import WordNetLemmatizer\n",
        "from __future__ import absolute_import, division, print_function, unicode_literals\n",
        "nltk.download('stopwords')\n",
        "nltk.download('wordnet')\n",
        "nltk.download('omw-1.4')\n",
        "nltk.download('punkt')\n",
        "\n",
        "!pip install -q -U \"tensorflow-text==2.8.*\"\n",
        "!pip install -q tf-models-official==2.7.0\n",
        "import tensorflow as tf\n",
        "import tensorflow_hub as hub\n",
        "import tensorflow_datasets as tfds\n",
        "from tensorflow import keras\n",
        "import tensorflow_text as text\n",
        "from official.nlp import optimization\n",
        "\n",
        "#Import .py file of general algorithms\n",
        "# from google.colab import files\n",
        "# files.upload()\n",
        "# from general import accuracy"
      ]
    },
    {
      "cell_type": "code",
      "source": [
        "#Mount Google Drive Folders\n",
        "from google.colab import drive\n",
        "drive.mount('/content/drive')"
      ],
      "metadata": {
        "colab": {
          "base_uri": "https://localhost:8080/"
        },
        "id": "3Poxw2AV8j_e",
        "outputId": "11820623-bda4-45d3-f1d4-5f9dc085f3c1"
      },
      "execution_count": null,
      "outputs": [
        {
          "output_type": "stream",
          "name": "stdout",
          "text": [
            "Drive already mounted at /content/drive; to attempt to forcibly remount, call drive.mount(\"/content/drive\", force_remount=True).\n"
          ]
        }
      ]
    },
    {
      "cell_type": "markdown",
      "source": [
        "## Load dataset"
      ],
      "metadata": {
        "id": "En-rm2AFYvyY"
      }
    },
    {
      "cell_type": "code",
      "source": [
        "def numLabel(data):\n",
        "  if data == 'commissive' or data == 'directive': #Regular chat\n",
        "    label = 0\n",
        "  elif data == 'inform':\n",
        "    label = 1\n",
        "  else: #Question\n",
        "    label = 2\n",
        "\n",
        "  return label"
      ],
      "metadata": {
        "id": "nZVgTWNv0Swx"
      },
      "execution_count": null,
      "outputs": []
    },
    {
      "cell_type": "code",
      "source": [
        "df_train = pd.read_csv('/content/drive/MyDrive/Enhance It/Training Projects/NLP/train.csv')\n",
        "df_train.drop(['Emotion','Dialogue_ID'], inplace=True, axis=1)\n",
        "df_train['Dialogue_Act'] = df_train['Dialogue_Act'].apply(numLabel)\n",
        "df_train.head()"
      ],
      "metadata": {
        "id": "vZsdIegXY7hB",
        "colab": {
          "base_uri": "https://localhost:8080/",
          "height": 206
        },
        "outputId": "ab842f3b-f197-486e-f307-cb079f9670cf"
      },
      "execution_count": null,
      "outputs": [
        {
          "output_type": "execute_result",
          "data": {
            "text/plain": [
              "                                           Utterance  Dialogue_Act\n",
              "0  say , jim , how about going for a few beers af...             0\n",
              "1  you know that is tempting but is really not go...             0\n",
              "2      what do you mean ? it will help us to relax .             2\n",
              "3  do you really think so ? i don't . it will jus...             2\n",
              "4  i guess you are right.but what shall we do ? i...             2"
            ],
            "text/html": [
              "\n",
              "  <div id=\"df-34d80a14-2892-403e-8aae-0869ca43603c\">\n",
              "    <div class=\"colab-df-container\">\n",
              "      <div>\n",
              "<style scoped>\n",
              "    .dataframe tbody tr th:only-of-type {\n",
              "        vertical-align: middle;\n",
              "    }\n",
              "\n",
              "    .dataframe tbody tr th {\n",
              "        vertical-align: top;\n",
              "    }\n",
              "\n",
              "    .dataframe thead th {\n",
              "        text-align: right;\n",
              "    }\n",
              "</style>\n",
              "<table border=\"1\" class=\"dataframe\">\n",
              "  <thead>\n",
              "    <tr style=\"text-align: right;\">\n",
              "      <th></th>\n",
              "      <th>Utterance</th>\n",
              "      <th>Dialogue_Act</th>\n",
              "    </tr>\n",
              "  </thead>\n",
              "  <tbody>\n",
              "    <tr>\n",
              "      <th>0</th>\n",
              "      <td>say , jim , how about going for a few beers af...</td>\n",
              "      <td>0</td>\n",
              "    </tr>\n",
              "    <tr>\n",
              "      <th>1</th>\n",
              "      <td>you know that is tempting but is really not go...</td>\n",
              "      <td>0</td>\n",
              "    </tr>\n",
              "    <tr>\n",
              "      <th>2</th>\n",
              "      <td>what do you mean ? it will help us to relax .</td>\n",
              "      <td>2</td>\n",
              "    </tr>\n",
              "    <tr>\n",
              "      <th>3</th>\n",
              "      <td>do you really think so ? i don't . it will jus...</td>\n",
              "      <td>2</td>\n",
              "    </tr>\n",
              "    <tr>\n",
              "      <th>4</th>\n",
              "      <td>i guess you are right.but what shall we do ? i...</td>\n",
              "      <td>2</td>\n",
              "    </tr>\n",
              "  </tbody>\n",
              "</table>\n",
              "</div>\n",
              "      <button class=\"colab-df-convert\" onclick=\"convertToInteractive('df-34d80a14-2892-403e-8aae-0869ca43603c')\"\n",
              "              title=\"Convert this dataframe to an interactive table.\"\n",
              "              style=\"display:none;\">\n",
              "        \n",
              "  <svg xmlns=\"http://www.w3.org/2000/svg\" height=\"24px\"viewBox=\"0 0 24 24\"\n",
              "       width=\"24px\">\n",
              "    <path d=\"M0 0h24v24H0V0z\" fill=\"none\"/>\n",
              "    <path d=\"M18.56 5.44l.94 2.06.94-2.06 2.06-.94-2.06-.94-.94-2.06-.94 2.06-2.06.94zm-11 1L8.5 8.5l.94-2.06 2.06-.94-2.06-.94L8.5 2.5l-.94 2.06-2.06.94zm10 10l.94 2.06.94-2.06 2.06-.94-2.06-.94-.94-2.06-.94 2.06-2.06.94z\"/><path d=\"M17.41 7.96l-1.37-1.37c-.4-.4-.92-.59-1.43-.59-.52 0-1.04.2-1.43.59L10.3 9.45l-7.72 7.72c-.78.78-.78 2.05 0 2.83L4 21.41c.39.39.9.59 1.41.59.51 0 1.02-.2 1.41-.59l7.78-7.78 2.81-2.81c.8-.78.8-2.07 0-2.86zM5.41 20L4 18.59l7.72-7.72 1.47 1.35L5.41 20z\"/>\n",
              "  </svg>\n",
              "      </button>\n",
              "      \n",
              "  <style>\n",
              "    .colab-df-container {\n",
              "      display:flex;\n",
              "      flex-wrap:wrap;\n",
              "      gap: 12px;\n",
              "    }\n",
              "\n",
              "    .colab-df-convert {\n",
              "      background-color: #E8F0FE;\n",
              "      border: none;\n",
              "      border-radius: 50%;\n",
              "      cursor: pointer;\n",
              "      display: none;\n",
              "      fill: #1967D2;\n",
              "      height: 32px;\n",
              "      padding: 0 0 0 0;\n",
              "      width: 32px;\n",
              "    }\n",
              "\n",
              "    .colab-df-convert:hover {\n",
              "      background-color: #E2EBFA;\n",
              "      box-shadow: 0px 1px 2px rgba(60, 64, 67, 0.3), 0px 1px 3px 1px rgba(60, 64, 67, 0.15);\n",
              "      fill: #174EA6;\n",
              "    }\n",
              "\n",
              "    [theme=dark] .colab-df-convert {\n",
              "      background-color: #3B4455;\n",
              "      fill: #D2E3FC;\n",
              "    }\n",
              "\n",
              "    [theme=dark] .colab-df-convert:hover {\n",
              "      background-color: #434B5C;\n",
              "      box-shadow: 0px 1px 3px 1px rgba(0, 0, 0, 0.15);\n",
              "      filter: drop-shadow(0px 1px 2px rgba(0, 0, 0, 0.3));\n",
              "      fill: #FFFFFF;\n",
              "    }\n",
              "  </style>\n",
              "\n",
              "      <script>\n",
              "        const buttonEl =\n",
              "          document.querySelector('#df-34d80a14-2892-403e-8aae-0869ca43603c button.colab-df-convert');\n",
              "        buttonEl.style.display =\n",
              "          google.colab.kernel.accessAllowed ? 'block' : 'none';\n",
              "\n",
              "        async function convertToInteractive(key) {\n",
              "          const element = document.querySelector('#df-34d80a14-2892-403e-8aae-0869ca43603c');\n",
              "          const dataTable =\n",
              "            await google.colab.kernel.invokeFunction('convertToInteractive',\n",
              "                                                     [key], {});\n",
              "          if (!dataTable) return;\n",
              "\n",
              "          const docLinkHtml = 'Like what you see? Visit the ' +\n",
              "            '<a target=\"_blank\" href=https://colab.research.google.com/notebooks/data_table.ipynb>data table notebook</a>'\n",
              "            + ' to learn more about interactive tables.';\n",
              "          element.innerHTML = '';\n",
              "          dataTable['output_type'] = 'display_data';\n",
              "          await google.colab.output.renderOutput(dataTable, element);\n",
              "          const docLink = document.createElement('div');\n",
              "          docLink.innerHTML = docLinkHtml;\n",
              "          element.appendChild(docLink);\n",
              "        }\n",
              "      </script>\n",
              "    </div>\n",
              "  </div>\n",
              "  "
            ]
          },
          "metadata": {},
          "execution_count": 5
        }
      ]
    },
    {
      "cell_type": "code",
      "source": [
        "df_val = pd.read_csv('/content/drive/MyDrive/Enhance It/Training Projects/NLP/dev.csv')\n",
        "df_val.drop(['Emotion','Dialogue_ID'], inplace=True, axis=1)\n",
        "df_val['Dialogue_Act'] = df_val['Dialogue_Act'].apply(numLabel)\n",
        "df_val.head()"
      ],
      "metadata": {
        "colab": {
          "base_uri": "https://localhost:8080/",
          "height": 206
        },
        "id": "4kDLYRwCu5ns",
        "outputId": "fc459b18-207c-4021-c1d9-cc627a3b3669"
      },
      "execution_count": null,
      "outputs": [
        {
          "output_type": "execute_result",
          "data": {
            "text/plain": [
              "                                           Utterance  Dialogue_Act\n",
              "0   good morning , sir . is there a bank near here ?             2\n",
              "1           there is one . 5 blocks away from here ?             1\n",
              "2  well , that's too far.can you change some mone...             0\n",
              "3  surely , of course . what kind of currency hav...             2\n",
              "4                                              rib .             1"
            ],
            "text/html": [
              "\n",
              "  <div id=\"df-a053c8f6-66a9-4ae8-ac6f-4afd0637d199\">\n",
              "    <div class=\"colab-df-container\">\n",
              "      <div>\n",
              "<style scoped>\n",
              "    .dataframe tbody tr th:only-of-type {\n",
              "        vertical-align: middle;\n",
              "    }\n",
              "\n",
              "    .dataframe tbody tr th {\n",
              "        vertical-align: top;\n",
              "    }\n",
              "\n",
              "    .dataframe thead th {\n",
              "        text-align: right;\n",
              "    }\n",
              "</style>\n",
              "<table border=\"1\" class=\"dataframe\">\n",
              "  <thead>\n",
              "    <tr style=\"text-align: right;\">\n",
              "      <th></th>\n",
              "      <th>Utterance</th>\n",
              "      <th>Dialogue_Act</th>\n",
              "    </tr>\n",
              "  </thead>\n",
              "  <tbody>\n",
              "    <tr>\n",
              "      <th>0</th>\n",
              "      <td>good morning , sir . is there a bank near here ?</td>\n",
              "      <td>2</td>\n",
              "    </tr>\n",
              "    <tr>\n",
              "      <th>1</th>\n",
              "      <td>there is one . 5 blocks away from here ?</td>\n",
              "      <td>1</td>\n",
              "    </tr>\n",
              "    <tr>\n",
              "      <th>2</th>\n",
              "      <td>well , that's too far.can you change some mone...</td>\n",
              "      <td>0</td>\n",
              "    </tr>\n",
              "    <tr>\n",
              "      <th>3</th>\n",
              "      <td>surely , of course . what kind of currency hav...</td>\n",
              "      <td>2</td>\n",
              "    </tr>\n",
              "    <tr>\n",
              "      <th>4</th>\n",
              "      <td>rib .</td>\n",
              "      <td>1</td>\n",
              "    </tr>\n",
              "  </tbody>\n",
              "</table>\n",
              "</div>\n",
              "      <button class=\"colab-df-convert\" onclick=\"convertToInteractive('df-a053c8f6-66a9-4ae8-ac6f-4afd0637d199')\"\n",
              "              title=\"Convert this dataframe to an interactive table.\"\n",
              "              style=\"display:none;\">\n",
              "        \n",
              "  <svg xmlns=\"http://www.w3.org/2000/svg\" height=\"24px\"viewBox=\"0 0 24 24\"\n",
              "       width=\"24px\">\n",
              "    <path d=\"M0 0h24v24H0V0z\" fill=\"none\"/>\n",
              "    <path d=\"M18.56 5.44l.94 2.06.94-2.06 2.06-.94-2.06-.94-.94-2.06-.94 2.06-2.06.94zm-11 1L8.5 8.5l.94-2.06 2.06-.94-2.06-.94L8.5 2.5l-.94 2.06-2.06.94zm10 10l.94 2.06.94-2.06 2.06-.94-2.06-.94-.94-2.06-.94 2.06-2.06.94z\"/><path d=\"M17.41 7.96l-1.37-1.37c-.4-.4-.92-.59-1.43-.59-.52 0-1.04.2-1.43.59L10.3 9.45l-7.72 7.72c-.78.78-.78 2.05 0 2.83L4 21.41c.39.39.9.59 1.41.59.51 0 1.02-.2 1.41-.59l7.78-7.78 2.81-2.81c.8-.78.8-2.07 0-2.86zM5.41 20L4 18.59l7.72-7.72 1.47 1.35L5.41 20z\"/>\n",
              "  </svg>\n",
              "      </button>\n",
              "      \n",
              "  <style>\n",
              "    .colab-df-container {\n",
              "      display:flex;\n",
              "      flex-wrap:wrap;\n",
              "      gap: 12px;\n",
              "    }\n",
              "\n",
              "    .colab-df-convert {\n",
              "      background-color: #E8F0FE;\n",
              "      border: none;\n",
              "      border-radius: 50%;\n",
              "      cursor: pointer;\n",
              "      display: none;\n",
              "      fill: #1967D2;\n",
              "      height: 32px;\n",
              "      padding: 0 0 0 0;\n",
              "      width: 32px;\n",
              "    }\n",
              "\n",
              "    .colab-df-convert:hover {\n",
              "      background-color: #E2EBFA;\n",
              "      box-shadow: 0px 1px 2px rgba(60, 64, 67, 0.3), 0px 1px 3px 1px rgba(60, 64, 67, 0.15);\n",
              "      fill: #174EA6;\n",
              "    }\n",
              "\n",
              "    [theme=dark] .colab-df-convert {\n",
              "      background-color: #3B4455;\n",
              "      fill: #D2E3FC;\n",
              "    }\n",
              "\n",
              "    [theme=dark] .colab-df-convert:hover {\n",
              "      background-color: #434B5C;\n",
              "      box-shadow: 0px 1px 3px 1px rgba(0, 0, 0, 0.15);\n",
              "      filter: drop-shadow(0px 1px 2px rgba(0, 0, 0, 0.3));\n",
              "      fill: #FFFFFF;\n",
              "    }\n",
              "  </style>\n",
              "\n",
              "      <script>\n",
              "        const buttonEl =\n",
              "          document.querySelector('#df-a053c8f6-66a9-4ae8-ac6f-4afd0637d199 button.colab-df-convert');\n",
              "        buttonEl.style.display =\n",
              "          google.colab.kernel.accessAllowed ? 'block' : 'none';\n",
              "\n",
              "        async function convertToInteractive(key) {\n",
              "          const element = document.querySelector('#df-a053c8f6-66a9-4ae8-ac6f-4afd0637d199');\n",
              "          const dataTable =\n",
              "            await google.colab.kernel.invokeFunction('convertToInteractive',\n",
              "                                                     [key], {});\n",
              "          if (!dataTable) return;\n",
              "\n",
              "          const docLinkHtml = 'Like what you see? Visit the ' +\n",
              "            '<a target=\"_blank\" href=https://colab.research.google.com/notebooks/data_table.ipynb>data table notebook</a>'\n",
              "            + ' to learn more about interactive tables.';\n",
              "          element.innerHTML = '';\n",
              "          dataTable['output_type'] = 'display_data';\n",
              "          await google.colab.output.renderOutput(dataTable, element);\n",
              "          const docLink = document.createElement('div');\n",
              "          docLink.innerHTML = docLinkHtml;\n",
              "          element.appendChild(docLink);\n",
              "        }\n",
              "      </script>\n",
              "    </div>\n",
              "  </div>\n",
              "  "
            ]
          },
          "metadata": {},
          "execution_count": 6
        }
      ]
    },
    {
      "cell_type": "code",
      "source": [
        "df_test = pd.read_csv('/content/drive/MyDrive/Enhance It/Training Projects/NLP/test.csv')\n",
        "df_test.drop(['Emotion','Dialogue_ID'], inplace=True, axis=1)\n",
        "df_test['Dialogue_Act'] = df_test['Dialogue_Act'].apply(numLabel)\n",
        "df_test.head()"
      ],
      "metadata": {
        "colab": {
          "base_uri": "https://localhost:8080/",
          "height": 206
        },
        "id": "mzhapbyRu95a",
        "outputId": "42c90f7b-0fa2-4f6c-d2bf-fdcda868b61d"
      },
      "execution_count": null,
      "outputs": [
        {
          "output_type": "execute_result",
          "data": {
            "text/plain": [
              "                                           Utterance  Dialogue_Act\n",
              "0                hey man , you wanna buy some weed ?             0\n",
              "1                                        some what ?             2\n",
              "2  weed ! you know ? pot , ganja , mary jane some...             0\n",
              "3                             oh , umm , no thanks .             0\n",
              "4  i also have blow if you prefer to do a few lin...             0"
            ],
            "text/html": [
              "\n",
              "  <div id=\"df-749f8ab0-540a-4624-88e8-90472bb34d2d\">\n",
              "    <div class=\"colab-df-container\">\n",
              "      <div>\n",
              "<style scoped>\n",
              "    .dataframe tbody tr th:only-of-type {\n",
              "        vertical-align: middle;\n",
              "    }\n",
              "\n",
              "    .dataframe tbody tr th {\n",
              "        vertical-align: top;\n",
              "    }\n",
              "\n",
              "    .dataframe thead th {\n",
              "        text-align: right;\n",
              "    }\n",
              "</style>\n",
              "<table border=\"1\" class=\"dataframe\">\n",
              "  <thead>\n",
              "    <tr style=\"text-align: right;\">\n",
              "      <th></th>\n",
              "      <th>Utterance</th>\n",
              "      <th>Dialogue_Act</th>\n",
              "    </tr>\n",
              "  </thead>\n",
              "  <tbody>\n",
              "    <tr>\n",
              "      <th>0</th>\n",
              "      <td>hey man , you wanna buy some weed ?</td>\n",
              "      <td>0</td>\n",
              "    </tr>\n",
              "    <tr>\n",
              "      <th>1</th>\n",
              "      <td>some what ?</td>\n",
              "      <td>2</td>\n",
              "    </tr>\n",
              "    <tr>\n",
              "      <th>2</th>\n",
              "      <td>weed ! you know ? pot , ganja , mary jane some...</td>\n",
              "      <td>0</td>\n",
              "    </tr>\n",
              "    <tr>\n",
              "      <th>3</th>\n",
              "      <td>oh , umm , no thanks .</td>\n",
              "      <td>0</td>\n",
              "    </tr>\n",
              "    <tr>\n",
              "      <th>4</th>\n",
              "      <td>i also have blow if you prefer to do a few lin...</td>\n",
              "      <td>0</td>\n",
              "    </tr>\n",
              "  </tbody>\n",
              "</table>\n",
              "</div>\n",
              "      <button class=\"colab-df-convert\" onclick=\"convertToInteractive('df-749f8ab0-540a-4624-88e8-90472bb34d2d')\"\n",
              "              title=\"Convert this dataframe to an interactive table.\"\n",
              "              style=\"display:none;\">\n",
              "        \n",
              "  <svg xmlns=\"http://www.w3.org/2000/svg\" height=\"24px\"viewBox=\"0 0 24 24\"\n",
              "       width=\"24px\">\n",
              "    <path d=\"M0 0h24v24H0V0z\" fill=\"none\"/>\n",
              "    <path d=\"M18.56 5.44l.94 2.06.94-2.06 2.06-.94-2.06-.94-.94-2.06-.94 2.06-2.06.94zm-11 1L8.5 8.5l.94-2.06 2.06-.94-2.06-.94L8.5 2.5l-.94 2.06-2.06.94zm10 10l.94 2.06.94-2.06 2.06-.94-2.06-.94-.94-2.06-.94 2.06-2.06.94z\"/><path d=\"M17.41 7.96l-1.37-1.37c-.4-.4-.92-.59-1.43-.59-.52 0-1.04.2-1.43.59L10.3 9.45l-7.72 7.72c-.78.78-.78 2.05 0 2.83L4 21.41c.39.39.9.59 1.41.59.51 0 1.02-.2 1.41-.59l7.78-7.78 2.81-2.81c.8-.78.8-2.07 0-2.86zM5.41 20L4 18.59l7.72-7.72 1.47 1.35L5.41 20z\"/>\n",
              "  </svg>\n",
              "      </button>\n",
              "      \n",
              "  <style>\n",
              "    .colab-df-container {\n",
              "      display:flex;\n",
              "      flex-wrap:wrap;\n",
              "      gap: 12px;\n",
              "    }\n",
              "\n",
              "    .colab-df-convert {\n",
              "      background-color: #E8F0FE;\n",
              "      border: none;\n",
              "      border-radius: 50%;\n",
              "      cursor: pointer;\n",
              "      display: none;\n",
              "      fill: #1967D2;\n",
              "      height: 32px;\n",
              "      padding: 0 0 0 0;\n",
              "      width: 32px;\n",
              "    }\n",
              "\n",
              "    .colab-df-convert:hover {\n",
              "      background-color: #E2EBFA;\n",
              "      box-shadow: 0px 1px 2px rgba(60, 64, 67, 0.3), 0px 1px 3px 1px rgba(60, 64, 67, 0.15);\n",
              "      fill: #174EA6;\n",
              "    }\n",
              "\n",
              "    [theme=dark] .colab-df-convert {\n",
              "      background-color: #3B4455;\n",
              "      fill: #D2E3FC;\n",
              "    }\n",
              "\n",
              "    [theme=dark] .colab-df-convert:hover {\n",
              "      background-color: #434B5C;\n",
              "      box-shadow: 0px 1px 3px 1px rgba(0, 0, 0, 0.15);\n",
              "      filter: drop-shadow(0px 1px 2px rgba(0, 0, 0, 0.3));\n",
              "      fill: #FFFFFF;\n",
              "    }\n",
              "  </style>\n",
              "\n",
              "      <script>\n",
              "        const buttonEl =\n",
              "          document.querySelector('#df-749f8ab0-540a-4624-88e8-90472bb34d2d button.colab-df-convert');\n",
              "        buttonEl.style.display =\n",
              "          google.colab.kernel.accessAllowed ? 'block' : 'none';\n",
              "\n",
              "        async function convertToInteractive(key) {\n",
              "          const element = document.querySelector('#df-749f8ab0-540a-4624-88e8-90472bb34d2d');\n",
              "          const dataTable =\n",
              "            await google.colab.kernel.invokeFunction('convertToInteractive',\n",
              "                                                     [key], {});\n",
              "          if (!dataTable) return;\n",
              "\n",
              "          const docLinkHtml = 'Like what you see? Visit the ' +\n",
              "            '<a target=\"_blank\" href=https://colab.research.google.com/notebooks/data_table.ipynb>data table notebook</a>'\n",
              "            + ' to learn more about interactive tables.';\n",
              "          element.innerHTML = '';\n",
              "          dataTable['output_type'] = 'display_data';\n",
              "          await google.colab.output.renderOutput(dataTable, element);\n",
              "          const docLink = document.createElement('div');\n",
              "          docLink.innerHTML = docLinkHtml;\n",
              "          element.appendChild(docLink);\n",
              "        }\n",
              "      </script>\n",
              "    </div>\n",
              "  </div>\n",
              "  "
            ]
          },
          "metadata": {},
          "execution_count": 7
        }
      ]
    },
    {
      "cell_type": "code",
      "source": [
        "#Check the size of the data\n",
        "print(f\"Size of training set: {df_train.shape}\")\n",
        "print(f\"Size of validation set: {df_val.shape}\")\n",
        "print(f\"Size of test set: {df_test.shape}\\n\")\n",
        "\n",
        "#Check and delete for duplicates\n",
        "print(f\"Number of duplicate rows in training: {df_train[df_train.duplicated()].shape}\")\n",
        "df_train.drop_duplicates(subset=None, keep=\"first\", inplace=True)\n",
        "print(f\"Number of duplicate rows in validation: {df_val[df_val.duplicated()].shape}\")\n",
        "df_val.drop_duplicates(subset=None, keep=\"first\", inplace=True)\n",
        "print(f\"Number of duplicate rows in test: {df_test[df_test.duplicated()].shape}\\n\")\n",
        "df_test.drop_duplicates(subset=None, keep=\"first\", inplace=True)\n",
        "\n",
        "print(f\"Final size of train: {df_train.shape}\")\n",
        "print(f\"Final size of validation: {df_val.shape}\")\n",
        "print(f\"Final size of test: {df_test.shape}\")\n",
        "\n",
        "df_train = df_train.reset_index()\n",
        "df_val = df_val.reset_index()\n",
        "df_test = df_test.reset_index()"
      ],
      "metadata": {
        "colab": {
          "base_uri": "https://localhost:8080/"
        },
        "id": "calfGmpG9Z3X",
        "outputId": "dd7cec99-9cf6-42a6-e6d4-46aa49e6e2c5"
      },
      "execution_count": null,
      "outputs": [
        {
          "output_type": "stream",
          "name": "stdout",
          "text": [
            "Size of training set: (87170, 2)\n",
            "Size of validation set: (8069, 2)\n",
            "Size of test set: (7740, 2)\n",
            "\n",
            "Number of duplicate rows in training: (14779, 2)\n",
            "Number of duplicate rows in validation: (387, 2)\n",
            "Number of duplicate rows in test: (271, 2)\n",
            "\n",
            "Final size of train: (72391, 2)\n",
            "Final size of validation: (7682, 2)\n",
            "Final size of test: (7469, 2)\n"
          ]
        }
      ]
    },
    {
      "cell_type": "markdown",
      "source": [
        "## Data Preprocessing"
      ],
      "metadata": {
        "id": "-clcFd58Yy-7"
      }
    },
    {
      "cell_type": "code",
      "source": [
        "def preprocess(sentence,lemma=True):\n",
        "  #Remove url links\n",
        "  proc_sent = re.sub(r'https?:\\/\\/.*[\\r\\n]*','',sentence)\n",
        "\n",
        "  #Delete non-ASCII values\n",
        "  proc_sent = str(proc_sent.encode(\"ascii\",\"ignore\"))[1:]\n",
        "\n",
        "  #Remove punctuation\n",
        "  proc_sent = ''.join([char for char in proc_sent if char not in string.punctuation])\n",
        "\n",
        "  #Parse to lower case\n",
        "  proc_sent = proc_sent.lower()\n",
        "\n",
        "  #Tokenize and remove stop words\n",
        "  stop_words = stopwords.words('english')\n",
        "  proc_sent = word_tokenize(proc_sent)\n",
        "  proc_sent = [word for word in proc_sent if word not in stop_words]\n",
        "\n",
        "  #Remove single letters\n",
        "  proc_sent = [word for word in proc_sent if len(word) != 1]\n",
        "\n",
        "  #Stem or lemmatize (just 1)\n",
        "  if lemma:\n",
        "    lemmatizer = WordNetLemmatizer()\n",
        "    proc_sent = [lemmatizer.lemmatize(word) for word in proc_sent]\n",
        "  else:\n",
        "    porter = PorterStemmer()\n",
        "    proc_sent = [porter.stem(word) for word in proc_sent] #Stemming\n",
        "\n",
        "  return proc_sent"
      ],
      "metadata": {
        "id": "ThLo15zI6KC5"
      },
      "execution_count": null,
      "outputs": []
    },
    {
      "cell_type": "code",
      "source": [
        "# df_train['Utterance'] = df_train['Utterance'].apply(preprocess)\n",
        "print(f\"{len(df_train)} train observations...\")\n",
        "# df_val['Utterance'] = df_val['Utterance'].apply(preprocess)\n",
        "print(f\"{len(df_val)} validation observations...\")\n",
        "# df_test['Utterance'] = df_test['Utterance'].apply(preprocess)\n",
        "print(f\"{len(df_test)} test observations...\")"
      ],
      "metadata": {
        "colab": {
          "base_uri": "https://localhost:8080/"
        },
        "id": "3OYDPZHumIW7",
        "outputId": "9f08cf70-be73-4e60-d5b3-aec90578ea53"
      },
      "execution_count": null,
      "outputs": [
        {
          "output_type": "stream",
          "name": "stdout",
          "text": [
            "72391 train observations...\n",
            "7682 validation observations...\n",
            "7469 test observations...\n"
          ]
        }
      ]
    },
    {
      "cell_type": "code",
      "source": [
        "df_train.drop('index', inplace = True, axis = 1)\n",
        "df_val.drop('index', inplace = True, axis = 1)\n",
        "df_test.drop('index', inplace = True, axis = 1)"
      ],
      "metadata": {
        "id": "ZmFyjSkO-125"
      },
      "execution_count": null,
      "outputs": []
    },
    {
      "cell_type": "code",
      "source": [
        "plt.figure()\n",
        "fig, ax = plt.subplots(figsize=(10,7))\n",
        "N, bins, patches = plt.hist(df_train['Dialogue_Act'], bins=3)\n",
        "ax.set_xticks(np.arange(3))\n",
        "ax.set_xticklabels(['Talk:0','Inform:1','Question:2'], size=13)\n",
        "for i in range(len(N)):\n",
        "  patches[i].set_facecolor(\"#\" + ''.join(random.choices(\"ABCDEF\" + string.digits, k=6)))\n",
        "\n",
        "plt.ylabel(\"Occurrences\", size=15)\n",
        "plt.xlabel(\"Sentence class\", size=15)\n",
        "plt.title(\"Sentences by class\", size=20)"
      ],
      "metadata": {
        "colab": {
          "base_uri": "https://localhost:8080/",
          "height": 508
        },
        "id": "KOJ1fGgEQXLe",
        "outputId": "98cd891b-64ea-45d8-d5af-a610741865c3"
      },
      "execution_count": null,
      "outputs": [
        {
          "output_type": "execute_result",
          "data": {
            "text/plain": [
              "Text(0.5, 1.0, 'Sentences by class')"
            ]
          },
          "metadata": {},
          "execution_count": 13
        },
        {
          "output_type": "display_data",
          "data": {
            "text/plain": [
              "<Figure size 432x288 with 0 Axes>"
            ]
          },
          "metadata": {}
        },
        {
          "output_type": "display_data",
          "data": {
            "text/plain": [
              "<Figure size 720x504 with 1 Axes>"
            ],
            "image/png": "[encoded data removed]"
          },
          "metadata": {
            "needs_background": "light"
          }
        }
      ]
    },
    {
      "cell_type": "code",
      "source": [
        "lengths = [len(i) for i in df_train['Utterance']]\n",
        "uniques = np.unique(lengths)\n",
        "bins = [i for i in range(30)]\n",
        "\n",
        "plt.figure()\n",
        "fig, ax = plt.subplots(figsize=(10,7))\n",
        "N, bins, patches = plt.hist(lengths, bins=bins, orientation='horizontal', edgecolor='white', linewidth=1, align='left')\n",
        "ax.set_yticks(np.arange(30))\n",
        "# ax.set_yticklabels(uniques, size=10)\n",
        "for i in range(len(N)):\n",
        "  patches[i].set_facecolor(\"#\" + ''.join(random.choices(\"ABCDEF\" + string.digits, k=6)))\n",
        "\n",
        "plt.ylabel(\"Sentence length\", size=15)\n",
        "plt.xlabel(\"Number of sentences\", size=15)\n",
        "plt.title(\"Analysis of sentence's length\", size=20)"
      ],
      "metadata": {
        "colab": {
          "base_uri": "https://localhost:8080/",
          "height": 505
        },
        "id": "TGMoTZ-GjUnN",
        "outputId": "f10d1d0b-5223-4ec8-8732-9f23bfbe5dc4"
      },
      "execution_count": null,
      "outputs": [
        {
          "output_type": "execute_result",
          "data": {
            "text/plain": [
              "Text(0.5, 1.0, \"Analysis of sentence's length\")"
            ]
          },
          "metadata": {},
          "execution_count": 14
        },
        {
          "output_type": "display_data",
          "data": {
            "text/plain": [
              "<Figure size 432x288 with 0 Axes>"
            ]
          },
          "metadata": {}
        },
        {
          "output_type": "display_data",
          "data": {
            "text/plain": [
              "<Figure size 720x504 with 1 Axes>"
            ],
            "image/png": "[encoded data removed]"
          },
          "metadata": {
            "needs_background": "light"
          }
        }
      ]
    },
    {
      "cell_type": "code",
      "source": [
        "# #Remove short sentences\n",
        "# size = int(np.mean(np.arange(2,16)))\n",
        "\n",
        "# for i in range(len(data['string'])):\n",
        "#   #Save as is if the size is between the margins\n",
        "#   #Clip the long sentences to make them shorter\n",
        "#   if len(data['string'][i]) > 16:\n",
        "#     data['string'][i] = data['string'][i][:size]\n",
        "#   elif len(data['string'][i]) < 2:\n",
        "#     data.drop([i], axis=0, inplace=True)\n",
        "\n",
        "# data = data.reset_index()\n",
        "# print(f\"{len(data)} observations...\")\n",
        "# print(f\"Mean size for clipping sentences: {size}\")"
      ],
      "metadata": {
        "id": "ZuVlUx69rLjD"
      },
      "execution_count": null,
      "outputs": []
    },
    {
      "cell_type": "code",
      "source": [
        "# lengths = [len(i) for i in data['string']]\n",
        "# uniques = np.unique(lengths)\n",
        "# print(uniques)\n",
        "# bins = [i for i in range(20)]\n",
        "\n",
        "# plt.figure()\n",
        "# fig, ax = plt.subplots(figsize=(10,7))\n",
        "# N, bins, patches = plt.hist(lengths, bins=bins, orientation='horizontal', edgecolor='white', linewidth=1, align='left')\n",
        "# ax.set_yticks(np.arange(18))\n",
        "# for i in range(len(N)):\n",
        "#   patches[i].set_facecolor(\"#\" + ''.join(random.choices(\"ABCDEF\" + string.digits, k=6)))\n",
        "\n",
        "# plt.ylabel(\"Sentence length\", size=15)\n",
        "# plt.xlabel(\"Number of sentences\", size=15)\n",
        "# plt.title(\"Analysis of stemmed sentences\", size=20)"
      ],
      "metadata": {
        "id": "KXqjakCStUd4"
      },
      "execution_count": null,
      "outputs": []
    },
    {
      "cell_type": "code",
      "source": [
        "def pd_to_tensor_data (data):\n",
        "  new_tensor_data = tf.data.Dataset.from_tensor_slices(\n",
        "    (\n",
        "        tf.cast(data[\"Utterance\"].values, tf.string),\n",
        "        tf.cast(data[\"Dialogue_Act\"].values, tf.int64)\n",
        "        )\n",
        "  ).batch(1)\n",
        "  return new_tensor_data"
      ],
      "metadata": {
        "id": "8ErttRs6y4Cs"
      },
      "execution_count": null,
      "outputs": []
    },
    {
      "cell_type": "code",
      "source": [
        "# def join_text (text):\n",
        "#   return \" \".join(text)"
      ],
      "metadata": {
        "id": "KGlTBKPFyy2S"
      },
      "execution_count": null,
      "outputs": []
    },
    {
      "cell_type": "code",
      "source": [
        "# df_train['Utterance'] = df_train['Utterance'].apply(join_text)\n",
        "# df_val['Utterance'] = df_val['Utterance'].apply(join_text)\n",
        "# df_test['Utterance'] = df_test['Utterance'].apply(join_text)"
      ],
      "metadata": {
        "id": "LHgSUtl69hip"
      },
      "execution_count": null,
      "outputs": []
    },
    {
      "cell_type": "code",
      "source": [
        "tensor_train = pd_to_tensor_data(df_train)\n",
        "tensor_validation = pd_to_tensor_data(df_val)\n",
        "tensor_test = pd_to_tensor_data(df_test)"
      ],
      "metadata": {
        "id": "NqPHa3XP0ccE"
      },
      "execution_count": null,
      "outputs": []
    },
    {
      "cell_type": "markdown",
      "source": [
        "## Model Creation"
      ],
      "metadata": {
        "id": "cy7JNCTcY2Kn"
      }
    },
    {
      "cell_type": "markdown",
      "source": [
        "Create the embeddings"
      ],
      "metadata": {
        "id": "hJ3307NQ6M08"
      }
    },
    {
      "cell_type": "code",
      "source": [
        "# embedding = \"https://tfhub.dev/google/universal-sentence-encoder/4\"\n",
        "# hub_layer = hub.KerasLayer(embedding,\n",
        "#                            input_shape=[],\n",
        "#                            dtype=tf.string,\n",
        "#                            trainable=True)"
      ],
      "metadata": {
        "id": "22vELmKD6QyA"
      },
      "execution_count": null,
      "outputs": []
    },
    {
      "cell_type": "code",
      "source": [
        "tfhub_handle_encoder = 'https://tfhub.dev/tensorflow/albert_en_base/2'\n",
        "tfhub_handle_preprocess = 'https://tfhub.dev/tensorflow/albert_en_preprocess/3'"
      ],
      "metadata": {
        "id": "LkfI0FOt7JSf"
      },
      "execution_count": null,
      "outputs": []
    },
    {
      "cell_type": "code",
      "source": [
        "def build_classifier_model():\n",
        "  text_input = tf.keras.layers.Input(shape=(),\n",
        "                                     dtype=tf.string,\n",
        "                                     name='text')\n",
        "  preprocessing_layer = hub.KerasLayer(tfhub_handle_preprocess,\n",
        "                                       name='preprocessing')\n",
        "  encoder_inputs = preprocessing_layer(text_input)\n",
        "  encoder = hub.KerasLayer(tfhub_handle_encoder,\n",
        "                           trainable=False,\n",
        "                           name = 'BERT_encoder')\n",
        "  outputs = encoder(encoder_inputs)\n",
        "  net = outputs['pooled_output']\n",
        "  net = tf.keras.layers.Dropout(0.1)(net)\n",
        "  net = tf.keras.layers.Dense(3,\n",
        "                              activation = 'softmax',\n",
        "                              name = 'classifier') (net)\n",
        "  return tf.keras.Model(text_input, net)"
      ],
      "metadata": {
        "id": "a5L0-WHx7aBS"
      },
      "execution_count": null,
      "outputs": []
    },
    {
      "cell_type": "code",
      "source": [
        "classifier_model = build_classifier_model()"
      ],
      "metadata": {
        "id": "HEvsyc5b7doQ"
      },
      "execution_count": null,
      "outputs": []
    },
    {
      "cell_type": "code",
      "source": [
        "epochs = 20\n",
        "steps_per_epoch = tf.data.experimental.cardinality(tensor_train).numpy()\n",
        "num_train_steps = steps_per_epoch * epochs\n",
        "num_warmup_steps = int(0.1*num_train_steps)\n",
        "\n",
        "init_lr = 5e-4\n",
        "optimizer = optimization.create_optimizer(init_lr=init_lr,\n",
        "                                          num_train_steps=num_train_steps,\n",
        "                                          num_warmup_steps=num_warmup_steps,\n",
        "                                          optimizer_type='adamw')"
      ],
      "metadata": {
        "id": "0Dy2S-yG8AaE"
      },
      "execution_count": null,
      "outputs": []
    },
    {
      "cell_type": "code",
      "source": [
        "loss = tf.keras.losses.SparseCategoricalCrossentropy()\n",
        "metrics = tf.metrics.SparseCategoricalAccuracy()"
      ],
      "metadata": {
        "id": "HnRf_6qx8I50"
      },
      "execution_count": null,
      "outputs": []
    },
    {
      "cell_type": "code",
      "source": [
        "classifier_model.compile(optimizer=optimizer,\n",
        "                         loss=loss,\n",
        "                         metrics = metrics)"
      ],
      "metadata": {
        "id": "5PtGWrKd8rSI"
      },
      "execution_count": null,
      "outputs": []
    },
    {
      "cell_type": "code",
      "source": [
        "history = classifier_model.fit(x=tensor_train,\n",
        "                               validation_data=tensor_validation,\n",
        "                               epochs=epochs)"
      ],
      "metadata": {
        "colab": {
          "base_uri": "https://localhost:8080/"
        },
        "id": "arCfH8c38xpf",
        "outputId": "30c3f1ae-7f5e-489f-b483-efe0950c51a1"
      },
      "execution_count": null,
      "outputs": [
        {
          "output_type": "stream",
          "name": "stdout",
          "text": [
            "Epoch 1/20\n",
            "72391/72391 [==============================] - 1191s 16ms/step - loss: 1.2716 - sparse_categorical_accuracy: 0.5503 - val_loss: 1.0578 - val_sparse_categorical_accuracy: 0.5905\n",
            "Epoch 2/20\n",
            "72391/72391 [==============================] - 1184s 16ms/step - loss: 1.0415 - sparse_categorical_accuracy: 0.6576 - val_loss: 0.9712 - val_sparse_categorical_accuracy: 0.6436\n",
            "Epoch 3/20\n",
            "72391/72391 [==============================] - 1189s 16ms/step - loss: 0.9645 - sparse_categorical_accuracy: 0.6893 - val_loss: 0.9195 - val_sparse_categorical_accuracy: 0.6636\n",
            "Epoch 4/20\n",
            "72391/72391 [==============================] - 1192s 16ms/step - loss: 0.9390 - sparse_categorical_accuracy: 0.7006 - val_loss: 0.9065 - val_sparse_categorical_accuracy: 0.6722\n",
            "Epoch 5/20\n",
            "72391/72391 [==============================] - 1186s 16ms/step - loss: 0.9255 - sparse_categorical_accuracy: 0.7072 - val_loss: 0.9248 - val_sparse_categorical_accuracy: 0.6755\n",
            "Epoch 6/20\n",
            "72391/72391 [==============================] - 1182s 16ms/step - loss: 0.9138 - sparse_categorical_accuracy: 0.7117 - val_loss: 0.8863 - val_sparse_categorical_accuracy: 0.6837\n",
            "Epoch 7/20\n",
            "62336/72391 [========================>.....] - ETA: 2:29 - loss: 0.9048 - sparse_categorical_accuracy: 0.7206"
          ]
        }
      ]
    },
    {
      "cell_type": "code",
      "source": [
        "loss, accuracy = classifier_model.evaluate(tensor_test)\n",
        "print(f\"Loss: {loss} and Accuracy: {accuracy}\")"
      ],
      "metadata": {
        "id": "Wx1wjjen83lH"
      },
      "execution_count": null,
      "outputs": []
    },
    {
      "cell_type": "code",
      "source": [
        "# history_dict = history.history\n",
        "# print(history_dict.keys())\n",
        "\n",
        "# acc = history_dict['sparse_categorical_accuracy']\n",
        "# val_acc = history_dict['val_sparse_categorical_accuracy']\n",
        "# loss = history_dict['loss']\n",
        "# val_loss = history_dict['val_loss']\n",
        "\n",
        "# epochs = range(1, len(acc) + 1)\n",
        "# fig = plt.figure(figsize=(10, 6))\n",
        "# fig.tight_layout()\n",
        "\n",
        "# plt.subplot(2, 1, 1)\n",
        "# # r is for \"solid red line\"\n",
        "# plt.plot(epochs, loss, 'r', label='Training loss')\n",
        "# # b is for \"solid blue line\"\n",
        "# plt.plot(epochs, val_loss, 'b', label='Validation loss')\n",
        "# plt.title('Training and validation loss')\n",
        "# # plt.xlabel('Epochs')\n",
        "# plt.ylabel('Loss')\n",
        "# plt.legend()\n",
        "\n",
        "# plt.subplot(2, 1, 2)\n",
        "# plt.plot(epochs, acc, 'r', label='Training acc')\n",
        "# plt.plot(epochs, val_acc, 'b', label='Validation acc')\n",
        "# plt.title('Training and validation accuracy')\n",
        "# plt.xlabel('Epochs')\n",
        "# plt.ylabel('Accuracy')\n",
        "# plt.legend(loc='lower right')"
      ],
      "metadata": {
        "id": "v0RvT-Ut9Efh"
      },
      "execution_count": null,
      "outputs": []
    },
    {
      "cell_type": "code",
      "source": [
        "dataset_name = 'silicone_dyda'\n",
        "saved_model_path = '/content/drive/MyDrive/Enhance It/Training Projects/NLP/{}_bert_20'.format(dataset_name.replace('/', '_'))\n",
        "\n",
        "classifier_model.save(saved_model_path, include_optimizer=False)"
      ],
      "metadata": {
        "id": "MQU4c8Fn9fxE"
      },
      "execution_count": null,
      "outputs": []
    },
    {
      "cell_type": "code",
      "source": [
        "# model = keras.Sequential()\n",
        "# model.add(hub_layer)  #Embedding layer\n",
        "# model.add(keras.layers.Dense(1024, activation='relu'))\n",
        "# model.add(keras.layers.Dropout(.2))\n",
        "# model.add(keras.layers.Dense(512, activation='tanh'))\n",
        "# model.add(keras.layers.Dropout(.2))\n",
        "# model.add(keras.layers.Dense(512, activation='relu'))\n",
        "# model.add(keras.layers.Dropout(.2))\n",
        "# model.add(keras.layers.Dense(256, activation='relu'))\n",
        "# model.add(keras.layers.Dropout(.2))\n",
        "# model.add(keras.layers.Dense(128, activation='relu'))\n",
        "# model.add(keras.layers.Dropout(.1))\n",
        "# model.add(keras.layers.Dense(20, activation='relu'))\n",
        "# model.add(keras.layers.Dropout(.2))\n",
        "# model.add(keras.layers.Dense(3, activation='softmax'))\n",
        "# model.summary()"
      ],
      "metadata": {
        "id": "2JXGdIqfY88i"
      },
      "execution_count": null,
      "outputs": []
    },
    {
      "cell_type": "code",
      "source": [
        "# model.compile(optimizer = 'Nadam',\n",
        "#               loss = keras.losses.SparseCategoricalCrossentropy(),\n",
        "#               metrics = ['accuracy'])"
      ],
      "metadata": {
        "id": "kXoDtU6BCHlp"
      },
      "execution_count": null,
      "outputs": []
    },
    {
      "cell_type": "code",
      "source": [
        "# history = model.fit(tensor_train.shuffle(10000).batch(512),\n",
        "#                     epochs = 100,\n",
        "#                     validation_data = tensor_validation.batch(512),\n",
        "#                     verbose = 1)"
      ],
      "metadata": {
        "id": "xOjs_PVq9-Tl"
      },
      "execution_count": null,
      "outputs": []
    },
    {
      "cell_type": "code",
      "source": [
        "# plt.figure(figsize=(10,7))\n",
        "# plt.plot(history.history['accuracy'])\n",
        "# plt.plot(history.history['val_accuracy'])\n",
        "# plt.title('Model Accuracy')\n",
        "# plt.ylabel('Accuracy')\n",
        "# plt.xlabel('Epoch')\n",
        "# plt.legend(['Train', 'Validation'], loc='upper left')\n",
        "# plt.show()\n",
        "\n",
        "# plt.figure(figsize=(10,7))\n",
        "# plt.plot(history.history['loss'])\n",
        "# plt.plot(history.history['val_loss'])\n",
        "# plt.title('Model Loss')\n",
        "# plt.ylabel('Loss')\n",
        "# plt.xlabel('Epoch')\n",
        "# plt.legend(['Train', 'Validation'], loc='upper right')\n",
        "# plt.show()"
      ],
      "metadata": {
        "id": "meWS7kyAPn5E"
      },
      "execution_count": null,
      "outputs": []
    },
    {
      "cell_type": "markdown",
      "source": [
        "https://huggingface.co/datasets/silicone\n",
        "\n",
        "https://huggingface.co/datasets/silicone/tree/main/dummy/dyda_da/1.0.0"
      ],
      "metadata": {
        "id": "y7EN1lRadcXH"
      }
    },
    {
      "cell_type": "markdown",
      "source": [
        "## Model implementation"
      ],
      "metadata": {
        "id": "ad9vl0uUY45w"
      }
    },
    {
      "cell_type": "markdown",
      "source": [
        "Load the dataset"
      ],
      "metadata": {
        "id": "bA_5gLDKgT8-"
      }
    },
    {
      "cell_type": "code",
      "source": [
        "path = '/content/drive/MyDrive/Enhance It/Training Projects/NLP/my_model.h5'\n",
        "\n",
        "load_model = keras.models.load_model((path), custom_objects={'KerasLayer': hub.KerasLayer})"
      ],
      "metadata": {
        "id": "fdOZpdo3Y-Qn"
      },
      "execution_count": null,
      "outputs": []
    },
    {
      "cell_type": "code",
      "source": [
        "path = '/content/drive/MyDrive/Enhance It/Training Projects/NLP/silicone_dyda_bert_20-20220619T201128Z-001/silicone_dyda_bert_20/'\n",
        "reloaded_model = tf.keras.models.load_model(path)"
      ],
      "metadata": {
        "id": "vH2dJCpun7B_",
        "colab": {
          "base_uri": "https://localhost:8080/"
        },
        "outputId": "ac455229-b750-48d2-bdfb-88e09cdf2e60"
      },
      "execution_count": null,
      "outputs": [
        {
          "output_type": "stream",
          "name": "stdout",
          "text": [
            "WARNING:tensorflow:No training configuration found in save file, so the model was *not* compiled. Compile it manually.\n"
          ]
        }
      ]
    },
    {
      "cell_type": "code",
      "source": [
        "tf.keras.models.save_model(reloaded_model,\"Albert_model.h5\")"
      ],
      "metadata": {
        "colab": {
          "base_uri": "https://localhost:8080/"
        },
        "id": "7ulf2G-DfitF",
        "outputId": "f0f15bd5-b1ac-4c60-a8cf-d22b8f41eba5"
      },
      "execution_count": null,
      "outputs": [
        {
          "output_type": "stream",
          "name": "stdout",
          "text": [
            "WARNING:tensorflow:Compiled the loaded model, but the compiled metrics have yet to be built. `model.compile_metrics` will be empty until you train or evaluate the model.\n"
          ]
        }
      ]
    },
    {
      "cell_type": "code",
      "source": [
        "path = '/content/Albert_model.h5'\n",
        "\n",
        "load_model = keras.models.load_model((path), custom_objects={'KerasLayer': hub.KerasLayer})"
      ],
      "metadata": {
        "colab": {
          "base_uri": "https://localhost:8080/"
        },
        "id": "bpUffwP8iTlV",
        "outputId": "55e188db-2b81-474a-b6ed-430a8f229db4"
      },
      "execution_count": null,
      "outputs": [
        {
          "output_type": "stream",
          "name": "stdout",
          "text": [
            "WARNING:tensorflow:No training configuration found in the save file, so the model was *not* compiled. Compile it manually.\n"
          ]
        },
        {
          "output_type": "stream",
          "name": "stderr",
          "text": [
            "WARNING:tensorflow:No training configuration found in the save file, so the model was *not* compiled. Compile it manually.\n"
          ]
        }
      ]
    },
    {
      "cell_type": "code",
      "source": [
        "examples = \"How old are you?\"\n",
        "reloaded_results = tf.nn.softmax(reloaded_model(tf.constant([examples])))\n",
        "print(reloaded_results)"
      ],
      "metadata": {
        "colab": {
          "base_uri": "https://localhost:8080/"
        },
        "id": "C6AYaDIoocVS",
        "outputId": "265243fe-fd19-4814-9a80-2cc222e9151f"
      },
      "execution_count": null,
      "outputs": [
        {
          "output_type": "stream",
          "name": "stdout",
          "text": [
            "tf.Tensor([[0.21325038 0.21428524 0.5724644 ]], shape=(1, 3), dtype=float32)\n"
          ]
        }
      ]
    },
    {
      "cell_type": "code",
      "source": [
        "from numpy.ma.core import argmax\n",
        "phrase = 'How old are you?'\n",
        "\n",
        "probs = load_model.predict(np.array([phrase]))\n",
        "print(load_model.predict(np.array([phrase])))"
      ],
      "metadata": {
        "colab": {
          "base_uri": "https://localhost:8080/"
        },
        "id": "M4BkDS2TiB-r",
        "outputId": "eb1536a1-aaca-426c-bbb9-9bcd33ebbc65"
      },
      "execution_count": null,
      "outputs": [
        {
          "output_type": "stream",
          "name": "stdout",
          "text": [
            "[[0.00255847 0.00739947 0.9900421 ]]\n"
          ]
        }
      ]
    }
  ]
}