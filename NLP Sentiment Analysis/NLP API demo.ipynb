{
 "cells": [
  {
   "cell_type": "code",
   "execution_count": 1,
   "id": "e80416a1",
   "metadata": {},
   "outputs": [],
   "source": [
    "from flask import Flask"
   ]
  },
  {
   "cell_type": "code",
   "execution_count": 2,
   "id": "8ff5b3d9",
   "metadata": {},
   "outputs": [
    {
     "ename": "ImportError",
     "evalue": "cannot import name 'saveable_objects_from_trackable' from 'tensorflow.python.training.saving.saveable_object_util' (C:\\Users\\Consultant\\anaconda3\\lib\\site-packages\\tensorflow\\python\\training\\saving\\saveable_object_util.py)",
     "output_type": "error",
     "traceback": [
      "\u001b[1;31m---------------------------------------------------------------------------\u001b[0m",
      "\u001b[1;31mImportError\u001b[0m                               Traceback (most recent call last)",
      "Input \u001b[1;32mIn [2]\u001b[0m, in \u001b[0;36m<cell line: 5>\u001b[1;34m()\u001b[0m\n\u001b[0;32m      3\u001b[0m \u001b[38;5;28;01mimport\u001b[39;00m \u001b[38;5;21;01mos\u001b[39;00m\n\u001b[0;32m      4\u001b[0m \u001b[38;5;28;01mimport\u001b[39;00m \u001b[38;5;21;01mre\u001b[39;00m\n\u001b[1;32m----> 5\u001b[0m \u001b[38;5;28;01mimport\u001b[39;00m \u001b[38;5;21;01mtensorflow\u001b[39;00m \u001b[38;5;28;01mas\u001b[39;00m \u001b[38;5;21;01mtf\u001b[39;00m\n\u001b[0;32m      6\u001b[0m \u001b[38;5;28;01mfrom\u001b[39;00m \u001b[38;5;21;01mdatetime\u001b[39;00m \u001b[38;5;28;01mimport\u001b[39;00m datetime, timedelta\n\u001b[0;32m      7\u001b[0m \u001b[38;5;28;01mfrom\u001b[39;00m \u001b[38;5;21;01mtensorflow\u001b[39;00m \u001b[38;5;28;01mimport\u001b[39;00m keras\n",
      "File \u001b[1;32m~\\anaconda3\\lib\\site-packages\\tensorflow\\__init__.py:45\u001b[0m, in \u001b[0;36m<module>\u001b[1;34m\u001b[0m\n\u001b[0;32m     42\u001b[0m \u001b[38;5;28;01mfrom\u001b[39;00m \u001b[38;5;21;01mtensorflow\u001b[39;00m\u001b[38;5;21;01m.\u001b[39;00m\u001b[38;5;21;01mpython\u001b[39;00m \u001b[38;5;28;01mimport\u001b[39;00m tf2 \u001b[38;5;28;01mas\u001b[39;00m _tf2\n\u001b[0;32m     43\u001b[0m _tf2\u001b[38;5;241m.\u001b[39menable()\n\u001b[1;32m---> 45\u001b[0m \u001b[38;5;28;01mfrom\u001b[39;00m \u001b[38;5;21;01m.\u001b[39;00m\u001b[38;5;21;01m_api\u001b[39;00m\u001b[38;5;21;01m.\u001b[39;00m\u001b[38;5;21;01mv2\u001b[39;00m \u001b[38;5;28;01mimport\u001b[39;00m __internal__\n\u001b[0;32m     46\u001b[0m \u001b[38;5;28;01mfrom\u001b[39;00m \u001b[38;5;21;01m.\u001b[39;00m\u001b[38;5;21;01m_api\u001b[39;00m\u001b[38;5;21;01m.\u001b[39;00m\u001b[38;5;21;01mv2\u001b[39;00m \u001b[38;5;28;01mimport\u001b[39;00m __operators__\n\u001b[0;32m     47\u001b[0m \u001b[38;5;28;01mfrom\u001b[39;00m \u001b[38;5;21;01m.\u001b[39;00m\u001b[38;5;21;01m_api\u001b[39;00m\u001b[38;5;21;01m.\u001b[39;00m\u001b[38;5;21;01mv2\u001b[39;00m \u001b[38;5;28;01mimport\u001b[39;00m audio\n",
      "File \u001b[1;32m~\\anaconda3\\lib\\site-packages\\tensorflow\\_api\\v2\\__internal__\\__init__.py:24\u001b[0m, in \u001b[0;36m<module>\u001b[1;34m\u001b[0m\n\u001b[0;32m     22\u001b[0m \u001b[38;5;28;01mfrom\u001b[39;00m \u001b[38;5;21;01m.\u001b[39;00m \u001b[38;5;28;01mimport\u001b[39;00m test\n\u001b[0;32m     23\u001b[0m \u001b[38;5;28;01mfrom\u001b[39;00m \u001b[38;5;21;01m.\u001b[39;00m \u001b[38;5;28;01mimport\u001b[39;00m tf2\n\u001b[1;32m---> 24\u001b[0m \u001b[38;5;28;01mfrom\u001b[39;00m \u001b[38;5;21;01m.\u001b[39;00m \u001b[38;5;28;01mimport\u001b[39;00m tracking\n\u001b[0;32m     25\u001b[0m \u001b[38;5;28;01mfrom\u001b[39;00m \u001b[38;5;21;01m.\u001b[39;00m \u001b[38;5;28;01mimport\u001b[39;00m train\n\u001b[0;32m     26\u001b[0m \u001b[38;5;28;01mfrom\u001b[39;00m \u001b[38;5;21;01m.\u001b[39;00m \u001b[38;5;28;01mimport\u001b[39;00m types\n",
      "File \u001b[1;32m~\\anaconda3\\lib\\site-packages\\tensorflow\\_api\\v2\\__internal__\\tracking\\__init__.py:8\u001b[0m, in \u001b[0;36m<module>\u001b[1;34m\u001b[0m\n\u001b[0;32m      3\u001b[0m \u001b[38;5;124;03m\"\"\"Public API for tf.__internal__.tracking namespace.\u001b[39;00m\n\u001b[0;32m      4\u001b[0m \u001b[38;5;124;03m\"\"\"\u001b[39;00m\n\u001b[0;32m      6\u001b[0m \u001b[38;5;28;01mimport\u001b[39;00m \u001b[38;5;21;01msys\u001b[39;00m \u001b[38;5;28;01mas\u001b[39;00m \u001b[38;5;21;01m_sys\u001b[39;00m\n\u001b[1;32m----> 8\u001b[0m \u001b[38;5;28;01mfrom\u001b[39;00m \u001b[38;5;21;01mtensorflow\u001b[39;00m\u001b[38;5;21;01m.\u001b[39;00m\u001b[38;5;21;01mpython\u001b[39;00m\u001b[38;5;21;01m.\u001b[39;00m\u001b[38;5;21;01mtraining\u001b[39;00m\u001b[38;5;21;01m.\u001b[39;00m\u001b[38;5;21;01msaving\u001b[39;00m\u001b[38;5;21;01m.\u001b[39;00m\u001b[38;5;21;01msaveable_object_util\u001b[39;00m \u001b[38;5;28;01mimport\u001b[39;00m saveable_objects_from_trackable\n\u001b[0;32m      9\u001b[0m \u001b[38;5;28;01mfrom\u001b[39;00m \u001b[38;5;21;01mtensorflow\u001b[39;00m\u001b[38;5;21;01m.\u001b[39;00m\u001b[38;5;21;01mpython\u001b[39;00m\u001b[38;5;21;01m.\u001b[39;00m\u001b[38;5;21;01mtraining\u001b[39;00m\u001b[38;5;21;01m.\u001b[39;00m\u001b[38;5;21;01mtracking\u001b[39;00m\u001b[38;5;21;01m.\u001b[39;00m\u001b[38;5;21;01mautotrackable\u001b[39;00m \u001b[38;5;28;01mimport\u001b[39;00m AutoTrackable\n\u001b[0;32m     10\u001b[0m \u001b[38;5;28;01mfrom\u001b[39;00m \u001b[38;5;21;01mtensorflow\u001b[39;00m\u001b[38;5;21;01m.\u001b[39;00m\u001b[38;5;21;01mpython\u001b[39;00m\u001b[38;5;21;01m.\u001b[39;00m\u001b[38;5;21;01mtraining\u001b[39;00m\u001b[38;5;21;01m.\u001b[39;00m\u001b[38;5;21;01mtracking\u001b[39;00m\u001b[38;5;21;01m.\u001b[39;00m\u001b[38;5;21;01mbase\u001b[39;00m \u001b[38;5;28;01mimport\u001b[39;00m CheckpointInitialValue\n",
      "\u001b[1;31mImportError\u001b[0m: cannot import name 'saveable_objects_from_trackable' from 'tensorflow.python.training.saving.saveable_object_util' (C:\\Users\\Consultant\\anaconda3\\lib\\site-packages\\tensorflow\\python\\training\\saving\\saveable_object_util.py)"
     ]
    }
   ],
   "source": [
    "import numpy as np\n",
    "import pandas as pd\n",
    "import os\n",
    "import re\n",
    "import tensorflow as tf\n",
    "from datetime import datetime, timedelta\n",
    "from tensorflow import keras\n",
    "import tensorflow_hub as hub\n",
    "\n",
    "from flask import request, redirect, url_for, send_from_directory, render_template"
   ]
  },
  {
   "cell_type": "code",
   "execution_count": 3,
   "id": "da9698cb",
   "metadata": {},
   "outputs": [],
   "source": [
    "b = \"\"\"\n",
    "<h1 style=\"color: #5e9ca0;\">NLP Chat Classification</h1>\n",
    "<p><em>A deployment made by German Baltazar, Anyinssan Nava, and David Lizana.</em></p>\n",
    "<p>Powered by&nbsp;<img src=\"https://images.squarespace-cdn.com/content/v1/5d1bb461967271000165d50e/1564627367957-GG3TRJIAQHPXJFL6GB19/Asset+2.png?format=1500w\" alt=\"\" width=\"100\" height=\"20\" /></p>\n",
    "<h2 style=\"color: #2e6c80;\">How does it work?</h2>\n",
    "<p>Insert a phrase on the text field, and our NLP algorithm will classify it into one of three different categories:</p>\n",
    "<ol style=\"list-style: none; font-size: 14px; line-height: 32px; font-weight: bold;\">\n",
    "<li style=\"clear: both;\">Chat<img style=\"float: left;\" src=\"https://cdn-icons-png.flaticon.com/512/610/610413.png\" alt=\"interactive connection\" width=\"45\" /></li>\n",
    "<li style=\"clear: both;\">Inform<img style=\"float: left;\" src=\"https://cdn-icons-png.flaticon.com/512/943/943579.png\" alt=\"interactive connection\" width=\"45\" /></li>\n",
    "<li style=\"clear: both;\">Question<img style=\"float: left;\" src=\"https://cdn-icons-png.flaticon.com/512/942/942751.png\" alt=\"interactive connection\" width=\"45\" /></li>\n",
    "</ol>\n",
    "<p>&nbsp;</p>\n",
    "<p>After writing your phrase, click on the <span style=\"background-color: #2b2301; color: #fff; display: inline-block; padding: 3px 10px; font-weight: bold; border-radius: 5px;\">Submit</span> button to evaluate your text!</p>\n",
    "<form action=\"\" enctype=\"multipart/form-data\" method=\"post\"><textarea id=\"w3review\" cols=\"50\" name=\"w3review\" rows=\"1\">              </textarea> <br /><br /><input type=\"submit\" value=\"Submit\" /></form><form>\n",
    "</form>\n",
    "        </div>\n",
    "        <div class=\"column\" >\n",
    "          <h2 style=\"color: #2e6c80;\"> Our classifications</h2>\n",
    "            <div class=\"row\">          \n",
    "              <table class=\"table table-hover\" style=\"margin-left:20px;\" >\n",
    "                  <tr class=\"table-active\">\n",
    "                  <th style=\"color: #2e6c80;\" scope=\"col\">ANN</th>\n",
    "                  </tr>\n",
    "                    <td> {{label}} </td>\n",
    "                </tr>\n",
    "            </div>\n",
    "            <div class=\"row\">\n",
    "            \n",
    "             <table class=\"table table-hover;\" style=\"margin-left:20px; white-space: pre-wrap;\">\n",
    "                  <tr class=\"table-active\">\n",
    "                  <th style=\"color: #2e6c80;\" scope=\"col\">ALBERT</th>\n",
    "                  </tr>\n",
    "                  <td> {{label2}} </td>\n",
    "                  </tr>          \n",
    "            </div>\n",
    "        </div>\n",
    "      </div>\n",
    " \n",
    "    </div>\n",
    "\n",
    "     \n",
    "      </div>\n",
    "  </body>\n",
    "\"\"\""
   ]
  },
  {
   "cell_type": "code",
   "execution_count": 4,
   "id": "52b528ed",
   "metadata": {},
   "outputs": [
    {
     "name": "stdout",
     "output_type": "stream",
     "text": [
      "C:\\Users\\Consultant\\Enhance IT\\simpleApi\n"
     ]
    }
   ],
   "source": [
    "current = os.getcwd()\n",
    "newdir = 'simpleApi'\n",
    "path = os.path.join(current, newdir)\n",
    "print(path)"
   ]
  },
  {
   "cell_type": "code",
   "execution_count": 5,
   "id": "04faa538",
   "metadata": {},
   "outputs": [],
   "source": [
    "# os.mkdir(path)\n",
    "os.chdir(path)"
   ]
  },
  {
   "cell_type": "code",
   "execution_count": 6,
   "id": "099ff391",
   "metadata": {},
   "outputs": [
    {
     "data": {
      "text/plain": [
       "'C:\\\\Users\\\\Consultant\\\\Enhance IT\\\\simpleApi'"
      ]
     },
     "execution_count": 6,
     "metadata": {},
     "output_type": "execute_result"
    }
   ],
   "source": [
    "os.getcwd()"
   ]
  },
  {
   "cell_type": "code",
   "execution_count": 7,
   "id": "5aeb1508",
   "metadata": {},
   "outputs": [],
   "source": [
    "procfile = 'web: gunicorn app:app'\n",
    "procfiles = open('Procfile','w')\n",
    "procfiles.write(procfile)\n",
    "procfiles.close()"
   ]
  },
  {
   "cell_type": "code",
   "execution_count": 8,
   "id": "8e05e8ae",
   "metadata": {},
   "outputs": [],
   "source": [
    "# os.mkdir('templates')"
   ]
  },
  {
   "cell_type": "code",
   "execution_count": 9,
   "id": "bf019520",
   "metadata": {},
   "outputs": [],
   "source": [
    "Html_file = open('templates/index.html', 'w')"
   ]
  },
  {
   "cell_type": "code",
   "execution_count": 10,
   "id": "bc03c5e2",
   "metadata": {},
   "outputs": [],
   "source": [
    "Html_file.write(b)\n",
    "Html_file.close()"
   ]
  },
  {
   "cell_type": "code",
   "execution_count": 11,
   "id": "9041c32a",
   "metadata": {},
   "outputs": [],
   "source": [
    "app = Flask(__name__)"
   ]
  },
  {
   "cell_type": "code",
   "execution_count": 12,
   "id": "77a7f7db",
   "metadata": {},
   "outputs": [],
   "source": [
    "def load_ann(path, text):\n",
    "    #Load the model\n",
    "    loaded_model = keras.models.load_model((path), custom_objects={'KerasLayer': hub.KerasLayer})\n",
    "    \n",
    "    #Make the prediction\n",
    "    probs = load_model.predict(np.array([text]))\n",
    "    label = argmax(probs)\n",
    "    prob = probs[label]\n",
    "    \n",
    "    return label, prob"
   ]
  },
  {
   "cell_type": "code",
   "execution_count": 13,
   "id": "47c9fa30",
   "metadata": {},
   "outputs": [],
   "source": [
    "def load_albert(path, text):\n",
    "    #Load the model\n",
    "    loaded_model = tf.saved_model.load(path)\n",
    "    \n",
    "    #Make the prediction\n",
    "    probs = tf.nn.softmax(reloaded_model(tf.constant([examples])))\n",
    "    label = argmax(probs)\n",
    "    prob = probs[label]\n",
    "    \n",
    "    return label, prob"
   ]
  },
  {
   "cell_type": "code",
   "execution_count": 14,
   "id": "aa24d988",
   "metadata": {},
   "outputs": [],
   "source": [
    "def predict(prediction):\n",
    "    idx = prediction[0]\n",
    "    prob = prediction[1]\n",
    "    \n",
    "    if idx == 0:\n",
    "        output = 'It is a Chat'\n",
    "    elif idx == 1:\n",
    "        output = 'It is to Inform'\n",
    "    elif idx == 2:\n",
    "        output = 'It is a Question'\n",
    "    else:\n",
    "        return \"Sorry, we don't know what you're talking about...\"\n",
    "    \n",
    "    return output + f\" ({prob*100:0.2%f})\""
   ]
  },
  {
   "cell_type": "code",
   "execution_count": 15,
   "id": "524868e5",
   "metadata": {},
   "outputs": [],
   "source": [
    "def process(text): #Modify this one to run your model\n",
    "    path1 = \"C:/Users/Consultant/OneDrive/Escritorio/Training Projects/NLP/ANN_model.h5\"\n",
    "    predANN = load_ann(path1, text)\n",
    "    prediction1 = predict(predANN)\n",
    "    return prediction1\n",
    "    \n",
    "#     path2 = \"C:/Users/Consultant/OneDrive/Escritorio/Training Projects/NLP/silicone_dyda_bert_20\"\n",
    "#     predALBERT = load_albert(path2, text)\n",
    "#     prediction2 = predict(predALBERT)\n",
    "    \n",
    "#     output = {\"ANN\": prediction1, \"ALBERT\": prediction2}\n",
    "#     print(output)\n",
    "    \n",
    "#     return output"
   ]
  },
  {
   "cell_type": "code",
   "execution_count": 16,
   "id": "ab3c0058",
   "metadata": {
    "scrolled": true
   },
   "outputs": [
    {
     "ename": "NameError",
     "evalue": "name 'hub' is not defined",
     "output_type": "error",
     "traceback": [
      "\u001b[1;31m---------------------------------------------------------------------------\u001b[0m",
      "\u001b[1;31mNameError\u001b[0m                                 Traceback (most recent call last)",
      "Input \u001b[1;32mIn [16]\u001b[0m, in \u001b[0;36m<cell line: 1>\u001b[1;34m()\u001b[0m\n\u001b[1;32m----> 1\u001b[0m output \u001b[38;5;241m=\u001b[39m \u001b[43mprocess\u001b[49m\u001b[43m(\u001b[49m\u001b[38;5;124;43m'\u001b[39;49m\u001b[38;5;124;43mHow old are you?\u001b[39;49m\u001b[38;5;124;43m'\u001b[39;49m\u001b[43m)\u001b[49m\n\u001b[0;32m      2\u001b[0m \u001b[38;5;28mprint\u001b[39m(output)\n",
      "Input \u001b[1;32mIn [15]\u001b[0m, in \u001b[0;36mprocess\u001b[1;34m(text)\u001b[0m\n\u001b[0;32m      1\u001b[0m \u001b[38;5;28;01mdef\u001b[39;00m \u001b[38;5;21mprocess\u001b[39m(text): \u001b[38;5;66;03m#Modify this one to run your model\u001b[39;00m\n\u001b[0;32m      2\u001b[0m     path1 \u001b[38;5;241m=\u001b[39m \u001b[38;5;124m\"\u001b[39m\u001b[38;5;124mC:/Users/Consultant/OneDrive/Escritorio/Training Projects/NLP/ANN_model.h5\u001b[39m\u001b[38;5;124m\"\u001b[39m\n\u001b[1;32m----> 3\u001b[0m     predANN \u001b[38;5;241m=\u001b[39m \u001b[43mload_ann\u001b[49m\u001b[43m(\u001b[49m\u001b[43mpath1\u001b[49m\u001b[43m,\u001b[49m\u001b[43m \u001b[49m\u001b[43mtext\u001b[49m\u001b[43m)\u001b[49m\n\u001b[0;32m      4\u001b[0m     prediction1 \u001b[38;5;241m=\u001b[39m predict(predANN)\n\u001b[0;32m      5\u001b[0m     \u001b[38;5;28;01mreturn\u001b[39;00m prediction1\n",
      "Input \u001b[1;32mIn [12]\u001b[0m, in \u001b[0;36mload_ann\u001b[1;34m(path, text)\u001b[0m\n\u001b[0;32m      1\u001b[0m \u001b[38;5;28;01mdef\u001b[39;00m \u001b[38;5;21mload_ann\u001b[39m(path, text):\n\u001b[0;32m      2\u001b[0m     \u001b[38;5;66;03m#Load the model\u001b[39;00m\n\u001b[1;32m----> 3\u001b[0m     loaded_model \u001b[38;5;241m=\u001b[39m keras\u001b[38;5;241m.\u001b[39mmodels\u001b[38;5;241m.\u001b[39mload_model((path), custom_objects\u001b[38;5;241m=\u001b[39m{\u001b[38;5;124m'\u001b[39m\u001b[38;5;124mKerasLayer\u001b[39m\u001b[38;5;124m'\u001b[39m: \u001b[43mhub\u001b[49m\u001b[38;5;241m.\u001b[39mKerasLayer})\n\u001b[0;32m      5\u001b[0m     \u001b[38;5;66;03m#Make the prediction\u001b[39;00m\n\u001b[0;32m      6\u001b[0m     probs \u001b[38;5;241m=\u001b[39m load_model\u001b[38;5;241m.\u001b[39mpredict(np\u001b[38;5;241m.\u001b[39marray([text]))\n",
      "\u001b[1;31mNameError\u001b[0m: name 'hub' is not defined"
     ]
    }
   ],
   "source": [
    "output = process('How old are you?')\n",
    "print(output)"
   ]
  },
  {
   "cell_type": "code",
   "execution_count": null,
   "id": "71504058",
   "metadata": {},
   "outputs": [],
   "source": [
    "@app.route(\"/\")\n",
    "def template_test():\n",
    "    return render_template('index.html', label='', imagesource='file://null')\n",
    "\n",
    "@app.route('/', methods=['POST'])\n",
    "def upload_file():\n",
    "    \n",
    "        request_out=request.form['w3review']#Info In\n",
    "        output = process(request_out)#model run\n",
    "        label = output\n",
    "#         albert = ' \\n '.join(output['ALBERT'])\n",
    "#         out2 = output[\"ALBERT\"]#Info out\n",
    "#         Quests=' \\n '.join(output['questions'])\n",
    "#         Notes=' \\n '.join(output['notes'])\n",
    "        return render_template(\"index.html\", label=output)#, label2=albert)"
   ]
  },
  {
   "cell_type": "code",
   "execution_count": null,
   "id": "bbf926fa",
   "metadata": {
    "scrolled": false
   },
   "outputs": [],
   "source": [
    "if __name__ == \"__main__\":\n",
    "    app.run()"
   ]
  },
  {
   "cell_type": "code",
   "execution_count": null,
   "id": "31d723ce",
   "metadata": {},
   "outputs": [],
   "source": []
  }
 ],
 "metadata": {
  "kernelspec": {
   "display_name": "Python 3 (ipykernel)",
   "language": "python",
   "name": "python3"
  },
  "language_info": {
   "codemirror_mode": {
    "name": "ipython",
    "version": 3
   },
   "file_extension": ".py",
   "mimetype": "text/x-python",
   "name": "python",
   "nbconvert_exporter": "python",
   "pygments_lexer": "ipython3",
   "version": "3.9.12"
  }
 },
 "nbformat": 4,
 "nbformat_minor": 5
}
