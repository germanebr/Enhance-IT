{
  "cells": [
    {
      "cell_type": "code",
      "execution_count": 2,
      "metadata": {
        "colab": {
          "base_uri": "https://localhost:8080/",
          "height": 73,
          "resources": {
            "http://localhost:8080/nbextensions/google.colab/files.js": {
              "data": "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",
              "headers": [
                [
                  "content-type",
                  "application/javascript"
                ]
              ],
              "ok": true,
              "status": 200,
              "status_text": ""
            }
          }
        },
        "id": "wO5-6ZB4IX8P",
        "outputId": "bb9cf060-77d3-457d-ed8f-577c4c5a2880"
      },
      "outputs": [
        {
          "output_type": "display_data",
          "data": {
            "text/plain": [
              "<IPython.core.display.HTML object>"
            ],
            "text/html": [
              "\n",
              "     <input type=\"file\" id=\"files-72cbeeb7-0d15-4f76-80c4-c9bd6e86f93d\" name=\"files[]\" multiple disabled\n",
              "        style=\"border:none\" />\n",
              "     <output id=\"result-72cbeeb7-0d15-4f76-80c4-c9bd6e86f93d\">\n",
              "      Upload widget is only available when the cell has been executed in the\n",
              "      current browser session. Please rerun this cell to enable.\n",
              "      </output>\n",
              "      <script src=\"/nbextensions/google.colab/files.js\"></script> "
            ]
          },
          "metadata": {}
        },
        {
          "output_type": "stream",
          "name": "stdout",
          "text": [
            "Saving general.py to general.py\n"
          ]
        }
      ],
      "source": [
        "import numpy as np\n",
        "import matplotlib.pyplot as plt\n",
        "import pandas as pd\n",
        "import seaborn as sns\n",
        "import plotly.express as px\n",
        "from keras.utils import np_utils\n",
        "from scipy.stats import multivariate_normal as mvn\n",
        "\n",
        "#Import .py file of general algorithms\n",
        "from google.colab import files\n",
        "files.upload()\n",
        "from general import KNNClassifier as knn\n",
        "from general import accuracy\n",
        "from general import confusionMatrix\n",
        "from general import GaussBayes as gb\n",
        "from general import GaussNB as ngb\n",
        "from general import R2\n",
        "from general import OLS\n",
        "from general import MultipleLinearRegression as mlr\n",
        "from general import OurLinearRegression as olr"
      ]
    },
    {
      "cell_type": "code",
      "execution_count": 3,
      "metadata": {
        "colab": {
          "base_uri": "https://localhost:8080/",
          "height": 0
        },
        "id": "xizmJpsj46GV",
        "outputId": "d4d09c44-91cf-4133-f702-035b91e4882a"
      },
      "outputs": [
        {
          "output_type": "stream",
          "name": "stdout",
          "text": [
            "Drive already mounted at /content/drive; to attempt to forcibly remount, call drive.mount(\"/content/drive\", force_remount=True).\n"
          ]
        }
      ],
      "source": [
        "#Link with your Drive\n",
        "from google.colab import drive\n",
        "drive.mount('/content/drive')"
      ]
    },
    {
      "cell_type": "code",
      "execution_count": 4,
      "metadata": {
        "id": "viFKUnPr6ah6"
      },
      "outputs": [],
      "source": [
        "my_token = open(\"/content/drive/MyDrive/Enhance It/Training Projects/House Remodelation/map_token.txt\").read()"
      ]
    },
    {
      "cell_type": "markdown",
      "metadata": {
        "id": "6LzCd8iF3rmB"
      },
      "source": [
        "# General methods"
      ]
    },
    {
      "cell_type": "markdown",
      "metadata": {
        "id": "xb-XYDcr6crE"
      },
      "source": [
        "Model creation, hyperparameter tuning, and test evaluation of Naive and Gaussian Bayes Classifiers.\n",
        "\n",
        "**Inputs**\n",
        "*   x_train *(numpy array)*. Input data for training the model\n",
        "*   y_train *(numpy array)*. Labeled output for training the model\n",
        "*   x_val *(numpy array)*. Input data for validating the model\n",
        "*   y_val *(numpy array)*. Labeled output for validating the model\n",
        "*   x_test *(numpy array)*. Input data for testing the model\n",
        "*   y_test *(numpy array)*. Labeled output for testing the model\n",
        "*   name *(string)*. Name of the feature that is being analyzed\n",
        "*   show_plot *(boolean)*. Plots the model comparison\n",
        "\n",
        "**Returns**\n",
        "*   best_e *(float)*. Epsilon value of the best trained model\n",
        "*   max_acc *(float)*. Validation accuracy of the best model\n",
        "*   naive_test_acc *(float)*. Test accuracy of the best Naive Bayes model\n",
        "*   gauss_test_acc *(float)*. Test accuracy of the best Gaussian Bayes model"
      ]
    },
    {
      "cell_type": "code",
      "execution_count": 5,
      "metadata": {
        "id": "vmQVvsWC3zxr"
      },
      "outputs": [],
      "source": [
        "def checkNaiveBayes(x_train,y_train, x_val,y_val, x_test,y_test, name, show_plot=False):\n",
        "  model = ngb()\n",
        "  epsilons = np.linspace(1e-3,1e-1)\n",
        "  naive_accuracies = np.zeros(len(epsilons))\n",
        "\n",
        "  for i in range(len(epsilons)):\n",
        "    print(f'Checking epsilon {i+1} out of {len(epsilons)}...')\n",
        "    model.fit(x_train,y_train,epsilon=epsilons[i])\n",
        "    y_hat_naive = model.predict(x_val)\n",
        "    naive_accuracies[i] = accuracy(y_val,y_hat_naive)\n",
        "\n",
        "  max_acc = max(naive_accuracies)\n",
        "  best_e = epsilons[np.where(naive_accuracies == max_acc)]\n",
        "  if isinstance(best_e, np.ndarray):\n",
        "    best_e = best_e[0]\n",
        "  print(best_e, max_acc)\n",
        "\n",
        "  if show_plot:\n",
        "    plt.figure(figsize=(10,8))\n",
        "    plt.plot(epsilons,naive_accuracies)\n",
        "    plt.plot(best_e,max_acc,'*',markersize=20,label='Best model')\n",
        "    plt.legend()\n",
        "    plt.xlabel('Epsilon')\n",
        "    plt.ylabel('Accuracy')\n",
        "    plt.title(f'{name} Naive Bayes Training Accuracy')\n",
        "\n",
        "  model.fit(x_train,y_train,epsilon=best_e)\n",
        "  test_naive = model.predict(x_test)\n",
        "  naive_test_acc = accuracy(y_test,test_naive)\n",
        "\n",
        "  #print(f\"Validation accuracy: {max_acc}     Test accuracy: {naive_test_acc}\")\n",
        "  return best_e, max_acc, naive_test_acc"
      ]
    },
    {
      "cell_type": "code",
      "execution_count": 6,
      "metadata": {
        "id": "qQOD3jqO65Wi"
      },
      "outputs": [],
      "source": [
        "def checkGaussianBayes(x_train,y_train, x_val,y_val, x_test,y_test, name, show_plot=False):\n",
        "  model = gb()\n",
        "  epsilons = np.linspace(1e-3,1e-1)\n",
        "  bayes_accuracies = np.zeros(len(epsilons))\n",
        "\n",
        "  for i in range(len(epsilons)):\n",
        "    print(f'Checking epsilon {i+1} out of {len(epsilons)}...')\n",
        "    model.fit(x_train,y_train,epsilon=epsilons[i])\n",
        "    y_hat_gauss = model.predict(x_val)\n",
        "    bayes_accuracies[i] = accuracy(y_val,y_hat_gauss)\n",
        "\n",
        "  max_acc = max(bayes_accuracies)\n",
        "  best_e = epsilons[np.where(bayes_accuracies == max_acc)]\n",
        "  if isinstance(best_e, np.ndarray):\n",
        "    best_e = best_e[0]\n",
        "  print(best_e, max_acc)\n",
        "\n",
        "  if show_plot:\n",
        "    plt.figure(figsize=(10,8))\n",
        "    plt.plot(epsilons,bayes_accuracies)\n",
        "    plt.plot(best_e,max_acc,'*',markersize=20,label='Best model')\n",
        "    plt.legend()\n",
        "    plt.xlabel('Epsilon')\n",
        "    plt.ylabel('Accuracy')\n",
        "    plt.title(f'{name} Gaussian Bayes Training Accuracy')\n",
        "\n",
        "  model.fit(x_train,y_train,epsilon=best_e)\n",
        "  test_bayes = model.predict(x_test)\n",
        "  gauss_test_acc = accuracy(y_test,test_bayes)\n",
        "\n",
        "  #print(f\"Validation accuracy: {max_acc}     Test accuracy: {gauss_test_acc}\")\n",
        "  return best_e, max_acc, gauss_test_acc"
      ]
    },
    {
      "cell_type": "markdown",
      "metadata": {
        "id": "yzoKLIpn7uEE"
      },
      "source": [
        "Model creation, hyperparameter tuning, and test evaluation of KNN Classifier.\n",
        "\n",
        "**Inputs**\n",
        "*   x_train *(numpy array)*. Input data for training the model\n",
        "*   y_train *(numpy array)*. Labeled output for training the model\n",
        "*   x_val *(numpy array)*. Input data for validating the model\n",
        "*   y_val *(numpy array)*. Labeled output for validating the model\n",
        "*   x_test *(numpy array)*. Input data for testing the model\n",
        "*   y_test *(numpy array)*. Labeled output for testing the model\n",
        "*   name *(string)*. Name of the feature that is being analyzed\n",
        "*   show_plot *(boolean)*. Plots the model comparison\n",
        "\n",
        "**Returns**\n",
        "*   best_k *(int)*. Number of neighbors of the best trained model\n",
        "*   max_acc *(float)*. Validation accuracy of the best model\n",
        "*   knn_test_acc *(float)*. Test accuracy of the best KNN model"
      ]
    },
    {
      "cell_type": "code",
      "execution_count": 7,
      "metadata": {
        "id": "dPBFRf9K7unx"
      },
      "outputs": [],
      "source": [
        "def checkKnn(x_train,y_train, x_val,y_val, x_test,y_test, name, show_plot=False):\n",
        "  model = knn()\n",
        "  model.fit(x_train,y_train)\n",
        "\n",
        "  neighbors = [x for x in range(2,31)]\n",
        "  knn_acc = np.zeros(len(neighbors))\n",
        "\n",
        "  for i in range(len(neighbors)):\n",
        "    print(f\"Checking {neighbors[i]} neighbors out of {neighbors[-1]}...\")\n",
        "    y_hat = model.predict(x_val, neighbors[i])\n",
        "    knn_acc[i] = accuracy(y_val,y_hat)\n",
        "\n",
        "  max_acc = max(knn_acc)\n",
        "  best_ks = np.where(knn_acc == max_acc)\n",
        "  if isinstance(best_ks, tuple):\n",
        "    best_k = neighbors[np.where(knn_acc == max_acc)[0][int(len(np.where(knn_acc == max_acc)[0])/2)]]\n",
        "  else:\n",
        "    best_k = neighbors[np.where(knn_acc == max_acc)]\n",
        "\n",
        "  print(best_k, max_acc)\n",
        "\n",
        "  if show_plot:\n",
        "    plt.figure(figsize=(10,8))\n",
        "    plt.plot(neighbors,knn_acc)\n",
        "    plt.plot(best_k,max_acc,'*',markersize=20,label='Best model')\n",
        "    plt.legend()\n",
        "    plt.xlabel('K neighbors')\n",
        "    plt.ylabel('Accuracy')\n",
        "    plt.title(f'{name} KNN Training Accuracy')\n",
        "\n",
        "  model.fit(x_train,y_train)\n",
        "  test_knn = model.predict(x_test,best_k)\n",
        "  knn_test_acc = accuracy(y_test,test_knn)\n",
        "\n",
        "  #print(f\"Validation accuracy: {max_acc}     Test accuracy: {knn_test_acc}\")\n",
        "  return best_k, max_acc, knn_test_acc"
      ]
    },
    {
      "cell_type": "markdown",
      "metadata": {
        "id": "VdIGCnZ0JLHP"
      },
      "source": [
        "# Exploratory Data Analysis"
      ]
    },
    {
      "cell_type": "markdown",
      "metadata": {
        "id": "HxrjhJG_K5iQ"
      },
      "source": [
        "Upload the dataset *raw_house_data.csv*"
      ]
    },
    {
      "cell_type": "code",
      "execution_count": 8,
      "metadata": {
        "colab": {
          "base_uri": "https://localhost:8080/",
          "height": 444
        },
        "id": "PzdGoFFtcJ2v",
        "outputId": "08390b1d-f6b1-4bef-9732-a88ff6577314"
      },
      "outputs": [
        {
          "output_type": "execute_result",
          "data": {
            "text/plain": [
              "        MLS  sold_price  zipcode     longitude    latitude  lot_acres  \\\n",
              "0  21530491   5300000.0    85637    -1.103.782  31.356.362    2154.00   \n",
              "1  21529082   4200000.0    85646  -111.045.371  31.594.213    1707.00   \n",
              "2   3054672   4200000.0    85646  -111.040.707  31.594.844    1707.00   \n",
              "3  21919321   4500000.0    85646  -111.035.925  31.645.878     636.67   \n",
              "4  21306357   3411450.0    85750  -110.813.768  32.285.162       3.21   \n",
              "\n",
              "      taxes  year_built  bedrooms bathrooms sqrt_ft garage  \\\n",
              "0   5272.00        1941        13        10   10500      0   \n",
              "1  10422.36        1997         2         2    7300      0   \n",
              "2  10482.00        1997         2         3    None   None   \n",
              "3   8418.58        1930         7         5    9019      4   \n",
              "4  15393.00        1995         4         6    6396      3   \n",
              "\n",
              "                                    kitchen_features  fireplaces  \\\n",
              "0            Dishwasher, Freezer, Refrigerator, Oven         6.0   \n",
              "1                       Dishwasher, Garbage Disposal         5.0   \n",
              "2         Dishwasher, Garbage Disposal, Refrigerator         5.0   \n",
              "3  Dishwasher, Double Sink, Pantry: Butler, Refri...         4.0   \n",
              "4  Dishwasher, Garbage Disposal, Refrigerator, Mi...         5.0   \n",
              "\n",
              "                 floor_covering   HOA  \n",
              "0            Mexican Tile, Wood     0  \n",
              "1          Natural Stone, Other     0  \n",
              "2    Natural Stone, Other: Rock  None  \n",
              "3  Ceramic Tile, Laminate, Wood  None  \n",
              "4              Carpet, Concrete    55  "
            ],
            "text/html": [
              "\n",
              "  <div id=\"df-7bdfa0c5-f306-47f7-8a38-b14d9b68467c\">\n",
              "    <div class=\"colab-df-container\">\n",
              "      <div>\n",
              "<style scoped>\n",
              "    .dataframe tbody tr th:only-of-type {\n",
              "        vertical-align: middle;\n",
              "    }\n",
              "\n",
              "    .dataframe tbody tr th {\n",
              "        vertical-align: top;\n",
              "    }\n",
              "\n",
              "    .dataframe thead th {\n",
              "        text-align: right;\n",
              "    }\n",
              "</style>\n",
              "<table border=\"1\" class=\"dataframe\">\n",
              "  <thead>\n",
              "    <tr style=\"text-align: right;\">\n",
              "      <th></th>\n",
              "      <th>MLS</th>\n",
              "      <th>sold_price</th>\n",
              "      <th>zipcode</th>\n",
              "      <th>longitude</th>\n",
              "      <th>latitude</th>\n",
              "      <th>lot_acres</th>\n",
              "      <th>taxes</th>\n",
              "      <th>year_built</th>\n",
              "      <th>bedrooms</th>\n",
              "      <th>bathrooms</th>\n",
              "      <th>sqrt_ft</th>\n",
              "      <th>garage</th>\n",
              "      <th>kitchen_features</th>\n",
              "      <th>fireplaces</th>\n",
              "      <th>floor_covering</th>\n",
              "      <th>HOA</th>\n",
              "    </tr>\n",
              "  </thead>\n",
              "  <tbody>\n",
              "    <tr>\n",
              "      <th>0</th>\n",
              "      <td>21530491</td>\n",
              "      <td>5300000.0</td>\n",
              "      <td>85637</td>\n",
              "      <td>-1.103.782</td>\n",
              "      <td>31.356.362</td>\n",
              "      <td>2154.00</td>\n",
              "      <td>5272.00</td>\n",
              "      <td>1941</td>\n",
              "      <td>13</td>\n",
              "      <td>10</td>\n",
              "      <td>10500</td>\n",
              "      <td>0</td>\n",
              "      <td>Dishwasher, Freezer, Refrigerator, Oven</td>\n",
              "      <td>6.0</td>\n",
              "      <td>Mexican Tile, Wood</td>\n",
              "      <td>0</td>\n",
              "    </tr>\n",
              "    <tr>\n",
              "      <th>1</th>\n",
              "      <td>21529082</td>\n",
              "      <td>4200000.0</td>\n",
              "      <td>85646</td>\n",
              "      <td>-111.045.371</td>\n",
              "      <td>31.594.213</td>\n",
              "      <td>1707.00</td>\n",
              "      <td>10422.36</td>\n",
              "      <td>1997</td>\n",
              "      <td>2</td>\n",
              "      <td>2</td>\n",
              "      <td>7300</td>\n",
              "      <td>0</td>\n",
              "      <td>Dishwasher, Garbage Disposal</td>\n",
              "      <td>5.0</td>\n",
              "      <td>Natural Stone, Other</td>\n",
              "      <td>0</td>\n",
              "    </tr>\n",
              "    <tr>\n",
              "      <th>2</th>\n",
              "      <td>3054672</td>\n",
              "      <td>4200000.0</td>\n",
              "      <td>85646</td>\n",
              "      <td>-111.040.707</td>\n",
              "      <td>31.594.844</td>\n",
              "      <td>1707.00</td>\n",
              "      <td>10482.00</td>\n",
              "      <td>1997</td>\n",
              "      <td>2</td>\n",
              "      <td>3</td>\n",
              "      <td>None</td>\n",
              "      <td>None</td>\n",
              "      <td>Dishwasher, Garbage Disposal, Refrigerator</td>\n",
              "      <td>5.0</td>\n",
              "      <td>Natural Stone, Other: Rock</td>\n",
              "      <td>None</td>\n",
              "    </tr>\n",
              "    <tr>\n",
              "      <th>3</th>\n",
              "      <td>21919321</td>\n",
              "      <td>4500000.0</td>\n",
              "      <td>85646</td>\n",
              "      <td>-111.035.925</td>\n",
              "      <td>31.645.878</td>\n",
              "      <td>636.67</td>\n",
              "      <td>8418.58</td>\n",
              "      <td>1930</td>\n",
              "      <td>7</td>\n",
              "      <td>5</td>\n",
              "      <td>9019</td>\n",
              "      <td>4</td>\n",
              "      <td>Dishwasher, Double Sink, Pantry: Butler, Refri...</td>\n",
              "      <td>4.0</td>\n",
              "      <td>Ceramic Tile, Laminate, Wood</td>\n",
              "      <td>None</td>\n",
              "    </tr>\n",
              "    <tr>\n",
              "      <th>4</th>\n",
              "      <td>21306357</td>\n",
              "      <td>3411450.0</td>\n",
              "      <td>85750</td>\n",
              "      <td>-110.813.768</td>\n",
              "      <td>32.285.162</td>\n",
              "      <td>3.21</td>\n",
              "      <td>15393.00</td>\n",
              "      <td>1995</td>\n",
              "      <td>4</td>\n",
              "      <td>6</td>\n",
              "      <td>6396</td>\n",
              "      <td>3</td>\n",
              "      <td>Dishwasher, Garbage Disposal, Refrigerator, Mi...</td>\n",
              "      <td>5.0</td>\n",
              "      <td>Carpet, Concrete</td>\n",
              "      <td>55</td>\n",
              "    </tr>\n",
              "  </tbody>\n",
              "</table>\n",
              "</div>\n",
              "      <button class=\"colab-df-convert\" onclick=\"convertToInteractive('df-7bdfa0c5-f306-47f7-8a38-b14d9b68467c')\"\n",
              "              title=\"Convert this dataframe to an interactive table.\"\n",
              "              style=\"display:none;\">\n",
              "        \n",
              "  <svg xmlns=\"http://www.w3.org/2000/svg\" height=\"24px\"viewBox=\"0 0 24 24\"\n",
              "       width=\"24px\">\n",
              "    <path d=\"M0 0h24v24H0V0z\" fill=\"none\"/>\n",
              "    <path d=\"M18.56 5.44l.94 2.06.94-2.06 2.06-.94-2.06-.94-.94-2.06-.94 2.06-2.06.94zm-11 1L8.5 8.5l.94-2.06 2.06-.94-2.06-.94L8.5 2.5l-.94 2.06-2.06.94zm10 10l.94 2.06.94-2.06 2.06-.94-2.06-.94-.94-2.06-.94 2.06-2.06.94z\"/><path d=\"M17.41 7.96l-1.37-1.37c-.4-.4-.92-.59-1.43-.59-.52 0-1.04.2-1.43.59L10.3 9.45l-7.72 7.72c-.78.78-.78 2.05 0 2.83L4 21.41c.39.39.9.59 1.41.59.51 0 1.02-.2 1.41-.59l7.78-7.78 2.81-2.81c.8-.78.8-2.07 0-2.86zM5.41 20L4 18.59l7.72-7.72 1.47 1.35L5.41 20z\"/>\n",
              "  </svg>\n",
              "      </button>\n",
              "      \n",
              "  <style>\n",
              "    .colab-df-container {\n",
              "      display:flex;\n",
              "      flex-wrap:wrap;\n",
              "      gap: 12px;\n",
              "    }\n",
              "\n",
              "    .colab-df-convert {\n",
              "      background-color: #E8F0FE;\n",
              "      border: none;\n",
              "      border-radius: 50%;\n",
              "      cursor: pointer;\n",
              "      display: none;\n",
              "      fill: #1967D2;\n",
              "      height: 32px;\n",
              "      padding: 0 0 0 0;\n",
              "      width: 32px;\n",
              "    }\n",
              "\n",
              "    .colab-df-convert:hover {\n",
              "      background-color: #E2EBFA;\n",
              "      box-shadow: 0px 1px 2px rgba(60, 64, 67, 0.3), 0px 1px 3px 1px rgba(60, 64, 67, 0.15);\n",
              "      fill: #174EA6;\n",
              "    }\n",
              "\n",
              "    [theme=dark] .colab-df-convert {\n",
              "      background-color: #3B4455;\n",
              "      fill: #D2E3FC;\n",
              "    }\n",
              "\n",
              "    [theme=dark] .colab-df-convert:hover {\n",
              "      background-color: #434B5C;\n",
              "      box-shadow: 0px 1px 3px 1px rgba(0, 0, 0, 0.15);\n",
              "      filter: drop-shadow(0px 1px 2px rgba(0, 0, 0, 0.3));\n",
              "      fill: #FFFFFF;\n",
              "    }\n",
              "  </style>\n",
              "\n",
              "      <script>\n",
              "        const buttonEl =\n",
              "          document.querySelector('#df-7bdfa0c5-f306-47f7-8a38-b14d9b68467c button.colab-df-convert');\n",
              "        buttonEl.style.display =\n",
              "          google.colab.kernel.accessAllowed ? 'block' : 'none';\n",
              "\n",
              "        async function convertToInteractive(key) {\n",
              "          const element = document.querySelector('#df-7bdfa0c5-f306-47f7-8a38-b14d9b68467c');\n",
              "          const dataTable =\n",
              "            await google.colab.kernel.invokeFunction('convertToInteractive',\n",
              "                                                     [key], {});\n",
              "          if (!dataTable) return;\n",
              "\n",
              "          const docLinkHtml = 'Like what you see? Visit the ' +\n",
              "            '<a target=\"_blank\" href=https://colab.research.google.com/notebooks/data_table.ipynb>data table notebook</a>'\n",
              "            + ' to learn more about interactive tables.';\n",
              "          element.innerHTML = '';\n",
              "          dataTable['output_type'] = 'display_data';\n",
              "          await google.colab.output.renderOutput(dataTable, element);\n",
              "          const docLink = document.createElement('div');\n",
              "          docLink.innerHTML = docLinkHtml;\n",
              "          element.appendChild(docLink);\n",
              "        }\n",
              "      </script>\n",
              "    </div>\n",
              "  </div>\n",
              "  "
            ]
          },
          "metadata": {},
          "execution_count": 8
        }
      ],
      "source": [
        "data = pd.read_csv('/content/drive/MyDrive/Enhance It/Datasets/raw_house_data.csv')\n",
        "data.head()"
      ]
    },
    {
      "cell_type": "code",
      "execution_count": 9,
      "metadata": {
        "colab": {
          "base_uri": "https://localhost:8080/",
          "height": 0
        },
        "id": "fVoGInpPKznv",
        "outputId": "0db9577b-59e6-41ad-f59b-0efa8adf0eda"
      },
      "outputs": [
        {
          "output_type": "execute_result",
          "data": {
            "text/plain": [
              "MLS                   int64\n",
              "sold_price          float64\n",
              "zipcode               int64\n",
              "longitude            object\n",
              "latitude             object\n",
              "lot_acres           float64\n",
              "taxes               float64\n",
              "year_built            int64\n",
              "bedrooms              int64\n",
              "bathrooms            object\n",
              "sqrt_ft              object\n",
              "garage               object\n",
              "kitchen_features     object\n",
              "fireplaces          float64\n",
              "floor_covering       object\n",
              "HOA                  object\n",
              "dtype: object"
            ]
          },
          "metadata": {},
          "execution_count": 9
        }
      ],
      "source": [
        "data.dtypes"
      ]
    },
    {
      "cell_type": "code",
      "execution_count": 10,
      "metadata": {
        "colab": {
          "base_uri": "https://localhost:8080/",
          "height": 0
        },
        "id": "xtSk2qm7cWir",
        "outputId": "772416a8-a59a-42a3-d316-cd9d1faef57f"
      },
      "outputs": [
        {
          "output_type": "stream",
          "name": "stdout",
          "text": [
            "Size of dataset: (5000, 16)\n",
            "Number of duplicate rows: (0, 16)\n",
            "\n",
            "MLS                  0\n",
            "sold_price           0\n",
            "zipcode              0\n",
            "longitude            0\n",
            "latitude             0\n",
            "lot_acres           10\n",
            "taxes                0\n",
            "year_built           0\n",
            "bedrooms             0\n",
            "bathrooms            0\n",
            "sqrt_ft              0\n",
            "garage               0\n",
            "kitchen_features     0\n",
            "fireplaces          25\n",
            "floor_covering       0\n",
            "HOA                  0\n",
            "dtype: int64\n"
          ]
        }
      ],
      "source": [
        "#Check the size of the data\n",
        "print(f\"Size of dataset: {data.shape}\")\n",
        "\n",
        "#Check and delete for duplicates\n",
        "print(f\"Number of duplicate rows: {data[data.duplicated()].shape}\\n\")\n",
        "data.drop_duplicates()\n",
        "\n",
        "#Check for null values\n",
        "print(data.isnull().sum())"
      ]
    },
    {
      "cell_type": "markdown",
      "metadata": {
        "id": "iiNl2GjBmkPl"
      },
      "source": [
        "Keep only the *sold price*, *longitude* and *latitude* (only for geolocalization), *kitchen_features*, *fireplaces* and *floor_covering*."
      ]
    },
    {
      "cell_type": "code",
      "execution_count": 11,
      "metadata": {
        "colab": {
          "base_uri": "https://localhost:8080/",
          "height": 206
        },
        "id": "6s3LaOCinA5K",
        "outputId": "df716987-ab7d-400a-89d6-72b6c56b9108"
      },
      "outputs": [
        {
          "output_type": "execute_result",
          "data": {
            "text/plain": [
              "   sold_price     longitude    latitude sqrt_ft  \\\n",
              "0   5300000.0    -1.103.782  31.356.362   10500   \n",
              "1   4200000.0  -111.045.371  31.594.213    7300   \n",
              "2   4200000.0  -111.040.707  31.594.844    None   \n",
              "3   4500000.0  -111.035.925  31.645.878    9019   \n",
              "4   3411450.0  -110.813.768  32.285.162    6396   \n",
              "\n",
              "                                    kitchen_features  \\\n",
              "0            Dishwasher, Freezer, Refrigerator, Oven   \n",
              "1                       Dishwasher, Garbage Disposal   \n",
              "2         Dishwasher, Garbage Disposal, Refrigerator   \n",
              "3  Dishwasher, Double Sink, Pantry: Butler, Refri...   \n",
              "4  Dishwasher, Garbage Disposal, Refrigerator, Mi...   \n",
              "\n",
              "                 floor_covering  \n",
              "0            Mexican Tile, Wood  \n",
              "1          Natural Stone, Other  \n",
              "2    Natural Stone, Other: Rock  \n",
              "3  Ceramic Tile, Laminate, Wood  \n",
              "4              Carpet, Concrete  "
            ],
            "text/html": [
              "\n",
              "  <div id=\"df-09188c95-9571-4ed3-89ad-46fd73a058dd\">\n",
              "    <div class=\"colab-df-container\">\n",
              "      <div>\n",
              "<style scoped>\n",
              "    .dataframe tbody tr th:only-of-type {\n",
              "        vertical-align: middle;\n",
              "    }\n",
              "\n",
              "    .dataframe tbody tr th {\n",
              "        vertical-align: top;\n",
              "    }\n",
              "\n",
              "    .dataframe thead th {\n",
              "        text-align: right;\n",
              "    }\n",
              "</style>\n",
              "<table border=\"1\" class=\"dataframe\">\n",
              "  <thead>\n",
              "    <tr style=\"text-align: right;\">\n",
              "      <th></th>\n",
              "      <th>sold_price</th>\n",
              "      <th>longitude</th>\n",
              "      <th>latitude</th>\n",
              "      <th>sqrt_ft</th>\n",
              "      <th>kitchen_features</th>\n",
              "      <th>floor_covering</th>\n",
              "    </tr>\n",
              "  </thead>\n",
              "  <tbody>\n",
              "    <tr>\n",
              "      <th>0</th>\n",
              "      <td>5300000.0</td>\n",
              "      <td>-1.103.782</td>\n",
              "      <td>31.356.362</td>\n",
              "      <td>10500</td>\n",
              "      <td>Dishwasher, Freezer, Refrigerator, Oven</td>\n",
              "      <td>Mexican Tile, Wood</td>\n",
              "    </tr>\n",
              "    <tr>\n",
              "      <th>1</th>\n",
              "      <td>4200000.0</td>\n",
              "      <td>-111.045.371</td>\n",
              "      <td>31.594.213</td>\n",
              "      <td>7300</td>\n",
              "      <td>Dishwasher, Garbage Disposal</td>\n",
              "      <td>Natural Stone, Other</td>\n",
              "    </tr>\n",
              "    <tr>\n",
              "      <th>2</th>\n",
              "      <td>4200000.0</td>\n",
              "      <td>-111.040.707</td>\n",
              "      <td>31.594.844</td>\n",
              "      <td>None</td>\n",
              "      <td>Dishwasher, Garbage Disposal, Refrigerator</td>\n",
              "      <td>Natural Stone, Other: Rock</td>\n",
              "    </tr>\n",
              "    <tr>\n",
              "      <th>3</th>\n",
              "      <td>4500000.0</td>\n",
              "      <td>-111.035.925</td>\n",
              "      <td>31.645.878</td>\n",
              "      <td>9019</td>\n",
              "      <td>Dishwasher, Double Sink, Pantry: Butler, Refri...</td>\n",
              "      <td>Ceramic Tile, Laminate, Wood</td>\n",
              "    </tr>\n",
              "    <tr>\n",
              "      <th>4</th>\n",
              "      <td>3411450.0</td>\n",
              "      <td>-110.813.768</td>\n",
              "      <td>32.285.162</td>\n",
              "      <td>6396</td>\n",
              "      <td>Dishwasher, Garbage Disposal, Refrigerator, Mi...</td>\n",
              "      <td>Carpet, Concrete</td>\n",
              "    </tr>\n",
              "  </tbody>\n",
              "</table>\n",
              "</div>\n",
              "      <button class=\"colab-df-convert\" onclick=\"convertToInteractive('df-09188c95-9571-4ed3-89ad-46fd73a058dd')\"\n",
              "              title=\"Convert this dataframe to an interactive table.\"\n",
              "              style=\"display:none;\">\n",
              "        \n",
              "  <svg xmlns=\"http://www.w3.org/2000/svg\" height=\"24px\"viewBox=\"0 0 24 24\"\n",
              "       width=\"24px\">\n",
              "    <path d=\"M0 0h24v24H0V0z\" fill=\"none\"/>\n",
              "    <path d=\"M18.56 5.44l.94 2.06.94-2.06 2.06-.94-2.06-.94-.94-2.06-.94 2.06-2.06.94zm-11 1L8.5 8.5l.94-2.06 2.06-.94-2.06-.94L8.5 2.5l-.94 2.06-2.06.94zm10 10l.94 2.06.94-2.06 2.06-.94-2.06-.94-.94-2.06-.94 2.06-2.06.94z\"/><path d=\"M17.41 7.96l-1.37-1.37c-.4-.4-.92-.59-1.43-.59-.52 0-1.04.2-1.43.59L10.3 9.45l-7.72 7.72c-.78.78-.78 2.05 0 2.83L4 21.41c.39.39.9.59 1.41.59.51 0 1.02-.2 1.41-.59l7.78-7.78 2.81-2.81c.8-.78.8-2.07 0-2.86zM5.41 20L4 18.59l7.72-7.72 1.47 1.35L5.41 20z\"/>\n",
              "  </svg>\n",
              "      </button>\n",
              "      \n",
              "  <style>\n",
              "    .colab-df-container {\n",
              "      display:flex;\n",
              "      flex-wrap:wrap;\n",
              "      gap: 12px;\n",
              "    }\n",
              "\n",
              "    .colab-df-convert {\n",
              "      background-color: #E8F0FE;\n",
              "      border: none;\n",
              "      border-radius: 50%;\n",
              "      cursor: pointer;\n",
              "      display: none;\n",
              "      fill: #1967D2;\n",
              "      height: 32px;\n",
              "      padding: 0 0 0 0;\n",
              "      width: 32px;\n",
              "    }\n",
              "\n",
              "    .colab-df-convert:hover {\n",
              "      background-color: #E2EBFA;\n",
              "      box-shadow: 0px 1px 2px rgba(60, 64, 67, 0.3), 0px 1px 3px 1px rgba(60, 64, 67, 0.15);\n",
              "      fill: #174EA6;\n",
              "    }\n",
              "\n",
              "    [theme=dark] .colab-df-convert {\n",
              "      background-color: #3B4455;\n",
              "      fill: #D2E3FC;\n",
              "    }\n",
              "\n",
              "    [theme=dark] .colab-df-convert:hover {\n",
              "      background-color: #434B5C;\n",
              "      box-shadow: 0px 1px 3px 1px rgba(0, 0, 0, 0.15);\n",
              "      filter: drop-shadow(0px 1px 2px rgba(0, 0, 0, 0.3));\n",
              "      fill: #FFFFFF;\n",
              "    }\n",
              "  </style>\n",
              "\n",
              "      <script>\n",
              "        const buttonEl =\n",
              "          document.querySelector('#df-09188c95-9571-4ed3-89ad-46fd73a058dd button.colab-df-convert');\n",
              "        buttonEl.style.display =\n",
              "          google.colab.kernel.accessAllowed ? 'block' : 'none';\n",
              "\n",
              "        async function convertToInteractive(key) {\n",
              "          const element = document.querySelector('#df-09188c95-9571-4ed3-89ad-46fd73a058dd');\n",
              "          const dataTable =\n",
              "            await google.colab.kernel.invokeFunction('convertToInteractive',\n",
              "                                                     [key], {});\n",
              "          if (!dataTable) return;\n",
              "\n",
              "          const docLinkHtml = 'Like what you see? Visit the ' +\n",
              "            '<a target=\"_blank\" href=https://colab.research.google.com/notebooks/data_table.ipynb>data table notebook</a>'\n",
              "            + ' to learn more about interactive tables.';\n",
              "          element.innerHTML = '';\n",
              "          dataTable['output_type'] = 'display_data';\n",
              "          await google.colab.output.renderOutput(dataTable, element);\n",
              "          const docLink = document.createElement('div');\n",
              "          docLink.innerHTML = docLinkHtml;\n",
              "          element.appendChild(docLink);\n",
              "        }\n",
              "      </script>\n",
              "    </div>\n",
              "  </div>\n",
              "  "
            ]
          },
          "metadata": {},
          "execution_count": 11
        }
      ],
      "source": [
        "unwanted = ['MLS','zipcode','lot_acres','taxes','year_built','bedrooms','bathrooms','fireplaces','garage','HOA']\n",
        "data.drop(unwanted, inplace=True, axis=1)\n",
        "data.head()"
      ]
    },
    {
      "cell_type": "markdown",
      "metadata": {
        "id": "vA9TN_CyuNdJ"
      },
      "source": [
        "Evaluate the location of the dataset"
      ]
    },
    {
      "cell_type": "code",
      "execution_count": 12,
      "metadata": {
        "colab": {
          "base_uri": "https://localhost:8080/",
          "height": 0
        },
        "id": "3ZLOTzTkuEIf",
        "outputId": "152418de-270f-4240-cc9e-bf8d3f59ecac"
      },
      "outputs": [
        {
          "output_type": "stream",
          "name": "stdout",
          "text": [
            "['-1.103.782' '-1.106.612' '-1.106.639' ... '-111.299.663' '-111.430.863'\n",
            " '-112.520.168']\n"
          ]
        },
        {
          "output_type": "stream",
          "name": "stderr",
          "text": [
            "/usr/local/lib/python3.7/dist-packages/ipykernel_launcher.py:9: SettingWithCopyWarning: \n",
            "A value is trying to be set on a copy of a slice from a DataFrame\n",
            "\n",
            "See the caveats in the documentation: https://pandas.pydata.org/pandas-docs/stable/user_guide/indexing.html#returning-a-view-versus-a-copy\n",
            "  if __name__ == '__main__':\n"
          ]
        }
      ],
      "source": [
        "feature = data['longitude']\n",
        "#See how the data is stored\n",
        "print(np.unique(feature))\n",
        "\n",
        "#Join the last two values into a single one. Transform the complete data into a float number\n",
        "for i in range(len(feature)):\n",
        "  coord = feature[i].split('.',1)\n",
        "  coord[1] = coord[1].replace('.','')\n",
        "  feature[i] = float('.'.join(coord))\n",
        "\n",
        "data['longitude'] = feature.astype(float)"
      ]
    },
    {
      "cell_type": "code",
      "execution_count": 13,
      "metadata": {
        "colab": {
          "base_uri": "https://localhost:8080/",
          "height": 0
        },
        "id": "yKCtzTIhw_at",
        "outputId": "0119510c-71fe-465a-b20e-27ead5fec7de"
      },
      "outputs": [
        {
          "output_type": "stream",
          "name": "stdout",
          "text": [
            "['3.158.417' '3.159.202' '3.161.953' ... '34.314.889' '34.596.971'\n",
            " '34.927.884']\n"
          ]
        },
        {
          "output_type": "stream",
          "name": "stderr",
          "text": [
            "/usr/local/lib/python3.7/dist-packages/ipykernel_launcher.py:9: SettingWithCopyWarning: \n",
            "A value is trying to be set on a copy of a slice from a DataFrame\n",
            "\n",
            "See the caveats in the documentation: https://pandas.pydata.org/pandas-docs/stable/user_guide/indexing.html#returning-a-view-versus-a-copy\n",
            "  if __name__ == '__main__':\n"
          ]
        }
      ],
      "source": [
        "feature = data['latitude']\n",
        "#See how the data is stored\n",
        "print(np.unique(feature))\n",
        "\n",
        "#Join the last two values into a single one. Transform the complete data into a float number\n",
        "for i in range(len(feature)):\n",
        "  coord = feature[i].split('.',1)\n",
        "  coord[1] = coord[1].replace('.','')\n",
        "  feature[i] = float('.'.join(coord))\n",
        "\n",
        "data['latitude'] = feature.astype(float)"
      ]
    },
    {
      "cell_type": "code",
      "source": [
        "plt.figure(figsize=(10,7))\n",
        "sns.boxplot(x=data['longitude']).set(title='longitude')"
      ],
      "metadata": {
        "colab": {
          "base_uri": "https://localhost:8080/",
          "height": 475
        },
        "id": "ETv2gWOL7YGk",
        "outputId": "a4bf766c-8b24-4a02-8672-263a0e9e0cfe"
      },
      "execution_count": 14,
      "outputs": [
        {
          "output_type": "execute_result",
          "data": {
            "text/plain": [
              "[Text(0.5, 1.0, 'longitude')]"
            ]
          },
          "metadata": {},
          "execution_count": 14
        },
        {
          "output_type": "display_data",
          "data": {
            "text/plain": [
              "<Figure size 720x504 with 1 Axes>"
            ],
            "image/png": "[encoded data removed]"
          },
          "metadata": {
            "needs_background": "light"
          }
        }
      ]
    },
    {
      "cell_type": "code",
      "source": [
        "plt.figure(figsize=(10,7))\n",
        "sns.boxplot(x=data['latitude']).set(title='latitude')"
      ],
      "metadata": {
        "colab": {
          "base_uri": "https://localhost:8080/",
          "height": 475
        },
        "id": "6aQIKxcb7bH0",
        "outputId": "4b2f7192-deb9-4666-e002-402369a26c00"
      },
      "execution_count": 14,
      "outputs": [
        {
          "output_type": "execute_result",
          "data": {
            "text/plain": [
              "[Text(0.5, 1.0, 'latitude')]"
            ]
          },
          "metadata": {},
          "execution_count": 14
        },
        {
          "output_type": "display_data",
          "data": {
            "text/plain": [
              "<Figure size 720x504 with 1 Axes>"
            ],
            "image/png": "[encoded data removed]"
          },
          "metadata": {
            "needs_background": "light"
          }
        }
      ]
    },
    {
      "cell_type": "code",
      "execution_count": 15,
      "metadata": {
        "id": "q4EpQ7NHAY6g"
      },
      "outputs": [],
      "source": [
        "#Delete the longitudes -111.19 < longitude < -110.69\n",
        "data = data[(data['longitude'] > -111.19) & (data['longitude'] < -110.69)]\n",
        "\n",
        "#Delete the latitudes 31.97 < latitude < 32.7\n",
        "data = data[(data['latitude'] > 31.97) & (data['latitude'] < 32.7)]"
      ]
    },
    {
      "cell_type": "code",
      "execution_count": 16,
      "metadata": {
        "colab": {
          "base_uri": "https://localhost:8080/",
          "height": 475
        },
        "id": "Kh6fEBf5_Msp",
        "outputId": "e131b7df-d894-4c34-db8c-c49a81b79820"
      },
      "outputs": [
        {
          "output_type": "execute_result",
          "data": {
            "text/plain": [
              "[Text(0.5, 1.0, 'longitude')]"
            ]
          },
          "metadata": {},
          "execution_count": 16
        },
        {
          "output_type": "display_data",
          "data": {
            "text/plain": [
              "<Figure size 720x504 with 1 Axes>"
            ],
            "image/png": "[encoded data removed]"
          },
          "metadata": {
            "needs_background": "light"
          }
        }
      ],
      "source": [
        "plt.figure(figsize=(10,7))\n",
        "sns.boxplot(x=data['longitude']).set(title='longitude')"
      ]
    },
    {
      "cell_type": "code",
      "execution_count": 17,
      "metadata": {
        "colab": {
          "base_uri": "https://localhost:8080/",
          "height": 475
        },
        "id": "zkSTkZNpBSQO",
        "outputId": "0c697341-9f18-42a5-e792-c46b02f416f5"
      },
      "outputs": [
        {
          "output_type": "execute_result",
          "data": {
            "text/plain": [
              "[Text(0.5, 1.0, 'latitude')]"
            ]
          },
          "metadata": {},
          "execution_count": 17
        },
        {
          "output_type": "display_data",
          "data": {
            "text/plain": [
              "<Figure size 720x504 with 1 Axes>"
            ],
            "image/png": "[encoded data removed]"
          },
          "metadata": {
            "needs_background": "light"
          }
        }
      ],
      "source": [
        "plt.figure(figsize=(10,7))\n",
        "sns.boxplot(x=data['latitude']).set(title='latitude')"
      ]
    },
    {
      "cell_type": "code",
      "execution_count": 18,
      "metadata": {
        "colab": {
          "base_uri": "https://localhost:8080/",
          "height": 542
        },
        "id": "H8mYmrJFjPAc",
        "outputId": "7b626ddd-9114-437b-c46d-1dc6f85371d4"
      },
      "outputs": [
        {
          "output_type": "display_data",
          "data": {
            "text/html": [
              "<html>\n",
              "<head><meta charset=\"utf-8\" /></head>\n",
              "<body>\n",
              "    <div>            <script src=\"https://cdnjs.cloudflare.com/ajax/libs/mathjax/2.7.5/MathJax.js?config=TeX-AMS-MML_SVG\"></script><script type=\"text/javascript\">if (window.MathJax) {MathJax.Hub.Config({SVG: {font: \"STIX-Web\"}});}</script>                <script type=\"text/javascript\">window.PlotlyConfig = {MathJaxConfig: 'local'};</script>\n",
              "        <script src=\"https://cdn.plot.ly/plotly-2.8.3.min.js\"></script>                <div id=\"c2ae5266-8244-41c5-92dc-c04bf627279c\" class=\"plotly-graph-div\" style=\"height:525px; width:100%;\"></div>            <script type=\"text/javascript\">                                    window.PLOTLYENV=window.PLOTLYENV || {};                                    if (document.getElementById(\"c2ae5266-8244-41c5-92dc-c04bf627279c\")) {                    Plotly.newPlot(                        \"c2ae5266-8244-41c5-92dc-c04bf627279c\",                        [{\"hovertemplate\":\"latitude=%{lat}<br>longitude=%{lon}<br>sold_price=%{marker.color}<extra></extra>\",\"lat\":[32.285162,32.261069,32.331603,32.343601,32.341609,32.483063,32.508778,32.507699,32.327533,32.350702,32.328412,32.508778,32.321134,32.337925,32.304249,32.280309,32.290263,32.508861,32.451596,32.338282,32.331597,32.337226,32.353228,32.338765,32.300525,32.328339,32.467444,32.327916,32.290474,32.347679,32.462364,32.467398,32.330665,32.275319,32.464204,32.338271,32.349069,32.331167,32.472956,32.301553,32.323825,32.264695,32.471097,32.331871,32.341088,32.261069,32.312618,32.299399,32.255235,32.292393,32.288005,32.238923,32.348627,32.347679,32.332548,32.262883,32.335414,32.350188,32.342472,32.282133,32.310463,32.467874,32.341397,32.461205,32.335454,32.466875,32.331701,32.471311,32.470017,32.468215,32.455744,32.327907,32.305132,32.344544,32.453961,32.444906,32.473032,32.319575,32.332365,32.468716,32.320662,32.324816,32.469205,32.466473,32.300739,32.329529,32.329358,32.472085,32.469749,32.472169,32.263948,32.225806,32.341676,32.296197,32.481937,32.321979,32.348022,32.299534,32.481265,32.294339,32.466472,32.340547,32.471308,32.467426,32.325702,32.291761,32.350142,32.441422,32.342356,32.468366,32.468456,32.472548,32.333711,32.354401,32.275107,32.467815,32.295303,32.212947,32.298414,32.479607,32.330365,32.444937,32.468488,32.468663,32.330368,32.469164,32.465432,32.330542,32.339499,32.346519,32.332931,32.350271,32.290895,32.224182,32.284922,32.348115,32.329686,32.480482,32.348191,32.471745,32.229421,32.262206,32.470886,32.270111,32.340837,32.257053,32.347382,32.244512,32.292301,32.348715,32.298864,32.329107,32.316525,32.343648,32.343897,32.471535,32.354498,32.462969,32.269934,32.367553,32.243765,32.253116,32.461571,32.295751,32.279066,32.328108,32.467996,32.257399,32.326003,32.270944,32.462181,32.316392,32.352107,32.466866,32.406646,32.231948,32.459643,32.296773,32.254475,32.326842,32.313133,32.285893,32.242314,32.346514,32.332366,32.326273,32.482415,32.302219,32.332805,32.464916,32.346884,32.309111,32.461126,32.465879,32.456128,32.406059,32.298321,32.470512,32.327363,32.449669,32.470534,32.468721,32.308898,32.339712,32.478547,32.468078,32.327303,32.408704,32.294902,32.316408,32.464027,32.342333,32.338693,32.467894,32.287732,32.288536,32.291584,32.307464,32.320262,32.348027,32.248444,32.320256,32.329365,32.295108,32.270072,32.319277,32.289333,32.329365,32.217557,32.339087,32.316868,32.323796,32.451926,32.456563,32.232097,32.467905,32.340535,32.464086,32.345889,32.241059,32.324198,32.289338,32.473121,32.256085,32.337931,32.336725,32.332178,32.286886,32.338693,32.340587,32.407569,32.468487,32.293439,32.338696,32.319429,32.323887,32.349502,32.463093,32.295762,32.462487,32.482189,32.455826,32.471382,32.337936,32.262884,32.460019,32.469548,32.343482,32.292136,32.326433,32.464902,32.238176,32.469423,32.455309,32.359005,32.341534,32.404598,32.347119,32.289142,32.468828,32.323537,32.468694,32.316522,32.242829,32.322049,32.470705,32.298323,32.331485,32.332501,32.276485,32.467754,32.334833,32.348593,32.320396,32.302272,32.400682,32.329763,32.321968,32.349731,32.254056,32.220585,32.390448,32.300503,32.320051,32.316324,32.461881,32.467823,32.328491,32.466246,32.230185,32.244107,32.254868,32.323772,32.356862,32.326515,32.460529,32.308202,32.341935,32.322961,32.343458,32.339207,32.346687,32.318022,32.333403,32.340218,32.340483,32.403148,32.425905,32.332842,32.318644,32.323796,32.267463,32.288745,32.349845,32.325242,32.341403,32.288075,32.305673,32.255586,32.465221,32.340226,32.384379,32.310359,32.320825,32.344923,32.340569,32.325449,32.333163,32.482187,32.341405,32.291517,32.299075,32.300646,32.289147,32.332135,32.288939,32.301257,32.318568,32.241045,32.467491,32.224596,32.246043,32.315217,32.397247,32.296442,32.468677,32.470398,32.303578,32.338045,32.326569,32.392248,32.456936,32.471061,32.464467,32.328238,32.323689,32.348562,32.343649,32.229771,32.281014,32.348404,32.294196,32.285494,32.337736,32.322255,32.477745,32.333109,32.344265,32.302371,32.335375,32.413654,32.294634,32.457233,32.339695,32.291586,32.340916,32.258733,32.369437,32.294131,32.351106,32.326819,32.318299,32.267699,32.297341,32.469199,32.239387,32.400046,32.307983,32.216347,32.333345,32.311177,32.335543,32.281855,32.288808,32.397863,32.329807,32.460423,32.328378,32.342229,32.340117,32.318579,32.388981,32.465632,32.455775,32.460133,32.462699,32.288652,32.471811,32.332428,32.340674,32.478364,32.339167,32.315717,32.422274,32.308033,32.261955,32.294623,32.284404,32.259169,32.345339,32.288803,32.305601,32.320945,32.324793,32.460426,32.290754,32.301992,32.297185,32.470309,32.312281,32.471093,32.342168,32.257089,32.463318,32.340913,32.406416,32.285449,32.314937,32.329606,32.323695,32.469788,32.324663,32.465294,32.330197,32.335791,32.298723,32.469749,32.460785,32.311163,32.345433,32.242099,32.338808,32.320785,32.224589,32.253627,32.334517,32.316816,32.291525,32.298931,32.285663,32.461466,32.322215,32.300914,32.457189,32.323939,32.340119,32.313499,32.325927,32.333325,32.340981,32.331783,32.409208,32.340671,32.313503,32.231485,32.339312,32.291505,32.291454,32.349524,32.463557,32.294956,32.339066,32.321376,32.241947,32.460803,32.326881,32.343817,32.301177,32.300872,32.286954,32.304246,32.434271,32.328514,32.457059,32.398966,32.349497,32.342072,32.270978,32.314073,32.471522,32.469209,32.333035,32.343722,32.286166,32.422575,32.399464,32.460746,32.329545,32.280622,32.320771,32.266454,32.338577,32.408004,32.468505,32.549264,32.263257,32.300064,32.324658,32.321661,32.301099,32.338549,32.346691,32.337812,32.312638,32.255588,32.296765,32.242845,32.332692,32.243662,32.266686,32.327266,32.291514,32.326457,32.394952,32.300806,32.338214,32.308522,32.310752,32.324348,32.327368,32.302659,32.459547,32.459609,32.342365,32.332391,32.332164,32.382969,32.294609,32.318603,32.306449,32.340649,32.215515,32.325541,32.393846,32.460562,32.343288,32.462802,32.472631,32.370787,32.459021,32.459387,32.342219,32.285927,32.256525,32.150912,32.338549,32.333899,32.338822,32.306773,32.314963,32.243724,32.304243,32.236348,32.278101,32.335237,32.350903,32.317722,32.316853,32.474047,32.321185,32.461011,32.284422,32.224432,32.263208,32.329929,32.411687,32.326191,32.466766,32.303718,32.243494,32.415574,32.462871,32.460571,32.464426,32.346324,32.316842,32.404524,32.345713,32.288646,32.409208,32.463693,32.322167,32.292524,32.276643,32.223156,32.461848,32.324043,32.323168,32.480044,32.338396,32.297649,32.342669,32.261952,32.230184,32.326148,32.257695,32.327888,32.258158,32.226357,32.335184,32.469016,32.341104,32.408755,32.442192,32.324159,32.460448,32.220068,32.383653,32.468321,32.294483,32.316401,32.241655,32.338546,32.288342,32.475395,32.326569,32.324449,32.283352,32.340862,32.288038,32.243477,32.272471,32.323065,32.325094,32.320233,32.399467,32.323863,32.326648,32.326447,32.300085,32.309581,32.348405,32.325063,32.302645,32.234968,32.552638,32.298738,32.469679,32.548944,32.468095,32.222046,32.321171,32.282552,32.458392,32.329512,32.264746,32.459985,32.346323,32.454803,32.330298,32.332941,32.430785,32.468434,32.274048,32.264041,32.232014,32.325851,32.243699,32.326714,32.343905,32.328019,32.224724,32.436711,32.341037,32.471469,32.388165,32.292974,32.257678,32.297897,32.480412,32.319938,32.316856,32.243375,32.257852,32.459969,32.303759,32.399695,32.453832,32.321176,32.329797,32.285755,32.280307,32.309645,32.350235,32.316516,32.222384,32.327284,32.298518,32.465389,32.300589,32.299923,32.384054,32.288808,32.297185,32.296109,32.318407,32.541891,32.386411,32.316325,32.300928,32.330391,32.531198,32.238608,32.271099,32.217472,32.327427,32.301698,32.263665,32.304243,32.309435,32.318266,32.224417,32.305543,32.265015,32.303489,32.314752,32.457334,32.324523,32.317174,32.304177,32.256968,32.218034,32.301699,32.547756,32.234493,32.327289,32.326181,32.304568,32.297893,32.328057,32.365282,32.258951,32.309846,32.459144,32.401924,32.334921,32.456733,32.326442,32.466227,32.302396,32.329862,32.295924,32.281519,32.544125,32.346355,32.307038,32.342084,32.296673,32.315589,32.388165,32.314073,32.303483,32.468029,32.324027,32.325502,32.341374,32.305383,32.320999,32.266151,32.338845,32.217427,32.469427,32.458298,32.326257,32.259891,32.449451,32.407455,32.290768,32.458936,32.445135,32.228471,32.428607,32.325249,32.539969,32.459125,32.438994,32.315838,32.243327,32.328496,32.338081,32.307184,32.261,32.297727,32.213763,32.327665,32.283264,32.460803,32.316558,32.545082,32.338206,32.462755,32.379258,32.295721,32.335337,32.465086,32.324902,32.289355,32.298942,32.288123,32.320051,32.273198,32.316834,32.300581,32.256276,32.345455,32.458501,32.298522,32.321252,32.343904,32.222797,32.326049,32.344195,32.296177,32.303781,32.317626,32.297621,32.283997,32.249803,32.334802,32.441395,32.295336,32.339772,32.469678,32.406549,32.303401,32.289181,32.296348,32.329164,32.459227,32.410392,32.329214,32.334909,32.462819,32.236357,32.409754,32.309334,32.477691,32.316806,32.539969,32.290273,32.300632,32.332406,32.394298,32.352607,32.320044,32.468404,32.340228,32.247087,32.333621,32.312091,32.385385,32.332934,32.260393,32.329518,32.322462,32.297649,32.457836,32.467962,32.332765,32.325372,32.350102,32.272779,32.340304,32.316325,32.230226,32.321795,32.318447,32.289026,32.291784,32.288657,32.335651,32.456662,32.294528,32.387182,32.282773,32.269328,32.270543,32.296056,32.294908,32.294063,32.551631,32.427515,32.410705,32.329549,32.541596,32.321129,32.215268,32.455799,32.260106,32.323445,32.300868,32.458872,32.327281,32.461084,32.291094,32.289789,32.292889,32.464198,32.338963,32.382266,32.459885,32.452143,32.304181,32.296297,32.299149,32.410758,32.271945,32.309845,32.281433,32.313474,32.402827,32.305967,32.312599,32.470477,32.198053,32.328277,32.388587,32.334058,32.282774,32.408074,32.327402,32.461137,32.461357,32.263026,32.291094,32.439145,32.287171,32.399467,32.323777,32.321129,32.428446,32.332088,32.546498,32.322462,32.320352,32.330453,32.240927,32.284625,32.311712,32.275911,32.297736,32.267038,32.381478,32.432665,32.317912,32.458365,32.322468,32.291142,32.404218,32.465643,32.284981,32.322254,32.258628,32.316274,32.299906,32.400292,32.259169,32.322463,32.450473,32.322009,32.300525,32.321461,32.246844,32.311411,32.215905,32.586806,32.313902,32.434537,32.433143,32.458761,32.325539,32.323762,32.321913,32.296615,32.399397,32.458872,32.283996,32.385036,32.274444,32.426093,32.469747,32.390647,32.258712,32.262664,32.292552,32.337815,32.302594,32.236956,32.297576,32.295763,32.224493,32.290647,32.317543,32.335583,32.228439,32.304119,32.422279,32.327308,32.279941,32.296532,32.294905,32.227199,32.434548,32.335447,32.315266,32.323448,32.246575,32.416818,32.544862,32.293293,32.306015,32.293079,32.288617,32.288307,32.296048,32.327174,32.346373,32.296529,32.459622,32.326666,32.317203,32.289028,32.303983,32.325539,32.106516,32.338445,32.396889,32.282656,32.552031,32.479253,32.433075,32.320776,32.258721,32.321467,32.332763,32.225597,32.294134,32.311675,32.459605,32.316971,32.268533,32.305535,32.458419,32.172707,32.248174,32.321575,32.311985,32.163255,32.331293,32.299422,32.283541,32.330931,32.427377,32.451503,32.341442,32.313563,32.285271,32.443022,32.462145,32.256525,32.231175,32.463918,32.529879,32.318443,32.246827,32.289582,32.268572,32.277765,32.463623,32.230184,32.314805,32.425084,32.245306,32.435648,32.235241,32.544615,32.248694,32.395684,32.303289,32.233632,32.459429,32.315266,32.299728,32.319842,32.257938,32.326009,32.437291,32.321354,32.320048,32.302594,32.300747,32.459098,32.283931,32.319662,32.333236,32.286772,32.381802,32.304482,32.316746,32.326195,32.275961,32.315071,32.300936,32.251736,32.317994,32.306061,32.322104,32.342536,32.288142,32.320424,32.336627,32.319941,32.411172,32.553876,32.305897,32.313996,32.460397,32.323698,32.260026,32.310391,32.259228,32.319246,32.269046,32.325673,32.321001,32.428448,32.464199,32.434005,32.224429,32.456307,32.345031,32.587383,32.431599,32.298839,32.303142,32.433397,32.464579,32.322269,32.387155,32.469926,32.288496,32.292153,32.282656,32.440738,32.463594,32.335504,32.266284,32.551629,32.426978,32.409852,32.450052,32.403447,32.448583,32.462394,32.288869,32.548969,32.304691,32.310992,32.297013,32.285532,32.264667,32.331508,32.463355,32.297649,32.302722,32.244602,32.296951,32.324762,32.304076,32.398805,32.279623,32.384667,32.283071,32.291838,32.323397,32.218231,32.329645,32.440559,32.266205,32.334972,32.463473,32.409382,32.441363,32.311996,32.253084,32.268453,32.312646,32.415886,32.426442,32.296326,32.218024,32.456304,32.305571,32.339592,32.464518,32.459894,32.316659,32.439532,32.210876,32.245838,32.327303,32.331756,32.387732,32.325057,32.319147,32.335054,32.308473,32.264502,32.240403,32.457639,32.289006,32.321176,32.326655,32.430552,32.293253,32.322487,32.350155,32.317178,32.333297,32.393248,32.327179,32.289059,32.287699,32.336334,32.435647,32.331452,32.324702,32.303148,32.306685,32.275781,32.320552,32.411168,32.318088,32.340671,32.311677,32.308487,32.292127,32.296712,32.329557,32.447069,32.317413,32.317301,32.288643,32.297535,32.310088,32.324675,32.343514,32.321437,32.342079,32.385623,32.337956,32.318863,32.332175,32.460239,32.292374,32.252314,32.285808,32.318272,32.303463,32.264788,32.325918,32.458948,32.276522,32.585789,32.406684,32.386786,32.322305,32.384399,32.335904,32.438862,32.324773,32.244928,32.458534,32.327055,32.215594,32.461073,32.341963,32.440848,32.282589,32.455877,32.247954,32.455391,32.329665,32.316468,32.291449,32.284311,32.291728,32.261332,32.403135,32.398618,32.309098,32.430123,32.407238,32.282655,32.229276,32.324446,32.341192,32.321247,32.301868,32.312717,32.291944,32.552304,32.290759,32.318567,32.426854,32.258719,32.327055,32.276223,32.316434,32.225487,32.458233,32.309407,32.443142,32.275387,32.338969,32.271991,32.286603,32.224494,32.321965,32.330801,32.308269,32.318863,32.239933,32.311754,32.329509,32.459691,32.341369,32.320144,32.428457,32.320921,32.325052,32.313038,32.283078,32.325904,32.329694,32.318776,32.316637,32.216996,32.298167,32.434202,32.240389,32.312651,32.224656,32.198959,32.463904,32.246575,32.234589,32.367171,32.227795,32.329228,32.330871,32.318292,32.347893,32.459797,32.449078,32.305552,32.314679,32.397095,32.296537,32.223405,32.460917,32.320484,32.266689,32.308352,32.217872,32.441611,32.459086,32.483251,32.319622,32.277149,32.396265,32.317604,32.246843,32.315793,32.283406,32.325713,32.431279,32.329473,32.223332,32.320894,32.545637,32.225816,32.440927,32.294196,32.291173,32.426872,32.316777,32.320327,32.310394,32.321064,32.247816,32.219447,32.316834,32.260596,32.319539,32.311504,32.545974,32.232013,32.426912,32.430247,32.283324,32.316454,32.456983,32.238183,32.382697,32.543627,32.324092,32.282655,32.451794,32.314912,32.425815,32.332996,32.332622,32.329726,32.315676,32.291497,32.218701,32.319229,32.273335,32.262861,32.389463,32.331318,32.460364,32.325057,32.463661,32.275177,32.271076,32.325369,32.224434,32.398421,32.219062,32.232134,32.274192,32.398648,32.552416,32.246575,32.329662,32.317611,32.293582,32.297206,32.277245,32.346882,32.255175,32.585884,32.589664,32.315365,32.439124,32.428877,32.464782,32.320549,32.415894,32.323897,32.463759,32.245465,32.544451,32.245448,32.409326,32.218946,32.437797,32.232543,32.299079,32.262376,32.450315,32.394764,32.314812,32.315192,32.355038,32.403253,32.217858,32.246917,32.255755,32.333043,32.303987,32.325481,32.461886,32.417571,32.462494,32.333205,32.320932,32.296104,32.301394,32.325918,32.317897,32.320571,32.329752,32.389144,32.543028,32.316681,32.262321,32.408856,32.298112,32.439354,32.253375,32.292156,32.287211,32.260216,32.439237,32.329149,32.245817,32.316001,32.406556,32.405875,32.459902,32.329107,32.351067,32.315101,32.322173,32.389173,32.431776,32.302582,32.252955,32.326752,32.396577,32.367381,32.387348,32.333067,32.303333,32.266742,32.297533,32.461086,32.288874,32.398978,32.248662,32.302846,32.427096,32.317907,32.438041,32.452002,32.404722,32.266042,32.165273,32.438031,32.460397,32.311242,32.551327,32.315963,32.218715,32.541537,32.426855,32.257351,32.229734,32.333865,32.458503,32.232915,32.303879,32.324106,32.328713,32.292825,32.304809,32.339762,32.283375,32.271939,32.282504,32.213279,32.324655,32.219868,32.291589,32.360568,32.445279,32.418523,32.326572,32.313966,32.293492,32.355424,32.459162,32.450086,32.334024,32.296916,32.254519,32.351798,32.314037,32.321424,32.312811,32.329197,32.457377,32.339011,32.319507,32.329362,32.307212,32.243626,32.332625,32.320281,32.299076,32.197196,32.307236,32.317445,32.229217,32.318286,32.215913,32.329521,32.263658,32.229947,32.333062,32.310113,32.300865,32.404952,32.342169,32.257453,32.231498,32.320008,32.393749,32.330337,32.553435,32.308537,32.460766,32.295003,32.291938,32.322273,32.371283,32.418971,32.213306,32.311211,32.337007,32.440344,32.459176,32.327014,32.318852,32.334919,32.218041,32.228872,32.384376,32.225411,32.405869,32.331873,32.392277,32.455938,32.441422,32.289098,32.354452,32.467526,32.242109,32.197544,32.199444,32.323828,32.299585,32.218056,32.548989,32.283493,32.257323,32.266585,32.230226,32.439729,32.318244,32.219797,32.428583,32.333796,32.285333,32.285288,32.321463,32.435876,32.263564,32.281667,32.248343,32.321464,32.265074,32.231769,32.271489,32.319958,32.427095,32.410569,32.283371,32.317214,32.461453,32.333061,32.296177,32.258101,32.331215,32.407756,32.279871,32.320413,32.303565,32.230221,32.323239,32.319152,32.323771,32.264024,32.303744,32.424622,32.407991,32.433649,32.333759,32.426005,32.284888,32.293354,32.240648,32.542177,32.404636,32.330337,32.455658,32.230196,32.459674,32.430753,32.429053,32.300224,32.216558,32.459063,32.336914,32.258122,32.433034,32.406022,32.293567,32.242475,32.263976,32.396675,32.415988,32.399744,32.410995,32.431665,32.457296,32.288935,32.328485,32.318294,32.272354,32.258096,32.316848,32.316451,32.375864,32.271938,32.320965,32.310066,32.297455,32.243,32.433287,32.298781,32.327795,32.227621,32.434775,32.284453,32.326155,32.346404,32.329442,32.408164,32.336878,32.459614,32.300244,32.458756,32.323459,32.404975,32.333999,32.320172,32.327324,32.237363,32.312117,32.331422,32.463824,32.397829,32.307957,32.266001,32.314397,32.216755,32.434706,32.336238,32.343443,32.432212,32.301059,32.398156,32.269381,32.216732,32.263196,32.332769,32.458962,32.413746,32.347495,32.400044,32.299793,32.285978,32.313941,32.170921,32.345028,32.334117,32.252215,32.432966,32.390461,32.298,32.338247,32.462947,32.285559,32.395708,32.333039,32.264812,32.316752,32.271487,32.307546,32.304519,32.321919,32.327469,32.300863,32.276881,32.314636,32.253627,32.429218,32.457977,32.338794,32.410944,32.327709,32.215124,32.241345,32.316498,32.219445,32.427242,32.290255,32.317129,32.469842,32.459061,32.305981,32.320341,32.322918,32.455792,32.426997,32.318908,32.404586,32.446781,32.333846,32.285697,32.263693,32.267052,32.231493,32.420011,32.460123,32.215612,32.340007,32.433783,32.460683,32.308684,32.315919,32.386588,32.304702,32.323571,32.320175,32.329011,32.457774,32.349215,32.429979,32.420983,31.980799,32.338742,32.229405,32.313466,32.408074,32.299064,32.449361,32.295361,32.417962,32.353534,32.365795,32.351066,32.280673,32.296885,32.229528,32.431398,32.304893,32.347051,32.220676,32.409793,32.385391,32.379477,32.308266,32.432018,32.319391,32.403837,32.409264,32.433748,32.347617,32.283858,32.339394,32.289071,32.301645,32.338123,32.257616,32.406554,32.268752,32.408859,32.415894,32.428733,32.442932,32.309378,32.458841,32.270122,32.314821,32.297331,32.156365,32.406551,32.457213,32.307067,32.309874,32.298991,32.354452,32.296713,32.451172,32.330131,32.453553,32.282272,32.304245,32.321064,32.286124,32.226024,32.432333,32.313344,32.245289,32.332343,32.312581,32.307982,32.291893,32.331769,32.412474,32.243477,32.312143,32.276082,32.263038,32.261654,32.460391,32.315976,32.415912,32.335268,32.346896,32.310405,32.408054,32.399009,32.312193,32.338704,32.323827,32.342562,32.319252,32.437033,32.325786,32.343457,32.332648,32.317219,32.224401,32.288877,32.298814,32.321461,32.238194,32.435222,32.430414,32.263892,32.304104,32.460667,32.322783,32.274562,32.253956,32.415428,32.297742,32.276566,32.329617,32.335645,32.319454,32.258989,32.312064,32.314808,32.429633,32.331705,32.320514,32.429541,32.219062,32.439088,32.265197,32.342756,32.459471,32.365834,32.331381,32.250633,32.324205,32.551346,32.398172,32.309556,32.305185,32.310463,32.321136,32.258285,32.334625,32.462074,32.459235,32.409235,32.424723,32.276958,32.311725,32.317815,32.231304,32.216912,32.325324,32.279477,32.434522,32.311857,32.350087,32.340956,32.295565,32.458646,32.334352,32.508066,32.290418,32.533073,32.382015,32.381265,32.270161,32.349299,32.312185,32.304457,32.231143,32.459268,32.333973,32.390461,32.351059,32.463875,32.304036,32.318249,32.305748,32.322481,32.316094,32.313392,32.285359,32.335498,32.310889,32.452015,32.316148,32.283423,32.264815,32.418444,32.252631,32.314304,32.402907,32.334317,32.437198,32.456609,32.311515,32.314506,32.294131,32.312206,32.547109,32.257126,32.236172,32.504862,32.207718,32.264497,32.265977,32.451575,32.449363,32.404905,32.462017,32.366205,32.453418,32.321179,32.460124,32.262833,32.458712,32.307577,32.317565,32.312417,32.286074,32.384134,32.333599,32.434806,32.232827,32.388238,32.292277,32.336545,32.325818,32.331442,32.259171,32.233638,32.324356,32.459123,32.390226,32.437058,32.404572,32.240494,32.320732,32.328612,32.246789,32.295495,32.320073,32.317563,32.302661,32.460254,32.359485,32.226885,32.303589,32.295153,32.466131,32.268583,32.435015,32.321613,32.399406,32.341818,32.402096,32.278647,32.293331,32.459473,32.167367,32.326338,32.257672,32.313543,32.307868,32.317521,32.379987,32.320718,32.250254,32.314527,32.339891,32.271746,32.314017,32.273197,32.319156,32.319924,32.455558,32.458758,32.317306,32.404975,32.218653,32.408054,32.320225,32.263274,32.319524,32.249037,32.433703,32.315967,32.317116,32.311515,32.322741,32.281683,32.415039,32.311996,32.457802,32.219053,32.580515,32.400624,32.324655,32.217393,32.455241,32.297024,32.264136,32.397709,32.264726,32.331956,32.433025,32.324652,32.311878,32.232809,32.231485,32.435167,32.429542,32.386437,32.318573,32.305681,32.214565,32.333103,32.440863,32.525477,32.246021,32.304656,32.318511,32.246364,32.546829,32.544165,32.334018,32.354557,32.300134,32.283436,32.399687,32.304277,32.255187,32.312817,32.543598,32.549337,32.275264,32.551761,32.240118,32.396521,32.384718,32.421979,32.248694,32.400995,32.327404,32.314929,32.402499,32.432018,32.346502,32.458965,32.218111,32.176249,32.346051,32.230803,32.332838,32.463786,32.316865,32.426147,32.330803,32.280685,32.276255,32.280541,32.322076,32.376745,32.234271,32.331905,32.411534,32.219343,32.299236,32.414807,32.426865,32.317981,32.309877,32.307961,32.421816,32.430832,32.301293,32.298054,32.313546,32.396575,32.312627,32.314079,32.218611,32.307153,32.408282,32.425829,32.243923,32.454045,32.289969,32.387639,32.263616,32.288302,32.316415,32.318449,32.429152,32.400149,32.330638,32.316301,32.324967,32.397914,32.433795,32.325646,32.449452,32.329512,32.336159,32.321309,32.278871,32.396093,32.441173,32.458792,32.351042,32.305799,32.285677,32.317996,32.424788,32.287964,32.303114,32.323073,32.225752,32.460696,32.288896,32.325586,32.396203,32.309627,32.314304,32.422568,32.300077,32.321818,32.468386,32.312089,32.314205,32.407049,32.286865,32.296657,32.313969,32.403329,32.330134,32.407459,32.302523,32.230383,32.232585,32.305981,32.296435,32.253304,32.309572,32.324264,32.437762,32.321658,32.324184,32.315269,32.317117,32.456467,32.324219,32.231509,32.311963,32.252682,32.280901,32.310484,32.317694,32.462608,32.326977,32.314349,32.216848,32.386003,32.330895,32.455463,32.263332,32.315607,32.253985,32.463124,32.437908,32.319146,32.170732,32.418519,32.312067,32.324236,32.332138,32.275998,32.437711,32.329627,32.314545,32.299584,32.215792,32.312069,32.322595,32.273997,32.331333,32.231991,32.396779,32.227995,32.278621,32.322253,32.398977,32.400348,32.252991,32.217219,32.459843,32.393656,32.251252,32.418444,32.215767,32.321089,32.332378,32.169466,32.533048,32.268352,32.329681,32.426553,32.272681,32.274458,32.163673,32.426101,32.295403,32.394126,32.396098,32.459014,32.254824,32.325024,32.407289,32.381589,32.301577,32.525489,32.420223,32.535873,32.242263,32.250546,32.311973,32.269323,32.331705,32.201797,32.232593,32.273628,32.326723,32.296798,32.311071,32.319138,32.272243,32.299854,32.271926,32.316521,32.330267,32.312168,32.210154,32.238146,32.420741,32.430909,32.456688,32.539699,32.390409,32.235187,32.281699,32.296709,32.322501,32.549506,32.310712,32.240344,32.338115,32.319479,32.340116,32.306036,32.443329,32.387199,32.250303,32.309662,32.415917,32.300098,32.218458,32.330616,32.320883,32.459727,32.328407,32.317073,32.327803,32.320068,32.256925,32.550826,32.332622,32.425736,32.301395,32.400219,32.276868,32.341858,32.323772,32.253704,32.269708,32.435012,32.303437,32.319786,32.317141,32.315438,32.285657,32.224572,32.315889,32.255169,32.431993,32.234887,32.278543,32.459276,32.329955,32.300365,32.321606,32.241681,32.247104,32.255118,32.385176,32.436411,32.399594,32.224657,32.331831,32.266772,32.525801,32.464942,32.313934,32.310003,32.280467,32.285283,32.325089,32.318378,32.271487,32.286012,32.248973,32.227611,32.434544,32.286012,32.315542,32.422703,32.255228,32.321722,32.391121,32.232536,32.402046,32.327211,32.283427,32.284401,32.294493,32.255674,32.457361,32.304861,32.300922,32.434134,32.309874,32.329552,32.276846,32.401573,32.324668,32.397157,32.347445,32.461711,32.317895,32.317692,32.531726,32.320211,32.294651,32.279915,32.230179,32.305709,32.307409,32.405546,32.456308,32.282774,32.429212,32.334994,32.235002,32.425361,32.240921,32.594392,32.390165,32.218674,32.337048,32.304812,32.290064,32.309793,32.425732,32.275548,32.320613,32.322406,32.358455,32.309564,32.431269,32.305334,32.297917,32.279032,32.321263,32.317466,32.321579,32.264544,32.381756,32.418523,32.447839,32.445952,32.278775,32.304709,32.311036,32.330832,32.221584,32.280909,32.304499,32.464444,32.203015,32.414879,32.245604,32.245739,32.275391,32.262621,32.252965,32.286206,32.260711,32.297846,32.532331,32.309891,32.434449,32.266545,32.388238,32.333228,32.324874,32.456688,32.316671,32.226337,32.384138,32.331477,32.279504,32.260318,32.579814,32.277288,32.299629,32.263059,32.305607,32.333675,32.330931,32.259207,32.421022,32.353285,32.386887,32.342093,32.333201,32.387383,32.279138,32.288612,32.458762,32.236264,32.282049,32.226748,32.255749,32.290771,32.168669,32.520795,32.307071,32.459339,32.431327,32.406236,32.289938,32.299204,32.455582,32.402064,32.342562,32.318354,32.426951,32.315799,32.239385,32.382936,32.402216,32.409259,32.315092,32.407169,32.554471,32.228887,32.431904,32.262718,32.293822,32.278889,32.290675,32.219681,32.259272,32.432065,32.454015,32.274561,32.463817,32.315137,32.417516,32.272646,32.253337,32.288356,32.335701,32.405228,32.212681,32.255876,32.397931,32.319082,32.223126,32.324418,32.431314,32.274572,32.327461,32.296191,32.310983,32.322955,32.251801,32.258781,32.318075,32.327922,32.313716,32.228173,32.320214,32.320554,32.550628,32.320316,32.285193,32.292901,32.211252,32.542487,32.454791,32.297483,32.314928,32.245449,32.309303,32.433078,32.253051,32.317113,32.263928,32.300924,32.328649,32.314529,32.315208,32.295873,32.316795,32.210872,32.290874,32.332054,32.311602,32.259321,32.318308,32.311535,32.219732,32.225807,32.309555,32.190163,32.274796,32.285265,32.581237,32.227848,32.413868,32.223408,32.261668,32.324945,32.305281,32.240931,32.303547,32.529788,32.321551,32.278264,32.274231,32.293326,32.243091,32.424962,32.463557,32.245176,32.315834,32.329855,32.236412,32.297873,32.308089,32.464256,32.466259,32.287478,32.396369,32.414912,32.460701,32.310963,32.464449,32.298693,32.318274,32.301302,32.515127,32.243851,32.124578,32.429582,32.282105,32.322339,32.321968,32.250559,32.418069,32.318995,32.553719,32.317297,32.233581,32.233652,32.305627,32.294103,32.315694,32.231368,32.325175,32.322412,32.405782,32.315641,32.383408,32.325147,32.228757,32.273277,32.434455,32.426125,32.305373,32.292655,32.285803,32.323076,32.406549,32.550581,32.294131,32.408327,32.325386,32.253344,32.283468,32.458438,32.251429,32.409748,32.303147,32.463554,32.319831,32.202751,32.305909,32.585935,32.310981,32.296932,32.316693,32.314942,32.333052,32.296554,32.298976,32.310544,32.469242,32.446887,32.447468,32.360031,32.318568,32.334133,32.399915,32.323614,32.300545,32.223669,32.288707,32.382631,32.382612,32.313265,32.331515,32.385174,32.464002,32.295401,32.547345,32.232117,32.327917,32.532942,32.421652,32.231322,32.290619,32.345374,32.230921,32.461177,32.387779,32.224007,32.324874,32.212772,32.384973,32.330616,32.413297,32.314622,32.395847,32.299312,32.230615,32.391269,32.407184,32.463822,32.433313,32.257545,32.303221,32.407183,32.548693,32.260233,32.242029,32.198765,32.330174,32.320017,32.262549,32.404249,32.457253,32.290608,32.330281,32.414913,32.243554,32.434091,32.325969,32.385129,32.288339,32.280654,32.408208,32.447557,32.393372,32.346711,32.393728,32.426986,32.246389,32.428686,32.278021,32.321643,32.295054,32.311127,32.314355,32.308611,32.330011,32.322485,32.302979,32.208798,32.252851,32.398304,32.304589,32.278246,32.312531,32.444616,32.304747,32.457821,32.314928,32.254471,32.530478,32.331453,32.541808,32.439254,32.306367,32.315688,32.334303,32.273606,32.309908,32.313062,32.251469,32.290385,32.243574,32.300891,32.435778,32.401662,32.412287,32.332234,32.280796,32.341548,31.971741,32.401959,32.287115,32.522267,32.533425,32.314506,32.322799,32.435763,32.385289,32.159905,32.330818,32.261347,32.587407,32.324345,32.339015,32.309578,32.264646,32.319799,32.285645,32.389474,32.253815,32.252989,32.324652,32.399661,32.321087,32.324322,32.406547,32.323922,32.247054,32.418259,32.298516,32.319817,32.435152,32.437994,32.296429,32.387467,32.318438,32.328626,32.299331,32.325176,32.416226,32.394852,32.185389,32.311346,32.247071,32.286944,32.432527,32.120572,32.256887,32.584574,32.312553,32.312004,32.580804,32.259532,32.228448,32.319066,32.462983,32.336238,32.380913,32.424944,32.457265,32.329884,32.255217,32.216566,32.546374,32.517285,32.275278,32.419499,32.299011,32.407541,32.330635,32.239376,32.304221,32.315652,32.429245,32.250227,32.416179,32.215519,32.311847,32.437787,32.583858,32.234437,32.382635,32.515119,32.310598,32.230743,32.318922,32.298972,32.320748,32.230517,32.276262,32.552132,32.336069,32.314527,32.419438,32.240342,32.246794,32.222408,32.322496,32.387752,32.198482,32.310475,32.170926,32.300617,32.538245,32.384515,32.294086,32.275222,32.275261,32.308625,32.326256,32.336883,32.297721,32.425591,32.319105,32.313966,32.335082,32.252701,32.320107,32.324758,32.314017,32.319951,32.316771,32.311079,32.233103,32.323465,32.417093,32.328159,32.305228,32.316423,32.327486,32.263938,32.333582,32.314078,32.277976,32.119495,32.167513,32.311892,32.440173,32.332834,32.315649,32.289954,32.295679,32.232718,32.395892,32.314695,32.303449,32.594412,32.325029,32.406742,32.256107,32.343511,32.429031,32.328649,32.245865,32.538818,32.458454,32.417676,32.307094,32.262166,32.283338,32.326712,32.334463,32.386384,32.292614,32.267546,32.412283,32.352375,32.325463,32.464305,32.331572,32.280369,32.299612,32.273159,32.539054,32.315942,32.320915,32.262244,32.227542,32.321646,32.342394,32.267488,32.330537,32.259137,32.330616,32.276486,32.403838,32.228931,32.288339,32.289535,32.293912,32.312489,32.520816,32.227265,32.353499,32.254057,32.246239,32.535781,32.455218,32.346048,32.412746,32.388109,32.461525,32.309407,32.405701,32.392369,32.317171,32.223356,32.326575,32.275247,32.413719,32.219192,32.319135,32.325376,32.342212,32.258279,32.304738,32.227275,32.302767,32.301344,32.307119,32.454766,32.264696,32.535805,32.285927,32.303728,32.530481,32.311147,32.396262,32.310665,32.217852,32.414932,32.280437,32.248348,32.386603,32.333202,32.456645,32.464474,32.291659,32.276859,32.294519,32.276769,32.320058,32.304581,32.224943,32.227288,32.289098,32.217621,32.275247,32.232115,32.286808,32.437362,32.295783,32.320774,32.372993,32.122867,32.280441,32.274257,32.253934,32.437179,32.306765,32.281945,32.334862,32.315731,32.292578,32.453227,32.425855,32.269359,32.447012,32.434762,32.425717,32.214242,32.328179,32.588021,32.289842,32.542276,32.390129,32.515022,32.320312,32.292355,32.352719,32.315064,32.290847,32.330537,32.383992,32.305266,32.436194,32.396251,32.431995,32.232588,32.580803,32.331952,32.217178,32.308628,32.308512,32.291795,32.315556,32.434486,32.261698,32.431964,32.329987,32.313769,32.298673,32.454017,32.272886,32.515987,32.309916,32.247349,32.310819,32.437661,32.398152,32.252516,32.247492,32.279308,32.302174,32.370128,32.305712,32.324726,32.321393,32.391455,32.184365,32.425264,32.430109,32.285207,32.520499,32.406547,32.429903,32.223664,32.265255,32.426201,32.318216,32.404845,32.287239,32.417471,32.314217,32.333787,32.325131,32.153709,32.349957,32.309449,32.441713,32.515766,32.326803,32.520079,32.318918,32.459629,32.306467,32.426997,32.387369,32.408645,32.276859,32.456218,32.217592,32.300162,32.264011,32.167625,32.229778,32.256951,32.299951,32.318702,32.252868,32.248171,32.392815,32.245243,32.332752,32.247898,32.460752,32.387653,32.311971,32.436369,32.321655,32.426869,32.330599,32.283029,32.320876,32.376294,32.254379,32.312683,32.316663,32.232371,32.252744,32.324496,32.391332,32.316757,32.293608,32.292368,32.449748,32.320715,32.310096,32.426054,32.367888,32.301718,32.254182,32.416775,32.416173,32.211754,32.375954,32.184368,32.317757,32.537643,32.250695,32.296115,32.293135,32.323676,32.313098,32.272512,32.218144,32.432499,32.325986,32.263537,32.333999,32.292703,32.433313,32.225752,32.265335,32.321209,32.255904,32.263679,32.550528,32.272119,32.295166,32.217593,32.333668,32.312516,32.537726,32.321674,32.358759,32.275621,32.333211,32.545264,32.468905,32.277791,32.437783,32.262909,32.539651,32.217593,32.300857,32.294714,32.426893,32.218848,32.287197,32.444615,32.436738,32.298975,32.244158,32.244079,32.320392,32.322797,32.522477,32.331511,32.260724,32.365791,32.349293,32.270439,32.329179,32.417963,32.253465,32.262237,32.333171,32.225952,32.305584,32.219343,32.285254,32.197769,32.249229,32.305175,32.260004,32.428438,32.382643,32.258494,32.235166,32.332582,32.282899,32.457296,32.417042,32.280192,32.314656,32.278624,32.329523,32.529034,32.343137,32.607905,32.432778,32.436684,32.299459,32.244449,32.333579,32.400435,32.339713,32.288013,32.166629,32.307065,32.281688,32.322266,32.318525,32.325606,32.320445,32.338116,32.317155,32.294407,32.181148,32.316527,32.536008,32.317116,32.435298,32.317175,32.325089,32.515303,32.299329,32.198532,32.384821,32.348978,32.306199,32.264871,32.224753,32.384514,32.315889,32.304496,32.314732,32.297143,32.325477,32.240442,32.239947,32.213907,32.314103,32.264654,32.277008,32.444798,32.332985,32.291182,32.263461,32.320625,32.226495,32.321666,32.421307,32.311684,32.208847,32.272649,32.277521,32.319105,32.319877,32.290601,32.338934,32.264794,32.316124,32.431258,32.240398,32.319957,32.309736,32.315277,32.293025,32.238214,32.262206,32.447311,32.223477,32.218193,32.309842,32.454749,32.322515,32.405023,32.323659,32.293568,32.285778,32.258296,32.456712,32.221823,32.284633,32.316573,32.430283,32.315596,32.446325,32.468527,32.166658,32.446939,32.407739,32.319878,32.513671,32.385621,32.450588,32.435012,32.408844,32.333743,32.244763,32.437331,32.229731,32.244034,32.420945,32.328581,32.323715,32.277437,32.264142,32.262987,32.265265,32.264286,32.503962,32.301533,32.554477,32.330885,32.437403,32.529003,32.418689,32.456955,32.320915,32.464319,32.317349,32.465853,32.465819,32.266742,32.260132,32.145539,32.305714,32.371451,32.296092,32.277973,32.412281,32.325839,32.288088,32.386294,32.330328,32.544628,32.288382,32.333584,32.413739,32.328485,32.328061,32.244286,32.321761,32.319076,32.331043,32.329485,32.242066,32.404235,32.387779,32.585102,32.252949,32.276435,32.434828,32.434883,32.394661,32.586511,32.258795,32.302083,32.325834,32.288927,32.468775,32.409312,32.420231,32.278672,32.451048,32.534377,32.260253,32.584389,32.455813,32.322464,32.138784,32.435518,32.453815,32.235121,32.376686,32.546813,32.242981,32.230035,32.260832,32.261055,32.253351,32.546512,32.277189,32.309345,32.283039,32.405966,32.228009,32.455967,32.550382,32.277922,32.289055,32.325761,32.289378,32.323406,32.283321,32.381589,32.254081,32.286358,32.302157,32.314056,32.265647,32.363504,32.230629,32.292671,32.426873,32.414633,31.970713,32.313175,32.319833,32.294449,32.434547,32.399679,32.387787,32.374518,32.446443,32.452166,32.261082,32.456366,32.248935,32.290851,32.236174,32.406283,32.308526,32.433011,32.415197,32.297818,32.437675,32.313423,32.316896,32.324908,32.383574,32.229396,32.391962,32.299293,32.433596,32.277831,32.250909,32.323549,32.386794,32.239381,32.328541,32.250576,32.435209,32.337587,32.336893,32.226699,32.210029,32.432167,32.434996,32.295175,32.535536,32.320664,32.317832,32.246485,32.314135,32.315145,32.313136,32.286659,32.279488,32.434258,32.298717,32.328083,32.316513,32.244304,32.465159,32.445949,32.431627,32.310198,32.279615,32.462823,32.456958,32.458486,32.407753,32.444913,32.537032,32.443188,32.231369,32.342162,32.416987,32.436276,32.260135,32.218026,32.418061,32.271219,32.322094,32.311098,32.587835,32.434458,32.453282,32.317884,32.265265,32.319837,32.312019,32.304127,32.251556,32.297874,32.459946,32.202759,32.272865,32.539051,32.234904,32.233342,32.332155,32.391457,32.307664,32.303137,32.430563,32.226886,32.218649,32.329991,32.329059,32.464554,32.219063,32.311535,32.422694,32.303503,32.550444,32.312666,32.454438,32.233179,32.437365,32.335199,32.244746,32.314901,32.270314,32.218024,32.303826,32.289805,32.277822,32.172671,32.319589,32.314483,32.409412,32.224069,32.328694,32.463032,32.302656,32.324765,32.321523,32.198514,32.290886,32.309632,32.166006,32.441653,32.326126,32.316418,32.436847,32.383195,32.432898,32.310712,32.431406,32.515669,32.286816,32.328239,32.310796,32.437984,32.255052,32.293813,32.298889,32.228491,32.322744,32.549629,32.404221,32.219053,32.280578,32.383,32.252567,32.596316,32.530875,32.328003,32.289825,32.306241,32.224975,32.433145,32.264473,32.532536,32.383294,32.262655,32.315758,32.350423,32.408405,32.242998,32.467011,32.289059,32.403349,32.430286,32.412534,32.306472,32.307646,32.317496,32.316373,32.296871],\"legendgroup\":\"\",\"lon\":[-110.813768,-110.883315,-110.861002,-110.912156,-110.918294,-111.049837,-110.883068,-110.883252,-110.843588,-110.942458,-110.837572,-110.883065,-110.848679,-110.918097,-110.933703,-110.809735,-110.922044,-110.883055,-111.039845,-110.910663,-110.858327,-110.913573,-110.945806,-110.915749,-110.937229,-110.843873,-111.096767,-110.885186,-110.931119,-110.951287,-110.969086,-111.096171,-110.860852,-110.842141,-110.992676,-110.910653,-110.942588,-110.877379,-111.092958,-110.767568,-110.860305,-110.862142,-111.095814,-110.864694,-110.912989,-110.883315,-110.922363,-110.908631,-110.856406,-110.930531,-110.915343,-110.760047,-110.943375,-110.951287,-110.858992,-110.859528,-110.875675,-110.942071,-110.919685,-110.807964,-110.924898,-111.096949,-110.913585,-111.063488,-110.894648,-111.089977,-110.866463,-111.095519,-111.093751,-111.097132,-111.036562,-110.885186,-110.935902,-110.949807,-111.059749,-111.044736,-110.995365,-110.841828,-110.864627,-111.094521,-110.848033,-110.832822,-111.001545,-111.061767,-110.917749,-110.838615,-110.844064,-111.097984,-111.093975,-111.094305,-110.859359,-111.070641,-110.946612,-110.917606,-111.046669,-110.848604,-110.948431,-110.843481,-111.053886,-110.927652,-111.061766,-110.944077,-111.095519,-111.086475,-110.839258,-110.912566,-110.943145,-111.034883,-110.915078,-111.085879,-111.102623,-111.093659,-110.881172,-110.957357,-110.842117,-111.086385,-110.917949,-110.971896,-110.844983,-111.053614,-110.864255,-111.043019,-111.101588,-111.101013,-110.864255,-111.102513,-110.993147,-110.877432,-110.928038,-110.949729,-110.915818,-110.946791,-110.921711,-110.922995,-110.919982,-110.941131,-110.845797,-111.047851,-110.946908,-111.094924,-110.942252,-110.862571,-111.096117,-110.723003,-110.930795,-110.852195,-110.945895,-110.934183,-110.912096,-110.939422,-110.931254,-110.839622,-110.923607,-110.945216,-110.942054,-111.095236,-110.955983,-110.984149,-110.719318,-111.028678,-110.694079,-110.807227,-110.992897,-110.926187,-110.718155,-110.889886,-111.095457,-110.695649,-110.879625,-110.812082,-110.993478,-110.837233,-110.957469,-111.089967,-110.977268,-110.962835,-111.069452,-110.810358,-110.855722,-110.844774,-110.921821,-110.813046,-110.713188,-110.949772,-110.864627,-110.837584,-111.047365,-110.929841,-110.886057,-111.062039,-110.951711,-110.919764,-110.987649,-111.090117,-111.060142,-110.962442,-110.910212,-111.099946,-110.930739,-111.020029,-111.095514,-111.094521,-110.917927,-110.921844,-111.051445,-111.003401,-110.866368,-111.031257,-110.882798,-110.837258,-111.065736,-110.923425,-110.942869,-110.964823,-110.919413,-110.911923,-110.889424,-110.928844,-110.841302,-110.948444,-110.719989,-110.841289,-110.843429,-110.928352,-110.713003,-110.848041,-110.930187,-110.843429,-110.920185,-110.936519,-110.871663,-110.878834,-110.997565,-110.994816,-110.939796,-111.007412,-110.937852,-111.065225,-110.945522,-110.714722,-110.837246,-110.930185,-111.059255,-110.852876,-110.943732,-110.911566,-110.862068,-110.811569,-110.942869,-110.920258,-110.976918,-111.101591,-110.920322,-110.942869,-110.826892,-111.093093,-110.947995,-111.062198,-110.926211,-110.971853,-111.053208,-110.993815,-110.995869,-110.943727,-110.859527,-110.993658,-111.100125,-110.929391,-110.921223,-110.846659,-111.085082,-110.748185,-111.087998,-110.994178,-111.027725,-110.926847,-110.990831,-110.942288,-110.913487,-111.100762,-110.835801,-111.063355,-110.923607,-110.938327,-110.849011,-111.101549,-110.927625,-110.959995,-110.868335,-110.810603,-111.090091,-110.928949,-110.942544,-110.826959,-110.843617,-110.991913,-110.883547,-110.866891,-110.933898,-110.851873,-110.924423,-110.946336,-110.885836,-110.827675,-110.868487,-111.066378,-111.000439,-110.930159,-110.961743,-110.940744,-110.941806,-110.806103,-110.876151,-111.027855,-110.855813,-110.973498,-111.104033,-110.923316,-110.864672,-110.941439,-110.923228,-110.944834,-110.859923,-110.876201,-110.921843,-110.924917,-110.975759,-110.979521,-110.899343,-110.848617,-110.878835,-110.718328,-110.931083,-110.943728,-110.845365,-110.942158,-111.120831,-111.102084,-110.856803,-111.077999,-110.947058,-110.945324,-110.918693,-110.827672,-110.948133,-110.939505,-110.865779,-110.910626,-111.045841,-110.942159,-110.890353,-110.917248,-110.844303,-110.913485,-110.892288,-110.920459,-110.917571,-110.928069,-110.714713,-111.008468,-111.040904,-110.717757,-110.925289,-111.024212,-110.921177,-111.011401,-110.993229,-110.884654,-110.941977,-110.861293,-111.025072,-111.058803,-110.961291,-111.064375,-110.977512,-110.852358,-110.944878,-110.940565,-110.743676,-110.821623,-110.937298,-110.925516,-110.823116,-110.920316,-110.849721,-111.054938,-110.897762,-110.951181,-110.908822,-110.915556,-111.026598,-110.925284,-110.996431,-110.936325,-110.889426,-110.946836,-110.735178,-111.028005,-110.910635,-110.952157,-110.888252,-110.825952,-110.717421,-110.922353,-111.100441,-110.938483,-110.989458,-110.928432,-110.964253,-110.898425,-110.921433,-110.880486,-110.832363,-110.915515,-110.941999,-110.888839,-110.990862,-110.877569,-110.920365,-110.943514,-110.841341,-110.946865,-111.101977,-111.002799,-110.978571,-111.063313,-110.824905,-110.960808,-110.859564,-110.922266,-111.055271,-110.939364,-110.925144,-110.932409,-110.921214,-110.871181,-110.925273,-110.821709,-110.859221,-110.932483,-110.927092,-110.920457,-110.837185,-110.871873,-110.990862,-110.913352,-110.910908,-110.923707,-111.003536,-110.921063,-111.011428,-110.942521,-110.859545,-111.102067,-110.946846,-110.988991,-111.117201,-110.922926,-110.885672,-110.852359,-110.962725,-110.834681,-110.962054,-110.878426,-110.877611,-110.929179,-110.960853,-111.062959,-110.920594,-110.951335,-111.113182,-110.939003,-110.902875,-111.040915,-110.799667,-110.904684,-110.925732,-110.889899,-110.753904,-110.904859,-110.991684,-110.904587,-110.918577,-110.993794,-110.834239,-110.941318,-110.830548,-110.846794,-110.890347,-110.943612,-110.863398,-110.976402,-110.958716,-110.830547,-110.940749,-110.925512,-110.890334,-110.910452,-110.942702,-110.967153,-110.914737,-110.939911,-110.867419,-110.943229,-110.974351,-110.935072,-110.948942,-110.935456,-110.912122,-110.918141,-110.925585,-111.015568,-110.838281,-111.056522,-110.992446,-110.947996,-110.922733,-110.733059,-110.923425,-111.065056,-111.100452,-110.936685,-110.944522,-110.915889,-111.020086,-110.948316,-110.989999,-110.908003,-110.826634,-110.837592,-110.887241,-110.943582,-111.032797,-110.992803,-110.856975,-110.870492,-110.843487,-110.835229,-110.867028,-110.909653,-110.939977,-110.942612,-110.923198,-110.849825,-110.856813,-110.923945,-110.938291,-110.918268,-110.939051,-111.065946,-110.947576,-110.914945,-110.868625,-110.966782,-110.949328,-110.926584,-110.921177,-111.082523,-110.890205,-110.868612,-110.739649,-110.989124,-110.992443,-110.926831,-110.877659,-110.897513,-110.948612,-110.910264,-110.864263,-110.915998,-110.936805,-110.918443,-110.840807,-110.945133,-110.969462,-110.929926,-110.993794,-110.962515,-110.961791,-110.997466,-111.010027,-110.920368,-110.914279,-111.074359,-110.752982,-110.939977,-110.882397,-110.942364,-110.768984,-110.952477,-110.938306,-110.925584,-110.730013,-110.880222,-110.878974,-110.955649,-110.837046,-110.833401,-110.961253,-110.833959,-111.060698,-110.898046,-110.921262,-110.860122,-110.842962,-111.026605,-110.871721,-110.961238,-110.771889,-110.939406,-111.026605,-110.967167,-110.969466,-111.086658,-110.934431,-110.833392,-110.988367,-110.952625,-110.927327,-110.976402,-110.994294,-110.833305,-110.726315,-110.809108,-110.922674,-110.966173,-110.861663,-110.843547,-111.056117,-110.944669,-110.920262,-110.931846,-110.871168,-110.940743,-110.845824,-110.856848,-110.876369,-110.734958,-110.936218,-110.931612,-111.008139,-110.921063,-111.031812,-111.011025,-110.860977,-110.988618,-110.749963,-110.982187,-110.962112,-110.914768,-110.838149,-111.069813,-110.939977,-110.927732,-110.986178,-110.861296,-110.859257,-110.915201,-110.940455,-110.943791,-110.941913,-110.702035,-110.831356,-110.926424,-110.868108,-110.948316,-110.861336,-110.869593,-110.901538,-110.932266,-110.924531,-110.950004,-110.861366,-110.927197,-110.728383,-110.856012,-110.813642,-111.100809,-110.858032,-111.089987,-110.749253,-110.833948,-110.825405,-111.093432,-111.104782,-110.814505,-110.969797,-110.934431,-110.994459,-110.827694,-110.865906,-110.976412,-110.963251,-110.766138,-111.103561,-110.966564,-110.876298,-110.939446,-110.861064,-110.948344,-110.829661,-110.941211,-111.062879,-110.941911,-111.094156,-110.945877,-110.921286,-110.859109,-110.923066,-111.050768,-110.905152,-110.834754,-110.938701,-110.734687,-110.968966,-110.878975,-110.942716,-110.954613,-110.858539,-110.876325,-110.907494,-110.838978,-110.917755,-110.958261,-110.908471,-110.922043,-110.860347,-110.916534,-110.990511,-110.909892,-110.927501,-110.947919,-110.915515,-110.923707,-110.938093,-110.9,-110.860677,-110.944672,-110.838669,-111.093793,-110.859326,-110.860908,-110.894127,-110.702877,-111.042229,-110.837141,-110.760057,-110.862148,-110.925584,-110.941081,-110.836231,-110.920837,-110.915611,-110.818426,-110.843569,-110.826711,-110.973705,-110.861483,-110.904422,-110.909017,-110.733877,-110.742846,-110.760058,-110.860218,-111.053151,-110.860361,-110.871711,-110.878203,-110.925262,-110.940295,-110.961438,-110.736241,-110.937434,-110.978364,-110.988264,-110.916513,-110.993567,-110.901557,-110.960951,-110.890012,-110.892358,-110.916717,-110.862841,-110.855203,-110.937699,-110.784488,-110.948044,-110.884919,-110.868515,-110.945878,-110.923425,-110.843571,-111.010677,-110.835006,-110.838018,-110.922724,-110.938208,-110.906701,-110.717321,-110.946517,-110.921806,-111.087998,-111.095096,-110.881824,-110.849307,-110.984937,-110.973933,-110.745519,-110.977983,-111.001746,-110.921369,-110.978051,-110.861891,-110.858623,-110.972833,-111.056028,-110.940422,-110.939027,-110.906649,-110.947392,-110.927569,-110.822304,-110.924224,-110.973883,-110.885815,-110.830479,-111.068018,-110.833364,-110.857065,-110.938469,-110.984845,-110.983998,-110.936905,-110.944135,-110.985785,-110.888953,-110.864019,-110.753906,-110.822402,-110.880066,-110.886289,-110.838161,-110.761894,-110.851959,-110.931923,-111.069229,-110.916547,-110.902589,-110.948344,-110.744548,-110.867439,-110.953054,-110.937029,-110.878989,-110.860128,-110.904163,-110.821628,-110.691882,-110.924647,-111.054495,-110.933265,-110.925852,-111.100808,-111.035098,-110.885615,-110.914692,-110.942604,-110.861598,-111.096598,-111.026594,-110.876402,-110.916502,-111.099866,-110.730023,-110.984823,-110.916643,-111.059711,-110.901637,-110.858623,-110.913576,-110.913394,-110.879841,-110.974966,-110.949268,-110.928024,-111.006539,-110.919971,-111.104613,-110.886137,-110.871894,-110.948845,-110.915816,-111.099571,-110.865475,-110.867433,-110.920265,-111.019954,-111.088453,-110.876349,-110.926298,-110.931165,-110.769365,-110.926276,-110.838669,-110.931718,-110.836218,-110.867502,-110.861685,-110.934568,-110.916506,-110.912821,-110.876663,-110.921727,-110.952366,-110.821343,-110.707646,-110.815137,-110.912261,-111.102683,-110.922425,-110.857728,-110.977878,-110.960715,-110.866428,-110.860662,-110.859232,-110.972187,-110.955333,-111.074866,-110.868274,-110.908893,-110.984323,-110.874488,-110.960936,-110.914166,-110.924286,-110.914421,-111.090663,-110.920483,-111.018235,-111.091592,-111.081332,-110.787866,-110.922939,-110.882276,-110.967541,-110.730021,-110.937435,-110.822382,-110.835224,-110.989165,-110.766165,-110.918226,-111.102136,-110.756209,-110.860674,-110.977655,-110.939907,-110.821344,-110.985682,-110.871109,-111.061879,-111.091895,-110.861114,-110.914166,-111.001958,-110.919427,-110.948316,-110.865134,-110.859231,-110.981074,-110.863977,-110.860821,-110.867433,-110.825403,-110.928868,-110.939852,-110.723893,-110.862326,-110.713835,-110.841485,-110.719149,-110.953018,-110.989415,-110.837711,-110.976224,-110.867433,-110.935308,-110.987576,-110.963267,-110.890327,-110.849721,-110.737086,-110.833363,-110.911916,-111.025916,-110.859221,-110.867433,-110.981889,-110.871537,-110.940314,-110.848792,-110.717951,-110.917922,-110.919051,-110.918535,-110.963102,-110.978818,-110.994274,-111.087621,-110.840807,-110.843442,-110.849608,-110.922195,-110.945893,-110.984311,-110.821628,-110.952205,-110.730242,-110.989568,-110.960853,-110.975249,-110.859255,-110.814042,-110.807658,-110.939382,-110.915034,-110.711113,-110.750396,-110.938138,-110.925117,-110.927904,-110.939793,-110.920291,-110.745788,-110.915687,-111.019623,-110.977231,-110.864117,-110.878945,-111.102683,-110.921113,-110.978829,-110.877798,-110.870445,-110.882751,-110.704338,-111.026733,-110.858667,-110.910072,-110.767644,-110.938633,-110.917743,-110.824995,-110.924586,-110.869301,-110.937707,-110.942529,-110.967221,-110.844197,-110.899014,-110.861685,-110.844413,-110.854112,-110.726422,-110.938324,-111.064241,-110.725558,-110.863745,-111.052329,-110.975998,-110.838005,-110.859265,-110.866223,-110.863742,-110.922711,-110.910621,-111.088331,-110.967221,-110.830877,-110.713888,-110.918667,-111.092913,-110.764171,-110.703436,-110.898909,-110.917737,-110.742856,-110.885561,-110.928527,-110.822293,-110.887925,-110.982209,-110.949062,-110.931493,-110.835458,-110.824352,-110.754519,-110.978029,-111.074364,-110.930668,-110.991883,-110.897203,-110.867501,-111.099973,-110.895057,-111.112463,-110.819254,-110.985688,-110.940104,-110.835536,-110.980046,-110.698735,-110.975498,-110.937878,-110.860817,-110.707305,-110.969827,-110.728576,-110.940763,-110.977158,-110.870445,-110.738799,-110.825387,-110.855533,-110.907145,-110.977706,-110.900843,-110.827678,-110.912114,-110.950735,-110.970342,-110.823886,-110.848583,-110.908872,-110.844403,-111.014674,-110.793587,-110.838678,-110.866553,-110.767496,-110.829223,-110.737425,-111.065631,-110.982195,-110.736772,-110.835455,-110.959567,-110.928937,-110.829454,-110.907943,-110.898464,-111.028186,-110.851166,-110.923246,-110.940064,-110.976393,-110.844659,-110.886945,-110.833096,-110.861402,-110.902882,-110.701425,-110.875446,-110.828635,-110.987137,-110.967206,-110.975818,-110.920428,-110.952628,-110.938762,-110.922582,-111.027838,-110.914549,-110.734959,-110.983725,-110.984403,-110.908102,-111.013647,-110.963813,-110.909969,-110.845257,-110.858393,-111.061622,-110.975082,-110.883581,-110.715354,-110.857729,-110.976169,-110.961063,-110.983056,-111.078828,-111.033061,-110.970947,-110.737264,-110.857698,-110.927938,-110.920193,-110.767469,-110.918548,-110.831916,-110.941162,-111.088354,-110.920262,-110.772222,-110.941791,-110.754231,-110.862542,-110.926501,-110.944391,-110.721584,-110.947126,-110.822282,-110.843351,-110.860715,-110.753005,-110.923907,-111.034874,-110.765909,-111.103725,-110.985435,-111.061291,-111.094976,-110.933951,-110.854626,-110.756365,-111.081493,-110.947097,-110.980096,-110.888687,-110.752516,-110.952628,-110.944253,-110.938855,-111.086995,-110.980627,-110.830514,-110.978849,-110.753152,-110.937501,-110.876297,-110.879235,-110.976922,-110.845729,-110.868268,-110.984526,-110.950833,-110.808671,-110.937588,-111.009738,-110.824778,-110.907675,-110.844186,-110.990813,-110.919814,-110.852516,-110.960225,-110.838214,-110.883409,-110.947627,-110.869314,-110.923867,-110.823551,-110.932195,-110.975497,-110.874677,-110.867959,-110.931294,-110.922286,-110.863009,-110.900812,-111.028172,-110.872451,-110.922266,-111.088331,-110.929181,-110.919746,-110.887753,-110.893404,-110.754909,-110.901395,-110.839505,-110.927323,-110.941507,-110.922732,-110.837826,-110.928622,-110.899248,-110.921247,-111.020422,-110.943125,-110.851545,-110.877024,-111.086034,-110.732291,-111.072823,-110.915024,-110.901065,-110.924042,-110.721249,-110.843536,-110.984027,-110.714677,-110.921776,-110.989715,-110.952956,-110.869827,-110.952228,-110.906217,-111.057584,-110.879253,-111.055022,-110.982538,-110.868605,-110.924295,-110.960925,-110.930667,-111.095777,-110.824129,-111.009411,-110.693216,-110.955333,-110.867365,-111.082605,-110.818082,-110.845018,-110.930922,-110.849309,-110.987639,-110.947012,-110.973287,-111.004406,-110.987721,-110.725558,-110.741243,-110.859257,-110.924422,-110.849381,-110.926649,-110.853933,-110.926747,-110.862774,-111.101708,-110.848995,-110.981101,-110.860331,-110.868605,-110.829124,-110.899264,-110.925135,-110.981629,-110.941753,-111.096998,-110.864319,-111.123602,-110.862787,-110.867166,-110.925117,-110.852949,-110.898928,-110.920469,-110.851545,-110.940114,-110.872108,-110.865464,-110.977374,-110.932533,-110.867043,-110.987147,-110.849411,-110.886413,-110.930405,-110.822272,-110.888642,-110.878472,-110.900656,-110.901164,-110.963672,-110.847719,-111.026919,-110.940538,-111.081506,-110.925805,-111.036902,-111.077961,-110.704338,-110.741712,-111.141938,-110.921563,-110.908832,-110.863145,-110.905564,-110.958477,-110.975746,-110.984866,-110.925912,-110.832948,-110.987372,-110.942543,-110.921458,-111.101471,-110.898067,-110.811944,-110.742518,-110.986212,-110.760239,-111.088754,-111.046558,-110.899026,-110.899973,-110.967956,-110.858551,-110.719731,-110.862163,-110.921685,-110.843512,-110.982913,-110.934306,-111.041964,-110.901335,-110.856469,-110.975927,-111.041029,-110.925516,-110.933404,-110.981142,-110.873341,-110.901606,-110.833096,-110.883924,-110.718563,-110.919196,-110.933754,-111.077154,-110.953987,-110.853376,-110.860828,-110.966561,-110.986171,-110.981834,-110.911521,-110.878981,-110.883251,-110.754271,-110.960235,-110.859498,-110.868503,-110.858393,-110.949322,-110.944338,-110.984011,-110.890689,-110.882996,-110.860324,-110.900283,-110.843265,-110.986128,-110.839405,-110.927643,-110.847125,-111.013578,-110.953278,-110.976564,-110.886447,-110.975165,-110.879113,-110.718042,-110.926298,-110.920425,-110.990351,-110.986678,-110.850206,-110.877309,-110.943934,-110.855742,-110.704338,-110.867879,-110.905207,-110.934773,-110.898361,-110.829243,-110.936049,-110.852943,-110.921528,-110.917384,-110.860668,-111.054923,-111.000354,-110.984432,-110.831322,-110.947087,-110.869204,-111.078121,-111.101207,-110.858585,-111.041471,-111.032691,-110.986677,-111.028633,-110.943156,-110.886948,-110.814837,-111.010447,-110.971901,-110.835536,-110.832873,-111.030569,-110.988674,-110.925027,-111.040193,-110.733204,-110.928785,-110.843645,-110.858319,-110.967718,-111.055072,-110.967961,-110.928302,-110.904811,-110.920158,-110.731132,-110.843537,-110.940366,-110.866236,-110.893561,-111.019785,-110.861144,-110.864799,-110.818415,-110.987406,-110.924654,-111.003714,-110.810122,-110.916615,-110.823537,-110.778271,-111.037442,-110.896624,-110.783645,-110.900015,-110.986458,-110.969591,-111.096012,-110.908015,-110.954521,-110.830017,-110.867786,-111.019853,-111.020429,-110.737508,-110.852755,-110.868614,-111.028639,-111.142166,-111.142425,-110.880202,-110.723917,-110.814123,-110.926645,-110.960934,-110.909995,-110.989834,-110.776236,-110.903013,-110.981723,-110.940373,-110.977216,-110.951345,-110.989438,-110.865439,-110.745938,-110.977205,-111.086522,-111.095362,-110.858774,-110.949256,-110.986717,-110.858323,-110.991325,-110.852612,-111.053072,-110.936057,-110.925601,-111.066725,-110.819012,-110.879689,-110.865315,-110.919893,-110.845029,-110.924503,-110.863983,-110.728858,-111.112175,-111.035077,-110.993095,-110.751617,-111.094129,-111.026538,-111.007016,-111.013783,-110.931769,-110.880019,-110.847922,-111.030359,-111.091852,-110.982604,-110.924829,-110.872095,-110.780278,-111.018208,-110.864217,-110.954443,-110.954903,-110.889718,-110.984335,-111.126195,-110.859204,-110.879537,-110.783374,-110.704476,-110.870252,-110.905564,-110.886949,-111.035153,-110.775392,-110.898775,-110.745678,-110.835797,-110.750101,-110.930212,-110.878036,-110.745534,-110.958956,-110.861136,-110.760519,-110.966809,-110.924347,-110.858185,-110.940759,-110.927632,-111.014872,-110.876183,-110.860907,-110.921178,-110.968961,-110.938806,-110.844495,-110.906489,-110.983407,-111.053535,-111.036329,-110.852658,-111.116415,-111.059757,-111.086636,-110.932188,-110.897692,-110.903277,-110.745117,-110.939742,-110.945324,-110.912548,-110.969576,-110.936514,-111.082247,-110.952635,-111.096726,-110.795082,-111.030665,-110.985712,-111.097204,-111.038283,-111.037905,-110.845884,-110.924271,-110.745104,-110.857365,-110.913684,-110.856913,-110.866288,-110.931303,-110.997102,-110.836644,-111.040022,-110.989891,-110.895483,-110.859871,-110.860677,-110.910188,-110.976871,-110.886569,-110.791487,-110.700829,-110.910188,-110.806144,-111.058523,-110.863288,-110.898106,-110.981726,-110.950139,-110.863983,-110.957059,-110.967584,-110.958963,-110.737089,-110.857814,-110.882292,-110.967763,-111.102065,-110.904878,-110.881862,-110.933187,-110.869441,-110.900134,-110.903188,-110.885123,-110.944157,-110.981763,-111.030721,-110.991914,-110.903193,-110.991372,-110.904608,-110.843529,-110.697708,-110.860618,-110.980617,-110.927748,-110.951968,-110.941196,-111.088206,-110.987023,-110.989836,-110.728943,-111.043625,-111.092358,-110.920789,-110.859019,-110.983512,-110.970513,-110.923317,-110.705947,-110.819112,-110.935481,-110.943651,-110.943944,-110.949863,-111.028947,-110.977675,-110.823498,-110.858633,-110.905564,-110.885175,-110.857795,-110.838168,-110.865727,-110.982074,-110.734132,-110.831349,-111.099191,-110.952585,-110.937644,-110.992071,-110.778653,-110.888403,-110.747014,-110.976939,-110.917427,-110.873077,-110.938424,-110.893857,-111.033783,-110.934858,-110.978468,-110.932541,-110.979094,-110.866109,-110.987524,-110.953966,-110.909225,-110.868012,-110.728386,-111.091299,-110.879622,-111.089818,-111.078495,-110.922241,-111.101607,-110.895831,-110.920994,-111.054745,-110.929826,-110.939583,-111.052298,-110.916292,-111.077636,-110.824225,-110.920718,-110.879346,-110.938781,-111.088244,-111.005929,-110.938822,-110.988356,-110.948183,-110.859437,-111.081602,-110.754564,-110.938762,-110.931558,-110.761132,-110.992316,-111.017396,-110.745399,-110.969772,-111.102568,-110.859586,-110.943718,-110.928785,-110.770119,-111.088863,-110.863289,-110.791463,-110.883537,-110.828598,-110.935919,-110.908893,-110.861452,-110.840814,-110.895012,-110.988766,-110.984426,-110.932881,-111.022692,-110.900004,-110.920003,-111.075343,-110.910437,-110.923741,-110.987112,-110.818209,-110.954271,-111.106137,-111.092358,-110.791469,-110.901614,-110.869622,-110.953811,-111.021887,-110.899523,-110.987531,-110.962445,-110.883464,-110.911345,-110.877081,-110.701025,-110.940103,-111.054312,-111.088483,-110.968144,-110.929556,-110.979253,-111.029867,-110.791508,-110.935842,-111.015838,-110.927945,-110.869332,-110.909225,-110.981128,-110.979714,-110.952749,-110.990761,-111.020258,-110.695234,-110.933262,-110.930758,-110.891216,-110.969207,-110.751873,-110.983145,-110.741956,-110.971372,-111.017746,-110.961484,-110.954534,-110.862627,-110.922819,-110.930499,-110.984471,-111.060747,-110.934662,-111.036122,-111.072617,-110.970612,-110.986483,-110.920469,-111.008689,-110.889777,-110.987694,-110.988155,-111.053995,-110.935368,-110.897571,-110.921839,-110.864413,-110.889176,-111.126254,-110.734295,-110.968108,-111.077053,-110.987392,-111.004487,-110.987166,-110.964351,-111.095291,-111.090321,-110.766125,-110.852218,-110.841477,-110.740428,-110.986446,-110.984948,-110.924067,-110.928779,-110.866786,-111.030665,-110.747289,-110.950525,-110.894912,-110.951464,-110.850117,-110.912806,-110.852066,-110.864427,-110.921282,-110.985653,-110.869855,-110.936309,-110.909507,-110.936084,-110.921928,-110.844004,-110.873137,-110.933919,-111.108953,-110.918397,-110.898771,-110.860623,-110.878069,-111.089538,-110.966623,-111.004485,-110.938466,-110.939653,-110.833103,-110.982994,-110.984771,-110.919252,-110.934931,-110.858382,-110.942262,-110.910237,-111.062086,-110.932804,-110.939594,-110.906403,-110.957059,-110.747527,-110.813307,-110.948178,-110.910188,-110.936006,-111.054554,-110.997814,-110.863221,-110.923386,-110.968201,-110.853122,-110.821338,-110.741148,-110.947548,-110.841474,-110.826002,-110.886725,-110.935611,-110.941776,-110.848268,-110.917178,-110.852209,-110.987099,-110.900902,-110.904481,-110.989934,-110.986032,-111.039615,-110.732426,-110.936002,-110.979233,-110.966905,-110.886343,-110.728178,-110.843814,-110.858411,-111.076247,-110.925862,-110.791548,-110.944402,-110.874128,-110.889114,-110.902088,-111.100538,-111.087786,-110.965062,-110.991374,-110.862542,-110.854477,-110.830455,-110.960652,-110.927271,-110.881391,-110.838336,-110.992832,-110.851361,-110.963075,-110.932555,-110.909876,-110.984941,-110.933418,-110.867066,-110.810961,-110.859163,-110.954876,-110.984933,-110.739879,-110.981237,-110.859283,-110.930914,-110.939122,-111.095782,-110.940337,-111.017396,-110.954524,-111.076036,-110.945419,-110.924846,-110.943528,-110.939245,-110.945076,-110.948239,-110.844632,-110.985472,-110.951913,-110.983159,-110.932849,-110.885511,-110.866279,-111.053456,-110.742576,-110.863504,-111.035665,-110.902597,-110.984733,-110.995201,-110.865988,-111.187739,-110.731555,-110.909862,-110.857539,-110.861634,-110.760834,-110.872012,-111.033703,-111.071077,-110.711352,-110.984457,-110.983528,-110.964501,-110.925584,-110.961541,-110.950624,-110.835824,-111.088483,-110.863978,-111.094625,-110.921745,-110.926528,-110.871662,-110.862521,-110.980835,-110.939075,-110.976968,-110.741397,-110.980454,-110.900005,-110.909682,-110.844847,-110.928501,-110.860305,-110.929205,-110.858396,-110.978365,-110.978649,-111.056077,-110.988927,-111.066886,-110.859227,-110.878563,-110.729167,-110.725574,-111.081556,-110.903055,-110.951055,-111.088997,-111.026297,-110.932176,-110.755687,-110.885261,-110.985097,-110.805738,-111.068942,-110.900196,-111.025016,-110.939487,-110.991533,-110.723805,-110.906693,-111.093696,-110.745616,-110.888436,-110.780379,-110.954881,-111.104823,-110.905861,-110.973964,-110.859218,-110.738473,-110.868934,-110.941324,-110.863071,-110.920257,-110.814066,-110.900124,-110.899559,-110.951616,-110.953895,-110.924314,-110.987512,-110.924956,-110.967838,-110.904054,-110.729025,-110.851912,-110.777255,-110.980461,-110.843446,-110.843613,-110.939204,-110.836534,-110.823028,-110.948374,-110.933955,-110.985034,-110.986109,-110.927597,-110.988878,-110.992536,-110.919129,-110.950734,-110.928925,-110.875515,-110.993183,-110.886268,-110.954484,-110.983512,-110.882139,-110.947147,-110.921841,-110.941995,-111.052743,-110.989934,-111.019872,-110.841341,-110.952421,-111.035502,-110.900048,-111.039285,-110.904475,-110.722658,-110.792129,-110.908545,-110.729647,-110.860839,-110.861399,-110.938212,-110.960391,-111.058193,-110.920697,-110.945,-110.924929,-110.852954,-110.954916,-110.858476,-110.869624,-110.812525,-110.858031,-110.774409,-111.058599,-110.975915,-111.008899,-110.707305,-110.990607,-110.939249,-110.857701,-110.990953,-111.008689,-110.937293,-111.089825,-110.902312,-110.742643,-110.935057,-110.933628,-110.902185,-111.087307,-110.900887,-110.987085,-110.984397,-110.865043,-110.791781,-110.849338,-110.954134,-110.977507,-110.754321,-110.909489,-111.028247,-110.919774,-110.976971,-110.943903,-110.991336,-110.908281,-110.928779,-110.779213,-111.024568,-110.989912,-110.959251,-110.946563,-110.951114,-110.968769,-111.090229,-110.839437,-110.920946,-110.791453,-110.966145,-110.984011,-110.936264,-110.949152,-110.853531,-110.982607,-110.876496,-110.890222,-110.841911,-110.897553,-110.979953,-110.946474,-110.941692,-111.080803,-110.891863,-110.987535,-110.979234,-110.844902,-110.984937,-110.983508,-110.924653,-110.906272,-110.812666,-110.970662,-111.011041,-111.093971,-111.021498,-110.919751,-110.911336,-110.982208,-110.975509,-110.853815,-110.970673,-110.835522,-110.926325,-111.092975,-110.910922,-111.093802,-110.989134,-110.833085,-110.920687,-111.020085,-110.810965,-110.864795,-111.111147,-110.854404,-110.841704,-110.969712,-110.911969,-110.894095,-110.855008,-110.990696,-110.946141,-110.967634,-110.770018,-110.741686,-110.929461,-110.791469,-110.864873,-110.743628,-110.854607,-110.844118,-110.984779,-110.899862,-110.993825,-110.939721,-110.843614,-110.978241,-110.843825,-110.942267,-110.838511,-110.854195,-111.074933,-110.949838,-110.889191,-111.101008,-110.944445,-110.880842,-110.921889,-110.984062,-110.928781,-110.979363,-110.863993,-110.910917,-110.739032,-111.076756,-110.986552,-110.942298,-110.740492,-111.053085,-110.917178,-110.903231,-110.900056,-110.821039,-110.983964,-110.959229,-110.901224,-111.103252,-111.043469,-110.917178,-111.083776,-110.767949,-110.881592,-110.967383,-110.967769,-110.922108,-110.847877,-110.905715,-110.945589,-111.023662,-110.793969,-110.922206,-111.086668,-110.975049,-110.795857,-111.053456,-110.968132,-110.875626,-110.887577,-110.754662,-110.873066,-110.726216,-110.862457,-110.986122,-110.876564,-110.877299,-110.752763,-110.989564,-110.867043,-111.018713,-111.021948,-111.089826,-110.853638,-110.867867,-110.964806,-110.954241,-110.900167,-110.904486,-111.053373,-110.894775,-110.732494,-110.729097,-110.870961,-110.818532,-110.956485,-110.747902,-110.942311,-110.811321,-110.844441,-110.866229,-110.864169,-110.942298,-110.884679,-110.949841,-110.762045,-110.894738,-110.995684,-110.952997,-110.972163,-110.942301,-111.011146,-110.986045,-110.978894,-110.860551,-110.976785,-110.964542,-110.870361,-110.887753,-110.869015,-110.861442,-110.841822,-110.704968,-110.964758,-110.948254,-110.954762,-111.055711,-110.964851,-111.020192,-110.751144,-110.928052,-111.006053,-110.866974,-110.986509,-110.988645,-111.083143,-111.089596,-110.943641,-110.859229,-110.866212,-110.909622,-111.031256,-110.857585,-110.933837,-110.975535,-110.730037,-110.948495,-110.838316,-110.927574,-110.903189,-110.794018,-110.727023,-111.068943,-110.932454,-110.864059,-110.892318,-110.889469,-110.904848,-110.912552,-110.898517,-111.075794,-111.047787,-110.961392,-110.851919,-111.091368,-110.897185,-111.067392,-110.854665,-111.103946,-110.780341,-110.764294,-110.989601,-111.052582,-110.941285,-110.930634,-110.868872,-110.731282,-110.894623,-111.088397,-110.920147,-110.865433,-110.829197,-110.844564,-110.874143,-110.875861,-110.863289,-110.911145,-110.728096,-110.744366,-110.984174,-110.911145,-111.081134,-111.019638,-110.797633,-110.831054,-111.019127,-110.943157,-110.992858,-110.925522,-110.885532,-110.921187,-110.890161,-110.795109,-110.980978,-110.844129,-110.895501,-111.020383,-110.921592,-110.891585,-110.814518,-110.989164,-110.993095,-110.988015,-110.932848,-111.092245,-110.831132,-110.958677,-110.872982,-110.852833,-110.886481,-110.869803,-110.942252,-110.945315,-110.958261,-110.964714,-110.988716,-110.867004,-110.988765,-110.934818,-111.069159,-110.991376,-110.942203,-110.749443,-111.020991,-110.987028,-110.909527,-110.914293,-110.781055,-110.945937,-110.975522,-110.887761,-110.901471,-110.863641,-111.029216,-110.975005,-110.982905,-110.954468,-110.863852,-110.781257,-110.897529,-111.080499,-110.852453,-110.887726,-111.069141,-111.053104,-111.003222,-110.984509,-110.838476,-110.790107,-110.869493,-110.927895,-110.744876,-110.877285,-110.904335,-110.985903,-110.751233,-110.950271,-111.043686,-110.754808,-110.736846,-110.887027,-110.760613,-110.781363,-110.862713,-110.728766,-110.873509,-110.902726,-110.982129,-110.723119,-110.980455,-110.889138,-110.891704,-110.978894,-110.860331,-110.743249,-110.980849,-110.891336,-110.727688,-111.076119,-110.925878,-110.865813,-110.881802,-110.861635,-111.097678,-110.864631,-111.099733,-110.789047,-111.020788,-111.018849,-111.066357,-110.921255,-110.971922,-110.973943,-110.847113,-110.861918,-111.090812,-110.720342,-110.774834,-110.919585,-110.794949,-110.877942,-110.741516,-110.900235,-110.865625,-111.094249,-110.985006,-110.968169,-110.893334,-110.864447,-110.953071,-110.943509,-110.939452,-110.960292,-110.987901,-110.855005,-110.940446,-111.019791,-110.990508,-110.988143,-110.910926,-110.967538,-110.859043,-110.939014,-110.983016,-110.888518,-110.726624,-110.784124,-110.769009,-111.036785,-110.726747,-110.980023,-110.989697,-110.821338,-111.076801,-110.853343,-111.054853,-110.876169,-110.797579,-110.902578,-110.922451,-110.966923,-111.039842,-110.858191,-110.944783,-110.959289,-110.911864,-110.871174,-110.985888,-110.821346,-110.935906,-110.936287,-110.869147,-110.872368,-110.795669,-110.849293,-110.933,-110.969244,-110.880346,-110.938481,-110.852835,-110.958197,-110.867168,-110.939085,-110.916909,-110.904749,-110.748958,-110.874308,-110.979281,-110.905939,-110.880168,-111.041471,-111.092956,-110.984454,-110.850945,-110.943617,-110.875848,-111.093793,-110.866735,-110.919238,-110.911404,-110.787081,-110.854057,-110.741783,-110.925844,-110.872122,-110.934217,-110.858008,-110.907872,-110.852218,-111.040022,-110.975927,-110.975005,-110.753377,-110.861109,-110.853003,-110.923538,-110.922473,-110.948334,-110.921458,-110.726759,-110.854159,-110.970482,-110.940139,-110.756841,-110.897272,-110.957159,-110.837507,-110.852585,-110.903144,-110.721472,-110.978858,-111.086241,-111.055855,-110.904017,-110.926233,-110.717252,-110.951534,-110.957502,-110.984983,-110.985751,-110.811534,-111.076231,-111.005388,-111.092985,-110.881866,-110.885332,-110.948849,-110.835776,-110.734311,-110.901633,-110.721892,-110.724317,-110.984595,-110.822999,-110.853061,-110.940492,-110.740402,-110.998171,-110.906047,-110.861004,-110.825323,-110.940056,-110.929462,-110.885736,-110.957508,-110.869251,-110.724116,-110.890259,-110.935833,-110.986549,-111.087427,-110.980873,-110.856322,-110.744114,-110.765106,-110.981807,-110.987893,-110.953025,-110.799494,-110.929377,-110.870946,-110.968108,-110.867403,-110.731555,-110.970337,-110.898217,-110.743582,-110.919346,-111.092424,-110.795118,-111.073951,-110.951214,-111.086252,-110.851918,-111.034293,-110.875697,-110.921016,-110.869149,-110.740444,-110.942222,-110.880184,-110.937782,-110.933808,-110.832554,-110.959963,-111.106396,-110.962555,-110.964259,-111.026377,-110.958572,-110.924006,-110.988972,-110.879324,-110.734831,-110.910744,-110.815773,-110.978885,-110.992247,-110.895765,-110.904245,-110.989601,-110.985908,-110.737814,-110.861126,-110.930378,-110.977977,-110.895685,-111.020482,-111.052118,-110.777522,-110.934526,-110.754778,-111.093334,-111.074849,-110.921924,-110.891705,-110.739167,-110.979826,-110.988645,-111.004051,-110.955286,-110.966898,-110.778952,-111.029322,-111.026773,-110.968209,-111.076821,-110.984674,-110.850684,-110.972922,-110.968209,-110.859449,-110.884074,-111.075128,-111.033874,-110.923303,-110.927415,-110.726763,-110.968281,-110.979705,-110.929143,-110.889213,-111.005389,-110.724144,-111.071182,-111.103816,-111.020855,-110.867104,-110.851074,-111.071266,-111.005293,-110.946782,-110.939213,-111.060931,-110.977336,-110.695564,-110.988063,-110.813412,-110.859501,-110.867919,-110.930946,-110.930621,-110.955471,-110.891579,-110.868483,-110.853266,-110.885639,-110.770012,-110.973386,-110.953826,-110.819189,-111.007062,-111.034275,-110.914905,-111.024143,-110.880168,-110.897346,-110.857178,-110.889549,-110.873684,-110.978732,-110.959698,-111.085407,-111.178077,-110.756023,-110.949773,-110.871191,-110.796623,-110.727023,-110.731783,-110.812547,-110.985749,-110.943934,-111.028247,-110.894904,-110.840823,-110.963788,-110.710582,-110.943222,-110.883383,-110.892736,-110.870953,-110.953271,-110.857759,-110.985054,-111.076675,-110.750036,-110.898423,-110.784778,-110.915902,-110.909495,-111.126192,-110.957231,-111.055023,-110.910594,-110.856897,-111.013589,-110.796911,-110.793969,-110.882139,-110.943528,-110.951351,-110.938319,-111.017468,-110.871226,-110.954609,-111.054425,-110.876409,-110.829751,-110.985375,-110.985296,-110.905668,-111.017631,-111.080411,-110.937779,-110.720576,-110.873356,-111.006091,-111.019679,-110.762345,-110.851266,-110.783048,-110.847006,-111.073607,-110.724523,-110.853508,-110.923709,-110.945658,-110.955972,-110.925506,-110.848255,-110.923598,-110.922683,-111.085176,-110.929826,-110.955826,-110.980608,-110.981549,-110.926611,-110.794075,-111.042999,-110.859575,-110.898064,-110.820546,-111.054161,-110.904642,-111.041756,-110.941693,-110.939104,-110.910238,-110.825762,-111.077689,-110.715265,-110.946808,-110.921423,-110.944275,-110.998232,-110.927553,-110.853965,-110.978897,-110.901619,-110.974983,-110.943139,-110.937925,-110.832554,-110.953706,-110.969797,-111.059731,-110.861066,-110.909489,-110.889245,-111.024552,-110.704968,-110.942262,-110.929973,-110.869015,-110.977572,-111.082659,-110.919407,-110.754561,-110.861883,-110.859996,-110.950266,-110.942585,-110.864806,-110.878832,-110.955479,-110.895226,-110.933327,-110.831145,-111.001194,-110.910144,-110.880019,-111.000907,-111.066408,-110.909048,-110.844542,-110.856319,-110.871903,-110.919567,-110.834238,-110.925005,-110.883238,-111.054993,-110.868639,-110.876467,-110.919914,-110.980331,-110.730073,-110.936205,-110.839427,-110.849218,-110.728163,-110.751164,-110.910699,-110.754285,-110.991301,-110.950197,-111.111737,-110.920571,-111.059313,-110.999379,-110.873233,-110.958922,-110.750432,-110.905129,-110.969727,-111.068684,-110.930961,-110.998089,-110.866735,-110.777557,-110.860486,-110.887357,-111.010366,-110.949393,-110.889663,-110.854545,-110.889291,-110.922188,-111.087247,-110.830918,-110.806217,-111.051857,-111.017577,-110.844128,-110.985768,-110.995754,-110.895182,-110.779169,-110.888995,-110.860543,-110.903945,-110.912965,-110.734245,-110.924839,-110.859501,-110.936117,-110.820187,-110.965134,-110.849297,-110.960042,-110.849852,-110.988578,-110.932234,-111.104988,-110.910791,-110.781931,-111.095442,-110.897821,-110.926256,-111.030462,-110.793999,-110.780909,-110.895296,-110.979631,-110.935057,-110.962241,-110.950512,-111.094204,-110.941753,-110.964334,-111.018456,-110.952894,-111.036897,-110.931769,-110.878824,-111.005525,-110.920729,-110.942298,-111.100622,-110.939492,-110.857029,-110.848801,-111.059859,-110.853381,-110.954995,-110.740653,-110.952975,-110.862139,-110.894177,-110.895431,-110.902349,-110.857178,-111.084158,-110.965802,-110.833902,-110.925027,-111.004381,-110.865939,-110.777913,-110.973746,-110.971921,-110.879601,-111.078134,-110.815995,-110.887347,-110.866252,-110.829219,-110.924906,-110.922886,-110.910198,-110.911968,-110.895103,-110.749722,-110.878824,-110.930378,-110.933922,-110.986602,-110.889278,-110.852115,-110.982254,-110.724664,-110.726254,-111.039738,-110.753931,-110.985554,-110.864359,-110.882611,-110.925499,-110.859145,-110.901068,-110.988747,-110.987089,-110.747457,-110.963742,-111.053898,-110.986567,-111.041439,-110.899094,-110.740607,-110.877967,-110.871831,-111.019564,-110.905588,-110.936633,-110.852354,-111.020194,-110.829223,-110.845028,-110.965134,-111.019835,-110.879938,-110.986061,-111.058589,-111.047785,-110.928964,-110.925516,-110.992553,-110.920819,-110.932367,-110.963332,-110.781772,-110.955863,-110.981478,-110.743782,-110.981728,-110.939792,-110.853145,-110.779479,-110.989697,-110.878276,-110.901499,-110.949773,-110.715703,-110.950395,-110.988944,-111.076927,-110.760576,-110.779332,-110.823481,-110.955773,-111.029092,-110.903872,-110.951139,-110.852536,-111.020915,-110.746657,-110.975508,-110.985732,-110.929406,-110.902668,-111.017468,-111.067318,-110.909907,-110.731248,-110.986028,-110.831898,-110.967718,-110.862909,-111.054653,-111.068133,-110.967981,-110.876899,-110.765575,-111.022899,-111.082223,-111.005766,-110.901598,-110.907931,-110.903111,-110.907493,-111.087087,-110.912175,-111.017768,-111.079729,-110.983055,-110.887348,-110.989149,-110.930144,-110.846231,-110.805238,-110.760396,-110.964487,-111.052982,-110.779301,-110.926412,-110.737164,-110.714814,-110.997915,-110.723788,-110.981616,-110.743887,-110.943695,-111.082939,-110.852407,-110.985427,-110.955923,-111.049992,-110.930191,-110.840128,-110.897461,-110.979736,-110.735182,-110.862124,-110.898767,-110.968269,-110.738773,-110.874469,-111.086026,-110.895407,-110.781742,-110.866945,-111.024143,-110.959997,-111.089679,-110.990458,-110.981201,-110.753141,-110.797536,-110.943695,-110.946796,-111.047938,-111.025879,-110.746657,-110.880046,-110.864591,-110.730544,-110.827564,-110.851277,-110.842866,-110.828747,-110.820576,-110.985715,-110.980245,-110.860193,-110.887169,-110.953971,-110.851864,-110.984674,-110.926324,-110.726772,-110.852023,-110.795772,-110.884669,-110.858799,-111.039597,-110.867349,-111.042669,-110.980646,-110.954305,-110.862242,-110.888542,-111.131723,-110.720398,-110.972546,-110.861403,-111.110071,-110.837354,-111.053945,-110.886626,-110.868656,-111.042673,-110.893373,-110.827525,-111.053097,-110.985809,-110.869796,-110.753947,-110.985,-110.832565,-110.696276,-111.063893,-110.833368,-110.857761,-110.890667,-110.904245,-110.792245,-110.961485,-111.021448,-110.821082,-110.878419,-110.971373,-110.796466,-110.732112,-110.895941,-110.924653,-110.791543,-110.986049,-110.852993,-111.037016,-110.703342,-110.853007,-110.954808,-110.991338,-110.986712,-110.858007,-111.071807,-110.869568,-110.863952,-110.990471,-111.054774,-110.917049,-110.939003,-110.868453,-110.880307,-110.859366,-110.939461,-110.748918,-111.072244,-110.979037,-110.865166,-111.073119,-111.117344,-110.992571,-110.933941,-110.929228,-110.760365,-110.944388,-110.823026,-110.905723,-110.908554,-111.093134,-110.828641,-110.964778,-110.950974,-110.776921,-110.756556,-110.830734,-110.861078,-110.943617,-110.984533,-110.951987,-110.874143,-110.906233,-110.720577,-111.037382,-110.973782,-110.968683,-110.784706,-111.051359,-110.865335,-110.950266,-110.896488,-110.787885,-111.090181,-110.877084,-110.876607,-110.927181,-110.938424,-111.040534,-110.869859,-110.806255,-110.851251,-110.986124,-111.104319,-110.901601,-110.737988,-110.856652,-110.926335,-110.852921,-110.997849,-110.955382,-110.969475,-110.751977,-111.043189,-110.910695,-110.883952,-110.852498,-111.096629,-110.729719,-110.841888,-110.983838,-110.939004,-110.852535,-110.872091,-110.953046,-110.832078,-110.937628,-110.728992,-110.986706,-110.929656,-110.985754,-110.947316,-110.990367,-110.885844,-110.980683,-111.095995,-110.923314,-110.928289,-110.889125,-110.978895,-110.734178,-110.744783,-110.825284,-110.985141,-110.888494,-110.987444,-111.109386,-110.745624,-110.985314,-110.970318,-110.924959,-110.900962,-111.083207,-110.984982,-111.068943,-110.970757,-110.894923,-110.721937,-111.053989,-110.920526,-111.040045,-111.021414,-110.876291,-110.863263,-110.887182,-110.806224,-111.044832,-110.730514,-110.864451,-110.893332,-110.854261,-110.859043,-110.896016,-110.986934,-110.893009,-110.971176,-110.981562,-110.958488,-111.089498,-110.898699,-111.121949,-111.122172,-110.739628,-110.885743,-110.735149,-110.880164,-111.036743,-110.813901,-110.865058,-110.967045,-110.876375,-110.856225,-111.080822,-110.952047,-110.858866,-110.854508,-110.941057,-111.006268,-110.895976,-110.887104,-110.723684,-110.924317,-110.883863,-110.896603,-110.933653,-110.704712,-110.964597,-111.074849,-110.922016,-110.850396,-110.817653,-111.069398,-111.052352,-111.060928,-110.926474,-110.727649,-110.821745,-110.908785,-110.736693,-111.106487,-110.969236,-111.009574,-110.889361,-110.984875,-110.861093,-110.954361,-110.924793,-110.979852,-110.868461,-110.733313,-110.979114,-110.989607,-111.074671,-111.024347,-110.861406,-110.941939,-110.902102,-110.787663,-110.729206,-110.794005,-110.861405,-110.873542,-110.947516,-110.840136,-110.968239,-110.925612,-111.075867,-110.859221,-110.775232,-110.816836,-110.873989,-110.817418,-110.873119,-110.865303,-110.969863,-110.781082,-110.869289,-110.954196,-110.852074,-110.817282,-110.997468,-110.966926,-110.945829,-111.052571,-111.010473,-110.967697,-110.849256,-110.875907,-110.931223,-110.982895,-110.944989,-110.981701,-111.023099,-110.984974,-110.987133,-110.726756,-110.988242,-110.780413,-110.770583,-110.723564,-110.970404,-110.946085,-110.982174,-110.965378,-110.956184,-110.985398,-110.967938,-110.919298,-110.881645,-111.054465,-111.052077,-111.021088,-110.736943,-111.071207,-110.872949,-110.774988,-110.945274,-110.985953,-110.940893,-110.983115,-110.728669,-111.058884,-111.095653,-111.102958,-110.736595,-110.972149,-111.054725,-110.988343,-110.832325,-110.859144,-110.955892,-111.081624,-110.784091,-110.857201,-110.919983,-110.946958,-110.871969,-110.852068,-111.052591,-110.773282,-110.893615,-110.876638,-110.728233,-111.090154,-110.963827,-111.053704,-110.834842,-110.837685,-111.115877,-110.978742,-110.985709,-110.970313,-110.985722,-110.861058,-110.964068,-110.724116,-110.932368,-111.054555,-111.066943,-110.885743,-111.042673,-111.012253,-110.821415,-110.898045,-110.866721,-110.920047,-110.981105,-110.984498,-110.948028,-110.731259,-110.886434,-110.861467,-110.848993,-110.725504,-110.899735,-110.951918,-110.746628,-110.733516,-110.860543,-110.749905,-110.739063,-110.902762,-111.020915,-110.852914,-110.928985,-111.076721,-110.932176,-110.986189,-111.100539,-111.112971,-111.077336,-110.986033,-110.909956,-110.969843,-110.853595,-110.865408,-110.937129,-110.939364,-110.928464,-110.986622,-111.100049,-111.077096,-110.927049,-110.820245,-111.041295,-110.852951,-110.927339,-110.782075,-110.760436,-110.938106,-110.962458,-110.984173,-110.745555,-110.937305,-111.084933,-110.884664,-110.873676,-110.940375,-111.036202,-110.771112,-110.837981,-110.755256,-110.758967,-110.874409,-110.841911,-110.986252,-110.955369,-111.072015,-110.942084,-110.979162,-110.895274,-110.911139,-110.886508,-110.898479,-110.977814,-110.850984,-110.776922,-110.946429,-110.932043,-110.874744,-110.861132,-110.983687,-110.986109,-110.867936,-111.088041,-110.796688,-110.756247,-110.857076,-110.875474,-110.771206,-110.861889,-110.939745,-110.979463,-110.730496,-110.868705,-110.957498,-110.819807,-110.959095,-111.112196,-111.061752,-110.726859,-110.946054,-110.781531,-110.984711,-111.076222,-111.051284,-111.061493,-110.820216,-110.922291,-110.858556,-111.055528],\"marker\":{\"color\":[3411450.0,2400000.0,2500000.0,3700000.0,2050000.0,2200000.0,3000000.0,2600000.0,3000000.0,2500000.0,2800000.0,2600000.0,2000000.0,2400000.0,1950000.0,2400000.0,2550000.0,2600000.0,2350000.0,2175000.0,2350000.0,2100000.0,2050000.0,2150000.0,2000000.0,2200000.0,2224506.0,2152700.0,1900000.0,2110000.0,2200000.0,2296443.0,2197500.0,1720000.0,1950000.0,1920000.0,1999500.0,1750000.0,2117552.0,2000000.0,1995000.0,2000000.0,1775000.0,1600000.0,1995000.0,1800000.0,1750000.0,1800000.0,1950000.0,1800000.0,1950000.0,1700000.0,1751330.0,1775000.0,1900000.0,1890000.0,1750000.0,1860000.0,1825000.0,1400000.0,1750000.0,1909299.0,1658695.0,1800000.0,1960000.0,1600000.0,1680000.0,1750000.0,1937000.0,1831392.0,1650000.0,2100000.0,1625000.0,1500000.0,1744900.0,1650000.0,1700000.0,1650000.0,1715000.0,1700000.0,1500000.0,1500000.0,1600000.0,1550000.0,1695000.0,1450000.0,1700000.0,2272554.0,1768000.0,1865705.0,1600000.0,1675000.0,1610000.0,1600000.0,1600000.0,1647313.0,1690000.0,1595000.0,1375000.0,1900000.0,1500000.0,1500000.0,1550000.0,1550000.0,1350000.0,1600000.0,1650000.0,1695000.0,1550000.0,1475000.0,1769386.0,1450000.0,1485000.0,1525000.0,1200000.0,1500000.0,1550000.0,1500000.0,1585000.0,1525000.0,1550000.0,1525000.0,1210520.0,1557864.0,1625000.0,1697215.0,1450000.0,1525000.0,1900000.0,1450000.0,1400000.0,1480000.0,1570000.0,1495000.0,1600000.0,1500000.0,1405000.0,1500000.0,1550000.0,1549000.0,1560000.0,1565000.0,1593000.0,1475000.0,1400000.0,1436000.0,1512000.0,1547664.0,1560000.0,1500000.0,1300000.0,1453000.0,1525000.0,1490000.0,1510000.0,1550000.0,1350000.0,1501313.0,1500000.0,1425000.0,1325000.0,1500000.0,1100000.0,1262500.0,1150000.0,1400000.0,1575042.0,1258000.0,1450000.0,1475000.0,1412500.0,1500000.0,1450000.0,1400000.0,1475000.0,1350000.0,1300000.0,1300000.0,1450000.0,1200000.0,1350000.0,1400000.0,1345500.0,1400000.0,1400000.0,1375000.0,1288000.0,1225000.0,1261000.0,1425000.0,1430000.0,1495000.0,1494392.0,1350000.0,1120150.0,1200000.0,1375000.0,1300000.0,1425000.0,1250000.0,1467523.0,2076160.0,1375000.0,1350000.0,1325000.0,1350000.0,1263000.0,1400000.0,1250000.0,1335000.0,1340000.0,1350000.0,1370000.0,1220000.0,1425000.0,1125000.0,1250000.0,1341387.0,1250000.0,1314000.0,1279000.0,1275000.0,1250000.0,1250000.0,1325000.0,1300000.0,1337500.0,1300000.0,1332000.0,1275000.0,1325000.0,1302000.0,1250000.0,1335000.0,1297500.0,1300000.0,1250000.0,1340000.0,1250000.0,1200000.0,1375000.0,1325000.0,1235000.0,1335000.0,1345000.0,1330000.0,1325000.0,1275000.0,1325000.0,1300000.0,1200000.0,1250000.0,1362000.0,1286765.0,1300000.0,1200000.0,1390000.0,1249000.0,1325000.0,1376272.0,1275000.0,1265000.0,1337500.0,1295000.0,1323000.0,1285000.0,1189550.0,1275000.0,1300000.0,1200000.0,1150000.0,1220000.0,1300000.0,1300000.0,1050000.0,1296500.0,1300000.0,1200000.0,1284000.0,1348000.0,1250000.0,1125000.0,1275000.0,1408464.0,1215000.0,1330245.0,1273000.0,1225000.0,1480000.0,1100000.0,1250000.0,1275000.0,1165000.0,1250000.0,1225000.0,1100000.0,1125000.0,1100000.0,1275000.0,1295000.0,1400000.0,1260000.0,1150000.0,1200000.0,1180000.0,1155000.0,1200000.0,1295000.0,1236000.0,1250000.0,1275000.0,1150000.0,1270000.0,1000000.0,1225000.0,1125478.0,1150000.0,1100000.0,1200000.0,1250000.0,1112500.0,1245000.0,1180000.0,900000.0,1200000.0,1090000.0,1060000.0,1026000.0,1100000.0,1177500.0,1075000.0,1169000.0,1200000.0,1250000.0,1200000.0,1240000.0,1200000.0,1100000.0,1265000.0,1150000.0,1215000.0,1100000.0,1100000.0,1185000.0,1225000.0,1090000.0,1225000.0,1185000.0,1160000.0,1110000.0,1220000.0,1140000.0,1150000.0,1150000.0,1185000.0,1120000.0,1100000.0,1075000.0,1150000.0,1119000.0,1000000.0,1015000.0,1200000.0,1100000.0,1050000.0,1200000.0,1170000.0,1150000.0,1034000.0,1100000.0,1164000.0,1130000.0,1200000.0,1099000.0,1149000.0,1100000.0,1120000.0,1050000.0,1195000.0,1155000.0,1150000.0,1180000.0,1070000.0,1075000.0,1060000.0,1032000.0,1035000.0,1075000.0,1035000.0,1100000.0,1013000.0,1050000.0,1100000.0,1100000.0,1136500.0,1100000.0,1015000.0,1100000.0,1090600.0,1200000.0,1100000.0,1060000.0,1090000.0,1150000.0,1100000.0,1100000.0,1045000.0,1150000.0,1190000.0,1020000.0,1115000.0,1089500.0,1225000.0,1050000.0,1075000.0,1065000.0,1090000.0,950000.0,1135000.0,1125000.0,995000.0,1050000.0,1000000.0,1090000.0,1025000.0,1025000.0,1075000.0,1055000.0,1060000.0,1000000.0,1095000.0,1030000.0,1078750.0,1000000.0,1000000.0,1040000.0,1000000.0,1120000.0,1100000.0,1062500.0,1080000.0,1080000.0,1075000.0,1100000.0,1055000.0,1050000.0,1110000.0,1095000.0,950000.0,1100000.0,1055000.0,1125000.0,1050000.0,1050000.0,1060000.0,950000.0,991000.0,1058000.0,1000000.0,987500.0,1050000.0,975000.0,1050000.0,1015000.0,900000.0,1035000.0,1045000.0,975000.0,1065000.0,1160000.0,900000.0,1032500.0,910000.0,995000.0,895000.0,1100000.0,1050000.0,985000.0,1050000.0,1043320.0,925000.0,1040000.0,1010000.0,1050000.0,1000000.0,985000.0,1050000.0,1084000.0,1025000.0,990000.0,1020000.0,1050000.0,900000.0,1040000.0,1030000.0,1095000.0,1010000.0,1045000.0,1000000.0,980000.0,1022500.0,1065000.0,1030000.0,930000.0,1090740.0,1090000.0,1015000.0,1090000.0,1050000.0,993000.0,975000.0,961000.0,985110.0,1000000.0,965000.0,1100000.0,950000.0,1055000.0,1000000.0,900000.0,1073942.0,977000.0,1045000.0,960000.0,1095084.0,990000.0,1053649.0,975000.0,1040000.0,1035000.0,1050000.0,1010000.0,895000.0,1050000.0,935000.0,1090000.0,1025000.0,950000.0,1005000.0,1040000.0,975000.0,1001000.0,1004965.0,1010000.0,967500.0,975000.0,1048842.0,1005000.0,1069000.0,1000000.0,935000.0,975000.0,973000.0,950000.0,900000.0,907500.0,1100000.0,918750.0,945000.0,925000.0,950000.0,950000.0,960000.0,975000.0,950000.0,960000.0,955000.0,990000.0,982500.0,945000.0,1000000.0,850000.0,900000.0,1048685.0,970000.0,1025000.0,960000.0,985000.0,975000.0,924000.0,1015000.0,965000.0,950000.0,962495.0,999900.0,975000.0,912000.0,980000.0,959000.0,975000.0,1007583.0,970000.0,840000.0,995000.0,935000.0,900000.0,950000.0,950000.0,980000.0,980000.0,940000.0,999000.0,969500.0,980000.0,985000.0,915000.0,998000.0,998000.0,984000.0,972877.0,970000.0,987500.0,935000.0,975000.0,945000.0,975000.0,975000.0,945000.0,980000.0,975000.0,975000.0,945000.0,970000.0,850000.0,950000.0,1020000.0,915000.0,925000.0,942300.0,950000.0,800000.0,925000.0,850000.0,930000.0,955000.0,950000.0,950000.0,956000.0,965000.0,950000.0,965000.0,867000.0,975000.0,940000.0,1005000.0,970000.0,925000.0,955000.0,900000.0,940000.0,1110000.0,965000.0,960750.0,985000.0,900000.0,965000.0,960000.0,925000.0,950000.0,958215.0,910000.0,880290.0,950000.0,947500.0,987000.0,989000.0,950000.0,965000.0,1018000.0,935000.0,965000.0,985000.0,900000.0,965000.0,950000.0,960000.0,927500.0,1044756.0,900000.0,925000.0,925000.0,950000.0,875000.0,975000.0,976000.0,975000.0,965000.0,950000.0,940000.0,800000.0,907000.0,942500.0,875000.0,975000.0,825000.0,945000.0,965000.0,985368.0,950000.0,921500.0,967269.0,900000.0,915000.0,940000.0,971976.0,900000.0,910000.0,941965.0,908000.0,920000.0,937500.0,935000.0,950795.0,915000.0,959900.0,925000.0,910000.0,915000.0,920000.0,850000.0,895000.0,925000.0,867500.0,905000.0,888000.0,867500.0,925000.0,807000.0,845000.0,870000.0,920000.0,920000.0,905000.0,889000.0,859000.0,885000.0,900000.0,935000.0,950000.0,895000.0,915000.0,915000.0,950000.0,950000.0,900000.0,1025000.0,920000.0,928000.0,922000.0,925000.0,885000.0,830000.0,943500.0,940000.0,888000.0,925000.0,925000.0,880700.0,850000.0,905000.0,915000.0,840000.0,935000.0,940000.0,887000.0,925000.0,923000.0,890000.0,912500.0,911000.0,820000.0,1000000.0,897176.0,890000.0,900000.0,900000.0,875000.0,900000.0,900000.0,935000.0,895000.0,915000.0,900000.0,905000.0,815000.0,870000.0,900000.0,900000.0,929000.0,920000.0,927000.0,899900.0,880000.0,885000.0,925000.0,860000.0,842500.0,920000.0,850000.0,910000.0,900000.0,925000.0,885000.0,890000.0,870000.0,869900.0,900000.0,880000.0,850000.0,880000.0,885000.0,885000.0,900000.0,860000.0,777633.0,910468.0,865000.0,900000.0,907000.0,890000.0,900000.0,875000.0,900000.0,826500.0,825000.0,925000.0,875000.0,900000.0,870000.0,850000.0,900000.0,885000.0,880000.0,900000.0,820000.0,860000.0,825000.0,899000.0,865000.0,825000.0,850000.0,835000.0,890000.0,875000.0,899000.0,910000.0,850000.0,865000.0,840000.0,887000.0,865000.0,840000.0,876000.0,868500.0,855000.0,875000.0,844000.0,835000.0,850000.0,865000.0,875000.0,880000.0,840000.0,825000.0,817000.0,885000.0,870000.0,880000.0,865000.0,915056.0,870000.0,830000.0,865000.0,899000.0,897000.0,850000.0,825000.0,895000.0,835000.0,850000.0,865000.0,830000.0,850000.0,875000.0,840000.0,869500.0,825000.0,870000.0,900000.0,889500.0,800000.0,859500.0,799000.0,885000.0,850000.0,875000.0,819500.0,850000.0,845000.0,860000.0,800000.0,885000.0,895000.0,880000.0,825000.0,875000.0,875000.0,895000.0,895000.0,890000.0,864500.0,827500.0,850000.0,860000.0,875000.0,875000.0,894900.0,800000.0,837500.0,890000.0,870000.0,862500.0,889626.0,855000.0,837000.0,850000.0,815000.0,836000.0,860000.0,880000.0,858000.0,835000.0,850000.0,860000.0,800000.0,875000.0,842000.0,875000.0,850000.0,825000.0,870000.0,850000.0,860000.0,800000.0,880000.0,817000.0,865000.0,825000.0,845000.0,820000.0,879000.0,775000.0,856500.0,883286.0,830000.0,867677.09,848000.0,842500.0,845000.0,825000.0,800000.0,850000.0,800000.0,815000.0,860000.0,756600.0,845000.0,875000.0,825000.0,840000.0,845000.0,850000.0,865000.0,850000.0,865000.0,840000.0,785000.0,850000.0,825000.0,855000.0,830000.0,850000.0,835000.0,840000.0,860000.0,845000.0,850000.0,835000.0,840000.0,850000.0,834000.0,850000.0,859000.0,850000.0,800000.0,835000.0,859000.0,869000.0,845000.0,870500.0,800000.0,821000.0,770000.0,811969.0,820000.0,840000.0,850000.0,855000.0,861638.0,784000.0,852499.0,839000.0,800000.0,825000.0,820000.0,825000.0,847600.0,837500.0,825000.0,850000.0,890000.0,821359.0,800000.0,627120.0,800000.0,845000.0,815000.0,815000.0,840000.0,850000.0,825000.0,785000.0,840000.0,850000.0,840000.0,786000.0,850000.0,795000.0,787500.0,810000.0,820000.0,775000.0,816500.0,829000.0,802300.0,843000.0,850000.0,839000.0,825000.0,825000.0,785000.0,800000.0,825000.0,835000.0,775000.0,795000.0,803000.0,815000.0,808750.0,750000.0,851000.0,835000.0,827000.0,771500.0,800000.0,822500.0,820000.0,801000.0,835000.0,825000.0,815000.0,800000.0,811250.0,822500.0,775000.0,800000.0,800000.0,785000.0,820000.0,810000.0,825000.0,790000.0,830000.0,815000.0,805000.0,810000.0,793008.0,825000.0,789000.0,765000.0,825000.0,800000.0,789000.0,800000.0,792500.0,823000.0,805000.0,786620.0,790000.0,812000.0,799800.0,802500.0,748000.0,800000.0,813000.0,809000.0,800000.0,799500.0,832375.0,790000.0,825000.0,820000.0,790000.0,800000.0,800000.0,812500.0,775000.0,750000.0,775000.0,810000.0,877170.0,770000.0,776500.0,800000.0,775000.0,780000.0,750000.0,815500.0,795000.0,800000.0,740000.0,815000.0,797000.0,765000.0,815000.0,820000.0,820000.0,850000.0,775000.0,800000.0,805000.0,810000.0,805000.0,800000.0,837000.0,825000.0,800000.0,802500.0,800000.0,812000.0,790000.0,849000.0,805000.0,790000.0,795000.0,775000.0,821080.0,770000.0,718000.0,770000.0,750000.0,750000.0,785000.0,795000.0,800000.0,810000.0,802000.0,814500.0,790000.0,819000.0,781250.0,800000.0,750000.0,825000.0,769000.0,800000.0,817034.0,815000.0,799000.0,790000.0,780000.0,805000.0,798000.0,814994.0,799847.0,750000.0,775000.0,788500.0,800000.0,809400.0,770000.0,809771.0,725000.0,750000.0,806971.0,735000.0,769000.0,771000.0,776700.0,750000.0,760000.0,765000.0,763000.0,800000.0,775000.0,760000.0,791000.0,730000.0,750000.0,752400.0,785000.0,790000.0,760000.0,795000.0,735000.0,800000.0,805000.0,780000.0,802000.0,785000.0,800000.0,800000.0,800977.67,780000.0,790000.0,785000.0,775000.0,785000.0,735000.0,775000.0,750000.0,773000.0,769000.0,740000.0,750000.0,775000.0,799900.0,789770.0,750000.0,775000.0,775000.0,799000.0,765000.0,799000.0,745000.0,799000.0,788000.0,799000.0,800000.0,850000.0,750000.0,698000.0,725000.0,780000.0,780000.0,750000.0,760000.0,674150.0,730000.0,783000.0,787000.0,792000.0,788000.0,743500.0,790000.0,710000.0,765000.0,788000.0,750000.0,775000.0,700000.0,727000.0,779000.0,780000.0,788000.0,760000.0,775000.0,690000.0,779000.0,799000.0,785000.0,750000.0,795000.0,885000.0,800000.0,757000.0,720000.0,771000.0,760000.0,785000.0,725000.0,799000.0,775000.0,799000.0,760000.0,750000.0,775000.0,779000.0,779500.0,810000.0,768500.0,770000.0,780000.0,775000.0,745000.0,750000.0,801000.0,780000.0,750000.0,798770.0,775000.0,740000.0,765000.0,750000.0,785000.0,769000.0,787000.0,737345.0,780000.0,750000.0,750000.0,765000.0,795000.0,770000.0,750000.0,775000.0,840000.0,725000.0,775000.0,775000.0,705000.0,796000.0,775000.0,795000.0,762500.0,740000.0,700000.0,740000.0,786000.0,760000.0,791000.0,755000.0,750000.0,750000.0,750000.0,765000.0,784500.0,751750.0,790000.0,780000.0,785000.0,796000.0,790000.0,780000.0,770000.0,775000.0,630000.0,780000.0,760000.0,745000.0,775000.0,780000.0,775000.0,800000.0,782500.0,798342.0,735000.0,780000.0,750122.0,789900.0,766000.0,800000.0,741000.0,730000.0,765000.0,779000.0,767000.0,700000.0,775000.0,750000.0,782000.0,765000.0,650000.0,769000.0,760000.0,735000.0,808000.0,769000.0,785000.0,767500.0,748000.0,740000.0,765350.0,773817.0,730000.0,760000.0,784154.0,754500.0,750000.0,740000.0,725000.0,780000.0,768000.0,785000.0,780000.0,750000.0,760000.0,740000.0,770000.0,740000.0,729500.0,740000.0,765000.0,754500.0,720000.0,710000.0,755000.0,745000.0,805000.0,758000.0,760000.0,745000.0,725000.0,800000.0,700000.0,775000.0,700000.0,755000.0,755000.0,744000.0,745000.0,700000.0,754500.0,712500.0,765000.0,765000.0,680000.0,750000.0,761000.0,750000.0,727500.0,743000.0,735000.0,775000.0,690000.0,700000.0,740000.0,750000.0,760000.0,775000.0,765000.0,690000.0,695000.0,750000.0,710000.0,735000.0,740000.0,720000.0,740711.0,735000.0,760000.0,745000.0,735480.0,750000.0,805635.0,745000.0,770000.0,740000.0,690000.0,745000.0,770000.0,745000.0,769900.0,745000.0,750000.0,750000.0,735000.0,740000.0,725000.0,730000.0,745000.0,740000.0,750000.0,760000.0,745000.0,745000.0,779840.0,737000.0,766735.0,690000.0,757500.0,752500.0,745000.0,757000.0,740000.0,700000.0,745000.0,765000.0,750000.0,742000.0,753000.0,730000.0,757000.0,750000.0,762418.0,762393.0,750000.0,733000.0,751000.0,740000.0,812770.0,759900.0,759500.0,680000.0,725000.0,759000.0,745000.0,759000.0,725000.0,735000.0,736000.0,700000.0,745000.0,740000.0,719000.0,735000.0,737500.0,730000.0,742000.0,725000.0,734500.0,700000.0,745000.0,725000.0,695000.0,750000.0,720000.0,715000.0,720000.0,730000.0,740000.0,745000.0,720000.0,725000.0,735000.0,700000.0,730000.0,700000.0,715000.0,720000.0,640000.0,740000.0,725000.0,525000.0,735000.0,700000.0,700000.0,720000.0,700000.0,730000.0,750000.0,735000.0,750000.0,762500.0,720000.0,730000.0,715000.0,700000.0,671000.0,735000.0,705000.0,750000.0,727500.0,730000.0,710000.0,755000.0,737000.0,710000.0,730000.0,709000.0,700000.0,714000.0,738500.0,730000.0,715000.0,690000.0,715000.0,765000.0,739900.0,680000.0,735000.0,746500.0,735000.0,740000.0,739000.0,700000.0,740000.0,665000.0,680000.0,730000.0,730000.0,750000.0,740000.0,690000.0,708000.0,745000.0,749900.0,727500.0,700000.0,730000.0,725000.0,710000.0,725000.0,749000.0,715000.0,689000.0,685000.0,745000.0,700000.0,685000.0,739000.0,745000.0,717000.0,725000.0,710000.0,739000.0,700000.0,749000.0,725000.0,667000.0,700000.0,730000.0,685000.0,725000.0,735000.0,730000.0,670000.0,697000.0,710000.0,725000.0,735000.0,732000.0,737000.0,715000.0,710000.0,735000.0,725000.0,690000.0,740000.0,715000.0,733000.0,742000.0,723000.0,748401.0,725000.0,735000.0,747000.0,742000.0,700000.0,700000.0,730000.0,730000.0,740000.0,725000.0,715000.0,740000.0,758663.91,730000.0,720000.0,728400.0,710000.0,750000.0,701000.0,735000.0,698000.0,688000.0,740000.0,720000.0,740000.0,1102000.0,700000.0,715000.0,740000.0,725000.0,735000.0,705000.0,739900.0,739900.0,720000.0,730000.0,670000.0,725000.0,739900.0,739900.0,720000.0,660000.0,705000.0,686900.0,735000.0,700000.0,694000.0,735000.0,715000.0,707000.0,680000.0,675000.0,645000.0,710000.0,685000.0,720000.0,695000.0,732000.0,680000.0,715000.0,700000.0,727000.0,718000.0,679500.0,730000.0,736415.0,680000.0,700000.0,722000.0,775000.0,750000.0,725000.0,700000.0,710000.0,725000.0,680000.0,705000.0,720000.0,735000.0,665000.0,695000.0,700000.0,705000.0,733000.0,730000.0,716000.0,720000.0,665000.0,700000.0,694300.0,710000.0,680000.0,700000.0,705000.0,695000.0,675000.0,729000.0,695000.0,675000.0,710000.0,715000.0,705000.0,680000.0,675000.0,695000.0,729000.0,729000.0,670000.0,725554.0,700000.0,650000.0,695000.0,725000.0,680000.0,700000.0,725000.0,680000.0,680000.0,690000.0,700000.0,690000.0,710000.0,725000.0,690000.0,725000.0,700000.0,700000.0,700000.0,700000.0,690000.0,700000.0,697000.0,726000.0,700000.0,722000.0,713000.0,725000.0,710000.0,700000.0,725000.0,715000.0,690000.0,725000.0,715000.0,685000.0,705000.0,725000.0,699500.0,700000.0,680000.0,706495.0,700000.0,710000.0,685000.0,708320.0,675000.0,724000.0,723660.0,705000.0,695000.0,695000.0,722330.0,721701.0,705000.0,677500.0,700000.0,700000.0,720000.0,700000.0,720000.0,705000.0,719900.0,682500.0,685000.0,690000.0,580000.0,710000.0,682500.0,715000.0,660000.0,667000.0,715000.0,689000.0,710000.0,701000.0,705000.0,698000.0,675000.0,711254.0,680000.0,695000.0,698000.0,687500.0,698000.0,695500.0,704000.0,709000.0,705837.0,781000.0,695000.0,720000.0,650000.0,600000.0,662500.0,625000.0,648055.0,678000.0,700000.0,680000.0,795000.0,630000.0,679000.0,715000.0,685000.0,690000.0,690000.0,680000.0,700000.0,680000.0,690000.0,550000.0,685000.0,700000.0,680000.0,685000.0,650000.0,685000.0,700000.0,664000.0,700000.0,670000.0,681000.0,695000.0,675000.0,692000.0,687000.0,675000.0,685000.0,670000.0,695000.0,670000.0,699900.0,665000.0,625000.0,660000.0,680679.0,640000.0,699900.0,675000.0,635000.0,690000.0,690000.0,699900.0,675000.0,660000.0,688000.0,645146.0,695000.0,699900.0,675000.0,699900.0,690684.0,690000.0,694000.0,700000.0,650000.0,931000.0,672500.0,675000.0,675000.0,500000.0,680000.0,640000.0,673500.0,699000.0,699000.0,667500.0,675000.0,640000.0,680000.0,685000.0,628000.0,668000.0,690000.0,680000.0,680000.0,686000.0,655000.0,698000.0,630000.0,699000.0,695000.0,665000.0,705000.0,675000.0,650000.0,662000.0,699000.0,630000.0,630000.0,685000.0,690000.0,671000.0,685000.0,672000.0,619000.0,700000.0,690000.0,644000.0,675000.0,682080.0,715000.0,670000.0,683000.0,689000.0,680000.0,650000.0,650000.0,675000.0,685000.0,660000.0,677000.0,600000.0,678200.0,690000.0,675000.0,620000.0,699000.0,656500.0,688882.0,681600.0,560000.0,675000.0,687000.0,680000.0,680000.0,695000.0,670000.0,600000.0,675000.0,680000.0,635000.0,675000.0,663000.0,675000.0,712000.0,680000.0,705000.0,675000.0,690000.0,685000.0,650000.0,699000.0,650000.0,659000.0,680000.0,635000.0,680000.0,680000.0,675000.0,674000.0,667000.0,684000.0,660000.0,670000.0,690000.0,685000.0,660000.0,695257.0,675000.0,682500.0,650000.0,675000.0,665000.0,685000.0,690000.0,675000.0,669000.0,630000.0,686000.0,675000.0,675000.0,660000.0,680000.0,675000.0,675000.0,622500.0,655000.0,580000.0,655000.0,675000.0,682000.0,620000.0,675000.0,689000.0,649000.0,670000.0,685000.0,655000.0,685000.0,675000.0,680000.0,660000.0,685000.0,660000.0,680000.0,685000.0,685000.0,695000.0,695000.0,664500.0,675000.0,671000.0,670000.0,698334.0,640000.0,680000.0,620000.0,670000.0,680000.0,685000.0,691000.0,675000.0,670000.0,655000.0,650000.0,665000.0,650000.0,675000.0,679500.0,689000.0,665000.0,662000.0,679000.0,650000.0,625000.0,650000.0,640000.0,650000.0,689000.0,650000.0,640000.0,675000.0,660000.0,665000.0,662500.0,675000.0,662000.0,650000.0,696000.0,675000.0,686000.0,665000.0,565000.0,615000.0,675000.0,680000.0,670000.0,685000.0,645000.0,670000.0,672000.0,685000.0,685000.0,665000.0,680000.0,670000.0,675000.0,664000.0,600000.0,635000.0,630000.0,667000.0,660000.0,680000.0,650000.0,651000.0,660000.0,645000.0,663500.0,656650.0,677900.0,658000.0,650000.0,670000.0,670000.0,669000.0,650000.0,679000.0,675000.0,660000.0,667500.0,668000.0,675000.0,625000.0,610000.0,650000.0,644500.0,662500.0,660000.0,667500.0,655000.0,660000.0,660000.0,679000.0,645500.0,651500.0,677500.0,660000.0,670000.0,655000.0,650000.0,665000.0,660000.0,660000.0,605000.0,650000.0,649000.0,675000.0,525000.0,702000.0,625000.0,658000.0,550000.0,623787.0,665000.0,630000.0,640000.0,595000.0,650000.0,650000.0,696000.0,650000.0,655000.0,682500.0,653000.0,650000.0,633000.0,620000.0,650000.0,650000.0,702000.0,610000.0,633000.0,635000.0,655000.0,660000.0,675000.0,674000.0,645000.0,675000.0,665000.0,625000.0,655000.0,650000.0,665000.0,640000.0,675000.0,660000.0,646000.0,670000.0,675000.0,660000.0,650000.0,650000.0,661000.0,670000.0,675000.0,630000.0,675000.0,645000.0,665000.0,687000.0,665000.0,650000.0,660000.0,610000.0,675000.0,650000.0,665000.0,645000.0,650000.0,671000.0,659747.0,630000.0,650000.0,620000.0,657500.0,678000.0,675000.0,674500.0,645000.0,625000.0,655000.0,650000.0,655000.0,665000.0,670000.0,650000.0,660000.0,642000.0,660000.0,659200.0,667500.0,650000.0,655000.0,660000.0,651000.0,665000.0,630000.0,669000.0,658000.0,637500.0,635000.0,605000.0,629000.0,650000.0,657000.0,612000.0,632000.0,630000.0,638500.0,634000.0,640000.0,625000.0,655000.0,661000.0,650000.0,650000.0,620000.0,640000.0,667500.0,652000.0,650000.0,661500.0,650000.0,660000.0,655000.0,644000.0,664500.0,649000.0,640000.0,662900.0,657000.0,652000.0,630000.0,650000.0,594500.0,660000.0,640000.0,650000.0,650000.0,665000.0,645000.0,640000.0,620000.0,634000.0,660000.0,650000.0,647000.0,645000.0,630000.0,630000.0,650000.0,650000.0,649000.0,625000.0,645000.0,622500.0,660000.0,650000.0,650928.0,649000.0,650000.0,635000.0,650000.0,615000.0,625000.0,658000.0,657500.0,640000.0,630000.0,650000.0,655000.0,615000.0,640000.0,652498.0,650716.0,620000.0,650000.0,625000.0,620000.0,620000.0,620000.0,615000.0,625000.0,622500.0,640000.0,594000.0,615000.0,545000.0,655000.0,633000.0,600000.0,625000.0,639000.0,550000.0,652000.0,650000.0,625000.0,640000.0,620000.0,605000.0,620000.0,640000.0,615000.0,650000.0,625000.0,617500.0,620000.0,650000.0,625000.0,599000.0,640000.0,625000.0,615000.0,620000.0,600000.0,610000.0,630000.0,592005.0,627500.0,650000.0,635000.0,620000.0,632500.0,595000.0,627500.0,612500.0,630000.0,664000.0,640000.0,640000.0,620000.0,625000.0,620000.0,660000.0,650000.0,637500.0,640000.0,643000.0,630000.0,600000.0,640000.0,620000.0,635000.0,650000.0,660000.0,650000.0,635000.0,620000.0,635000.0,635000.0,640000.0,635000.0,606250.0,630000.0,630000.0,655000.0,620000.0,637500.0,650000.0,630000.0,620000.0,580000.0,650000.0,620000.0,630000.0,620750.0,598975.0,650000.0,624000.0,550000.0,632000.0,607000.0,640000.0,630000.0,635000.0,649900.0,645000.0,622000.0,635000.0,640000.0,615000.0,626500.0,625000.0,640000.0,631000.0,610000.0,635000.0,600000.0,650000.0,607000.0,625000.0,550678.25,640000.0,635000.0,620000.0,649900.0,630000.0,649900.0,620000.0,625000.0,649900.0,637000.0,545000.0,665000.0,625000.0,641000.0,640000.0,632000.0,615000.0,634000.0,620000.0,625000.0,600000.0,625000.0,607500.0,640000.0,630000.0,635000.0,615000.0,658000.0,625000.0,625000.0,592000.0,645000.0,625000.0,649000.0,620000.0,649000.0,615000.0,636000.0,642500.0,636000.0,625000.0,635000.0,640000.0,620000.0,635000.0,643000.0,635000.0,600000.0,649000.0,629000.0,649000.0,622000.0,619500.0,635000.0,630000.0,610000.0,575000.0,615000.0,645000.0,600000.0,639500.0,625000.0,629000.0,650000.0,627500.0,649000.0,640000.0,630000.0,638000.0,600000.0,617500.0,630000.0,640000.0,627650.0,610000.0,629000.0,630000.0,625000.0,624500.0,649000.0,654000.0,610000.0,640000.0,572500.0,640000.0,605000.0,630000.0,635000.0,625000.0,625000.0,625000.0,615000.0,605000.0,635000.0,637000.0,620000.0,630000.0,620000.0,600000.0,615000.0,635000.0,626500.0,635000.0,620000.0,600000.0,620000.0,630000.0,620000.0,640000.0,640000.0,639900.0,600000.0,635000.0,629000.0,625000.0,630000.0,600000.0,601900.0,624000.0,646759.0,675000.0,605000.0,600000.0,610000.0,612500.0,633000.0,615000.0,615000.0,610000.0,625000.0,629900.0,630000.0,620500.0,620000.0,618000.0,605000.0,617000.0,637000.0,605000.0,637400.0,600000.0,605000.0,630000.0,629000.0,565000.0,620000.0,615000.0,580000.0,634000.0,601000.0,589000.0,600000.0,635000.0,617500.0,615000.0,618000.0,622500.0,600000.0,600000.0,625000.0,607040.0,635000.0,622000.0,575000.0,585000.0,601500.0,595000.0,607000.0,625000.0,621000.0,575000.0,626500.0,625000.0,620000.0,602000.0,600000.0,580000.0,610000.0,604090.0,615000.0,580000.0,619900.0,613000.0,605900.0,625000.0,623000.0,613000.0,550000.0,625000.0,600000.0,590000.0,597500.0,603059.0,595000.0,622000.0,605000.0,624000.0,570000.0,629000.0,612500.0,605000.0,595000.0,615000.0,600000.0,629000.0,610000.0,625000.0,620000.0,629000.0,625000.0,600000.0,605000.0,590000.0,590000.0,625000.0,570000.0,600000.0,605000.0,610500.0,612500.0,610000.0,600000.0,620000.0,587500.0,580000.0,547500.0,610000.0,610000.0,582406.0,575000.0,610000.0,610000.0,620000.0,565000.0,625000.0,615000.0,592288.0,575000.0,525000.0,615000.0,627711.0,615000.0,605000.0,600000.0,625000.0,603000.0,625000.0,590000.0,590000.0,580000.0,625000.0,615000.0,615000.0,615000.0,580000.0,500000.0,625000.0,595000.0,620000.0,625000.0,580000.0,596735.0,617000.0,610000.0,585000.0,610000.0,584000.0,650000.0,635000.0,625000.0,625000.0,625000.0,598000.0,610000.0,610000.0,612500.0,603500.0,575000.0,605000.0,625000.0,615000.0,598000.0,600000.0,585500.0,600000.0,610000.0,610000.0,615000.0,585000.0,605000.0,617000.0,600000.0,565000.0,590000.0,590000.0,575000.0,599000.0,620000.0,575000.0,620000.0,602500.0,602000.0,595000.0,600000.0,619900.0,580000.0,580000.0,599000.0,590000.0,605000.0,605000.0,618875.0,585000.0,612000.0,575000.0,592000.0,599900.0,610000.0,585000.0,600000.0,580000.0,544000.0,600000.0,600000.0,609000.0,600000.0,600000.0,600000.0,596000.0,600000.0,609000.0,600000.0,614000.0,599000.0,750000.0,618000.0,605000.0,616755.0,615712.0,615527.0,595000.0,580000.0,610000.0,585000.0,560000.0,605000.0,600000.0,644777.0,600000.0,605000.0,595000.0,605000.0,605000.0,580000.0,590000.0,595000.0,600000.0,605000.0,602500.0,645000.0,587000.0,614900.0,611000.0,555000.0,600000.0,596100.0,570000.0,595000.0,590000.0,590000.0,610000.0,595000.0,590000.0,565000.0,585000.0,610000.0,610000.0,575000.0,556500.0,600000.0,570000.0,609000.0,600000.0,578570.0,606000.0,575000.0,595000.0,605000.0,615000.0,570000.0,589000.0,560000.0,575000.0,555000.0,575000.0,625000.0,585000.0,600000.0,597500.0,590000.0,575000.0,585000.0,500000.0,460000.0,580000.0,582000.0,550000.0,595000.0,600000.0,575000.0,560000.0,570000.0,600000.0,610000.0,592500.0,565000.0,580000.0,589900.0,575000.0,583110.0,615000.0,580000.0,565000.0,593000.0,600000.0,590000.0,600000.0,585000.0,570000.0,570000.0,570000.0,600000.0,571300.0,605500.0,592500.0,525000.0,555000.0,600000.0,600000.0,575000.0,610000.0,590000.0,612000.0,600000.0,589000.0,585000.0,575000.0,595000.0,614735.0,600000.0,553750.0,575000.0,565000.0,525000.0,585000.0,599999.0,589000.0,599900.0,580000.0,580000.0,568000.0,590000.0,600500.0,625000.0,580000.0,590000.0,564000.0,550000.0,572000.0,595000.0,562000.0,575000.0,580000.0,591000.0,575000.0,547250.0,582000.0,549000.0,569900.0,588000.0,575000.0,590000.0,575000.0,560000.0,595000.0,580000.0,575000.0,590000.0,565000.0,589000.0,580000.0,579500.0,579900.0,605000.0,589000.0,599900.0,565000.0,600000.0,583500.0,590000.0,585000.0,579000.0,511000.0,490000.0,565000.0,560000.0,515000.0,560000.0,630000.0,575000.0,580000.0,590000.0,561000.0,560000.0,575000.0,540000.0,575000.0,599000.0,527000.0,595000.0,574000.0,599000.0,585000.0,540000.0,600000.0,600000.0,605000.0,582500.0,543500.0,590000.0,530000.0,572500.0,565000.0,570000.0,582000.0,550000.0,569000.0,575000.0,549000.0,572500.0,569000.0,580000.0,585000.0,525000.0,585000.0,566630.0,574500.0,575000.0,630000.0,487500.0,565000.0,620000.0,558000.0,560000.0,590000.0,590000.0,595000.0,570000.0,565000.0,565000.0,575000.0,572000.0,580000.0,575000.0,552500.0,505000.0,570000.0,576000.0,560000.0,585000.0,550000.0,560000.0,587500.0,580000.0,552000.0,550000.0,581750.0,611000.0,575200.0,594000.0,585000.0,585000.0,587500.0,575000.0,575000.0,586000.0,583000.0,549000.0,510000.0,600000.0,580000.0,599000.0,579000.0,595000.0,580000.0,575000.0,475000.0,560000.0,585000.0,563000.0,570000.0,569900.0,562500.0,579900.0,567500.0,590000.0,599000.0,595000.0,575000.0,568500.0,567000.0,560000.0,575000.0,600000.0,573000.0,600000.0,599000.0,590000.0,584260.0,596000.0,550000.0,589000.0,587500.0,576000.0,570000.0,563500.0,595000.0,540000.0,568000.0,559000.0,598000.0,570000.0,559000.0,578000.0,575000.0,584000.0,588000.0,595000.0,550000.0,595500.0,589500.0,550000.0,575000.0,555000.0,565000.0,566000.0,585000.0,540000.0,550000.0,570000.0,565000.0,575000.0,580000.0,584911.0,595000.0,605000.0,565000.0,455000.0,580000.0,580000.0,517000.0,550000.0,585000.0,585000.0,580000.0,575000.0,575000.0,595000.0,600000.0,550000.0,580000.0,565000.0,575000.0,498000.0,595000.0,569500.0,595000.0,536700.0,580000.0,575000.0,580000.0,575000.0,545000.0,567500.0,550000.0,590000.0,570000.0,565000.0,575000.0,570000.0,593000.0,585000.0,565000.0,532500.0,595000.0,550000.0,595000.0,596000.0,580000.0,562500.0,587500.0,585000.0,555000.0,545000.0,563500.0,585000.0,575000.0,595000.0,585000.0,567000.0,595000.0,575000.0,595000.0,552500.0,590000.0,584500.0,585000.0,553118.0,584000.0,579000.0,550000.0,580000.0,575000.0,525000.0,580000.0,590000.0,570000.0,598750.0,565000.0,575000.0,580000.0,570000.0,560000.0,569800.0,569000.0,568425.0,575000.0,560000.0,550000.0,552500.0,570000.0,529000.0,589000.0,570000.0,575000.0,566000.0,579000.0,565000.0,580000.0,580000.0,575000.0,575000.0,580000.0,560000.0,574900.0,505000.0,544366.0,573000.0,575000.0,560000.0,579000.0,580000.0,567500.0,572500.0,583000.0,574500.0,575000.0,559000.0,580000.0,570000.0,582500.0,588000.0,550000.0,570000.0,573500.0,562500.0,468000.0,585000.0,575000.0,585000.0,570000.0,585000.0,600000.0,580000.0,573300.0,575000.0,565000.0,555000.0,570000.0,548917.0,565000.0,535000.0,550000.0,566500.0,585000.0,530000.0,545000.0,526500.0,550000.0,535000.0,563000.0,550000.0,524000.0,605000.0,550000.0,563242.0,575000.0,580000.0,545000.0,577300.0,585000.0,550000.0,575000.0,575000.0,572800.0,585000.0,580000.0,561000.0,584900.0,577400.0,574528.0,550000.0,579000.0,570000.0,630000.0,580000.0,550000.0,557500.0,562500.0,570000.0,559350.0,571600.0,540000.0,560000.0,570000.0,580000.0,565000.0,580000.0,570111.0,565000.0,540000.0,565650.0,550000.0,540000.0,560000.0,580000.0,568000.0,565000.0,563000.0,560000.0,565000.0,568000.0,579000.0,500000.0,568000.0,564500.0,560000.0,550000.0,547000.0,546000.0,552000.0,540000.0,551000.0,559000.0,550000.0,571000.0,545000.0,566000.0,512000.0,577000.0,549300.0,520000.0,542000.0,550000.0,570000.0,550000.0,560000.0,534500.0,544400.0,635003.0,578418.0,555000.0,540000.0,549000.0,560000.0,542000.0,567500.0,564173.0,575000.0,565000.0,525000.0,565000.0,557000.0,560000.0,562000.0,375000.0,575000.0,530000.0,550000.0,560000.0,525000.0,550000.0,540000.0,535000.0,575000.0,525000.0,560000.0,525000.0,550000.0,575000.0,565000.0,550000.0,477000.0,555000.0,575000.0,560000.0,575000.0,565000.0,565000.0,555000.0,556000.0,540000.0,560000.0,520000.0,505000.0,560000.0,565000.0,550000.0,558000.0,573500.0,450000.0,560000.0,562700.0,550000.0,550000.0,535000.0,575000.0,525000.0,554500.0,525000.0,530000.0,537500.0,550000.0,565000.0,530000.0,540000.0,548000.0,510000.0,535000.0,550000.0,570000.0,560000.0,575000.0,575000.0,560000.0,558000.0,550000.0,545000.0,572283.0,525000.0,562000.0,534690.0,500000.0,507000.0,560000.0,525000.0,556950.0,565000.0,500000.0,560000.0,565000.0,560000.0,540000.0,555000.0,548000.0,560000.0,546000.0,550000.0,560000.0,575000.0,568000.0,575000.0,558000.0,565000.0,550000.0,535817.0,553000.0,540000.0,550000.0,550000.0,535000.0,538725.0,530000.0,567500.0,554000.0,575000.0,550000.0,567000.0,582000.0,565000.0,575000.0,540000.0,555000.0,555000.0,571650.0,575000.0,575000.0,575000.0,570000.0,520000.0,590000.0,651500.0,525000.0,560000.0,565000.0,563000.0,570000.0,569000.0,562500.0,559200.0,540000.0,550000.0,565000.0,535000.0,520000.0,575000.0,567000.0,568882.0,573623.0,566200.0,553000.0,572500.0,571010.0,520000.0,560000.0,570000.0,480000.0,549000.0,525000.0,555000.0,555000.0,550000.0,540000.0,537000.0,567500.0,549999.0,520000.0,530000.0,560000.0,555000.0,535000.0,550000.0,552000.0,555000.0,550000.0,569900.0,545000.0,557000.0,552200.0,560000.0,525000.0,555000.0,536000.0,525000.0,495000.0,545000.0,545000.0,512500.0,535000.0,552000.0,525000.0,550000.0,522000.0,559000.0,569000.0,525000.0,545000.0,555000.0,550000.0,562500.0,567109.0,569000.0,550000.0,557000.0,550000.0,568963.0,563000.0,495000.0,557000.0,562000.0,555000.0,537000.0,567796.0,567608.0,550000.0,550000.0,550000.0,555411.0,560000.0,549750.0,547500.0,535000.0,565000.0,560000.0,546812.0,545000.0,520000.0,535000.0,537000.0,550000.0,565000.0,535000.0,535000.0,560000.0,550000.0,545000.0,560000.0,552500.0,555000.0,525000.0,490000.0,535000.0,560000.0,552500.0,565000.0,538400.0,550000.0,555000.0,530000.0,552500.0,553500.0,565000.0,540000.0,542500.0,555000.0,555000.0,535000.0,550000.0,542000.0,535000.0,547000.0,540000.0,553000.0,550000.0,400000.0,530000.0,525000.0,533990.0,537840.0,562500.0,550000.0,560000.0,545000.0,515000.0,545000.0,551000.0,543720.0,539000.0,490000.0,530000.0,550000.0,560000.0,550000.0,560000.0,530000.0,545000.0,550000.0,547500.0,535000.0,554740.0,559950.0,550000.0,525000.0,545000.0,543212.0,535000.0,540000.0,550000.0,537000.0,525000.0,530000.0,565000.0,525000.0,540000.0,545000.0,545000.0,501000.0,520000.0,527500.0,535000.0,545000.0,520000.0,551000.0,540000.0,559000.0,532000.0,553000.0,545000.0,543445.0,543678.0,550000.0,557293.0,559591.0,545000.0,532500.0,517000.0,546199.0,535000.0,525000.0,550000.0,555000.0,555000.0,537500.0,555000.0,555000.0,530000.0,525833.0,610174.0,547000.0,530000.0,535000.0,540000.0,530000.0,550000.0,520000.0,535000.0,525000.0,520000.0,495000.0,525000.0,525000.0,425000.0,550000.0,535000.0,580000.0,497500.0,550000.0,540000.0,515000.0,525000.0,525000.0,520000.0,515000.0,520000.0,500000.0,550000.0,550000.0,499741.75,525000.0,520000.0,540000.0,540000.0,512500.0,540000.0,535000.0,525000.0,550000.0,532500.0,530000.0,490000.0,486600.0,498000.0,525000.0,544000.0,555000.0,550000.0,520000.0,512500.0,520000.0,550000.0,545000.0,520000.0,535000.0,537500.0,540000.0,528000.0,510000.0,555000.0,530000.0,540000.0,525000.0,510000.0,550000.0,540000.0,525000.0,540000.0,508000.0,525000.0,535000.0,540000.0,535000.0,550000.0,516000.0,540000.0,530000.0,540000.0,550000.0,500000.0,525000.0,525000.0,550000.0,535000.0,520000.0,545000.0,529800.0,560000.0,525000.0,550000.0,515000.0,550000.0,539000.0,535000.0,525000.0,550000.0,550000.0,550000.0,525000.0,525000.0,525000.0,550000.0,545000.0,565000.0,535000.0,550000.0,550000.0],\"coloraxis\":\"coloraxis\"},\"mode\":\"markers\",\"name\":\"\",\"showlegend\":false,\"subplot\":\"mapbox\",\"type\":\"scattermapbox\"}],                        {\"template\":{\"data\":{\"bar\":[{\"error_x\":{\"color\":\"#2a3f5f\"},\"error_y\":{\"color\":\"#2a3f5f\"},\"marker\":{\"line\":{\"color\":\"#E5ECF6\",\"width\":0.5},\"pattern\":{\"fillmode\":\"overlay\",\"size\":10,\"solidity\":0.2}},\"type\":\"bar\"}],\"barpolar\":[{\"marker\":{\"line\":{\"color\":\"#E5ECF6\",\"width\":0.5},\"pattern\":{\"fillmode\":\"overlay\",\"size\":10,\"solidity\":0.2}},\"type\":\"barpolar\"}],\"carpet\":[{\"aaxis\":{\"endlinecolor\":\"#2a3f5f\",\"gridcolor\":\"white\",\"linecolor\":\"white\",\"minorgridcolor\":\"white\",\"startlinecolor\":\"#2a3f5f\"},\"baxis\":{\"endlinecolor\":\"#2a3f5f\",\"gridcolor\":\"white\",\"linecolor\":\"white\",\"minorgridcolor\":\"white\",\"startlinecolor\":\"#2a3f5f\"},\"type\":\"carpet\"}],\"choropleth\":[{\"colorbar\":{\"outlinewidth\":0,\"ticks\":\"\"},\"type\":\"choropleth\"}],\"contour\":[{\"colorbar\":{\"outlinewidth\":0,\"ticks\":\"\"},\"colorscale\":[[0.0,\"#0d0887\"],[0.1111111111111111,\"#46039f\"],[0.2222222222222222,\"#7201a8\"],[0.3333333333333333,\"#9c179e\"],[0.4444444444444444,\"#bd3786\"],[0.5555555555555556,\"#d8576b\"],[0.6666666666666666,\"#ed7953\"],[0.7777777777777778,\"#fb9f3a\"],[0.8888888888888888,\"#fdca26\"],[1.0,\"#f0f921\"]],\"type\":\"contour\"}],\"contourcarpet\":[{\"colorbar\":{\"outlinewidth\":0,\"ticks\":\"\"},\"type\":\"contourcarpet\"}],\"heatmap\":[{\"colorbar\":{\"outlinewidth\":0,\"ticks\":\"\"},\"colorscale\":[[0.0,\"#0d0887\"],[0.1111111111111111,\"#46039f\"],[0.2222222222222222,\"#7201a8\"],[0.3333333333333333,\"#9c179e\"],[0.4444444444444444,\"#bd3786\"],[0.5555555555555556,\"#d8576b\"],[0.6666666666666666,\"#ed7953\"],[0.7777777777777778,\"#fb9f3a\"],[0.8888888888888888,\"#fdca26\"],[1.0,\"#f0f921\"]],\"type\":\"heatmap\"}],\"heatmapgl\":[{\"colorbar\":{\"outlinewidth\":0,\"ticks\":\"\"},\"colorscale\":[[0.0,\"#0d0887\"],[0.1111111111111111,\"#46039f\"],[0.2222222222222222,\"#7201a8\"],[0.3333333333333333,\"#9c179e\"],[0.4444444444444444,\"#bd3786\"],[0.5555555555555556,\"#d8576b\"],[0.6666666666666666,\"#ed7953\"],[0.7777777777777778,\"#fb9f3a\"],[0.8888888888888888,\"#fdca26\"],[1.0,\"#f0f921\"]],\"type\":\"heatmapgl\"}],\"histogram\":[{\"marker\":{\"pattern\":{\"fillmode\":\"overlay\",\"size\":10,\"solidity\":0.2}},\"type\":\"histogram\"}],\"histogram2d\":[{\"colorbar\":{\"outlinewidth\":0,\"ticks\":\"\"},\"colorscale\":[[0.0,\"#0d0887\"],[0.1111111111111111,\"#46039f\"],[0.2222222222222222,\"#7201a8\"],[0.3333333333333333,\"#9c179e\"],[0.4444444444444444,\"#bd3786\"],[0.5555555555555556,\"#d8576b\"],[0.6666666666666666,\"#ed7953\"],[0.7777777777777778,\"#fb9f3a\"],[0.8888888888888888,\"#fdca26\"],[1.0,\"#f0f921\"]],\"type\":\"histogram2d\"}],\"histogram2dcontour\":[{\"colorbar\":{\"outlinewidth\":0,\"ticks\":\"\"},\"colorscale\":[[0.0,\"#0d0887\"],[0.1111111111111111,\"#46039f\"],[0.2222222222222222,\"#7201a8\"],[0.3333333333333333,\"#9c179e\"],[0.4444444444444444,\"#bd3786\"],[0.5555555555555556,\"#d8576b\"],[0.6666666666666666,\"#ed7953\"],[0.7777777777777778,\"#fb9f3a\"],[0.8888888888888888,\"#fdca26\"],[1.0,\"#f0f921\"]],\"type\":\"histogram2dcontour\"}],\"mesh3d\":[{\"colorbar\":{\"outlinewidth\":0,\"ticks\":\"\"},\"type\":\"mesh3d\"}],\"parcoords\":[{\"line\":{\"colorbar\":{\"outlinewidth\":0,\"ticks\":\"\"}},\"type\":\"parcoords\"}],\"pie\":[{\"automargin\":true,\"type\":\"pie\"}],\"scatter\":[{\"marker\":{\"colorbar\":{\"outlinewidth\":0,\"ticks\":\"\"}},\"type\":\"scatter\"}],\"scatter3d\":[{\"line\":{\"colorbar\":{\"outlinewidth\":0,\"ticks\":\"\"}},\"marker\":{\"colorbar\":{\"outlinewidth\":0,\"ticks\":\"\"}},\"type\":\"scatter3d\"}],\"scattercarpet\":[{\"marker\":{\"colorbar\":{\"outlinewidth\":0,\"ticks\":\"\"}},\"type\":\"scattercarpet\"}],\"scattergeo\":[{\"marker\":{\"colorbar\":{\"outlinewidth\":0,\"ticks\":\"\"}},\"type\":\"scattergeo\"}],\"scattergl\":[{\"marker\":{\"colorbar\":{\"outlinewidth\":0,\"ticks\":\"\"}},\"type\":\"scattergl\"}],\"scattermapbox\":[{\"marker\":{\"colorbar\":{\"outlinewidth\":0,\"ticks\":\"\"}},\"type\":\"scattermapbox\"}],\"scatterpolar\":[{\"marker\":{\"colorbar\":{\"outlinewidth\":0,\"ticks\":\"\"}},\"type\":\"scatterpolar\"}],\"scatterpolargl\":[{\"marker\":{\"colorbar\":{\"outlinewidth\":0,\"ticks\":\"\"}},\"type\":\"scatterpolargl\"}],\"scatterternary\":[{\"marker\":{\"colorbar\":{\"outlinewidth\":0,\"ticks\":\"\"}},\"type\":\"scatterternary\"}],\"surface\":[{\"colorbar\":{\"outlinewidth\":0,\"ticks\":\"\"},\"colorscale\":[[0.0,\"#0d0887\"],[0.1111111111111111,\"#46039f\"],[0.2222222222222222,\"#7201a8\"],[0.3333333333333333,\"#9c179e\"],[0.4444444444444444,\"#bd3786\"],[0.5555555555555556,\"#d8576b\"],[0.6666666666666666,\"#ed7953\"],[0.7777777777777778,\"#fb9f3a\"],[0.8888888888888888,\"#fdca26\"],[1.0,\"#f0f921\"]],\"type\":\"surface\"}],\"table\":[{\"cells\":{\"fill\":{\"color\":\"#EBF0F8\"},\"line\":{\"color\":\"white\"}},\"header\":{\"fill\":{\"color\":\"#C8D4E3\"},\"line\":{\"color\":\"white\"}},\"type\":\"table\"}]},\"layout\":{\"annotationdefaults\":{\"arrowcolor\":\"#2a3f5f\",\"arrowhead\":0,\"arrowwidth\":1},\"autotypenumbers\":\"strict\",\"coloraxis\":{\"colorbar\":{\"outlinewidth\":0,\"ticks\":\"\"}},\"colorscale\":{\"diverging\":[[0,\"#8e0152\"],[0.1,\"#c51b7d\"],[0.2,\"#de77ae\"],[0.3,\"#f1b6da\"],[0.4,\"#fde0ef\"],[0.5,\"#f7f7f7\"],[0.6,\"#e6f5d0\"],[0.7,\"#b8e186\"],[0.8,\"#7fbc41\"],[0.9,\"#4d9221\"],[1,\"#276419\"]],\"sequential\":[[0.0,\"#0d0887\"],[0.1111111111111111,\"#46039f\"],[0.2222222222222222,\"#7201a8\"],[0.3333333333333333,\"#9c179e\"],[0.4444444444444444,\"#bd3786\"],[0.5555555555555556,\"#d8576b\"],[0.6666666666666666,\"#ed7953\"],[0.7777777777777778,\"#fb9f3a\"],[0.8888888888888888,\"#fdca26\"],[1.0,\"#f0f921\"]],\"sequentialminus\":[[0.0,\"#0d0887\"],[0.1111111111111111,\"#46039f\"],[0.2222222222222222,\"#7201a8\"],[0.3333333333333333,\"#9c179e\"],[0.4444444444444444,\"#bd3786\"],[0.5555555555555556,\"#d8576b\"],[0.6666666666666666,\"#ed7953\"],[0.7777777777777778,\"#fb9f3a\"],[0.8888888888888888,\"#fdca26\"],[1.0,\"#f0f921\"]]},\"colorway\":[\"#636efa\",\"#EF553B\",\"#00cc96\",\"#ab63fa\",\"#FFA15A\",\"#19d3f3\",\"#FF6692\",\"#B6E880\",\"#FF97FF\",\"#FECB52\"],\"font\":{\"color\":\"#2a3f5f\"},\"geo\":{\"bgcolor\":\"white\",\"lakecolor\":\"white\",\"landcolor\":\"#E5ECF6\",\"showlakes\":true,\"showland\":true,\"subunitcolor\":\"white\"},\"hoverlabel\":{\"align\":\"left\"},\"hovermode\":\"closest\",\"mapbox\":{\"style\":\"light\"},\"paper_bgcolor\":\"white\",\"plot_bgcolor\":\"#E5ECF6\",\"polar\":{\"angularaxis\":{\"gridcolor\":\"white\",\"linecolor\":\"white\",\"ticks\":\"\"},\"bgcolor\":\"#E5ECF6\",\"radialaxis\":{\"gridcolor\":\"white\",\"linecolor\":\"white\",\"ticks\":\"\"}},\"scene\":{\"xaxis\":{\"backgroundcolor\":\"#E5ECF6\",\"gridcolor\":\"white\",\"gridwidth\":2,\"linecolor\":\"white\",\"showbackground\":true,\"ticks\":\"\",\"zerolinecolor\":\"white\"},\"yaxis\":{\"backgroundcolor\":\"#E5ECF6\",\"gridcolor\":\"white\",\"gridwidth\":2,\"linecolor\":\"white\",\"showbackground\":true,\"ticks\":\"\",\"zerolinecolor\":\"white\"},\"zaxis\":{\"backgroundcolor\":\"#E5ECF6\",\"gridcolor\":\"white\",\"gridwidth\":2,\"linecolor\":\"white\",\"showbackground\":true,\"ticks\":\"\",\"zerolinecolor\":\"white\"}},\"shapedefaults\":{\"line\":{\"color\":\"#2a3f5f\"}},\"ternary\":{\"aaxis\":{\"gridcolor\":\"white\",\"linecolor\":\"white\",\"ticks\":\"\"},\"baxis\":{\"gridcolor\":\"white\",\"linecolor\":\"white\",\"ticks\":\"\"},\"bgcolor\":\"#E5ECF6\",\"caxis\":{\"gridcolor\":\"white\",\"linecolor\":\"white\",\"ticks\":\"\"}},\"title\":{\"x\":0.05},\"xaxis\":{\"automargin\":true,\"gridcolor\":\"white\",\"linecolor\":\"white\",\"ticks\":\"\",\"title\":{\"standoff\":15},\"zerolinecolor\":\"white\",\"zerolinewidth\":2},\"yaxis\":{\"automargin\":true,\"gridcolor\":\"white\",\"linecolor\":\"white\",\"ticks\":\"\",\"title\":{\"standoff\":15},\"zerolinecolor\":\"white\",\"zerolinewidth\":2}}},\"mapbox\":{\"domain\":{\"x\":[0.0,1.0],\"y\":[0.0,1.0]},\"center\":{\"lat\":32.33936234196622,\"lon\":-110.91894020454541},\"accesstoken\":\"pk.eyJ1IjoiZ2VybWFuZWJyMiIsImEiOiJjbDN3MHkxbXcwYm4xM2lycWxqanBoYncwIn0.6WyAzYpgT0NZkw7myqd1fQ\",\"zoom\":10},\"coloraxis\":{\"colorbar\":{\"title\":{\"text\":\"sold_price\"}},\"colorscale\":[[0.0,\"#0d0887\"],[0.1111111111111111,\"#46039f\"],[0.2222222222222222,\"#7201a8\"],[0.3333333333333333,\"#9c179e\"],[0.4444444444444444,\"#bd3786\"],[0.5555555555555556,\"#d8576b\"],[0.6666666666666666,\"#ed7953\"],[0.7777777777777778,\"#fb9f3a\"],[0.8888888888888888,\"#fdca26\"],[1.0,\"#f0f921\"]]},\"legend\":{\"tracegroupgap\":0},\"margin\":{\"t\":60}},                        {\"responsive\": true}                    ).then(function(){\n",
              "                            \n",
              "var gd = document.getElementById('c2ae5266-8244-41c5-92dc-c04bf627279c');\n",
              "var x = new MutationObserver(function (mutations, observer) {{\n",
              "        var display = window.getComputedStyle(gd).display;\n",
              "        if (!display || display === 'none') {{\n",
              "            console.log([gd, 'removed!']);\n",
              "            Plotly.purge(gd);\n",
              "            observer.disconnect();\n",
              "        }}\n",
              "}});\n",
              "\n",
              "// Listen for the removal of the full notebook cells\n",
              "var notebookContainer = gd.closest('#notebook-container');\n",
              "if (notebookContainer) {{\n",
              "    x.observe(notebookContainer, {childList: true});\n",
              "}}\n",
              "\n",
              "// Listen for the clearing of the current output cell\n",
              "var outputEl = gd.closest('.output');\n",
              "if (outputEl) {{\n",
              "    x.observe(outputEl, {childList: true});\n",
              "}}\n",
              "\n",
              "                        })                };                            </script>        </div>\n",
              "</body>\n",
              "</html>"
            ]
          },
          "metadata": {}
        }
      ],
      "source": [
        "px.set_mapbox_access_token(my_token)\n",
        "map = px.scatter_mapbox(data,\n",
        "                        lat=\"latitude\",\n",
        "                        lon=\"longitude\",     \n",
        "                        color=\"sold_price\",\n",
        "                        #color_continuous_scale=px.colors.cyclical.IceFire, \n",
        "                        size_max=15,\n",
        "                        zoom=10)\n",
        "map.show()"
      ]
    },
    {
      "cell_type": "markdown",
      "metadata": {
        "id": "wQAOvNJjIjw1"
      },
      "source": [
        "Check how much data is left after centering the data into the desired region"
      ]
    },
    {
      "cell_type": "code",
      "execution_count": 19,
      "metadata": {
        "colab": {
          "base_uri": "https://localhost:8080/",
          "height": 0
        },
        "id": "S9Gk03-YIig6",
        "outputId": "8c54ef33-d18b-4807-ebc8-b833782732fe"
      },
      "outputs": [
        {
          "output_type": "execute_result",
          "data": {
            "text/plain": [
              "(3784, 6)"
            ]
          },
          "metadata": {},
          "execution_count": 19
        }
      ],
      "source": [
        "data.shape"
      ]
    },
    {
      "cell_type": "markdown",
      "metadata": {
        "id": "FT_Ci8gbJ5CL"
      },
      "source": [
        "Encode the features of the kitchen with the following rules:\n",
        "\n",
        "\n",
        "1.   Appliance color\n",
        "  *   Black\n",
        "  *   Stainless\n",
        "2.   Countertops\n",
        "  *   Butch block\n",
        "  *   Island\n",
        "  *   Quartzite\n",
        "3.   Microwave\n",
        "4.   Electric oven\n",
        "  *   Electric\n",
        "  *   Electric range\n",
        "5.   Convection oven\n",
        "  *   Oven\n",
        "  *   \\# of ovens\n",
        "  *   Convection\n",
        "6.   Gas oven\n",
        "  *   Gas range\n",
        "  *   Gas cooktop\n",
        "7.   Compactor\n",
        "8.   Desk\n",
        "9.   Dishwasher\n",
        "10.  Sink\n",
        "  *   Prep sink\n",
        "  *   Double sink\n",
        "11.  Freezer\n",
        "12.  Garbage disposal\n",
        "13.  Pantry\n",
        "14.  Indoor grill\n",
        "15.  Lazy Susan\n",
        "16.  Refrigerator\n",
        "17.  Water purifier\n",
        "  *   Reverse osmosis\n",
        "18.  Warming drawer\n",
        "19.  Wet bar\n",
        "20.  Wine cooler\n",
        "\n"
      ]
    },
    {
      "cell_type": "code",
      "execution_count": 20,
      "metadata": {
        "colab": {
          "base_uri": "https://localhost:8080/",
          "height": 0
        },
        "id": "gxZ_sR8pJ3rT",
        "outputId": "9b05c34e-3f3c-46db-e925-2c80dfeba997"
      },
      "outputs": [
        {
          "output_type": "stream",
          "name": "stdout",
          "text": [
            "[' appliance color: almond' ' appliance color: black'\n",
            " ' appliance color: other' ' appliance color: stainless'\n",
            " ' appliance color: white' ' black' ' butch block' ' convection'\n",
            " ' countertops: .' ' countertops: brazilian granite'\n",
            " ' countertops: brazillian slate' ' countertops: butcher block on isl'\n",
            " ' countertops: butcherblock/concret' ' countertops: caesar stone'\n",
            " ' countertops: caesarstone' ' countertops: ceasarstone'\n",
            " ' countertops: ceramic' ' countertops: ceramic tile'\n",
            " ' countertops: colored concrete' ' countertops: combo'\n",
            " ' countertops: composite' ' countertops: composite granite'\n",
            " ' countertops: concrete' ' countertops: concrete/wood'\n",
            " ' countertops: corian' ' countertops: corian - wood'\n",
            " ' countertops: corion' ' countertops: corrian'\n",
            " ' countertops: custom concrete' ' countertops: custom tile'\n",
            " ' countertops: custom tile &granite' ' countertops: dekton / granite'\n",
            " ' countertops: fascination quartzi' ' countertops: formica'\n",
            " ' countertops: ganite' ' countertops: garnite'\n",
            " ' countertops: gas / black' ' countertops: graniet'\n",
            " ' countertops: granite' ' countertops: granite & butcher bl'\n",
            " ' countertops: granite & concrete' ' countertops: granite & corine'\n",
            " ' countertops: granite & quartz' ' countertops: granite + concrete'\n",
            " ' countertops: granite / quartzite' ' countertops: granite monte cristo'\n",
            " ' countertops: granite or quartz' ' countertops: granite slab'\n",
            " ' countertops: granite slabs' ' countertops: granite tile'\n",
            " ' countertops: granite/ silstone' ' countertops: granite/copper'\n",
            " ' countertops: granite/formica' ' countertops: granite/quartz'\n",
            " ' countertops: granite/quartzsite' ' countertops: granite/slate'\n",
            " ' countertops: granite/tile' ' countertops: granite/wood'\n",
            " ' countertops: grantie/steel' ' countertops: grantite & quartz'\n",
            " ' countertops: grey quartz' ' countertops: honed granite'\n",
            " ' countertops: included' ' countertops: labradorite granite'\n",
            " ' countertops: laminate' ' countertops: leathered granite'\n",
            " ' countertops: limestone' ' countertops: limestone and ss'\n",
            " ' countertops: mahogany' ' countertops: marble'\n",
            " ' countertops: marble & granite' ' countertops: marble slab'\n",
            " ' countertops: mex tile' ' countertops: new. quartz'\n",
            " ' countertops: other' ' countertops: porcelain tile'\n",
            " ' countertops: quartz' ' countertops: quartz/granite'\n",
            " ' countertops: quartz/marble' ' countertops: quartzite'\n",
            " ' countertops: recycled glass' ' countertops: silesstone'\n",
            " ' countertops: silestone' ' countertops: slab granite'\n",
            " ' countertops: slate' ' countertops: slate tile'\n",
            " ' countertops: slate/honed granite' ' countertops: soap stone'\n",
            " ' countertops: soapstone' ' countertops: stained concrete'\n",
            " ' countertops: stainless' ' countertops: steel' ' countertops: stone'\n",
            " ' countertops: stone tile' ' countertops: stonite'\n",
            " ' countertops: taj mahal quartzite' ' countertops: talavera tile'\n",
            " ' countertops: tbd' ' countertops: teak wood' ' countertops: tile'\n",
            " ' countertops: tile & formica' ' countertops: tile & wood'\n",
            " ' countertops: tile/wood' ' countertops: travertine'\n",
            " ' countertops: travertine slab' ' countertops: travertine tile'\n",
            " ' countertops: tumbled marble' ' countertops: upg granite'\n",
            " ' countertops: white quartz' ' countertops: wood'\n",
            " ' countertops: wood/granite' ' countertops: yes'\n",
            " ' countertops: zodiak quartz' ' desk' ' dishwasher' ' double sink'\n",
            " ' electric' ' electric oven' ' electric range' ' freezer'\n",
            " ' garbage disposal' ' gas cooktop' ' gas range' ' ge' ' indoor grill'\n",
            " ' island' ' lazy susan' ' microwave' ' microwave:  built in'\n",
            " ' microwave: +convection built-in' ' microwave: -' ' microwave: .'\n",
            " ' microwave: 0n counter' ' microwave: 1' ' microwave: above counter'\n",
            " ' microwave: above gas cooktop' ' microwave: above oven'\n",
            " ' microwave: above range' ' microwave: above stove'\n",
            " ' microwave: above stove/oven' ' microwave: advantium'\n",
            " ' microwave: advantium speed' ' microwave: area' ' microwave: avantium'\n",
            " ' microwave: bertazzoni' ' microwave: black'\n",
            " ' microwave: black stainless stee' ' microwave: bosch'\n",
            " ' microwave: builkt-in' ' microwave: built -in' ' microwave: built in'\n",
            " ' microwave: built in / black' ' microwave: built in cabinet'\n",
            " ' microwave: built in on stove' ' microwave: built in ss'\n",
            " ' microwave: built in wall' ' microwave: built in white'\n",
            " ' microwave: built in-black' ' microwave: built-in'\n",
            " ' microwave: built-in wall' ' microwave: built-in wall unit'\n",
            " ' microwave: built-in/convention' ' microwave: built-in/stainless'\n",
            " ' microwave: builtin' ' microwave: buyer verify' ' microwave: combo'\n",
            " ' microwave: convect. ge' ' microwave: convection'\n",
            " ' microwave: convection & regular' ' microwave: convection microwave'\n",
            " ' microwave: convection/steam' ' microwave: convention'\n",
            " ' microwave: conventional' ' microwave: counter'\n",
            " ' microwave: counter top' ' microwave: countertop' ' microwave: dacor'\n",
            " ' microwave: dacor convection' ' microwave: dacor stainless'\n",
            " ' microwave: decor' ' microwave: drawer' ' microwave: drawer built in'\n",
            " ' microwave: elec' ' microwave: electric/brolier'\n",
            " ' microwave: free standing' ' microwave: ge' ' microwave: ge  convection'\n",
            " ' microwave: ge cafe advantium' ' microwave: ge mongram'\n",
            " ' microwave: ge monogram' ' microwave: ge moongram'\n",
            " ' microwave: ge profile' ' microwave: ge profile advantium'\n",
            " ' microwave: ge stainless' ' microwave: ge stainless in butl'\n",
            " ' microwave: ge stainless steel' ' microwave: in kitchen'\n",
            " ' microwave: in pantry' ' microwave: in-cabinet' ' microwave: included'\n",
            " ' microwave: inset cabinet' ' microwave: installed'\n",
            " ' microwave: jenn air' ' microwave: jenn aire'\n",
            " ' microwave: jenn aire built in' ' microwave: kad dual convection'\n",
            " ' microwave: kenmore' ' microwave: kitchen aid' ' microwave: kitchen-aid'\n",
            " ' microwave: kitchenaid' ' microwave: micro/convention'\n",
            " ' microwave: microwave' ' microwave: miele' ' microwave: mounted'\n",
            " ' microwave: new' ' microwave: new ss ge profile' ' microwave: none'\n",
            " ' microwave: not built in' ' microwave: on shelf' ' microwave: on wall'\n",
            " ' microwave: other' ' microwave: oven' ' microwave: over cooktop'\n",
            " ' microwave: over range' ' microwave: over stove'\n",
            " ' microwave: over the stove' ' microwave: overhead'\n",
            " ' microwave: s/s convection' ' microwave: samsung'\n",
            " ' microwave: satinless' ' microwave: sharp' ' microwave: shelf'\n",
            " ' microwave: shelf + builtin' ' microwave: ss' ' microwave: ss jenn-air'\n",
            " ' microwave: ss/oven' ' microwave: stainless'\n",
            " ' microwave: stainless built in' ' microwave: stainless built-in'\n",
            " ' microwave: stainless ge' ' microwave: stainless over oven'\n",
            " ' microwave: stainless steel' ' microwave: stainless viking'\n",
            " ' microwave: stainless/confection' ' microwave: stainless/convection'\n",
            " ' microwave: stand alone' ' microwave: tbd' ' microwave: thermador'\n",
            " ' microwave: two built in' ' microwave: unattached'\n",
            " ' microwave: under cabinet' ' microwave: under counter'\n",
            " ' microwave: under upper cabinet' ' microwave: undercabinet'\n",
            " ' microwave: upgraded' ' microwave: upper cabinet' ' microwave: viking'\n",
            " ' microwave: wall' ' microwave: wall mounted' ' microwave: whirlpool'\n",
            " ' microwave: white' ' microwave: white ge' ' microwave: wolf'\n",
            " ' microwave: y' ' microwave: yes' ' missing: -' ' missing: appliances'\n",
            " ' missing: custom oak cabinets' ' missing: microwave' ' missing: oven'\n",
            " ' missing: refrigerator' ' missing: stainless' ' missing: wine cooler'\n",
            " ' missing: wine fridge' ' missing: wine frig'\n",
            " ' missing: wine refrigerator' ' missing: wine room/storage' ' oven'\n",
            " ' oven:  2 ovens' ' oven:  wolf double' ' oven: & warming drawer'\n",
            " ' oven: -' ' oven: .' ' oven: .double' ' oven: 2' ' oven: 2 - built in'\n",
            " ' oven: 2 elec/convect/micro' ' oven: 2 ovens' ' oven: 2 stainless ovens'\n",
            " ' oven: 2 wall ovens' ' oven: 2 x wall ovens' ' oven: 2-electric'\n",
            " ' oven: 3' ' oven: 3 wolf' ' oven: bbl convection' ' oven: bertazzoni'\n",
            " ' oven: black' ' oven: blue star' ' oven: bosch' ' oven: built -in'\n",
            " ' oven: built in' ' oven: built in  convection'\n",
            " ' oven: built in off white' ' oven: built in wall' ' oven: built-in'\n",
            " ' oven: built-in black' ' oven: built-in gas' ' oven: built-in ss'\n",
            " ' oven: built-in wall' ' oven: buyer verify' ' oven: conv. & advantium'\n",
            " ' oven: convection' ' oven: convection (2)' ' oven: convection double'\n",
            " ' oven: convection oven' ' oven: convection/steam' ' oven: cooktop'\n",
            " ' oven: dacor' ' oven: decor' ' oven: double' ' oven: double  ovens'\n",
            " ' oven: double - electric' ' oven: double - ge monogram'\n",
            " ' oven: double - ss' ' oven: double convection'\n",
            " ' oven: double elec/conss' ' oven: double gas'\n",
            " ' oven: double ge monogram' ' oven: double in stove' ' oven: double oven'\n",
            " ' oven: double oven built-in' ' oven: double oven/cook top'\n",
            " ' oven: double ovens' ' oven: double range' ' oven: double ss'\n",
            " ' oven: double stacked' ' oven: double stainless'\n",
            " ' oven: double viking ovens' ' oven: double w/convection'\n",
            " ' oven: double wall' ' oven: double wall mounted'\n",
            " ' oven: double wall oven' ' oven: double wall ovens'\n",
            " ' oven: double-stainless' ' oven: double/black' ' oven: double/built-in'\n",
            " ' oven: double/convection' ' oven: double/stainless' ' oven: drop-in'\n",
            " ' oven: dual' ' oven: dual in wall' ' oven: elec/gas/convection'\n",
            " ' oven: electric' ' oven: electric / black' ' oven: electric built in'\n",
            " ' oven: electric double oven' ' oven: electric range 36������'\n",
            " ' oven: electric wall' ' oven: electric/dual' ' oven: electric/gas stove'\n",
            " ' oven: five star stainless' ' oven: gas' ' oven: gas & convection'\n",
            " ' oven: gas & electric black' ' oven: gas - double'\n",
            " ' oven: gas decor stainless' ' oven: gas range/oven'\n",
            " ' oven: gas/stainless' ' oven: gas/wall' ' oven: gas?' ' oven: ge'\n",
            " ' oven: ge built-in' ' oven: ge convection' ' oven: ge monogram'\n",
            " ' oven: ge profile' ' oven: ge profile electric' ' oven: ge stainless'\n",
            " ' oven: glass top' ' oven: in kitchen' ' oven: in range'\n",
            " ' oven: included' ' oven: italian' ' oven: jenn-air'\n",
            " ' oven: jenn-air 6 burner' ' oven: kad' ' oven: kenmore'\n",
            " ' oven: kitchen air' ' oven: kitchen-aid' ' oven: kitchenaid'\n",
            " ' oven: miele' ' oven: monogram dbl' ' oven: multiple wall ovens'\n",
            " ' oven: mutiple' ' oven: new built in' ' oven: new ss ge profile'\n",
            " ' oven: new. gas range' ' oven: other' ' oven: oven' ' oven: oven/ stove'\n",
            " ' oven: oven/stove stainless' ' oven: part of range & elec'\n",
            " \" oven: professional 36'' gas\" \" oven: professional 48''\" ' oven: range'\n",
            " ' oven: range has 2 ovens' ' oven: s/s' ' oven: samsung' ' oven: single'\n",
            " ' oven: slide in range' ' oven: ss' ' oven: ss ge cafe'\n",
            " ' oven: ss jenn-air' ' oven: stainless' ' oven: stainless built in'\n",
            " ' oven: stainless built-in' ' oven: stainless high-end'\n",
            " ' oven: stainless steel' ' oven: stainless viking'\n",
            " ' oven: stainless/convection' ' oven: stainless/gas' ' oven: stanless'\n",
            " ' oven: stianless' ' oven: stove/oven' ' oven: tbd' ' oven: thermador'\n",
            " ' oven: total of 2' ' oven: two' ' oven: two ovens' ' oven: viking'\n",
            " ' oven: viking appliances' ' oven: vintage' ' oven: wall'\n",
            " ' oven: wall (electric)' ' oven: wall mounted' ' oven: wall oven'\n",
            " ' oven: wall with convection' ' oven: whirlpool' ' oven: white'\n",
            " ' oven: white ge built in' ' oven: wolf' ' oven: wolf & viking dbl ov'\n",
            " ' oven: wolf 6-burner' ' oven: wolf brand' ' oven: wolf ss'\n",
            " ' oven: wolf-dual fuel range' ' oven: x 2' ' oven: y' ' oven: yes'\n",
            " ' pantry: butler' ' pantry: cabinet' ' pantry: closet' ' pantry: walk-in'\n",
            " ' prep sink' ' refrigerator' ' reverse osmosis' ' stainless' ' tile'\n",
            " ' warming drawer' ' water purifier' ' wet bar' ' wine cooler'\n",
            " '# of ovens: 1' '# of ovens: 2' 'compactor' 'convection oven' 'desk'\n",
            " 'dishwasher' 'double sink' 'electric range' 'freezer' 'garbage disposal'\n",
            " 'gas range' 'island' 'none' 'oven' 'quartzite' 'refrigerator' 'wet bar'] 478\n",
            "[' appliance color' ' countertops' ' microwave' ' missing' ' oven'\n",
            " ' pantry' '# of ovens' 'black' 'butch block' 'compactor' 'convection'\n",
            " 'convection oven' 'desk' 'dishwasher' 'double sink' 'electric'\n",
            " 'electric oven' 'electric range' 'freezer' 'garbage disposal'\n",
            " 'gas cooktop' 'gas range' 'ge' 'indoor grill' 'island' 'lazy susan'\n",
            " 'microwave' 'none' 'oven' 'prep sink' 'quartzite' 'refrigerator'\n",
            " 'reverse osmosis' 'stainless' 'tile' 'warming drawer' 'water purifier'\n",
            " 'wet bar' 'wine cooler'] 39\n"
          ]
        }
      ],
      "source": [
        "\"\"\" For the kitchen_features feature, it is necessary to first separate the\n",
        "characteristics into different columns. After that, we can observe which ones\n",
        "each house contains, and then create a new column with the vectorized\n",
        "representations of them (not one-hot encoders). \"\"\"\n",
        "\n",
        "# Join every single characteristic into one list\n",
        "feature = data[\"kitchen_features\"]\n",
        "kitchen_chars = []\n",
        "kitchen_vectors = []\n",
        "\n",
        "for i in feature:\n",
        "  description = i.lower().split(\",\")\n",
        "  kitchen_chars += description\n",
        "\n",
        "# Check the unique characteristics on the list\n",
        "print(np.unique(kitchen_chars),len(np.unique(kitchen_chars)))\n",
        "\n",
        "# Create a vector with all the unique values\n",
        "labels = []\n",
        "\n",
        "for i in kitchen_chars:\n",
        "  if ':' in i:\n",
        "    aux = i.split(':')[0]\n",
        "    labels.append(aux) #Just keep the general feature\n",
        "    #print(f\"Saving {aux}\")\n",
        "  elif i[0] == ' ':\n",
        "    aux = i[1:]\n",
        "    labels.append(aux)\n",
        "  else:\n",
        "    labels.append(i)\n",
        "    #print(f\"Saving {i}\")\n",
        "\n",
        "labels = np.unique(labels) \n",
        "print(labels,len(labels))\n",
        "\n",
        "#These labels should be given to the programming team as additional data\n",
        "labels = ['appliance_color','countertops','microwave','electric_oven','convection_oven','gas_oven','compactor','desk',\n",
        "          'dishwasher','sink','freezer','garbage_disposal','pantry','indoor_grill','lazy_susan','refrigerator',\n",
        "          'water_purifier','warming_drawer','wet_bar','wine_cooler']\n",
        "\n",
        "for i in feature:\n",
        "  encoder = np.zeros(20)\n",
        "  description = i.lower().split(\",\")\n",
        "\n",
        "  for j in description:\n",
        "    if ':' in j:\n",
        "      j = j.split(':')[0]\n",
        "    \n",
        "    j = j.replace(' ','_')\n",
        "    \n",
        "    for k in range(len(labels)):\n",
        "      if labels[k] in j:\n",
        "        encoder[k] = 1\n",
        "      else:\n",
        "        if j == 'black' or j == 'stainless':\n",
        "          encoder[0] = 1\n",
        "        if j == 'butch_block' or j == 'island' or j == 'quartzite':\n",
        "          encoder[1] = 1\n",
        "        if 'electric' in j:\n",
        "          encoder[3] = 1\n",
        "        if j == 'oven' or 'convection' in j or j == '#_of_ovens':\n",
        "          encoder[4] = 1\n",
        "        if 'gas' in j:\n",
        "          encoder[5] = 1\n",
        "        if 'osmosis' in j:\n",
        "          encoder[16] = 1\n",
        "  \n",
        "  kitchen_vectors.append(encoder)\n",
        "\n",
        "# Create the columns with the presence of each feature\n",
        "appliance = []\n",
        "countertop = []\n",
        "microwave = []\n",
        "electric = []\n",
        "convection = []\n",
        "gas = []\n",
        "compactor = []\n",
        "desk = []\n",
        "dishwasher = []\n",
        "sink = []\n",
        "freezer = []\n",
        "garbage = []\n",
        "pantry = []\n",
        "grill = []\n",
        "lazy = []\n",
        "refrigerator = []\n",
        "purifier = []\n",
        "warming = []\n",
        "wet = []\n",
        "wine = []\n",
        "\n",
        "for i in kitchen_vectors:\n",
        "  appliance.append(i[0])\n",
        "  countertop.append(i[1])\n",
        "  microwave.append(i[2])\n",
        "  electric.append(i[3])\n",
        "  convection.append(i[4])\n",
        "  gas.append(i[5])\n",
        "  compactor.append(i[6])\n",
        "  desk.append(i[7])\n",
        "  dishwasher.append(i[8])\n",
        "  sink.append(i[9])\n",
        "  freezer.append(i[10])\n",
        "  garbage.append(i[11])\n",
        "  pantry.append(i[12])\n",
        "  grill.append(i[13])\n",
        "  lazy.append(i[14])\n",
        "  refrigerator.append(i[15])\n",
        "  purifier.append(i[16])\n",
        "  warming.append(i[17])\n",
        "  wet.append(i[18])\n",
        "  wine.append(i[19])\n",
        "\n",
        "data['appliance'] = appliance\n",
        "data['countertop'] = countertop\n",
        "data['microwave'] = microwave\n",
        "data['electric'] = electric\n",
        "data['convection'] = convection\n",
        "data['gas'] = gas\n",
        "data['compactor'] = compactor\n",
        "data['desk'] = desk\n",
        "data['dishwasher'] = dishwasher\n",
        "data['sink'] = sink\n",
        "data['freezer'] = freezer\n",
        "data['garbage'] = garbage\n",
        "data['pantry'] = pantry\n",
        "data['grill'] = grill\n",
        "data['lazy'] = lazy\n",
        "data['refrigerator'] = refrigerator\n",
        "data['purifier'] = purifier\n",
        "data['warming'] = warming\n",
        "data['wet'] = wet\n",
        "data['wine'] = wine\n",
        "\n",
        "data['appliance'] = data['appliance'].astype(int)\n",
        "data['countertop'] = data['countertop'].astype(int)\n",
        "data['microwave'] = data['microwave'].astype(int)\n",
        "data['electric'] = data['electric'].astype(int)\n",
        "data['convection'] = data['convection'].astype(int)\n",
        "data['gas'] = data['gas'].astype(int)\n",
        "data['compactor'] = data['compactor'].astype(int)\n",
        "data['desk'] = data['desk'].astype(int)\n",
        "data['dishwasher'] = data['dishwasher'].astype(int)\n",
        "data['sink'] = data['sink'].astype(int)\n",
        "data['freezer'] = data['freezer'].astype(int)\n",
        "data['garbage'] = data['garbage'].astype(int)\n",
        "data['pantry'] = data['pantry'].astype(int)\n",
        "data['grill'] = data['grill'].astype(int)\n",
        "data['lazy'] = data['lazy'].astype(int)\n",
        "data['refrigerator'] = data['refrigerator'].astype(int)\n",
        "data['purifier'] = data['purifier'].astype(int)\n",
        "data['warming'] = data['warming'].astype(int)\n",
        "data['wet'] = data['wet'].astype(int)\n",
        "data['wine'] = data['wine'].astype(int)"
      ]
    },
    {
      "cell_type": "markdown",
      "metadata": {
        "id": "2zbYIBfisTrr"
      },
      "source": [
        "Encode the features of the floor column with the following rules:\n",
        "\n",
        "1.   Mexican\n",
        "  *   Talavera\n",
        "2.   Porcelain\n",
        "  *   100% porcelain tile\n",
        "  *   italian\n",
        "  *   porcelain wood\n",
        "  *   porclain\n",
        "3.   Stone\n",
        "  *   Natural stone\n",
        "  *   Cantera\n",
        "4.   Acrylic\n",
        "  *   acrylic overlay\n",
        "5.   Wood\n",
        "  *   bamboo\n",
        "  *   brazilian pergo\n",
        "6.   Brick\n",
        "7.   Carpet\n",
        "8.   Ceramic\n",
        "9.   Concrete\n",
        "10.  Vinyl\n",
        "11.  Marble\n",
        "12.   Other"
      ]
    },
    {
      "cell_type": "code",
      "execution_count": 21,
      "metadata": {
        "colab": {
          "base_uri": "https://localhost:8080/",
          "height": 0
        },
        "id": "XAfqxx5wscaK",
        "outputId": "8506ac3f-1910-466d-9c4d-792d1815e348"
      },
      "outputs": [
        {
          "output_type": "stream",
          "name": "stdout",
          "text": [
            "[' ceramic tile' ' concrete' ' granite' ' indoor/outdoor' ' laminate'\n",
            " ' mexican tile' ' natural stone' ' other' ' other: acrylic overlay'\n",
            " ' other: bamboo' ' other: brazilian pergo' ' other: brick'\n",
            " ' other: brick floor' ' other: brick inlayed' ' other: brick pavers'\n",
            " ' other: canterra stone' ' other: carpet bedrooms only'\n",
            " ' other: carpet- guest house' ' other: concrete tile' ' other: cork'\n",
            " ' other: custom saltillo' ' other: dyed concrete'\n",
            " ' other: egytian sandstone' ' other: engineered wood' ' other: flagstone'\n",
            " ' other: high end laminate' ' other: itailian porclaine'\n",
            " ' other: italian tile' ' other: lime stone' ' other: limestone'\n",
            " ' other: lux vinyl' ' other: marble' ' other: marble-master bath'\n",
            " ' other: master bedroom/ tile' ' other: mesquite wood floors'\n",
            " ' other: multiple types' ' other: new wood plank tile'\n",
            " ' other: organic wool carpet' ' other: plank tile' ' other: porcelain'\n",
            " ' other: porcelain plank tile' ' other: porcelain tile'\n",
            " ' other: porcelain tile 24x24' ' other: porcelain wood tile'\n",
            " ' other: porcelain-wood' ' other: porcelain/engineered'\n",
            " ' other: porclain tile' ' other: real polishd aggrgt' ' other: red brick'\n",
            " ' other: refinished brick' ' other: rojo concrete overla'\n",
            " ' other: saltillo' ' other: saltillo on patio'\n",
            " ' other: san marcos mex tile' ' other: scored concrete' ' other: slate'\n",
            " ' other: slate tile' ' other: studio laminate' ' other: talavera floors'\n",
            " ' other: terrazzo' ' other: tile bathrooms' ' other: tile/powder rm'\n",
            " ' other: travertine' ' other: travertine & slate'\n",
            " ' other: travertine entry' ' other: travertine tile'\n",
            " ' other: travertine/flagstone' ' other: upg flooring'\n",
            " ' other: vinyl plank' ' other: vinyl planks' ' other: wood laminate'\n",
            " ' other: wood laminate water' ' other: wood like'\n",
            " ' other: wood plan laminate' ' vinyl' ' wood' 'carpet' 'ceramic tile'\n",
            " 'concrete' 'laminate' 'mexican tile' 'natural stone' 'other'\n",
            " 'other: 100% porcelain tile' 'other: brick' 'other: italian tile'\n",
            " 'other: luxury vinyl' 'other: polish concrete' 'other: polished brick'\n",
            " 'other: porcelain' 'other: porcelain tile' 'other: quartzite'\n",
            " 'other: recycled porcelain' 'other: saltillo tile' 'other: tile'\n",
            " 'other: travertine' 'wood'] 97\n",
            "[' 100% porcelain tile' ' acrylic overlay' ' bamboo' ' brazilian pergo'\n",
            " ' brick' ' brick floor' ' brick inlayed' ' brick pavers'\n",
            " ' canterra stone' ' carpet bedrooms only' ' carpet- guest house'\n",
            " ' ceramic tile' ' concrete' ' concrete tile' ' cork' ' custom saltillo'\n",
            " ' dyed concrete' ' egytian sandstone' ' engineered wood' ' flagstone'\n",
            " ' granite' ' high end laminate' ' indoor/outdoor' ' itailian porclaine'\n",
            " ' italian tile' ' laminate' ' lime stone' ' limestone' ' lux vinyl'\n",
            " ' luxury vinyl' ' marble' ' marble-master bath' ' master bedroom/ tile'\n",
            " ' mesquite wood floors' ' mexican tile' ' multiple types'\n",
            " ' natural stone' ' new wood plank tile' ' organic wool carpet' ' other'\n",
            " ' plank tile' ' polish concrete' ' polished brick' ' porcelain'\n",
            " ' porcelain plank tile' ' porcelain tile' ' porcelain tile 24x24'\n",
            " ' porcelain wood tile' ' porcelain-wood' ' porcelain/engineered'\n",
            " ' porclain tile' ' quartzite' ' real polishd aggrgt'\n",
            " ' recycled porcelain' ' red brick' ' refinished brick'\n",
            " ' rojo concrete overla' ' saltillo' ' saltillo on patio' ' saltillo tile'\n",
            " ' san marcos mex tile' ' scored concrete' ' slate' ' slate tile'\n",
            " ' studio laminate' ' talavera floors' ' terrazzo' ' tile'\n",
            " ' tile bathrooms' ' tile/powder rm' ' travertine' ' travertine & slate'\n",
            " ' travertine entry' ' travertine tile' ' travertine/flagstone'\n",
            " ' upg flooring' ' vinyl' ' vinyl plank' ' vinyl planks' ' wood'\n",
            " ' wood laminate' ' wood laminate water' ' wood like'\n",
            " ' wood plan laminate' 'carpet' 'ceramic tile' 'concrete' 'laminate'\n",
            " 'mexican tile' 'natural stone' 'other' 'wood'] 92\n"
          ]
        }
      ],
      "source": [
        "# Join every single characteristic into one list\n",
        "feature = data[\"floor_covering\"]\n",
        "floor_chars = []\n",
        "floor_vectors = []\n",
        "\n",
        "for i in feature:\n",
        "  description = i.lower().split(\",\")\n",
        "  floor_chars += description\n",
        "\n",
        "# Check the unique characteristics on the list\n",
        "print(np.unique(floor_chars),len(np.unique(floor_chars)))\n",
        "\n",
        "# Create a vector with all the unique values\n",
        "labels = []\n",
        "\n",
        "for i in floor_chars:\n",
        "  if ':' in i:\n",
        "    aux = i.split(':')[1] #Save the first keyword of the description after the ':'\n",
        "    labels.append(aux) #Just keep the general feature\n",
        "    #print(f\"Saving {aux}\")\n",
        "  else:\n",
        "    labels.append(i)\n",
        "    #print(f\"Saving {i}\")\n",
        "\n",
        "labels = np.unique(labels)\n",
        "print(labels,len(labels))\n",
        "\n",
        "#These labels should be given to the programming team as additional data\n",
        "labels = ['mexican','porcelain','stone','acrylic','wood','brick','carpet','ceramic',\n",
        "          'concrete','vinyl','marble','other']\n",
        "\n",
        "for i in feature:\n",
        "  encoder = np.zeros(12)\n",
        "  description = i.lower().split(\",\")\n",
        "\n",
        "  for j in description:\n",
        "    if ':' in j:\n",
        "      j = j.split(':')[1]\n",
        "    \n",
        "    for k in range(len(labels)):\n",
        "      if labels[k] == j or labels[k] in j:\n",
        "        encoder[k] = 1\n",
        "      else:\n",
        "        if 'talavera' in j:\n",
        "          encoder[0] = 1\n",
        "        if 'italian' in j or 'porcelain wood' in j or 'porclain' in j:\n",
        "          encoder[1] = 1\n",
        "        if 'cantera' in j or 'canterra' in j:\n",
        "          encoder[2] = 1\n",
        "        if 'bamboo' in j or 'brazilian' in j:\n",
        "          encoder[3] = 1\n",
        "  \n",
        "  floor_vectors.append(encoder)\n",
        "\n",
        "# Create the columns with the presence of each feature\n",
        "mexican = []\n",
        "porcelain = []\n",
        "stone = []\n",
        "acrylic = []\n",
        "wood = []\n",
        "brick = []\n",
        "carpet = []\n",
        "ceramic = []\n",
        "concrete = []\n",
        "vinyl = []\n",
        "marble = []\n",
        "other = []\n",
        "\n",
        "for i in floor_vectors:\n",
        "  mexican.append(i[0])\n",
        "  porcelain.append(i[1])\n",
        "  stone.append(i[2])\n",
        "  acrylic.append(i[3])\n",
        "  wood.append(i[4])\n",
        "  brick.append(i[5])\n",
        "  carpet.append(i[6])\n",
        "  ceramic.append(i[7])\n",
        "  concrete.append(i[8])\n",
        "  vinyl.append(i[9])\n",
        "  marble.append(i[10])\n",
        "  other.append(i[11])\n",
        "\n",
        "data['mexican'] = mexican\n",
        "data['porcelain'] = porcelain\n",
        "data['stone'] = stone\n",
        "data['acrylic'] = acrylic\n",
        "data['wood'] = wood\n",
        "data['brick'] = brick\n",
        "data['carpet'] = carpet\n",
        "data['ceramic'] = ceramic\n",
        "data['concrete'] = concrete\n",
        "data['vinyl'] = vinyl\n",
        "data['marble'] = marble\n",
        "data['other'] = other\n",
        "\n",
        "data['mexican'] = data['mexican'].astype(int)\n",
        "data['porcelain'] = data['porcelain'].astype(int)\n",
        "data['stone'] = data['stone'].astype(int)\n",
        "data['acrylic'] = data['acrylic'].astype(int)\n",
        "data['wood'] = data['wood'].astype(int)\n",
        "data['brick'] = data['brick'].astype(int)\n",
        "data['carpet'] = data['carpet'].astype(int)\n",
        "data['ceramic'] = data['ceramic'].astype(int)\n",
        "data['concrete'] = data['concrete'].astype(int)\n",
        "data['vinyl'] = data['vinyl'].astype(int)\n",
        "data['marble'] = data['marble'].astype(int)\n",
        "data['other'] = data['other'].astype(int)"
      ]
    },
    {
      "cell_type": "markdown",
      "metadata": {
        "id": "R86cYlRn69dE"
      },
      "source": [
        "Visualize the dataset with the new columns"
      ]
    },
    {
      "cell_type": "code",
      "execution_count": 22,
      "metadata": {
        "colab": {
          "base_uri": "https://localhost:8080/",
          "height": 508
        },
        "id": "ARjCjhHR69F4",
        "outputId": "3ce0c2c8-a00e-42b7-c48a-2d45bcb2ea1a"
      },
      "outputs": [
        {
          "output_type": "execute_result",
          "data": {
            "text/plain": [
              "   sold_price   longitude   latitude sqrt_ft  \\\n",
              "0   3411450.0 -110.813768  32.285162    6396   \n",
              "1   2400000.0 -110.883315  32.261069   12025   \n",
              "2   2500000.0 -110.861002  32.331603    8921   \n",
              "3   3700000.0 -110.912156  32.343601    5238   \n",
              "4   2050000.0 -110.918294  32.341609    7230   \n",
              "\n",
              "                                    kitchen_features  \\\n",
              "0  Dishwasher, Garbage Disposal, Refrigerator, Mi...   \n",
              "1                 Dishwasher, Garbage Disposal, Oven   \n",
              "2  Compactor, Dishwasher, Freezer, Garbage Dispos...   \n",
              "3  Compactor, Dishwasher, Freezer, Garbage Dispos...   \n",
              "4  Dishwasher, Garbage Disposal, Refrigerator, Mi...   \n",
              "\n",
              "                       floor_covering  appliance  countertop  microwave  \\\n",
              "0                    Carpet, Concrete          0           0          1   \n",
              "1  Carpet, Natural Stone, Wood, Other          0           0          0   \n",
              "2         Carpet, Natural Stone, Wood          0           0          1   \n",
              "3  Carpet, Natural Stone, Wood, Other          0           0          1   \n",
              "4         Carpet, Natural Stone, Wood          0           0          1   \n",
              "\n",
              "   electric  ...  stone  acrylic  wood  brick  carpet  ceramic  concrete  \\\n",
              "0         0  ...      0        0     0      0       1        0         1   \n",
              "1         0  ...      1        0     1      0       1        0         0   \n",
              "2         0  ...      1        0     1      0       1        0         0   \n",
              "3         0  ...      1        0     1      0       1        0         0   \n",
              "4         0  ...      1        0     1      0       1        0         0   \n",
              "\n",
              "   vinyl  marble  other  \n",
              "0      0       0      0  \n",
              "1      0       0      1  \n",
              "2      0       0      0  \n",
              "3      0       0      1  \n",
              "4      0       0      0  \n",
              "\n",
              "[5 rows x 38 columns]"
            ],
            "text/html": [
              "\n",
              "  <div id=\"df-ec54384d-e7f6-4501-bc25-cd553ef65ee4\">\n",
              "    <div class=\"colab-df-container\">\n",
              "      <div>\n",
              "<style scoped>\n",
              "    .dataframe tbody tr th:only-of-type {\n",
              "        vertical-align: middle;\n",
              "    }\n",
              "\n",
              "    .dataframe tbody tr th {\n",
              "        vertical-align: top;\n",
              "    }\n",
              "\n",
              "    .dataframe thead th {\n",
              "        text-align: right;\n",
              "    }\n",
              "</style>\n",
              "<table border=\"1\" class=\"dataframe\">\n",
              "  <thead>\n",
              "    <tr style=\"text-align: right;\">\n",
              "      <th></th>\n",
              "      <th>sold_price</th>\n",
              "      <th>longitude</th>\n",
              "      <th>latitude</th>\n",
              "      <th>sqrt_ft</th>\n",
              "      <th>kitchen_features</th>\n",
              "      <th>floor_covering</th>\n",
              "      <th>appliance</th>\n",
              "      <th>countertop</th>\n",
              "      <th>microwave</th>\n",
              "      <th>electric</th>\n",
              "      <th>...</th>\n",
              "      <th>stone</th>\n",
              "      <th>acrylic</th>\n",
              "      <th>wood</th>\n",
              "      <th>brick</th>\n",
              "      <th>carpet</th>\n",
              "      <th>ceramic</th>\n",
              "      <th>concrete</th>\n",
              "      <th>vinyl</th>\n",
              "      <th>marble</th>\n",
              "      <th>other</th>\n",
              "    </tr>\n",
              "  </thead>\n",
              "  <tbody>\n",
              "    <tr>\n",
              "      <th>0</th>\n",
              "      <td>3411450.0</td>\n",
              "      <td>-110.813768</td>\n",
              "      <td>32.285162</td>\n",
              "      <td>6396</td>\n",
              "      <td>Dishwasher, Garbage Disposal, Refrigerator, Mi...</td>\n",
              "      <td>Carpet, Concrete</td>\n",
              "      <td>0</td>\n",
              "      <td>0</td>\n",
              "      <td>1</td>\n",
              "      <td>0</td>\n",
              "      <td>...</td>\n",
              "      <td>0</td>\n",
              "      <td>0</td>\n",
              "      <td>0</td>\n",
              "      <td>0</td>\n",
              "      <td>1</td>\n",
              "      <td>0</td>\n",
              "      <td>1</td>\n",
              "      <td>0</td>\n",
              "      <td>0</td>\n",
              "      <td>0</td>\n",
              "    </tr>\n",
              "    <tr>\n",
              "      <th>1</th>\n",
              "      <td>2400000.0</td>\n",
              "      <td>-110.883315</td>\n",
              "      <td>32.261069</td>\n",
              "      <td>12025</td>\n",
              "      <td>Dishwasher, Garbage Disposal, Oven</td>\n",
              "      <td>Carpet, Natural Stone, Wood, Other</td>\n",
              "      <td>0</td>\n",
              "      <td>0</td>\n",
              "      <td>0</td>\n",
              "      <td>0</td>\n",
              "      <td>...</td>\n",
              "      <td>1</td>\n",
              "      <td>0</td>\n",
              "      <td>1</td>\n",
              "      <td>0</td>\n",
              "      <td>1</td>\n",
              "      <td>0</td>\n",
              "      <td>0</td>\n",
              "      <td>0</td>\n",
              "      <td>0</td>\n",
              "      <td>1</td>\n",
              "    </tr>\n",
              "    <tr>\n",
              "      <th>2</th>\n",
              "      <td>2500000.0</td>\n",
              "      <td>-110.861002</td>\n",
              "      <td>32.331603</td>\n",
              "      <td>8921</td>\n",
              "      <td>Compactor, Dishwasher, Freezer, Garbage Dispos...</td>\n",
              "      <td>Carpet, Natural Stone, Wood</td>\n",
              "      <td>0</td>\n",
              "      <td>0</td>\n",
              "      <td>1</td>\n",
              "      <td>0</td>\n",
              "      <td>...</td>\n",
              "      <td>1</td>\n",
              "      <td>0</td>\n",
              "      <td>1</td>\n",
              "      <td>0</td>\n",
              "      <td>1</td>\n",
              "      <td>0</td>\n",
              "      <td>0</td>\n",
              "      <td>0</td>\n",
              "      <td>0</td>\n",
              "      <td>0</td>\n",
              "    </tr>\n",
              "    <tr>\n",
              "      <th>3</th>\n",
              "      <td>3700000.0</td>\n",
              "      <td>-110.912156</td>\n",
              "      <td>32.343601</td>\n",
              "      <td>5238</td>\n",
              "      <td>Compactor, Dishwasher, Freezer, Garbage Dispos...</td>\n",
              "      <td>Carpet, Natural Stone, Wood, Other</td>\n",
              "      <td>0</td>\n",
              "      <td>0</td>\n",
              "      <td>1</td>\n",
              "      <td>0</td>\n",
              "      <td>...</td>\n",
              "      <td>1</td>\n",
              "      <td>0</td>\n",
              "      <td>1</td>\n",
              "      <td>0</td>\n",
              "      <td>1</td>\n",
              "      <td>0</td>\n",
              "      <td>0</td>\n",
              "      <td>0</td>\n",
              "      <td>0</td>\n",
              "      <td>1</td>\n",
              "    </tr>\n",
              "    <tr>\n",
              "      <th>4</th>\n",
              "      <td>2050000.0</td>\n",
              "      <td>-110.918294</td>\n",
              "      <td>32.341609</td>\n",
              "      <td>7230</td>\n",
              "      <td>Dishwasher, Garbage Disposal, Refrigerator, Mi...</td>\n",
              "      <td>Carpet, Natural Stone, Wood</td>\n",
              "      <td>0</td>\n",
              "      <td>0</td>\n",
              "      <td>1</td>\n",
              "      <td>0</td>\n",
              "      <td>...</td>\n",
              "      <td>1</td>\n",
              "      <td>0</td>\n",
              "      <td>1</td>\n",
              "      <td>0</td>\n",
              "      <td>1</td>\n",
              "      <td>0</td>\n",
              "      <td>0</td>\n",
              "      <td>0</td>\n",
              "      <td>0</td>\n",
              "      <td>0</td>\n",
              "    </tr>\n",
              "  </tbody>\n",
              "</table>\n",
              "<p>5 rows × 38 columns</p>\n",
              "</div>\n",
              "      <button class=\"colab-df-convert\" onclick=\"convertToInteractive('df-ec54384d-e7f6-4501-bc25-cd553ef65ee4')\"\n",
              "              title=\"Convert this dataframe to an interactive table.\"\n",
              "              style=\"display:none;\">\n",
              "        \n",
              "  <svg xmlns=\"http://www.w3.org/2000/svg\" height=\"24px\"viewBox=\"0 0 24 24\"\n",
              "       width=\"24px\">\n",
              "    <path d=\"M0 0h24v24H0V0z\" fill=\"none\"/>\n",
              "    <path d=\"M18.56 5.44l.94 2.06.94-2.06 2.06-.94-2.06-.94-.94-2.06-.94 2.06-2.06.94zm-11 1L8.5 8.5l.94-2.06 2.06-.94-2.06-.94L8.5 2.5l-.94 2.06-2.06.94zm10 10l.94 2.06.94-2.06 2.06-.94-2.06-.94-.94-2.06-.94 2.06-2.06.94z\"/><path d=\"M17.41 7.96l-1.37-1.37c-.4-.4-.92-.59-1.43-.59-.52 0-1.04.2-1.43.59L10.3 9.45l-7.72 7.72c-.78.78-.78 2.05 0 2.83L4 21.41c.39.39.9.59 1.41.59.51 0 1.02-.2 1.41-.59l7.78-7.78 2.81-2.81c.8-.78.8-2.07 0-2.86zM5.41 20L4 18.59l7.72-7.72 1.47 1.35L5.41 20z\"/>\n",
              "  </svg>\n",
              "      </button>\n",
              "      \n",
              "  <style>\n",
              "    .colab-df-container {\n",
              "      display:flex;\n",
              "      flex-wrap:wrap;\n",
              "      gap: 12px;\n",
              "    }\n",
              "\n",
              "    .colab-df-convert {\n",
              "      background-color: #E8F0FE;\n",
              "      border: none;\n",
              "      border-radius: 50%;\n",
              "      cursor: pointer;\n",
              "      display: none;\n",
              "      fill: #1967D2;\n",
              "      height: 32px;\n",
              "      padding: 0 0 0 0;\n",
              "      width: 32px;\n",
              "    }\n",
              "\n",
              "    .colab-df-convert:hover {\n",
              "      background-color: #E2EBFA;\n",
              "      box-shadow: 0px 1px 2px rgba(60, 64, 67, 0.3), 0px 1px 3px 1px rgba(60, 64, 67, 0.15);\n",
              "      fill: #174EA6;\n",
              "    }\n",
              "\n",
              "    [theme=dark] .colab-df-convert {\n",
              "      background-color: #3B4455;\n",
              "      fill: #D2E3FC;\n",
              "    }\n",
              "\n",
              "    [theme=dark] .colab-df-convert:hover {\n",
              "      background-color: #434B5C;\n",
              "      box-shadow: 0px 1px 3px 1px rgba(0, 0, 0, 0.15);\n",
              "      filter: drop-shadow(0px 1px 2px rgba(0, 0, 0, 0.3));\n",
              "      fill: #FFFFFF;\n",
              "    }\n",
              "  </style>\n",
              "\n",
              "      <script>\n",
              "        const buttonEl =\n",
              "          document.querySelector('#df-ec54384d-e7f6-4501-bc25-cd553ef65ee4 button.colab-df-convert');\n",
              "        buttonEl.style.display =\n",
              "          google.colab.kernel.accessAllowed ? 'block' : 'none';\n",
              "\n",
              "        async function convertToInteractive(key) {\n",
              "          const element = document.querySelector('#df-ec54384d-e7f6-4501-bc25-cd553ef65ee4');\n",
              "          const dataTable =\n",
              "            await google.colab.kernel.invokeFunction('convertToInteractive',\n",
              "                                                     [key], {});\n",
              "          if (!dataTable) return;\n",
              "\n",
              "          const docLinkHtml = 'Like what you see? Visit the ' +\n",
              "            '<a target=\"_blank\" href=https://colab.research.google.com/notebooks/data_table.ipynb>data table notebook</a>'\n",
              "            + ' to learn more about interactive tables.';\n",
              "          element.innerHTML = '';\n",
              "          dataTable['output_type'] = 'display_data';\n",
              "          await google.colab.output.renderOutput(dataTable, element);\n",
              "          const docLink = document.createElement('div');\n",
              "          docLink.innerHTML = docLinkHtml;\n",
              "          element.appendChild(docLink);\n",
              "        }\n",
              "      </script>\n",
              "    </div>\n",
              "  </div>\n",
              "  "
            ]
          },
          "metadata": {},
          "execution_count": 22
        }
      ],
      "source": [
        "data = data.reset_index()\n",
        "data.drop('index', inplace=True, axis=1)\n",
        "data.head()"
      ]
    },
    {
      "cell_type": "code",
      "execution_count": 23,
      "metadata": {
        "colab": {
          "base_uri": "https://localhost:8080/",
          "height": 0
        },
        "id": "gxKm4oOVYqFj",
        "outputId": "d60d9d37-3a84-474d-b346-70da1c52905a"
      },
      "outputs": [
        {
          "output_type": "execute_result",
          "data": {
            "text/plain": [
              "sold_price          float64\n",
              "longitude           float64\n",
              "latitude            float64\n",
              "sqrt_ft              object\n",
              "kitchen_features     object\n",
              "floor_covering       object\n",
              "appliance             int64\n",
              "countertop            int64\n",
              "microwave             int64\n",
              "electric              int64\n",
              "convection            int64\n",
              "gas                   int64\n",
              "compactor             int64\n",
              "desk                  int64\n",
              "dishwasher            int64\n",
              "sink                  int64\n",
              "freezer               int64\n",
              "garbage               int64\n",
              "pantry                int64\n",
              "grill                 int64\n",
              "lazy                  int64\n",
              "refrigerator          int64\n",
              "purifier              int64\n",
              "warming               int64\n",
              "wet                   int64\n",
              "wine                  int64\n",
              "mexican               int64\n",
              "porcelain             int64\n",
              "stone                 int64\n",
              "acrylic               int64\n",
              "wood                  int64\n",
              "brick                 int64\n",
              "carpet                int64\n",
              "ceramic               int64\n",
              "concrete              int64\n",
              "vinyl                 int64\n",
              "marble                int64\n",
              "other                 int64\n",
              "dtype: object"
            ]
          },
          "metadata": {},
          "execution_count": 23
        }
      ],
      "source": [
        "data.dtypes"
      ]
    },
    {
      "cell_type": "code",
      "execution_count": 24,
      "metadata": {
        "colab": {
          "base_uri": "https://localhost:8080/",
          "height": 660
        },
        "id": "zzOABJu5krca",
        "outputId": "0385e65f-87cb-47f6-99bc-a72f9ce77573"
      },
      "outputs": [
        {
          "output_type": "execute_result",
          "data": {
            "text/plain": [
              "<matplotlib.axes._subplots.AxesSubplot at 0x7fcb1850cf10>"
            ]
          },
          "metadata": {},
          "execution_count": 24
        },
        {
          "output_type": "display_data",
          "data": {
            "text/plain": [
              "<Figure size 720x720 with 2 Axes>"
            ],
            "image/png": "[encoded data removed]"
          },
          "metadata": {
            "needs_background": "light"
          }
        }
      ],
      "source": [
        "plt.figure(figsize=(10,10))\n",
        "heat1 = data.corr()\n",
        "sns.heatmap(heat1,cmap=\"BrBG\",annot=False)"
      ]
    },
    {
      "cell_type": "code",
      "source": [
        "plt.figure(figsize=(7,7))\n",
        "plt.scatter(data['sold_price'],data['sqrt_ft'],c=data['appliance'])\n",
        "plt.xlabel('sold_price')\n",
        "plt.ylabel('sqrt_ft')\n",
        "plt.title('appliance')"
      ],
      "metadata": {
        "colab": {
          "base_uri": "https://localhost:8080/",
          "height": 459
        },
        "id": "IWqgm4PneFpe",
        "outputId": "b3832da1-c00c-4c7d-d188-6f36f952c87f"
      },
      "execution_count": 35,
      "outputs": [
        {
          "output_type": "execute_result",
          "data": {
            "text/plain": [
              "Text(0.5, 1.0, 'appliance')"
            ]
          },
          "metadata": {},
          "execution_count": 35
        },
        {
          "output_type": "display_data",
          "data": {
            "text/plain": [
              "<Figure size 504x504 with 1 Axes>"
            ],
            "image/png": "[encoded data removed]"
          },
          "metadata": {}
        }
      ]
    },
    {
      "cell_type": "code",
      "execution_count": 56,
      "metadata": {
        "id": "rDnLPDr8ochf",
        "colab": {
          "base_uri": "https://localhost:8080/",
          "height": 459
        },
        "outputId": "613c3fca-aa81-41d0-d972-2c3101d83088"
      },
      "outputs": [
        {
          "output_type": "execute_result",
          "data": {
            "text/plain": [
              "<matplotlib.collections.PathCollection at 0x7fcb0c1a0750>"
            ]
          },
          "metadata": {},
          "execution_count": 56
        },
        {
          "output_type": "display_data",
          "data": {
            "text/plain": [
              "<Figure size 504x504 with 1 Axes>"
            ],
            "image/png": "[encoded data removed]"
          },
          "metadata": {}
        }
      ],
      "source": [
        "plt.figure(figsize=(7,7))\n",
        "plt.yticks([])\n",
        "plt.xticks([])\n",
        "plt.xlabel('sold_price')\n",
        "plt.ylabel('sqrt_ft')\n",
        "#plt.title('appliance')\n",
        "#plt.scatter(data['sold_price'],data['sqrt_ft'],c=data['appliance'])\n",
        "#plt.title('countertop')\n",
        "#plt.scatter(data['sold_price'],data['sqrt_ft'],c=data['countertop'])\n",
        "#plt.title('microwave')\n",
        "#plt.scatter(data['sold_price'],data['sqrt_ft'],c=data['microwave'])\n",
        "#plt.title('electric')\n",
        "#plt.scatter(data['sold_price'],data['sqrt_ft'],c=data['electric'])\n",
        "#plt.title('convection')\n",
        "#plt.scatter(data['sold_price'],data['sqrt_ft'],c=data['convection'])\n",
        "#plt.title('gas')\n",
        "#plt.scatter(data['sold_price'],data['sqrt_ft'],c=data['gas'])\n",
        "#plt.title('compactor')\n",
        "#plt.scatter(data['sold_price'],data['sqrt_ft'],c=data['compactor'])\n",
        "#plt.title('desk')\n",
        "#plt.scatter(data['sold_price'],data['sqrt_ft'],c=data['desk'])\n",
        "#plt.title('dishwasher')\n",
        "#plt.scatter(data['sold_price'],data['sqrt_ft'],c=data['dishwasher'])\n",
        "#plt.title('sink')\n",
        "#plt.scatter(data['sold_price'],data['sqrt_ft'],c=data['sink'])\n",
        "#plt.title('freezer')\n",
        "#plt.scatter(data['sold_price'],data['sqrt_ft'],c=data['freezer'])\n",
        "#plt.title('garbage')\n",
        "#plt.scatter(data['sold_price'],data['sqrt_ft'],c=data['garbage'])\n",
        "#plt.title('pantry')\n",
        "#plt.scatter(data['sold_price'],data['sqrt_ft'],c=data['pantry'])\n",
        "#plt.title('grill')\n",
        "#plt.scatter(data['sold_price'],data['sqrt_ft'],c=data['grill'])\n",
        "#plt.title('lazy')\n",
        "#plt.scatter(data['sold_price'],data['sqrt_ft'],c=data['lazy'])\n",
        "#plt.title('refrigerator')\n",
        "#plt.scatter(data['sold_price'],data['sqrt_ft'],c=data['refrigerator'])\n",
        "#plt.title('purifier')\n",
        "#plt.scatter(data['sold_price'],data['sqrt_ft'],c=data['purifier'])\n",
        "#plt.title('warming')\n",
        "#plt.scatter(data['sold_price'],data['sqrt_ft'],c=data['warming'])\n",
        "#plt.title('wet')\n",
        "#plt.scatter(data['sold_price'],data['sqrt_ft'],c=data['wet'])\n",
        "plt.title('wine')\n",
        "plt.scatter(data['sold_price'],data['sqrt_ft'],c=data['wine'])"
      ]
    },
    {
      "cell_type": "markdown",
      "metadata": {
        "id": "uuvOMc4DB7vL"
      },
      "source": [
        "# Evaluate the chance of having a particular feature\n",
        "\n",
        "Since every feature is presented in a binary way, the best idea is to make a classification of the model to determine the presence or abscense of it."
      ]
    },
    {
      "cell_type": "markdown",
      "metadata": {
        "id": "m9n0vqSwIjYP"
      },
      "source": [
        "# Appliance color models\n",
        "\n",
        "Naive Bayes"
      ]
    },
    {
      "cell_type": "code",
      "execution_count": 26,
      "metadata": {
        "colab": {
          "base_uri": "https://localhost:8080/",
          "height": 0
        },
        "id": "GJOjSV0xIcjK",
        "outputId": "54742593-59db-4f41-998b-e884c957c665"
      },
      "outputs": [
        {
          "output_type": "stream",
          "name": "stdout",
          "text": [
            "Training set goes from 0 to 2838\n",
            "Validation set goes from 2839 to 3217\n",
            "Test set goes from 3218 to 3784\n"
          ]
        }
      ],
      "source": [
        "# General dataset for all features\n",
        "features = ['appliance','countertop','microwave','electric','convection','gas',\n",
        "            'compactor','desk','dishwasher','sink','freezer','garbage','pantry',\n",
        "            'grill','lazy','refrigerator','purifier','warming','wet','wine']\n",
        "\n",
        "X = data[features]\n",
        "X = X.sample(frac=1, replace=False, random_state=1) #Shuffle the data\n",
        "X = X.to_numpy()\n",
        "\n",
        "train_idx = int(len(X) * 0.75)\n",
        "val_idx = int(len(X) * 0.1)\n",
        "print(f\"Training set goes from 0 to {train_idx}\")\n",
        "print(f\"Validation set goes from {train_idx+1} to {train_idx+1+val_idx}\")\n",
        "print(f\"Test set goes from {train_idx+2+val_idx} to {len(X)}\")"
      ]
    },
    {
      "cell_type": "code",
      "execution_count": 27,
      "metadata": {
        "colab": {
          "base_uri": "https://localhost:8080/",
          "height": 0
        },
        "id": "J52MVf2RCIaX",
        "outputId": "8c2e86ad-0304-4bc1-e703-f96ed4b53a1c"
      },
      "outputs": [
        {
          "output_type": "stream",
          "name": "stdout",
          "text": [
            "Train set: (2838, 19), (2838,)\n",
            "Validation set: (379, 19), (379,)\n",
            "Test set: (567, 19), (567,)\n"
          ]
        }
      ],
      "source": [
        "y_train = X[:train_idx,0]\n",
        "x_train = X[:train_idx,1:]\n",
        "y_val = X[train_idx:train_idx+1+val_idx,0]\n",
        "x_val = X[train_idx:train_idx+1+val_idx,1:]\n",
        "y_test = X[train_idx+1+val_idx:,0]\n",
        "x_test = X[train_idx+1+val_idx:,1:]\n",
        "print(f\"Train set: {x_train.shape}, {y_train.shape}\")\n",
        "print(f\"Validation set: {x_val.shape}, {y_val.shape}\")\n",
        "print(f\"Test set: {x_test.shape}, {y_test.shape}\")"
      ]
    },
    {
      "cell_type": "code",
      "execution_count": 28,
      "metadata": {
        "colab": {
          "base_uri": "https://localhost:8080/",
          "height": 0
        },
        "id": "OMaBWJXWFMhN",
        "outputId": "008c5c47-7890-4f79-f973-d323d84f611b"
      },
      "outputs": [
        {
          "output_type": "stream",
          "name": "stdout",
          "text": [
            "Checking epsilon 1 out of 50...\n",
            "Checking epsilon 2 out of 50...\n",
            "Checking epsilon 3 out of 50...\n",
            "Checking epsilon 4 out of 50...\n",
            "Checking epsilon 5 out of 50...\n",
            "Checking epsilon 6 out of 50...\n",
            "Checking epsilon 7 out of 50...\n",
            "Checking epsilon 8 out of 50...\n",
            "Checking epsilon 9 out of 50...\n",
            "Checking epsilon 10 out of 50...\n",
            "Checking epsilon 11 out of 50...\n",
            "Checking epsilon 12 out of 50...\n",
            "Checking epsilon 13 out of 50...\n",
            "Checking epsilon 14 out of 50...\n",
            "Checking epsilon 15 out of 50...\n",
            "Checking epsilon 16 out of 50...\n",
            "Checking epsilon 17 out of 50...\n",
            "Checking epsilon 18 out of 50...\n",
            "Checking epsilon 19 out of 50...\n",
            "Checking epsilon 20 out of 50...\n",
            "Checking epsilon 21 out of 50...\n",
            "Checking epsilon 22 out of 50...\n",
            "Checking epsilon 23 out of 50...\n",
            "Checking epsilon 24 out of 50...\n",
            "Checking epsilon 25 out of 50...\n",
            "Checking epsilon 26 out of 50...\n",
            "Checking epsilon 27 out of 50...\n",
            "Checking epsilon 28 out of 50...\n",
            "Checking epsilon 29 out of 50...\n",
            "Checking epsilon 30 out of 50...\n",
            "Checking epsilon 31 out of 50...\n",
            "Checking epsilon 32 out of 50...\n",
            "Checking epsilon 33 out of 50...\n",
            "Checking epsilon 34 out of 50...\n",
            "Checking epsilon 35 out of 50...\n",
            "Checking epsilon 36 out of 50...\n",
            "Checking epsilon 37 out of 50...\n",
            "Checking epsilon 38 out of 50...\n",
            "Checking epsilon 39 out of 50...\n",
            "Checking epsilon 40 out of 50...\n",
            "Checking epsilon 41 out of 50...\n",
            "Checking epsilon 42 out of 50...\n",
            "Checking epsilon 43 out of 50...\n",
            "Checking epsilon 44 out of 50...\n",
            "Checking epsilon 45 out of 50...\n",
            "Checking epsilon 46 out of 50...\n",
            "Checking epsilon 47 out of 50...\n",
            "Checking epsilon 48 out of 50...\n",
            "Checking epsilon 49 out of 50...\n",
            "Checking epsilon 50 out of 50...\n",
            "0.001 0.920844327176781\n",
            "Validation accuracy: 0.920844327176781     Test accuracy: 0.9294532627865961\n"
          ]
        }
      ],
      "source": [
        "app_naiveE, app_naive_valAcc, app_naive_testAcc = checkNaiveBayes(x_train,\n",
        "                                                                        y_train,\n",
        "                                                                        x_val,\n",
        "                                                                        y_val,\n",
        "                                                                        x_test,\n",
        "                                                                        y_test,\n",
        "                                                                        'Appliance color',\n",
        "                                                                        show_plot=False)\n",
        "\n",
        "print(f\"Validation accuracy: {app_naive_valAcc}     Test accuracy: {app_naive_testAcc}\")"
      ]
    },
    {
      "cell_type": "markdown",
      "metadata": {
        "id": "UK3nAwZ40NHe"
      },
      "source": [
        "Gaussian Bayes"
      ]
    },
    {
      "cell_type": "code",
      "execution_count": 29,
      "metadata": {
        "colab": {
          "base_uri": "https://localhost:8080/",
          "height": 0
        },
        "id": "xDhGYttHNicz",
        "outputId": "af630727-26b6-4f2a-9286-91672e885706"
      },
      "outputs": [
        {
          "output_type": "stream",
          "name": "stdout",
          "text": [
            "Checking epsilon 1 out of 50...\n",
            "Checking epsilon 2 out of 50...\n",
            "Checking epsilon 3 out of 50...\n",
            "Checking epsilon 4 out of 50...\n",
            "Checking epsilon 5 out of 50...\n",
            "Checking epsilon 6 out of 50...\n",
            "Checking epsilon 7 out of 50...\n",
            "Checking epsilon 8 out of 50...\n",
            "Checking epsilon 9 out of 50...\n",
            "Checking epsilon 10 out of 50...\n",
            "Checking epsilon 11 out of 50...\n",
            "Checking epsilon 12 out of 50...\n",
            "Checking epsilon 13 out of 50...\n",
            "Checking epsilon 14 out of 50...\n",
            "Checking epsilon 15 out of 50...\n",
            "Checking epsilon 16 out of 50...\n",
            "Checking epsilon 17 out of 50...\n",
            "Checking epsilon 18 out of 50...\n",
            "Checking epsilon 19 out of 50...\n",
            "Checking epsilon 20 out of 50...\n",
            "Checking epsilon 21 out of 50...\n",
            "Checking epsilon 22 out of 50...\n",
            "Checking epsilon 23 out of 50...\n",
            "Checking epsilon 24 out of 50...\n",
            "Checking epsilon 25 out of 50...\n",
            "Checking epsilon 26 out of 50...\n",
            "Checking epsilon 27 out of 50...\n",
            "Checking epsilon 28 out of 50...\n",
            "Checking epsilon 29 out of 50...\n",
            "Checking epsilon 30 out of 50...\n",
            "Checking epsilon 31 out of 50...\n",
            "Checking epsilon 32 out of 50...\n",
            "Checking epsilon 33 out of 50...\n",
            "Checking epsilon 34 out of 50...\n",
            "Checking epsilon 35 out of 50...\n",
            "Checking epsilon 36 out of 50...\n",
            "Checking epsilon 37 out of 50...\n",
            "Checking epsilon 38 out of 50...\n",
            "Checking epsilon 39 out of 50...\n",
            "Checking epsilon 40 out of 50...\n",
            "Checking epsilon 41 out of 50...\n",
            "Checking epsilon 42 out of 50...\n",
            "Checking epsilon 43 out of 50...\n",
            "Checking epsilon 44 out of 50...\n",
            "Checking epsilon 45 out of 50...\n",
            "Checking epsilon 46 out of 50...\n",
            "Checking epsilon 47 out of 50...\n",
            "Checking epsilon 48 out of 50...\n",
            "Checking epsilon 49 out of 50...\n",
            "Checking epsilon 50 out of 50...\n",
            "0.0959591836734694 0.9313984168865436\n",
            "Validation accuracy: 0.9313984168865436     Test accuracy: 0.927689594356261\n"
          ]
        }
      ],
      "source": [
        "app_gaussE, app_gauss_valAcc, app_gauss_testAcc = checkGaussianBayes(x_train,\n",
        "                                                                        y_train,\n",
        "                                                                        x_val,\n",
        "                                                                        y_val,\n",
        "                                                                        x_test,\n",
        "                                                                        y_test,\n",
        "                                                                        'Appliance color',\n",
        "                                                                        show_plot=False)\n",
        "\n",
        "print(f\"Validation accuracy: {app_gauss_valAcc}     Test accuracy: {app_gauss_testAcc}\")"
      ]
    },
    {
      "cell_type": "markdown",
      "metadata": {
        "id": "wKqH3b2g0QRc"
      },
      "source": [
        "KNN"
      ]
    },
    {
      "cell_type": "code",
      "execution_count": 30,
      "metadata": {
        "colab": {
          "base_uri": "https://localhost:8080/",
          "height": 0
        },
        "id": "fnbhxYeNODb1",
        "outputId": "d79d2f79-8fa0-4ec7-9261-56210a366bc0"
      },
      "outputs": [
        {
          "output_type": "stream",
          "name": "stdout",
          "text": [
            "Checking 2 neighbors out of 30...\n",
            "Checking 3 neighbors out of 30...\n",
            "Checking 4 neighbors out of 30...\n",
            "Checking 5 neighbors out of 30...\n",
            "Checking 6 neighbors out of 30...\n",
            "Checking 7 neighbors out of 30...\n",
            "Checking 8 neighbors out of 30...\n",
            "Checking 9 neighbors out of 30...\n",
            "Checking 10 neighbors out of 30...\n",
            "Checking 11 neighbors out of 30...\n",
            "Checking 12 neighbors out of 30...\n",
            "Checking 13 neighbors out of 30...\n",
            "Checking 14 neighbors out of 30...\n",
            "Checking 15 neighbors out of 30...\n",
            "Checking 16 neighbors out of 30...\n",
            "Checking 17 neighbors out of 30...\n",
            "Checking 18 neighbors out of 30...\n",
            "Checking 19 neighbors out of 30...\n",
            "Checking 20 neighbors out of 30...\n",
            "Checking 21 neighbors out of 30...\n",
            "Checking 22 neighbors out of 30...\n",
            "Checking 23 neighbors out of 30...\n",
            "Checking 24 neighbors out of 30...\n",
            "Checking 25 neighbors out of 30...\n",
            "Checking 26 neighbors out of 30...\n",
            "Checking 27 neighbors out of 30...\n",
            "Checking 28 neighbors out of 30...\n",
            "Checking 29 neighbors out of 30...\n",
            "Checking 30 neighbors out of 30...\n",
            "13 0.9102902374670184\n",
            "Validation accuracy: 0.9102902374670184     Test accuracy: 0.9294532627865961\n"
          ]
        }
      ],
      "source": [
        "app_knnE, app_knn_valAcc, app_knn_testAcc = checkKnn(x_train,\n",
        "                                                     y_train,\n",
        "                                                     x_val,\n",
        "                                                     y_val,\n",
        "                                                     x_test,\n",
        "                                                     y_test,\n",
        "                                                     'Appliance color',\n",
        "                                                     show_plot=False)\n",
        "\n",
        "print(f\"Validation accuracy: {app_knn_valAcc}     Test accuracy: {app_knn_testAcc}\")"
      ]
    },
    {
      "cell_type": "markdown",
      "metadata": {
        "id": "N1hX9HBK0ueN"
      },
      "source": [
        "# Countertop models\n",
        "\n",
        "Naive Bayes"
      ]
    },
    {
      "cell_type": "code",
      "execution_count": 31,
      "metadata": {
        "colab": {
          "base_uri": "https://localhost:8080/",
          "height": 0
        },
        "id": "Yy4jdFwSmDHS",
        "outputId": "ce36f3b1-6641-4419-db66-782ec010cc5e"
      },
      "outputs": [
        {
          "output_type": "stream",
          "name": "stdout",
          "text": [
            "Training set goes from 0 to 2838\n",
            "Validation set goes from 2839 to 3217\n",
            "Test set goes from 3218 to 3784\n"
          ]
        }
      ],
      "source": [
        "# General dataset for all features\n",
        "features = ['countertop','appliance','microwave','electric','convection','gas',\n",
        "            'compactor','desk','dishwasher','sink','freezer','garbage','pantry',\n",
        "            'grill','lazy','refrigerator','purifier','warming','wet','wine']\n",
        "\n",
        "X = data[features]\n",
        "X = X.sample(frac=1, replace=False, random_state=1) #Shuffle the data\n",
        "X = X.to_numpy()\n",
        "\n",
        "train_idx = int(len(X) * 0.75)\n",
        "val_idx = int(len(X) * 0.1)\n",
        "print(f\"Training set goes from 0 to {train_idx}\")\n",
        "print(f\"Validation set goes from {train_idx+1} to {train_idx+1+val_idx}\")\n",
        "print(f\"Test set goes from {train_idx+2+val_idx} to {len(X)}\")"
      ]
    },
    {
      "cell_type": "code",
      "execution_count": 32,
      "metadata": {
        "colab": {
          "base_uri": "https://localhost:8080/",
          "height": 0
        },
        "id": "hmri8pRZmDHk",
        "outputId": "e52b08b3-ef5a-4ce8-f024-4ef8ebdcde9f"
      },
      "outputs": [
        {
          "output_type": "stream",
          "name": "stdout",
          "text": [
            "Train set: (2838, 19), (2838,)\n",
            "Validation set: (379, 19), (379,)\n",
            "Test set: (567, 19), (567,)\n"
          ]
        }
      ],
      "source": [
        "y_train = X[:train_idx,0]\n",
        "x_train = X[:train_idx,1:]\n",
        "y_val = X[train_idx:train_idx+1+val_idx,0]\n",
        "x_val = X[train_idx:train_idx+1+val_idx,1:]\n",
        "y_test = X[train_idx+1+val_idx:,0]\n",
        "x_test = X[train_idx+1+val_idx:,1:]\n",
        "print(f\"Train set: {x_train.shape}, {y_train.shape}\")\n",
        "print(f\"Validation set: {x_val.shape}, {y_val.shape}\")\n",
        "print(f\"Test set: {x_test.shape}, {y_test.shape}\")"
      ]
    },
    {
      "cell_type": "code",
      "execution_count": 33,
      "metadata": {
        "colab": {
          "base_uri": "https://localhost:8080/",
          "height": 0
        },
        "id": "C5sMmYnyFvwy",
        "outputId": "ded13d27-5874-467b-f619-0512206660b2"
      },
      "outputs": [
        {
          "output_type": "stream",
          "name": "stdout",
          "text": [
            "Checking epsilon 1 out of 50...\n",
            "Checking epsilon 2 out of 50...\n",
            "Checking epsilon 3 out of 50...\n",
            "Checking epsilon 4 out of 50...\n",
            "Checking epsilon 5 out of 50...\n",
            "Checking epsilon 6 out of 50...\n",
            "Checking epsilon 7 out of 50...\n",
            "Checking epsilon 8 out of 50...\n",
            "Checking epsilon 9 out of 50...\n",
            "Checking epsilon 10 out of 50...\n",
            "Checking epsilon 11 out of 50...\n",
            "Checking epsilon 12 out of 50...\n",
            "Checking epsilon 13 out of 50...\n",
            "Checking epsilon 14 out of 50...\n",
            "Checking epsilon 15 out of 50...\n",
            "Checking epsilon 16 out of 50...\n",
            "Checking epsilon 17 out of 50...\n",
            "Checking epsilon 18 out of 50...\n",
            "Checking epsilon 19 out of 50...\n",
            "Checking epsilon 20 out of 50...\n",
            "Checking epsilon 21 out of 50...\n",
            "Checking epsilon 22 out of 50...\n",
            "Checking epsilon 23 out of 50...\n",
            "Checking epsilon 24 out of 50...\n",
            "Checking epsilon 25 out of 50...\n",
            "Checking epsilon 26 out of 50...\n",
            "Checking epsilon 27 out of 50...\n",
            "Checking epsilon 28 out of 50...\n",
            "Checking epsilon 29 out of 50...\n",
            "Checking epsilon 30 out of 50...\n",
            "Checking epsilon 31 out of 50...\n",
            "Checking epsilon 32 out of 50...\n",
            "Checking epsilon 33 out of 50...\n",
            "Checking epsilon 34 out of 50...\n",
            "Checking epsilon 35 out of 50...\n",
            "Checking epsilon 36 out of 50...\n",
            "Checking epsilon 37 out of 50...\n",
            "Checking epsilon 38 out of 50...\n",
            "Checking epsilon 39 out of 50...\n",
            "Checking epsilon 40 out of 50...\n",
            "Checking epsilon 41 out of 50...\n",
            "Checking epsilon 42 out of 50...\n",
            "Checking epsilon 43 out of 50...\n",
            "Checking epsilon 44 out of 50...\n",
            "Checking epsilon 45 out of 50...\n",
            "Checking epsilon 46 out of 50...\n",
            "Checking epsilon 47 out of 50...\n",
            "Checking epsilon 48 out of 50...\n",
            "Checking epsilon 49 out of 50...\n",
            "Checking epsilon 50 out of 50...\n",
            "0.001 0.9340369393139841\n",
            "Validation accuracy: 0.9340369393139841     Test accuracy: 0.9347442680776014\n"
          ]
        }
      ],
      "source": [
        "count_naiveE, count_naive_valAcc, count_naive_testAcc = checkNaiveBayes(x_train,\n",
        "                                                                        y_train,\n",
        "                                                                        x_val,\n",
        "                                                                        y_val,\n",
        "                                                                        x_test,\n",
        "                                                                        y_test,\n",
        "                                                                        'Countertops',\n",
        "                                                                        show_plot=False)\n",
        "\n",
        "print(f\"Validation accuracy: {count_naive_valAcc}     Test accuracy: {count_naive_testAcc}\")"
      ]
    },
    {
      "cell_type": "markdown",
      "metadata": {
        "id": "AaECgPp_Fvwz"
      },
      "source": [
        "Gaussian Bayes"
      ]
    },
    {
      "cell_type": "code",
      "execution_count": 34,
      "metadata": {
        "colab": {
          "base_uri": "https://localhost:8080/",
          "height": 0
        },
        "id": "oDX2IWBmFvw0",
        "outputId": "8d928ff1-09d3-41a3-9364-1c9729e7922b"
      },
      "outputs": [
        {
          "output_type": "stream",
          "name": "stdout",
          "text": [
            "Checking epsilon 1 out of 50...\n",
            "Checking epsilon 2 out of 50...\n",
            "Checking epsilon 3 out of 50...\n",
            "Checking epsilon 4 out of 50...\n",
            "Checking epsilon 5 out of 50...\n",
            "Checking epsilon 6 out of 50...\n",
            "Checking epsilon 7 out of 50...\n",
            "Checking epsilon 8 out of 50...\n",
            "Checking epsilon 9 out of 50...\n",
            "Checking epsilon 10 out of 50...\n",
            "Checking epsilon 11 out of 50...\n",
            "Checking epsilon 12 out of 50...\n",
            "Checking epsilon 13 out of 50...\n",
            "Checking epsilon 14 out of 50...\n",
            "Checking epsilon 15 out of 50...\n",
            "Checking epsilon 16 out of 50...\n",
            "Checking epsilon 17 out of 50...\n",
            "Checking epsilon 18 out of 50...\n",
            "Checking epsilon 19 out of 50...\n",
            "Checking epsilon 20 out of 50...\n",
            "Checking epsilon 21 out of 50...\n",
            "Checking epsilon 22 out of 50...\n",
            "Checking epsilon 23 out of 50...\n",
            "Checking epsilon 24 out of 50...\n",
            "Checking epsilon 25 out of 50...\n",
            "Checking epsilon 26 out of 50...\n",
            "Checking epsilon 27 out of 50...\n",
            "Checking epsilon 28 out of 50...\n",
            "Checking epsilon 29 out of 50...\n",
            "Checking epsilon 30 out of 50...\n",
            "Checking epsilon 31 out of 50...\n",
            "Checking epsilon 32 out of 50...\n",
            "Checking epsilon 33 out of 50...\n",
            "Checking epsilon 34 out of 50...\n",
            "Checking epsilon 35 out of 50...\n",
            "Checking epsilon 36 out of 50...\n",
            "Checking epsilon 37 out of 50...\n",
            "Checking epsilon 38 out of 50...\n",
            "Checking epsilon 39 out of 50...\n",
            "Checking epsilon 40 out of 50...\n",
            "Checking epsilon 41 out of 50...\n",
            "Checking epsilon 42 out of 50...\n",
            "Checking epsilon 43 out of 50...\n",
            "Checking epsilon 44 out of 50...\n",
            "Checking epsilon 45 out of 50...\n",
            "Checking epsilon 46 out of 50...\n",
            "Checking epsilon 47 out of 50...\n",
            "Checking epsilon 48 out of 50...\n",
            "Checking epsilon 49 out of 50...\n",
            "Checking epsilon 50 out of 50...\n",
            "0.07575510204081633 0.9393139841688655\n",
            "Validation accuracy: 0.9393139841688655     Test accuracy: 0.9417989417989417\n"
          ]
        }
      ],
      "source": [
        "count_gaussE, count_gauss_valAcc, count_gauss_testAcc = checkGaussianBayes(x_train,\n",
        "                                                                        y_train,\n",
        "                                                                        x_val,\n",
        "                                                                        y_val,\n",
        "                                                                        x_test,\n",
        "                                                                        y_test,\n",
        "                                                                        'Countertops',\n",
        "                                                                        show_plot=False)\n",
        "\n",
        "print(f\"Validation accuracy: {count_gauss_valAcc}     Test accuracy: {count_gauss_testAcc}\")"
      ]
    },
    {
      "cell_type": "markdown",
      "metadata": {
        "id": "2FwQcYveFvw0"
      },
      "source": [
        "KNN"
      ]
    },
    {
      "cell_type": "code",
      "execution_count": 35,
      "metadata": {
        "colab": {
          "base_uri": "https://localhost:8080/",
          "height": 0
        },
        "id": "Hzg-OXalFvw1",
        "outputId": "0157fcba-95a2-47a7-e6d7-7c92d886e79a"
      },
      "outputs": [
        {
          "output_type": "stream",
          "name": "stdout",
          "text": [
            "Checking 2 neighbors out of 30...\n",
            "Checking 3 neighbors out of 30...\n",
            "Checking 4 neighbors out of 30...\n",
            "Checking 5 neighbors out of 30...\n",
            "Checking 6 neighbors out of 30...\n",
            "Checking 7 neighbors out of 30...\n",
            "Checking 8 neighbors out of 30...\n",
            "Checking 9 neighbors out of 30...\n",
            "Checking 10 neighbors out of 30...\n",
            "Checking 11 neighbors out of 30...\n",
            "Checking 12 neighbors out of 30...\n",
            "Checking 13 neighbors out of 30...\n",
            "Checking 14 neighbors out of 30...\n",
            "Checking 15 neighbors out of 30...\n",
            "Checking 16 neighbors out of 30...\n",
            "Checking 17 neighbors out of 30...\n",
            "Checking 18 neighbors out of 30...\n",
            "Checking 19 neighbors out of 30...\n",
            "Checking 20 neighbors out of 30...\n",
            "Checking 21 neighbors out of 30...\n",
            "Checking 22 neighbors out of 30...\n",
            "Checking 23 neighbors out of 30...\n",
            "Checking 24 neighbors out of 30...\n",
            "Checking 25 neighbors out of 30...\n",
            "Checking 26 neighbors out of 30...\n",
            "Checking 27 neighbors out of 30...\n",
            "Checking 28 neighbors out of 30...\n",
            "Checking 29 neighbors out of 30...\n",
            "Checking 30 neighbors out of 30...\n",
            "28 0.9129287598944591\n",
            "Validation accuracy: 0.9129287598944591     Test accuracy: 0.9382716049382716\n"
          ]
        }
      ],
      "source": [
        "count_knnE, count_knn_valAcc, count_knn_testAcc = checkKnn(x_train,\n",
        "                                                     y_train,\n",
        "                                                     x_val,\n",
        "                                                     y_val,\n",
        "                                                     x_test,\n",
        "                                                     y_test,\n",
        "                                                     'Countertops',\n",
        "                                                     show_plot=False)\n",
        "\n",
        "print(f\"Validation accuracy: {count_knn_valAcc}     Test accuracy: {count_knn_testAcc}\")"
      ]
    },
    {
      "cell_type": "markdown",
      "metadata": {
        "id": "tO7dZ9LH1K_a"
      },
      "source": [
        "# Microwave models\n",
        "\n",
        "Naive Bayes"
      ]
    },
    {
      "cell_type": "code",
      "execution_count": 36,
      "metadata": {
        "colab": {
          "base_uri": "https://localhost:8080/",
          "height": 0
        },
        "id": "QUJtTgenmFo4",
        "outputId": "8d223806-2032-4376-cf28-5520c8562213"
      },
      "outputs": [
        {
          "output_type": "stream",
          "name": "stdout",
          "text": [
            "Training set goes from 0 to 2838\n",
            "Validation set goes from 2839 to 3217\n",
            "Test set goes from 3218 to 3784\n"
          ]
        }
      ],
      "source": [
        "# General dataset for all features\n",
        "features = ['microwave','appliance','countertop','electric','convection','gas',\n",
        "            'compactor','desk','dishwasher','sink','freezer','garbage','pantry',\n",
        "            'grill','lazy','refrigerator','purifier','warming','wet','wine']\n",
        "\n",
        "X = data[features]\n",
        "X = X.sample(frac=1, replace=False, random_state=1) #Shuffle the data\n",
        "X = X.to_numpy()\n",
        "\n",
        "train_idx = int(len(X) * 0.75)\n",
        "val_idx = int(len(X) * 0.1)\n",
        "print(f\"Training set goes from 0 to {train_idx}\")\n",
        "print(f\"Validation set goes from {train_idx+1} to {train_idx+1+val_idx}\")\n",
        "print(f\"Test set goes from {train_idx+2+val_idx} to {len(X)}\")"
      ]
    },
    {
      "cell_type": "code",
      "execution_count": 37,
      "metadata": {
        "colab": {
          "base_uri": "https://localhost:8080/",
          "height": 0
        },
        "id": "KKXRh2twmFo5",
        "outputId": "89d548b0-6bd9-48da-fcca-11d17fcd5b2c"
      },
      "outputs": [
        {
          "output_type": "stream",
          "name": "stdout",
          "text": [
            "Train set: (2838, 19), (2838,)\n",
            "Validation set: (379, 19), (379,)\n",
            "Test set: (567, 19), (567,)\n"
          ]
        }
      ],
      "source": [
        "y_train = X[:train_idx,0]\n",
        "x_train = X[:train_idx,1:]\n",
        "y_val = X[train_idx:train_idx+1+val_idx,0]\n",
        "x_val = X[train_idx:train_idx+1+val_idx,1:]\n",
        "y_test = X[train_idx+1+val_idx:,0]\n",
        "x_test = X[train_idx+1+val_idx:,1:]\n",
        "print(f\"Train set: {x_train.shape}, {y_train.shape}\")\n",
        "print(f\"Validation set: {x_val.shape}, {y_val.shape}\")\n",
        "print(f\"Test set: {x_test.shape}, {y_test.shape}\")"
      ]
    },
    {
      "cell_type": "code",
      "execution_count": 38,
      "metadata": {
        "colab": {
          "base_uri": "https://localhost:8080/",
          "height": 0
        },
        "id": "BiqRBc3bF3Jm",
        "outputId": "030356e8-9789-4648-8442-ef868a30e452"
      },
      "outputs": [
        {
          "output_type": "stream",
          "name": "stdout",
          "text": [
            "Checking epsilon 1 out of 50...\n",
            "Checking epsilon 2 out of 50...\n",
            "Checking epsilon 3 out of 50...\n",
            "Checking epsilon 4 out of 50...\n",
            "Checking epsilon 5 out of 50...\n",
            "Checking epsilon 6 out of 50...\n",
            "Checking epsilon 7 out of 50...\n",
            "Checking epsilon 8 out of 50...\n",
            "Checking epsilon 9 out of 50...\n",
            "Checking epsilon 10 out of 50...\n",
            "Checking epsilon 11 out of 50...\n",
            "Checking epsilon 12 out of 50...\n",
            "Checking epsilon 13 out of 50...\n",
            "Checking epsilon 14 out of 50...\n",
            "Checking epsilon 15 out of 50...\n",
            "Checking epsilon 16 out of 50...\n",
            "Checking epsilon 17 out of 50...\n",
            "Checking epsilon 18 out of 50...\n",
            "Checking epsilon 19 out of 50...\n",
            "Checking epsilon 20 out of 50...\n",
            "Checking epsilon 21 out of 50...\n",
            "Checking epsilon 22 out of 50...\n",
            "Checking epsilon 23 out of 50...\n",
            "Checking epsilon 24 out of 50...\n",
            "Checking epsilon 25 out of 50...\n",
            "Checking epsilon 26 out of 50...\n",
            "Checking epsilon 27 out of 50...\n",
            "Checking epsilon 28 out of 50...\n",
            "Checking epsilon 29 out of 50...\n",
            "Checking epsilon 30 out of 50...\n",
            "Checking epsilon 31 out of 50...\n",
            "Checking epsilon 32 out of 50...\n",
            "Checking epsilon 33 out of 50...\n",
            "Checking epsilon 34 out of 50...\n",
            "Checking epsilon 35 out of 50...\n",
            "Checking epsilon 36 out of 50...\n",
            "Checking epsilon 37 out of 50...\n",
            "Checking epsilon 38 out of 50...\n",
            "Checking epsilon 39 out of 50...\n",
            "Checking epsilon 40 out of 50...\n",
            "Checking epsilon 41 out of 50...\n",
            "Checking epsilon 42 out of 50...\n",
            "Checking epsilon 43 out of 50...\n",
            "Checking epsilon 44 out of 50...\n",
            "Checking epsilon 45 out of 50...\n",
            "Checking epsilon 46 out of 50...\n",
            "Checking epsilon 47 out of 50...\n",
            "Checking epsilon 48 out of 50...\n",
            "Checking epsilon 49 out of 50...\n",
            "Checking epsilon 50 out of 50...\n",
            "0.0979795918367347 0.7308707124010554\n",
            "Validation accuracy: 0.7308707124010554     Test accuracy: 0.6860670194003528\n"
          ]
        }
      ],
      "source": [
        "micro_naiveE, micro_naive_valAcc, micro_naive_testAcc = checkNaiveBayes(x_train,\n",
        "                                                                        y_train,\n",
        "                                                                        x_val,\n",
        "                                                                        y_val,\n",
        "                                                                        x_test,\n",
        "                                                                        y_test,\n",
        "                                                                        'Microwaves',\n",
        "                                                                        show_plot=False)\n",
        "\n",
        "print(f\"Validation accuracy: {micro_naive_valAcc}     Test accuracy: {micro_naive_testAcc}\")"
      ]
    },
    {
      "cell_type": "markdown",
      "metadata": {
        "id": "cL-v9jUcF3Jn"
      },
      "source": [
        "Gaussian Bayes"
      ]
    },
    {
      "cell_type": "code",
      "execution_count": 39,
      "metadata": {
        "colab": {
          "base_uri": "https://localhost:8080/",
          "height": 0
        },
        "id": "DEBn4xdbF3Jn",
        "outputId": "f9653759-7386-4c78-a150-681c02879f86"
      },
      "outputs": [
        {
          "output_type": "stream",
          "name": "stdout",
          "text": [
            "Checking epsilon 1 out of 50...\n",
            "Checking epsilon 2 out of 50...\n",
            "Checking epsilon 3 out of 50...\n",
            "Checking epsilon 4 out of 50...\n",
            "Checking epsilon 5 out of 50...\n",
            "Checking epsilon 6 out of 50...\n",
            "Checking epsilon 7 out of 50...\n",
            "Checking epsilon 8 out of 50...\n",
            "Checking epsilon 9 out of 50...\n",
            "Checking epsilon 10 out of 50...\n",
            "Checking epsilon 11 out of 50...\n",
            "Checking epsilon 12 out of 50...\n",
            "Checking epsilon 13 out of 50...\n",
            "Checking epsilon 14 out of 50...\n",
            "Checking epsilon 15 out of 50...\n",
            "Checking epsilon 16 out of 50...\n",
            "Checking epsilon 17 out of 50...\n",
            "Checking epsilon 18 out of 50...\n",
            "Checking epsilon 19 out of 50...\n",
            "Checking epsilon 20 out of 50...\n",
            "Checking epsilon 21 out of 50...\n",
            "Checking epsilon 22 out of 50...\n",
            "Checking epsilon 23 out of 50...\n",
            "Checking epsilon 24 out of 50...\n",
            "Checking epsilon 25 out of 50...\n",
            "Checking epsilon 26 out of 50...\n",
            "Checking epsilon 27 out of 50...\n",
            "Checking epsilon 28 out of 50...\n",
            "Checking epsilon 29 out of 50...\n",
            "Checking epsilon 30 out of 50...\n",
            "Checking epsilon 31 out of 50...\n",
            "Checking epsilon 32 out of 50...\n",
            "Checking epsilon 33 out of 50...\n",
            "Checking epsilon 34 out of 50...\n",
            "Checking epsilon 35 out of 50...\n",
            "Checking epsilon 36 out of 50...\n",
            "Checking epsilon 37 out of 50...\n",
            "Checking epsilon 38 out of 50...\n",
            "Checking epsilon 39 out of 50...\n",
            "Checking epsilon 40 out of 50...\n",
            "Checking epsilon 41 out of 50...\n",
            "Checking epsilon 42 out of 50...\n",
            "Checking epsilon 43 out of 50...\n",
            "Checking epsilon 44 out of 50...\n",
            "Checking epsilon 45 out of 50...\n",
            "Checking epsilon 46 out of 50...\n",
            "Checking epsilon 47 out of 50...\n",
            "Checking epsilon 48 out of 50...\n",
            "Checking epsilon 49 out of 50...\n",
            "Checking epsilon 50 out of 50...\n",
            "0.0333265306122449 0.7994722955145118\n",
            "Validation accuracy: 0.7994722955145118     Test accuracy: 0.7389770723104057\n"
          ]
        }
      ],
      "source": [
        "micro_gaussE, micro_gauss_valAcc, micro_gauss_testAcc = checkGaussianBayes(x_train,\n",
        "                                                                        y_train,\n",
        "                                                                        x_val,\n",
        "                                                                        y_val,\n",
        "                                                                        x_test,\n",
        "                                                                        y_test,\n",
        "                                                                        'Microwaves',\n",
        "                                                                        show_plot=False)\n",
        "\n",
        "print(f\"Validation accuracy: {micro_gauss_valAcc}     Test accuracy: {micro_gauss_testAcc}\")"
      ]
    },
    {
      "cell_type": "markdown",
      "metadata": {
        "id": "tpaTdLhHF3Jn"
      },
      "source": [
        "KNN"
      ]
    },
    {
      "cell_type": "code",
      "execution_count": 40,
      "metadata": {
        "colab": {
          "base_uri": "https://localhost:8080/",
          "height": 0
        },
        "id": "H8c2zNJXF3Jo",
        "outputId": "435d6869-caf2-457a-9606-31e501fa9145"
      },
      "outputs": [
        {
          "output_type": "stream",
          "name": "stdout",
          "text": [
            "Checking 2 neighbors out of 30...\n",
            "Checking 3 neighbors out of 30...\n",
            "Checking 4 neighbors out of 30...\n",
            "Checking 5 neighbors out of 30...\n",
            "Checking 6 neighbors out of 30...\n",
            "Checking 7 neighbors out of 30...\n",
            "Checking 8 neighbors out of 30...\n",
            "Checking 9 neighbors out of 30...\n",
            "Checking 10 neighbors out of 30...\n",
            "Checking 11 neighbors out of 30...\n",
            "Checking 12 neighbors out of 30...\n",
            "Checking 13 neighbors out of 30...\n",
            "Checking 14 neighbors out of 30...\n",
            "Checking 15 neighbors out of 30...\n",
            "Checking 16 neighbors out of 30...\n",
            "Checking 17 neighbors out of 30...\n",
            "Checking 18 neighbors out of 30...\n",
            "Checking 19 neighbors out of 30...\n",
            "Checking 20 neighbors out of 30...\n",
            "Checking 21 neighbors out of 30...\n",
            "Checking 22 neighbors out of 30...\n",
            "Checking 23 neighbors out of 30...\n",
            "Checking 24 neighbors out of 30...\n",
            "Checking 25 neighbors out of 30...\n",
            "Checking 26 neighbors out of 30...\n",
            "Checking 27 neighbors out of 30...\n",
            "Checking 28 neighbors out of 30...\n",
            "Checking 29 neighbors out of 30...\n",
            "Checking 30 neighbors out of 30...\n",
            "5 0.7783641160949868\n",
            "Validation accuracy: 0.7783641160949868     Test accuracy: 0.7425044091710759\n"
          ]
        }
      ],
      "source": [
        "micro_knnE, micro_knn_valAcc, micro_knn_testAcc = checkKnn(x_train,\n",
        "                                                     y_train,\n",
        "                                                     x_val,\n",
        "                                                     y_val,\n",
        "                                                     x_test,\n",
        "                                                     y_test,\n",
        "                                                     'Microwaves',\n",
        "                                                     show_plot=False)\n",
        "\n",
        "print(f\"Validation accuracy: {micro_knn_valAcc}     Test accuracy: {micro_knn_testAcc}\")"
      ]
    },
    {
      "cell_type": "markdown",
      "metadata": {
        "id": "18MMRJvI1OKE"
      },
      "source": [
        "# Electric oven models\n",
        "\n",
        "Naive Bayes"
      ]
    },
    {
      "cell_type": "code",
      "execution_count": 41,
      "metadata": {
        "colab": {
          "base_uri": "https://localhost:8080/",
          "height": 0
        },
        "id": "3gLPuEfImG2M",
        "outputId": "765706da-0ddb-445d-ebba-c72af3eb6ec8"
      },
      "outputs": [
        {
          "output_type": "stream",
          "name": "stdout",
          "text": [
            "Training set goes from 0 to 2838\n",
            "Validation set goes from 2839 to 3217\n",
            "Test set goes from 3218 to 3784\n"
          ]
        }
      ],
      "source": [
        "# General dataset for all features\n",
        "features = ['electric','appliance','countertop','microwave','convection','gas',\n",
        "            'compactor','desk','dishwasher','sink','freezer','garbage','pantry',\n",
        "            'grill','lazy','refrigerator','purifier','warming','wet','wine']\n",
        "\n",
        "X = data[features]\n",
        "X = X.sample(frac=1, replace=False, random_state=1) #Shuffle the data\n",
        "X = X.to_numpy()\n",
        "\n",
        "train_idx = int(len(X) * 0.75)\n",
        "val_idx = int(len(X) * 0.1)\n",
        "print(f\"Training set goes from 0 to {train_idx}\")\n",
        "print(f\"Validation set goes from {train_idx+1} to {train_idx+1+val_idx}\")\n",
        "print(f\"Test set goes from {train_idx+2+val_idx} to {len(X)}\")"
      ]
    },
    {
      "cell_type": "code",
      "execution_count": 42,
      "metadata": {
        "colab": {
          "base_uri": "https://localhost:8080/",
          "height": 0
        },
        "id": "5aU3ZsammG2O",
        "outputId": "14ac1431-9b66-430c-d40b-dd2bfa89d050"
      },
      "outputs": [
        {
          "output_type": "stream",
          "name": "stdout",
          "text": [
            "Train set: (2838, 19), (2838,)\n",
            "Validation set: (379, 19), (379,)\n",
            "Test set: (567, 19), (567,)\n"
          ]
        }
      ],
      "source": [
        "y_train = X[:train_idx,0]\n",
        "x_train = X[:train_idx,1:]\n",
        "y_val = X[train_idx:train_idx+1+val_idx,0]\n",
        "x_val = X[train_idx:train_idx+1+val_idx,1:]\n",
        "y_test = X[train_idx+1+val_idx:,0]\n",
        "x_test = X[train_idx+1+val_idx:,1:]\n",
        "print(f\"Train set: {x_train.shape}, {y_train.shape}\")\n",
        "print(f\"Validation set: {x_val.shape}, {y_val.shape}\")\n",
        "print(f\"Test set: {x_test.shape}, {y_test.shape}\")"
      ]
    },
    {
      "cell_type": "code",
      "execution_count": 43,
      "metadata": {
        "colab": {
          "base_uri": "https://localhost:8080/",
          "height": 0
        },
        "id": "AG3Bow7LF88V",
        "outputId": "2e30e177-0226-4a85-9519-6c88ac37d9be"
      },
      "outputs": [
        {
          "output_type": "stream",
          "name": "stdout",
          "text": [
            "Checking epsilon 1 out of 50...\n",
            "Checking epsilon 2 out of 50...\n",
            "Checking epsilon 3 out of 50...\n",
            "Checking epsilon 4 out of 50...\n",
            "Checking epsilon 5 out of 50...\n",
            "Checking epsilon 6 out of 50...\n",
            "Checking epsilon 7 out of 50...\n",
            "Checking epsilon 8 out of 50...\n",
            "Checking epsilon 9 out of 50...\n",
            "Checking epsilon 10 out of 50...\n",
            "Checking epsilon 11 out of 50...\n",
            "Checking epsilon 12 out of 50...\n",
            "Checking epsilon 13 out of 50...\n",
            "Checking epsilon 14 out of 50...\n",
            "Checking epsilon 15 out of 50...\n",
            "Checking epsilon 16 out of 50...\n",
            "Checking epsilon 17 out of 50...\n",
            "Checking epsilon 18 out of 50...\n",
            "Checking epsilon 19 out of 50...\n",
            "Checking epsilon 20 out of 50...\n",
            "Checking epsilon 21 out of 50...\n",
            "Checking epsilon 22 out of 50...\n",
            "Checking epsilon 23 out of 50...\n",
            "Checking epsilon 24 out of 50...\n",
            "Checking epsilon 25 out of 50...\n",
            "Checking epsilon 26 out of 50...\n",
            "Checking epsilon 27 out of 50...\n",
            "Checking epsilon 28 out of 50...\n",
            "Checking epsilon 29 out of 50...\n",
            "Checking epsilon 30 out of 50...\n",
            "Checking epsilon 31 out of 50...\n",
            "Checking epsilon 32 out of 50...\n",
            "Checking epsilon 33 out of 50...\n",
            "Checking epsilon 34 out of 50...\n",
            "Checking epsilon 35 out of 50...\n",
            "Checking epsilon 36 out of 50...\n",
            "Checking epsilon 37 out of 50...\n",
            "Checking epsilon 38 out of 50...\n",
            "Checking epsilon 39 out of 50...\n",
            "Checking epsilon 40 out of 50...\n",
            "Checking epsilon 41 out of 50...\n",
            "Checking epsilon 42 out of 50...\n",
            "Checking epsilon 43 out of 50...\n",
            "Checking epsilon 44 out of 50...\n",
            "Checking epsilon 45 out of 50...\n",
            "Checking epsilon 46 out of 50...\n",
            "Checking epsilon 47 out of 50...\n",
            "Checking epsilon 48 out of 50...\n",
            "Checking epsilon 49 out of 50...\n",
            "Checking epsilon 50 out of 50...\n",
            "0.0656530612244898 0.8970976253298153\n",
            "Validation accuracy: 0.8970976253298153     Test accuracy: 0.8818342151675485\n"
          ]
        }
      ],
      "source": [
        "ele_naiveE, ele_naive_valAcc, ele_naive_testAcc = checkNaiveBayes(x_train,\n",
        "                                                                        y_train,\n",
        "                                                                        x_val,\n",
        "                                                                        y_val,\n",
        "                                                                        x_test,\n",
        "                                                                        y_test,\n",
        "                                                                        'Electric oven',\n",
        "                                                                        show_plot=False)\n",
        "\n",
        "print(f\"Validation accuracy: {ele_naive_valAcc}     Test accuracy: {ele_naive_testAcc}\")"
      ]
    },
    {
      "cell_type": "markdown",
      "metadata": {
        "id": "lxToVr65F88V"
      },
      "source": [
        "Gaussian Bayes"
      ]
    },
    {
      "cell_type": "code",
      "execution_count": 44,
      "metadata": {
        "colab": {
          "base_uri": "https://localhost:8080/",
          "height": 0
        },
        "id": "tLg3mp9dF88W",
        "outputId": "a6ed3e78-1e36-478c-94aa-0a081224b783"
      },
      "outputs": [
        {
          "output_type": "stream",
          "name": "stdout",
          "text": [
            "Checking epsilon 1 out of 50...\n",
            "Checking epsilon 2 out of 50...\n",
            "Checking epsilon 3 out of 50...\n",
            "Checking epsilon 4 out of 50...\n",
            "Checking epsilon 5 out of 50...\n",
            "Checking epsilon 6 out of 50...\n",
            "Checking epsilon 7 out of 50...\n",
            "Checking epsilon 8 out of 50...\n",
            "Checking epsilon 9 out of 50...\n",
            "Checking epsilon 10 out of 50...\n",
            "Checking epsilon 11 out of 50...\n",
            "Checking epsilon 12 out of 50...\n",
            "Checking epsilon 13 out of 50...\n",
            "Checking epsilon 14 out of 50...\n",
            "Checking epsilon 15 out of 50...\n",
            "Checking epsilon 16 out of 50...\n",
            "Checking epsilon 17 out of 50...\n",
            "Checking epsilon 18 out of 50...\n",
            "Checking epsilon 19 out of 50...\n",
            "Checking epsilon 20 out of 50...\n",
            "Checking epsilon 21 out of 50...\n",
            "Checking epsilon 22 out of 50...\n",
            "Checking epsilon 23 out of 50...\n",
            "Checking epsilon 24 out of 50...\n",
            "Checking epsilon 25 out of 50...\n",
            "Checking epsilon 26 out of 50...\n",
            "Checking epsilon 27 out of 50...\n",
            "Checking epsilon 28 out of 50...\n",
            "Checking epsilon 29 out of 50...\n",
            "Checking epsilon 30 out of 50...\n",
            "Checking epsilon 31 out of 50...\n",
            "Checking epsilon 32 out of 50...\n",
            "Checking epsilon 33 out of 50...\n",
            "Checking epsilon 34 out of 50...\n",
            "Checking epsilon 35 out of 50...\n",
            "Checking epsilon 36 out of 50...\n",
            "Checking epsilon 37 out of 50...\n",
            "Checking epsilon 38 out of 50...\n",
            "Checking epsilon 39 out of 50...\n",
            "Checking epsilon 40 out of 50...\n",
            "Checking epsilon 41 out of 50...\n",
            "Checking epsilon 42 out of 50...\n",
            "Checking epsilon 43 out of 50...\n",
            "Checking epsilon 44 out of 50...\n",
            "Checking epsilon 45 out of 50...\n",
            "Checking epsilon 46 out of 50...\n",
            "Checking epsilon 47 out of 50...\n",
            "Checking epsilon 48 out of 50...\n",
            "Checking epsilon 49 out of 50...\n",
            "Checking epsilon 50 out of 50...\n",
            "0.047469387755102045 0.9577836411609498\n",
            "Validation accuracy: 0.9577836411609498     Test accuracy: 0.9559082892416225\n"
          ]
        }
      ],
      "source": [
        "ele_gaussE, ele_gauss_valAcc, ele_gauss_testAcc = checkGaussianBayes(x_train,\n",
        "                                                                        y_train,\n",
        "                                                                        x_val,\n",
        "                                                                        y_val,\n",
        "                                                                        x_test,\n",
        "                                                                        y_test,\n",
        "                                                                        'Electric oven',\n",
        "                                                                        show_plot=False)\n",
        "\n",
        "print(f\"Validation accuracy: {ele_gauss_valAcc}     Test accuracy: {ele_gauss_testAcc}\")"
      ]
    },
    {
      "cell_type": "markdown",
      "metadata": {
        "id": "-SBMkU1cF88W"
      },
      "source": [
        "KNN"
      ]
    },
    {
      "cell_type": "code",
      "execution_count": 45,
      "metadata": {
        "colab": {
          "base_uri": "https://localhost:8080/",
          "height": 0
        },
        "id": "SG2AiGrKF88W",
        "outputId": "195a1339-50c7-467c-97cf-f26d75c54156"
      },
      "outputs": [
        {
          "output_type": "stream",
          "name": "stdout",
          "text": [
            "Checking 2 neighbors out of 30...\n",
            "Checking 3 neighbors out of 30...\n",
            "Checking 4 neighbors out of 30...\n",
            "Checking 5 neighbors out of 30...\n",
            "Checking 6 neighbors out of 30...\n",
            "Checking 7 neighbors out of 30...\n",
            "Checking 8 neighbors out of 30...\n",
            "Checking 9 neighbors out of 30...\n",
            "Checking 10 neighbors out of 30...\n",
            "Checking 11 neighbors out of 30...\n",
            "Checking 12 neighbors out of 30...\n",
            "Checking 13 neighbors out of 30...\n",
            "Checking 14 neighbors out of 30...\n",
            "Checking 15 neighbors out of 30...\n",
            "Checking 16 neighbors out of 30...\n",
            "Checking 17 neighbors out of 30...\n",
            "Checking 18 neighbors out of 30...\n",
            "Checking 19 neighbors out of 30...\n",
            "Checking 20 neighbors out of 30...\n",
            "Checking 21 neighbors out of 30...\n",
            "Checking 22 neighbors out of 30...\n",
            "Checking 23 neighbors out of 30...\n",
            "Checking 24 neighbors out of 30...\n",
            "Checking 25 neighbors out of 30...\n",
            "Checking 26 neighbors out of 30...\n",
            "Checking 27 neighbors out of 30...\n",
            "Checking 28 neighbors out of 30...\n",
            "Checking 29 neighbors out of 30...\n",
            "Checking 30 neighbors out of 30...\n",
            "11 0.9683377308707124\n",
            "Validation accuracy: 0.9683377308707124     Test accuracy: 0.9488536155202821\n"
          ]
        }
      ],
      "source": [
        "ele_knnE, ele_knn_valAcc, ele_knn_testAcc = checkKnn(x_train,\n",
        "                                                     y_train,\n",
        "                                                     x_val,\n",
        "                                                     y_val,\n",
        "                                                     x_test,\n",
        "                                                     y_test,\n",
        "                                                     'Electric oven',\n",
        "                                                     show_plot=False)\n",
        "\n",
        "print(f\"Validation accuracy: {ele_knn_valAcc}     Test accuracy: {ele_knn_testAcc}\")"
      ]
    },
    {
      "cell_type": "markdown",
      "metadata": {
        "id": "vhWMMR3S1Otz"
      },
      "source": [
        "# Convection oven models\n",
        "\n",
        "Naive Bayes"
      ]
    },
    {
      "cell_type": "code",
      "execution_count": 46,
      "metadata": {
        "colab": {
          "base_uri": "https://localhost:8080/",
          "height": 0
        },
        "id": "udh_moe1mIBq",
        "outputId": "a3ec26f7-b338-40df-bc6d-5047bf879fb3"
      },
      "outputs": [
        {
          "output_type": "stream",
          "name": "stdout",
          "text": [
            "Training set goes from 0 to 2838\n",
            "Validation set goes from 2839 to 3217\n",
            "Test set goes from 3218 to 3784\n"
          ]
        }
      ],
      "source": [
        "# General dataset for all features\n",
        "features = ['convection','appliance','countertop','microwave','electric','gas',\n",
        "            'compactor','desk','dishwasher','sink','freezer','garbage','pantry',\n",
        "            'grill','lazy','refrigerator','purifier','warming','wet','wine']\n",
        "\n",
        "X = data[features]\n",
        "X = X.sample(frac=1, replace=False, random_state=1) #Shuffle the data\n",
        "X = X.to_numpy()\n",
        "\n",
        "train_idx = int(len(X) * 0.75)\n",
        "val_idx = int(len(X) * 0.1)\n",
        "print(f\"Training set goes from 0 to {train_idx}\")\n",
        "print(f\"Validation set goes from {train_idx+1} to {train_idx+1+val_idx}\")\n",
        "print(f\"Test set goes from {train_idx+2+val_idx} to {len(X)}\")"
      ]
    },
    {
      "cell_type": "code",
      "execution_count": 47,
      "metadata": {
        "colab": {
          "base_uri": "https://localhost:8080/",
          "height": 0
        },
        "id": "UgXmXRgamIBr",
        "outputId": "a0125ff6-161d-49f8-f1e8-f9a75882010b"
      },
      "outputs": [
        {
          "output_type": "stream",
          "name": "stdout",
          "text": [
            "Train set: (2838, 19), (2838,)\n",
            "Validation set: (379, 19), (379,)\n",
            "Test set: (567, 19), (567,)\n"
          ]
        }
      ],
      "source": [
        "y_train = X[:train_idx,0]\n",
        "x_train = X[:train_idx,1:]\n",
        "y_val = X[train_idx:train_idx+1+val_idx,0]\n",
        "x_val = X[train_idx:train_idx+1+val_idx,1:]\n",
        "y_test = X[train_idx+1+val_idx:,0]\n",
        "x_test = X[train_idx+1+val_idx:,1:]\n",
        "print(f\"Train set: {x_train.shape}, {y_train.shape}\")\n",
        "print(f\"Validation set: {x_val.shape}, {y_val.shape}\")\n",
        "print(f\"Test set: {x_test.shape}, {y_test.shape}\")"
      ]
    },
    {
      "cell_type": "code",
      "execution_count": 48,
      "metadata": {
        "colab": {
          "base_uri": "https://localhost:8080/",
          "height": 0
        },
        "id": "bRkHl-9bGA3j",
        "outputId": "b46f361e-b2a8-437b-e008-2cd1e0022d6e"
      },
      "outputs": [
        {
          "output_type": "stream",
          "name": "stdout",
          "text": [
            "Checking epsilon 1 out of 50...\n",
            "Checking epsilon 2 out of 50...\n",
            "Checking epsilon 3 out of 50...\n",
            "Checking epsilon 4 out of 50...\n",
            "Checking epsilon 5 out of 50...\n",
            "Checking epsilon 6 out of 50...\n",
            "Checking epsilon 7 out of 50...\n",
            "Checking epsilon 8 out of 50...\n",
            "Checking epsilon 9 out of 50...\n",
            "Checking epsilon 10 out of 50...\n",
            "Checking epsilon 11 out of 50...\n",
            "Checking epsilon 12 out of 50...\n",
            "Checking epsilon 13 out of 50...\n",
            "Checking epsilon 14 out of 50...\n",
            "Checking epsilon 15 out of 50...\n",
            "Checking epsilon 16 out of 50...\n",
            "Checking epsilon 17 out of 50...\n",
            "Checking epsilon 18 out of 50...\n",
            "Checking epsilon 19 out of 50...\n",
            "Checking epsilon 20 out of 50...\n",
            "Checking epsilon 21 out of 50...\n",
            "Checking epsilon 22 out of 50...\n",
            "Checking epsilon 23 out of 50...\n",
            "Checking epsilon 24 out of 50...\n",
            "Checking epsilon 25 out of 50...\n",
            "Checking epsilon 26 out of 50...\n",
            "Checking epsilon 27 out of 50...\n",
            "Checking epsilon 28 out of 50...\n",
            "Checking epsilon 29 out of 50...\n",
            "Checking epsilon 30 out of 50...\n",
            "Checking epsilon 31 out of 50...\n",
            "Checking epsilon 32 out of 50...\n",
            "Checking epsilon 33 out of 50...\n",
            "Checking epsilon 34 out of 50...\n",
            "Checking epsilon 35 out of 50...\n",
            "Checking epsilon 36 out of 50...\n",
            "Checking epsilon 37 out of 50...\n",
            "Checking epsilon 38 out of 50...\n",
            "Checking epsilon 39 out of 50...\n",
            "Checking epsilon 40 out of 50...\n",
            "Checking epsilon 41 out of 50...\n",
            "Checking epsilon 42 out of 50...\n",
            "Checking epsilon 43 out of 50...\n",
            "Checking epsilon 44 out of 50...\n",
            "Checking epsilon 45 out of 50...\n",
            "Checking epsilon 46 out of 50...\n",
            "Checking epsilon 47 out of 50...\n",
            "Checking epsilon 48 out of 50...\n",
            "Checking epsilon 49 out of 50...\n",
            "Checking epsilon 50 out of 50...\n",
            "0.05757142857142858 1.0\n",
            "Validation accuracy: 1.0     Test accuracy: 0.9964726631393298\n"
          ]
        }
      ],
      "source": [
        "conv_naiveE, conv_naive_valAcc, conv_naive_testAcc = checkNaiveBayes(x_train,\n",
        "                                                                        y_train,\n",
        "                                                                        x_val,\n",
        "                                                                        y_val,\n",
        "                                                                        x_test,\n",
        "                                                                        y_test,\n",
        "                                                                        'Convection oven',\n",
        "                                                                        show_plot=False)\n",
        "\n",
        "print(f\"Validation accuracy: {conv_naive_valAcc}     Test accuracy: {conv_naive_testAcc}\")"
      ]
    },
    {
      "cell_type": "markdown",
      "metadata": {
        "id": "ii5rLc_CGA3k"
      },
      "source": [
        "Gaussian Bayes"
      ]
    },
    {
      "cell_type": "code",
      "execution_count": 49,
      "metadata": {
        "colab": {
          "base_uri": "https://localhost:8080/",
          "height": 0
        },
        "id": "QHl-Y_7ZGA3k",
        "outputId": "f38fab44-b070-4bf8-edfa-0b38d7ee23f8"
      },
      "outputs": [
        {
          "output_type": "stream",
          "name": "stdout",
          "text": [
            "Checking epsilon 1 out of 50...\n",
            "Checking epsilon 2 out of 50...\n",
            "Checking epsilon 3 out of 50...\n",
            "Checking epsilon 4 out of 50...\n",
            "Checking epsilon 5 out of 50...\n",
            "Checking epsilon 6 out of 50...\n",
            "Checking epsilon 7 out of 50...\n",
            "Checking epsilon 8 out of 50...\n",
            "Checking epsilon 9 out of 50...\n",
            "Checking epsilon 10 out of 50...\n",
            "Checking epsilon 11 out of 50...\n",
            "Checking epsilon 12 out of 50...\n",
            "Checking epsilon 13 out of 50...\n",
            "Checking epsilon 14 out of 50...\n",
            "Checking epsilon 15 out of 50...\n",
            "Checking epsilon 16 out of 50...\n",
            "Checking epsilon 17 out of 50...\n",
            "Checking epsilon 18 out of 50...\n",
            "Checking epsilon 19 out of 50...\n",
            "Checking epsilon 20 out of 50...\n",
            "Checking epsilon 21 out of 50...\n",
            "Checking epsilon 22 out of 50...\n",
            "Checking epsilon 23 out of 50...\n",
            "Checking epsilon 24 out of 50...\n",
            "Checking epsilon 25 out of 50...\n",
            "Checking epsilon 26 out of 50...\n",
            "Checking epsilon 27 out of 50...\n",
            "Checking epsilon 28 out of 50...\n",
            "Checking epsilon 29 out of 50...\n",
            "Checking epsilon 30 out of 50...\n",
            "Checking epsilon 31 out of 50...\n",
            "Checking epsilon 32 out of 50...\n",
            "Checking epsilon 33 out of 50...\n",
            "Checking epsilon 34 out of 50...\n",
            "Checking epsilon 35 out of 50...\n",
            "Checking epsilon 36 out of 50...\n",
            "Checking epsilon 37 out of 50...\n",
            "Checking epsilon 38 out of 50...\n",
            "Checking epsilon 39 out of 50...\n",
            "Checking epsilon 40 out of 50...\n",
            "Checking epsilon 41 out of 50...\n",
            "Checking epsilon 42 out of 50...\n",
            "Checking epsilon 43 out of 50...\n",
            "Checking epsilon 44 out of 50...\n",
            "Checking epsilon 45 out of 50...\n",
            "Checking epsilon 46 out of 50...\n",
            "Checking epsilon 47 out of 50...\n",
            "Checking epsilon 48 out of 50...\n",
            "Checking epsilon 49 out of 50...\n",
            "Checking epsilon 50 out of 50...\n",
            "0.001 0.9894459102902374\n",
            "Validation accuracy: 0.9894459102902374     Test accuracy: 0.9964726631393298\n"
          ]
        }
      ],
      "source": [
        "conv_gaussE, conv_gauss_valAcc, conv_gauss_testAcc = checkGaussianBayes(x_train,\n",
        "                                                                        y_train,\n",
        "                                                                        x_val,\n",
        "                                                                        y_val,\n",
        "                                                                        x_test,\n",
        "                                                                        y_test,\n",
        "                                                                        'Convection oven',\n",
        "                                                                        show_plot=False)\n",
        "\n",
        "print(f\"Validation accuracy: {conv_gauss_valAcc}     Test accuracy: {conv_gauss_testAcc}\")"
      ]
    },
    {
      "cell_type": "markdown",
      "metadata": {
        "id": "YT7OufL7GA3l"
      },
      "source": [
        "KNN"
      ]
    },
    {
      "cell_type": "code",
      "execution_count": 50,
      "metadata": {
        "colab": {
          "base_uri": "https://localhost:8080/",
          "height": 0
        },
        "id": "HOaaZEgFGA3l",
        "outputId": "336ad0d8-5ef1-470d-ede0-8a42ae86ecd9"
      },
      "outputs": [
        {
          "output_type": "stream",
          "name": "stdout",
          "text": [
            "Checking 2 neighbors out of 30...\n",
            "Checking 3 neighbors out of 30...\n",
            "Checking 4 neighbors out of 30...\n",
            "Checking 5 neighbors out of 30...\n",
            "Checking 6 neighbors out of 30...\n",
            "Checking 7 neighbors out of 30...\n",
            "Checking 8 neighbors out of 30...\n",
            "Checking 9 neighbors out of 30...\n",
            "Checking 10 neighbors out of 30...\n",
            "Checking 11 neighbors out of 30...\n",
            "Checking 12 neighbors out of 30...\n",
            "Checking 13 neighbors out of 30...\n",
            "Checking 14 neighbors out of 30...\n",
            "Checking 15 neighbors out of 30...\n",
            "Checking 16 neighbors out of 30...\n",
            "Checking 17 neighbors out of 30...\n",
            "Checking 18 neighbors out of 30...\n",
            "Checking 19 neighbors out of 30...\n",
            "Checking 20 neighbors out of 30...\n",
            "Checking 21 neighbors out of 30...\n",
            "Checking 22 neighbors out of 30...\n",
            "Checking 23 neighbors out of 30...\n",
            "Checking 24 neighbors out of 30...\n",
            "Checking 25 neighbors out of 30...\n",
            "Checking 26 neighbors out of 30...\n",
            "Checking 27 neighbors out of 30...\n",
            "Checking 28 neighbors out of 30...\n",
            "Checking 29 neighbors out of 30...\n",
            "Checking 30 neighbors out of 30...\n",
            "17 1.0\n",
            "Validation accuracy: 1.0     Test accuracy: 0.9964726631393298\n"
          ]
        }
      ],
      "source": [
        "conv_knnE, conv_knn_valAcc, conv_knn_testAcc = checkKnn(x_train,\n",
        "                                                     y_train,\n",
        "                                                     x_val,\n",
        "                                                     y_val,\n",
        "                                                     x_test,\n",
        "                                                     y_test,\n",
        "                                                     'Convection oven',\n",
        "                                                     show_plot=False)\n",
        "\n",
        "print(f\"Validation accuracy: {conv_knn_valAcc}     Test accuracy: {conv_knn_testAcc}\")"
      ]
    },
    {
      "cell_type": "markdown",
      "metadata": {
        "id": "hlVWeajy1PTZ"
      },
      "source": [
        "# Gas oven models\n",
        "\n",
        "Naive Bayes"
      ]
    },
    {
      "cell_type": "code",
      "execution_count": 51,
      "metadata": {
        "colab": {
          "base_uri": "https://localhost:8080/",
          "height": 0
        },
        "id": "f5Chn785mJMY",
        "outputId": "3f4d1ee6-bd48-45d2-9af4-efdcaaa1b503"
      },
      "outputs": [
        {
          "output_type": "stream",
          "name": "stdout",
          "text": [
            "Training set goes from 0 to 2838\n",
            "Validation set goes from 2839 to 3217\n",
            "Test set goes from 3218 to 3784\n"
          ]
        }
      ],
      "source": [
        "# General dataset for all features\n",
        "features = ['gas','appliance','countertop','microwave','electric','convection',\n",
        "            'compactor','desk','dishwasher','sink','freezer','garbage','pantry',\n",
        "            'grill','lazy','refrigerator','purifier','warming','wet','wine']\n",
        "\n",
        "X = data[features]\n",
        "X = X.sample(frac=1, replace=False, random_state=1) #Shuffle the data\n",
        "X = X.to_numpy()\n",
        "\n",
        "train_idx = int(len(X) * 0.75)\n",
        "val_idx = int(len(X) * 0.1)\n",
        "print(f\"Training set goes from 0 to {train_idx}\")\n",
        "print(f\"Validation set goes from {train_idx+1} to {train_idx+1+val_idx}\")\n",
        "print(f\"Test set goes from {train_idx+2+val_idx} to {len(X)}\")"
      ]
    },
    {
      "cell_type": "code",
      "execution_count": 52,
      "metadata": {
        "colab": {
          "base_uri": "https://localhost:8080/",
          "height": 0
        },
        "id": "jzbFGi3SmJMa",
        "outputId": "4f8ec1c5-951e-4169-820c-474983272dd4"
      },
      "outputs": [
        {
          "output_type": "stream",
          "name": "stdout",
          "text": [
            "Train set: (2838, 19), (2838,)\n",
            "Validation set: (379, 19), (379,)\n",
            "Test set: (567, 19), (567,)\n"
          ]
        }
      ],
      "source": [
        "y_train = X[:train_idx,0]\n",
        "x_train = X[:train_idx,1:]\n",
        "y_val = X[train_idx:train_idx+1+val_idx,0]\n",
        "x_val = X[train_idx:train_idx+1+val_idx,1:]\n",
        "y_test = X[train_idx+1+val_idx:,0]\n",
        "x_test = X[train_idx+1+val_idx:,1:]\n",
        "print(f\"Train set: {x_train.shape}, {y_train.shape}\")\n",
        "print(f\"Validation set: {x_val.shape}, {y_val.shape}\")\n",
        "print(f\"Test set: {x_test.shape}, {y_test.shape}\")"
      ]
    },
    {
      "cell_type": "code",
      "execution_count": 53,
      "metadata": {
        "colab": {
          "base_uri": "https://localhost:8080/",
          "height": 0
        },
        "id": "7IQiedTHGDjy",
        "outputId": "0d14e7a1-42ba-436e-9572-fb1085649e7c"
      },
      "outputs": [
        {
          "output_type": "stream",
          "name": "stdout",
          "text": [
            "Checking epsilon 1 out of 50...\n",
            "Checking epsilon 2 out of 50...\n",
            "Checking epsilon 3 out of 50...\n",
            "Checking epsilon 4 out of 50...\n",
            "Checking epsilon 5 out of 50...\n",
            "Checking epsilon 6 out of 50...\n",
            "Checking epsilon 7 out of 50...\n",
            "Checking epsilon 8 out of 50...\n",
            "Checking epsilon 9 out of 50...\n",
            "Checking epsilon 10 out of 50...\n",
            "Checking epsilon 11 out of 50...\n",
            "Checking epsilon 12 out of 50...\n",
            "Checking epsilon 13 out of 50...\n",
            "Checking epsilon 14 out of 50...\n",
            "Checking epsilon 15 out of 50...\n",
            "Checking epsilon 16 out of 50...\n",
            "Checking epsilon 17 out of 50...\n",
            "Checking epsilon 18 out of 50...\n",
            "Checking epsilon 19 out of 50...\n",
            "Checking epsilon 20 out of 50...\n",
            "Checking epsilon 21 out of 50...\n",
            "Checking epsilon 22 out of 50...\n",
            "Checking epsilon 23 out of 50...\n",
            "Checking epsilon 24 out of 50...\n",
            "Checking epsilon 25 out of 50...\n",
            "Checking epsilon 26 out of 50...\n",
            "Checking epsilon 27 out of 50...\n",
            "Checking epsilon 28 out of 50...\n",
            "Checking epsilon 29 out of 50...\n",
            "Checking epsilon 30 out of 50...\n",
            "Checking epsilon 31 out of 50...\n",
            "Checking epsilon 32 out of 50...\n",
            "Checking epsilon 33 out of 50...\n",
            "Checking epsilon 34 out of 50...\n",
            "Checking epsilon 35 out of 50...\n",
            "Checking epsilon 36 out of 50...\n",
            "Checking epsilon 37 out of 50...\n",
            "Checking epsilon 38 out of 50...\n",
            "Checking epsilon 39 out of 50...\n",
            "Checking epsilon 40 out of 50...\n",
            "Checking epsilon 41 out of 50...\n",
            "Checking epsilon 42 out of 50...\n",
            "Checking epsilon 43 out of 50...\n",
            "Checking epsilon 44 out of 50...\n",
            "Checking epsilon 45 out of 50...\n",
            "Checking epsilon 46 out of 50...\n",
            "Checking epsilon 47 out of 50...\n",
            "Checking epsilon 48 out of 50...\n",
            "Checking epsilon 49 out of 50...\n",
            "Checking epsilon 50 out of 50...\n",
            "0.001 0.8918205804749341\n",
            "Validation accuracy: 0.8918205804749341     Test accuracy: 0.8941798941798942\n"
          ]
        }
      ],
      "source": [
        "gas_naiveE, gas_naive_valAcc, gas_naive_testAcc = checkNaiveBayes(x_train,\n",
        "                                                                        y_train,\n",
        "                                                                        x_val,\n",
        "                                                                        y_val,\n",
        "                                                                        x_test,\n",
        "                                                                        y_test,\n",
        "                                                                        'Gas oven',\n",
        "                                                                        show_plot=False)\n",
        "\n",
        "print(f\"Validation accuracy: {gas_naive_valAcc}     Test accuracy: {gas_naive_testAcc}\")"
      ]
    },
    {
      "cell_type": "markdown",
      "metadata": {
        "id": "Vpayamb1GDjz"
      },
      "source": [
        "Gaussian Bayes"
      ]
    },
    {
      "cell_type": "code",
      "execution_count": 54,
      "metadata": {
        "colab": {
          "base_uri": "https://localhost:8080/",
          "height": 0
        },
        "id": "1httEvuFGDj0",
        "outputId": "b648f811-3ee0-4d3c-a0f1-932d9f8e9640"
      },
      "outputs": [
        {
          "output_type": "stream",
          "name": "stdout",
          "text": [
            "Checking epsilon 1 out of 50...\n",
            "Checking epsilon 2 out of 50...\n",
            "Checking epsilon 3 out of 50...\n",
            "Checking epsilon 4 out of 50...\n",
            "Checking epsilon 5 out of 50...\n",
            "Checking epsilon 6 out of 50...\n",
            "Checking epsilon 7 out of 50...\n",
            "Checking epsilon 8 out of 50...\n",
            "Checking epsilon 9 out of 50...\n",
            "Checking epsilon 10 out of 50...\n",
            "Checking epsilon 11 out of 50...\n",
            "Checking epsilon 12 out of 50...\n",
            "Checking epsilon 13 out of 50...\n",
            "Checking epsilon 14 out of 50...\n",
            "Checking epsilon 15 out of 50...\n",
            "Checking epsilon 16 out of 50...\n",
            "Checking epsilon 17 out of 50...\n",
            "Checking epsilon 18 out of 50...\n",
            "Checking epsilon 19 out of 50...\n",
            "Checking epsilon 20 out of 50...\n",
            "Checking epsilon 21 out of 50...\n",
            "Checking epsilon 22 out of 50...\n",
            "Checking epsilon 23 out of 50...\n",
            "Checking epsilon 24 out of 50...\n",
            "Checking epsilon 25 out of 50...\n",
            "Checking epsilon 26 out of 50...\n",
            "Checking epsilon 27 out of 50...\n",
            "Checking epsilon 28 out of 50...\n",
            "Checking epsilon 29 out of 50...\n",
            "Checking epsilon 30 out of 50...\n",
            "Checking epsilon 31 out of 50...\n",
            "Checking epsilon 32 out of 50...\n",
            "Checking epsilon 33 out of 50...\n",
            "Checking epsilon 34 out of 50...\n",
            "Checking epsilon 35 out of 50...\n",
            "Checking epsilon 36 out of 50...\n",
            "Checking epsilon 37 out of 50...\n",
            "Checking epsilon 38 out of 50...\n",
            "Checking epsilon 39 out of 50...\n",
            "Checking epsilon 40 out of 50...\n",
            "Checking epsilon 41 out of 50...\n",
            "Checking epsilon 42 out of 50...\n",
            "Checking epsilon 43 out of 50...\n",
            "Checking epsilon 44 out of 50...\n",
            "Checking epsilon 45 out of 50...\n",
            "Checking epsilon 46 out of 50...\n",
            "Checking epsilon 47 out of 50...\n",
            "Checking epsilon 48 out of 50...\n",
            "Checking epsilon 49 out of 50...\n",
            "Checking epsilon 50 out of 50...\n",
            "0.09191836734693878 0.9313984168865436\n",
            "Validation accuracy: 0.9313984168865436     Test accuracy: 0.9171075837742504\n"
          ]
        }
      ],
      "source": [
        "gas_gaussE, gas_gauss_valAcc, gas_gauss_testAcc = checkGaussianBayes(x_train,\n",
        "                                                                        y_train,\n",
        "                                                                        x_val,\n",
        "                                                                        y_val,\n",
        "                                                                        x_test,\n",
        "                                                                        y_test,\n",
        "                                                                        'Gas oven',\n",
        "                                                                        show_plot=False)\n",
        "\n",
        "print(f\"Validation accuracy: {gas_gauss_valAcc}     Test accuracy: {gas_gauss_testAcc}\")"
      ]
    },
    {
      "cell_type": "markdown",
      "metadata": {
        "id": "pOIRaPhqGDj1"
      },
      "source": [
        "KNN"
      ]
    },
    {
      "cell_type": "code",
      "execution_count": 55,
      "metadata": {
        "colab": {
          "base_uri": "https://localhost:8080/",
          "height": 0
        },
        "id": "_VlmcAr3GDj1",
        "outputId": "54ce7255-9ae1-4b00-9756-48f31f23eead"
      },
      "outputs": [
        {
          "output_type": "stream",
          "name": "stdout",
          "text": [
            "Checking 2 neighbors out of 30...\n",
            "Checking 3 neighbors out of 30...\n",
            "Checking 4 neighbors out of 30...\n",
            "Checking 5 neighbors out of 30...\n",
            "Checking 6 neighbors out of 30...\n",
            "Checking 7 neighbors out of 30...\n",
            "Checking 8 neighbors out of 30...\n",
            "Checking 9 neighbors out of 30...\n",
            "Checking 10 neighbors out of 30...\n",
            "Checking 11 neighbors out of 30...\n",
            "Checking 12 neighbors out of 30...\n",
            "Checking 13 neighbors out of 30...\n",
            "Checking 14 neighbors out of 30...\n",
            "Checking 15 neighbors out of 30...\n",
            "Checking 16 neighbors out of 30...\n",
            "Checking 17 neighbors out of 30...\n",
            "Checking 18 neighbors out of 30...\n",
            "Checking 19 neighbors out of 30...\n",
            "Checking 20 neighbors out of 30...\n",
            "Checking 21 neighbors out of 30...\n",
            "Checking 22 neighbors out of 30...\n",
            "Checking 23 neighbors out of 30...\n",
            "Checking 24 neighbors out of 30...\n",
            "Checking 25 neighbors out of 30...\n",
            "Checking 26 neighbors out of 30...\n",
            "Checking 27 neighbors out of 30...\n",
            "Checking 28 neighbors out of 30...\n",
            "Checking 29 neighbors out of 30...\n",
            "Checking 30 neighbors out of 30...\n",
            "19 0.941952506596306\n",
            "Validation accuracy: 0.941952506596306     Test accuracy: 0.9435626102292769\n"
          ]
        }
      ],
      "source": [
        "gas_knnE, gas_knn_valAcc, gas_knn_testAcc = checkKnn(x_train,\n",
        "                                                     y_train,\n",
        "                                                     x_val,\n",
        "                                                     y_val,\n",
        "                                                     x_test,\n",
        "                                                     y_test,\n",
        "                                                     'Gas oven',\n",
        "                                                     show_plot=False)\n",
        "\n",
        "print(f\"Validation accuracy: {gas_knn_valAcc}     Test accuracy: {gas_knn_testAcc}\")"
      ]
    },
    {
      "cell_type": "markdown",
      "metadata": {
        "id": "NFOW__ou1P1X"
      },
      "source": [
        "# Compactor models\n",
        "\n",
        "Naive Bayes"
      ]
    },
    {
      "cell_type": "code",
      "execution_count": 56,
      "metadata": {
        "colab": {
          "base_uri": "https://localhost:8080/",
          "height": 0
        },
        "id": "zzTQFp15mKaK",
        "outputId": "887a4e72-0056-4f8d-cf01-5a2ff51b5c2d"
      },
      "outputs": [
        {
          "output_type": "stream",
          "name": "stdout",
          "text": [
            "Training set goes from 0 to 2838\n",
            "Validation set goes from 2839 to 3217\n",
            "Test set goes from 3218 to 3784\n"
          ]
        }
      ],
      "source": [
        "# General dataset for all features\n",
        "features = ['compactor','appliance','countertop','microwave','electric','convection',\n",
        "            'gas','desk','dishwasher','sink','freezer','garbage','pantry',\n",
        "            'grill','lazy','refrigerator','purifier','warming','wet','wine']\n",
        "\n",
        "X = data[features]\n",
        "X = X.sample(frac=1, replace=False, random_state=1) #Shuffle the data\n",
        "X = X.to_numpy()\n",
        "\n",
        "train_idx = int(len(X) * 0.75)\n",
        "val_idx = int(len(X) * 0.1)\n",
        "print(f\"Training set goes from 0 to {train_idx}\")\n",
        "print(f\"Validation set goes from {train_idx+1} to {train_idx+1+val_idx}\")\n",
        "print(f\"Test set goes from {train_idx+2+val_idx} to {len(X)}\")"
      ]
    },
    {
      "cell_type": "code",
      "execution_count": 57,
      "metadata": {
        "colab": {
          "base_uri": "https://localhost:8080/",
          "height": 0
        },
        "id": "74e57OVNmKaL",
        "outputId": "8538cace-7995-42cf-f2fd-a1a95a89388d"
      },
      "outputs": [
        {
          "output_type": "stream",
          "name": "stdout",
          "text": [
            "Train set: (2838, 19), (2838,)\n",
            "Validation set: (379, 19), (379,)\n",
            "Test set: (567, 19), (567,)\n"
          ]
        }
      ],
      "source": [
        "y_train = X[:train_idx,0]\n",
        "x_train = X[:train_idx,1:]\n",
        "y_val = X[train_idx:train_idx+1+val_idx,0]\n",
        "x_val = X[train_idx:train_idx+1+val_idx,1:]\n",
        "y_test = X[train_idx+1+val_idx:,0]\n",
        "x_test = X[train_idx+1+val_idx:,1:]\n",
        "print(f\"Train set: {x_train.shape}, {y_train.shape}\")\n",
        "print(f\"Validation set: {x_val.shape}, {y_val.shape}\")\n",
        "print(f\"Test set: {x_test.shape}, {y_test.shape}\")"
      ]
    },
    {
      "cell_type": "code",
      "execution_count": 58,
      "metadata": {
        "colab": {
          "base_uri": "https://localhost:8080/",
          "height": 0
        },
        "id": "4M5Kg5XWGGWa",
        "outputId": "4066b862-45a8-4e60-c1b8-19b8454f04d3"
      },
      "outputs": [
        {
          "output_type": "stream",
          "name": "stdout",
          "text": [
            "Checking epsilon 1 out of 50...\n",
            "Checking epsilon 2 out of 50...\n",
            "Checking epsilon 3 out of 50...\n",
            "Checking epsilon 4 out of 50...\n",
            "Checking epsilon 5 out of 50...\n",
            "Checking epsilon 6 out of 50...\n",
            "Checking epsilon 7 out of 50...\n",
            "Checking epsilon 8 out of 50...\n",
            "Checking epsilon 9 out of 50...\n",
            "Checking epsilon 10 out of 50...\n",
            "Checking epsilon 11 out of 50...\n",
            "Checking epsilon 12 out of 50...\n",
            "Checking epsilon 13 out of 50...\n",
            "Checking epsilon 14 out of 50...\n",
            "Checking epsilon 15 out of 50...\n",
            "Checking epsilon 16 out of 50...\n",
            "Checking epsilon 17 out of 50...\n",
            "Checking epsilon 18 out of 50...\n",
            "Checking epsilon 19 out of 50...\n",
            "Checking epsilon 20 out of 50...\n",
            "Checking epsilon 21 out of 50...\n",
            "Checking epsilon 22 out of 50...\n",
            "Checking epsilon 23 out of 50...\n",
            "Checking epsilon 24 out of 50...\n",
            "Checking epsilon 25 out of 50...\n",
            "Checking epsilon 26 out of 50...\n",
            "Checking epsilon 27 out of 50...\n",
            "Checking epsilon 28 out of 50...\n",
            "Checking epsilon 29 out of 50...\n",
            "Checking epsilon 30 out of 50...\n",
            "Checking epsilon 31 out of 50...\n",
            "Checking epsilon 32 out of 50...\n",
            "Checking epsilon 33 out of 50...\n",
            "Checking epsilon 34 out of 50...\n",
            "Checking epsilon 35 out of 50...\n",
            "Checking epsilon 36 out of 50...\n",
            "Checking epsilon 37 out of 50...\n",
            "Checking epsilon 38 out of 50...\n",
            "Checking epsilon 39 out of 50...\n",
            "Checking epsilon 40 out of 50...\n",
            "Checking epsilon 41 out of 50...\n",
            "Checking epsilon 42 out of 50...\n",
            "Checking epsilon 43 out of 50...\n",
            "Checking epsilon 44 out of 50...\n",
            "Checking epsilon 45 out of 50...\n",
            "Checking epsilon 46 out of 50...\n",
            "Checking epsilon 47 out of 50...\n",
            "Checking epsilon 48 out of 50...\n",
            "Checking epsilon 49 out of 50...\n",
            "Checking epsilon 50 out of 50...\n",
            "0.05555102040816327 0.920844327176781\n",
            "Validation accuracy: 0.920844327176781     Test accuracy: 0.9065255731922398\n"
          ]
        }
      ],
      "source": [
        "com_naiveE, com_naive_valAcc, com_naive_testAcc = checkNaiveBayes(x_train,\n",
        "                                                                        y_train,\n",
        "                                                                        x_val,\n",
        "                                                                        y_val,\n",
        "                                                                        x_test,\n",
        "                                                                        y_test,\n",
        "                                                                        'Compactor',\n",
        "                                                                        show_plot=False)\n",
        "\n",
        "print(f\"Validation accuracy: {com_naive_valAcc}     Test accuracy: {com_naive_testAcc}\")"
      ]
    },
    {
      "cell_type": "markdown",
      "metadata": {
        "id": "mAW3to-ZGGWb"
      },
      "source": [
        "Gaussian Bayes"
      ]
    },
    {
      "cell_type": "code",
      "execution_count": 59,
      "metadata": {
        "colab": {
          "base_uri": "https://localhost:8080/",
          "height": 0
        },
        "id": "wChOripqGGWb",
        "outputId": "e765a604-b73c-4721-d845-e449e9645be7"
      },
      "outputs": [
        {
          "output_type": "stream",
          "name": "stdout",
          "text": [
            "Checking epsilon 1 out of 50...\n",
            "Checking epsilon 2 out of 50...\n",
            "Checking epsilon 3 out of 50...\n",
            "Checking epsilon 4 out of 50...\n",
            "Checking epsilon 5 out of 50...\n",
            "Checking epsilon 6 out of 50...\n",
            "Checking epsilon 7 out of 50...\n",
            "Checking epsilon 8 out of 50...\n",
            "Checking epsilon 9 out of 50...\n",
            "Checking epsilon 10 out of 50...\n",
            "Checking epsilon 11 out of 50...\n",
            "Checking epsilon 12 out of 50...\n",
            "Checking epsilon 13 out of 50...\n",
            "Checking epsilon 14 out of 50...\n",
            "Checking epsilon 15 out of 50...\n",
            "Checking epsilon 16 out of 50...\n",
            "Checking epsilon 17 out of 50...\n",
            "Checking epsilon 18 out of 50...\n",
            "Checking epsilon 19 out of 50...\n",
            "Checking epsilon 20 out of 50...\n",
            "Checking epsilon 21 out of 50...\n",
            "Checking epsilon 22 out of 50...\n",
            "Checking epsilon 23 out of 50...\n",
            "Checking epsilon 24 out of 50...\n",
            "Checking epsilon 25 out of 50...\n",
            "Checking epsilon 26 out of 50...\n",
            "Checking epsilon 27 out of 50...\n",
            "Checking epsilon 28 out of 50...\n",
            "Checking epsilon 29 out of 50...\n",
            "Checking epsilon 30 out of 50...\n",
            "Checking epsilon 31 out of 50...\n",
            "Checking epsilon 32 out of 50...\n",
            "Checking epsilon 33 out of 50...\n",
            "Checking epsilon 34 out of 50...\n",
            "Checking epsilon 35 out of 50...\n",
            "Checking epsilon 36 out of 50...\n",
            "Checking epsilon 37 out of 50...\n",
            "Checking epsilon 38 out of 50...\n",
            "Checking epsilon 39 out of 50...\n",
            "Checking epsilon 40 out of 50...\n",
            "Checking epsilon 41 out of 50...\n",
            "Checking epsilon 42 out of 50...\n",
            "Checking epsilon 43 out of 50...\n",
            "Checking epsilon 44 out of 50...\n",
            "Checking epsilon 45 out of 50...\n",
            "Checking epsilon 46 out of 50...\n",
            "Checking epsilon 47 out of 50...\n",
            "Checking epsilon 48 out of 50...\n",
            "Checking epsilon 49 out of 50...\n",
            "Checking epsilon 50 out of 50...\n",
            "0.06969387755102041 0.920844327176781\n",
            "Validation accuracy: 0.920844327176781     Test accuracy: 0.9065255731922398\n"
          ]
        }
      ],
      "source": [
        "com_gaussE, com_gauss_valAcc, com_gauss_testAcc = checkGaussianBayes(x_train,\n",
        "                                                                        y_train,\n",
        "                                                                        x_val,\n",
        "                                                                        y_val,\n",
        "                                                                        x_test,\n",
        "                                                                        y_test,\n",
        "                                                                        'Compactor',\n",
        "                                                                        show_plot=False)\n",
        "\n",
        "print(f\"Validation accuracy: {com_gauss_valAcc}     Test accuracy: {com_gauss_testAcc}\")"
      ]
    },
    {
      "cell_type": "markdown",
      "metadata": {
        "id": "2N-cbe-3GGWb"
      },
      "source": [
        "KNN"
      ]
    },
    {
      "cell_type": "code",
      "execution_count": 60,
      "metadata": {
        "colab": {
          "base_uri": "https://localhost:8080/",
          "height": 0
        },
        "id": "bXTKh30MGGWb",
        "outputId": "b187416e-fc0d-46fb-e417-2ce1cca61ebe"
      },
      "outputs": [
        {
          "output_type": "stream",
          "name": "stdout",
          "text": [
            "Checking 2 neighbors out of 30...\n",
            "Checking 3 neighbors out of 30...\n",
            "Checking 4 neighbors out of 30...\n",
            "Checking 5 neighbors out of 30...\n",
            "Checking 6 neighbors out of 30...\n",
            "Checking 7 neighbors out of 30...\n",
            "Checking 8 neighbors out of 30...\n",
            "Checking 9 neighbors out of 30...\n",
            "Checking 10 neighbors out of 30...\n",
            "Checking 11 neighbors out of 30...\n",
            "Checking 12 neighbors out of 30...\n",
            "Checking 13 neighbors out of 30...\n",
            "Checking 14 neighbors out of 30...\n",
            "Checking 15 neighbors out of 30...\n",
            "Checking 16 neighbors out of 30...\n",
            "Checking 17 neighbors out of 30...\n",
            "Checking 18 neighbors out of 30...\n",
            "Checking 19 neighbors out of 30...\n",
            "Checking 20 neighbors out of 30...\n",
            "Checking 21 neighbors out of 30...\n",
            "Checking 22 neighbors out of 30...\n",
            "Checking 23 neighbors out of 30...\n",
            "Checking 24 neighbors out of 30...\n",
            "Checking 25 neighbors out of 30...\n",
            "Checking 26 neighbors out of 30...\n",
            "Checking 27 neighbors out of 30...\n",
            "Checking 28 neighbors out of 30...\n",
            "Checking 29 neighbors out of 30...\n",
            "Checking 30 neighbors out of 30...\n",
            "18 0.9182058047493403\n",
            "Validation accuracy: 0.9182058047493403     Test accuracy: 0.9065255731922398\n"
          ]
        }
      ],
      "source": [
        "com_knnE, com_knn_valAcc, com_knn_testAcc = checkKnn(x_train,\n",
        "                                                     y_train,\n",
        "                                                     x_val,\n",
        "                                                     y_val,\n",
        "                                                     x_test,\n",
        "                                                     y_test,\n",
        "                                                     'Compactor',\n",
        "                                                     show_plot=False)\n",
        "\n",
        "print(f\"Validation accuracy: {com_knn_valAcc}     Test accuracy: {com_knn_testAcc}\")"
      ]
    },
    {
      "cell_type": "markdown",
      "metadata": {
        "id": "69EerU2s1Qao"
      },
      "source": [
        "# Desk models\n",
        "\n",
        "Naive Bayes"
      ]
    },
    {
      "cell_type": "code",
      "execution_count": 61,
      "metadata": {
        "colab": {
          "base_uri": "https://localhost:8080/",
          "height": 0
        },
        "id": "bkzXwkrPmLmA",
        "outputId": "79fff72b-6981-4a15-96ef-8b786799692d"
      },
      "outputs": [
        {
          "output_type": "stream",
          "name": "stdout",
          "text": [
            "Training set goes from 0 to 2838\n",
            "Validation set goes from 2839 to 3217\n",
            "Test set goes from 3218 to 3784\n"
          ]
        }
      ],
      "source": [
        "# General dataset for all features\n",
        "features = ['desk','appliance','countertop','microwave','electric','convection',\n",
        "            'gas','compactor','dishwasher','sink','freezer','garbage','pantry',\n",
        "            'grill','lazy','refrigerator','purifier','warming','wet','wine']\n",
        "\n",
        "X = data[features]\n",
        "X = X.sample(frac=1, replace=False, random_state=1) #Shuffle the data\n",
        "X = X.to_numpy()\n",
        "\n",
        "train_idx = int(len(X) * 0.75)\n",
        "val_idx = int(len(X) * 0.1)\n",
        "print(f\"Training set goes from 0 to {train_idx}\")\n",
        "print(f\"Validation set goes from {train_idx+1} to {train_idx+1+val_idx}\")\n",
        "print(f\"Test set goes from {train_idx+2+val_idx} to {len(X)}\")"
      ]
    },
    {
      "cell_type": "code",
      "execution_count": 62,
      "metadata": {
        "colab": {
          "base_uri": "https://localhost:8080/",
          "height": 0
        },
        "id": "-sTVlGdumLmB",
        "outputId": "7ff10a96-dc98-4955-a6a1-5a8e699a27eb"
      },
      "outputs": [
        {
          "output_type": "stream",
          "name": "stdout",
          "text": [
            "Train set: (2838, 19), (2838,)\n",
            "Validation set: (379, 19), (379,)\n",
            "Test set: (567, 19), (567,)\n"
          ]
        }
      ],
      "source": [
        "y_train = X[:train_idx,0]\n",
        "x_train = X[:train_idx,1:]\n",
        "y_val = X[train_idx:train_idx+1+val_idx,0]\n",
        "x_val = X[train_idx:train_idx+1+val_idx,1:]\n",
        "y_test = X[train_idx+1+val_idx:,0]\n",
        "x_test = X[train_idx+1+val_idx:,1:]\n",
        "print(f\"Train set: {x_train.shape}, {y_train.shape}\")\n",
        "print(f\"Validation set: {x_val.shape}, {y_val.shape}\")\n",
        "print(f\"Test set: {x_test.shape}, {y_test.shape}\")"
      ]
    },
    {
      "cell_type": "code",
      "execution_count": 63,
      "metadata": {
        "colab": {
          "base_uri": "https://localhost:8080/",
          "height": 0
        },
        "id": "e-vBuaIUGJMZ",
        "outputId": "69b61133-859d-49c9-d9b3-09faacb4c2dc"
      },
      "outputs": [
        {
          "output_type": "stream",
          "name": "stdout",
          "text": [
            "Checking epsilon 1 out of 50...\n",
            "Checking epsilon 2 out of 50...\n",
            "Checking epsilon 3 out of 50...\n",
            "Checking epsilon 4 out of 50...\n",
            "Checking epsilon 5 out of 50...\n",
            "Checking epsilon 6 out of 50...\n",
            "Checking epsilon 7 out of 50...\n",
            "Checking epsilon 8 out of 50...\n",
            "Checking epsilon 9 out of 50...\n",
            "Checking epsilon 10 out of 50...\n",
            "Checking epsilon 11 out of 50...\n",
            "Checking epsilon 12 out of 50...\n",
            "Checking epsilon 13 out of 50...\n",
            "Checking epsilon 14 out of 50...\n",
            "Checking epsilon 15 out of 50...\n",
            "Checking epsilon 16 out of 50...\n",
            "Checking epsilon 17 out of 50...\n",
            "Checking epsilon 18 out of 50...\n",
            "Checking epsilon 19 out of 50...\n",
            "Checking epsilon 20 out of 50...\n",
            "Checking epsilon 21 out of 50...\n",
            "Checking epsilon 22 out of 50...\n",
            "Checking epsilon 23 out of 50...\n",
            "Checking epsilon 24 out of 50...\n",
            "Checking epsilon 25 out of 50...\n",
            "Checking epsilon 26 out of 50...\n",
            "Checking epsilon 27 out of 50...\n",
            "Checking epsilon 28 out of 50...\n",
            "Checking epsilon 29 out of 50...\n",
            "Checking epsilon 30 out of 50...\n",
            "Checking epsilon 31 out of 50...\n",
            "Checking epsilon 32 out of 50...\n",
            "Checking epsilon 33 out of 50...\n",
            "Checking epsilon 34 out of 50...\n",
            "Checking epsilon 35 out of 50...\n",
            "Checking epsilon 36 out of 50...\n",
            "Checking epsilon 37 out of 50...\n",
            "Checking epsilon 38 out of 50...\n",
            "Checking epsilon 39 out of 50...\n",
            "Checking epsilon 40 out of 50...\n",
            "Checking epsilon 41 out of 50...\n",
            "Checking epsilon 42 out of 50...\n",
            "Checking epsilon 43 out of 50...\n",
            "Checking epsilon 44 out of 50...\n",
            "Checking epsilon 45 out of 50...\n",
            "Checking epsilon 46 out of 50...\n",
            "Checking epsilon 47 out of 50...\n",
            "Checking epsilon 48 out of 50...\n",
            "Checking epsilon 49 out of 50...\n",
            "Checking epsilon 50 out of 50...\n",
            "0.1 0.8337730870712401\n",
            "Validation accuracy: 0.8337730870712401     Test accuracy: 0.8130511463844797\n"
          ]
        }
      ],
      "source": [
        "des_naiveE, des_naive_valAcc, des_naive_testAcc = checkNaiveBayes(x_train,\n",
        "                                                                        y_train,\n",
        "                                                                        x_val,\n",
        "                                                                        y_val,\n",
        "                                                                        x_test,\n",
        "                                                                        y_test,\n",
        "                                                                        'Desk',\n",
        "                                                                        show_plot=False)\n",
        "\n",
        "print(f\"Validation accuracy: {des_naive_valAcc}     Test accuracy: {des_naive_testAcc}\")"
      ]
    },
    {
      "cell_type": "markdown",
      "metadata": {
        "id": "fDzom_Z5GJMa"
      },
      "source": [
        "Gaussian Bayes"
      ]
    },
    {
      "cell_type": "code",
      "execution_count": 64,
      "metadata": {
        "colab": {
          "base_uri": "https://localhost:8080/",
          "height": 0
        },
        "id": "2qMxpPUaGJMb",
        "outputId": "c6448158-ab66-4d55-a771-5b1db30f7b23"
      },
      "outputs": [
        {
          "output_type": "stream",
          "name": "stdout",
          "text": [
            "Checking epsilon 1 out of 50...\n",
            "Checking epsilon 2 out of 50...\n",
            "Checking epsilon 3 out of 50...\n",
            "Checking epsilon 4 out of 50...\n",
            "Checking epsilon 5 out of 50...\n",
            "Checking epsilon 6 out of 50...\n",
            "Checking epsilon 7 out of 50...\n",
            "Checking epsilon 8 out of 50...\n",
            "Checking epsilon 9 out of 50...\n",
            "Checking epsilon 10 out of 50...\n",
            "Checking epsilon 11 out of 50...\n",
            "Checking epsilon 12 out of 50...\n",
            "Checking epsilon 13 out of 50...\n",
            "Checking epsilon 14 out of 50...\n",
            "Checking epsilon 15 out of 50...\n",
            "Checking epsilon 16 out of 50...\n",
            "Checking epsilon 17 out of 50...\n",
            "Checking epsilon 18 out of 50...\n",
            "Checking epsilon 19 out of 50...\n",
            "Checking epsilon 20 out of 50...\n",
            "Checking epsilon 21 out of 50...\n",
            "Checking epsilon 22 out of 50...\n",
            "Checking epsilon 23 out of 50...\n",
            "Checking epsilon 24 out of 50...\n",
            "Checking epsilon 25 out of 50...\n",
            "Checking epsilon 26 out of 50...\n",
            "Checking epsilon 27 out of 50...\n",
            "Checking epsilon 28 out of 50...\n",
            "Checking epsilon 29 out of 50...\n",
            "Checking epsilon 30 out of 50...\n",
            "Checking epsilon 31 out of 50...\n",
            "Checking epsilon 32 out of 50...\n",
            "Checking epsilon 33 out of 50...\n",
            "Checking epsilon 34 out of 50...\n",
            "Checking epsilon 35 out of 50...\n",
            "Checking epsilon 36 out of 50...\n",
            "Checking epsilon 37 out of 50...\n",
            "Checking epsilon 38 out of 50...\n",
            "Checking epsilon 39 out of 50...\n",
            "Checking epsilon 40 out of 50...\n",
            "Checking epsilon 41 out of 50...\n",
            "Checking epsilon 42 out of 50...\n",
            "Checking epsilon 43 out of 50...\n",
            "Checking epsilon 44 out of 50...\n",
            "Checking epsilon 45 out of 50...\n",
            "Checking epsilon 46 out of 50...\n",
            "Checking epsilon 47 out of 50...\n",
            "Checking epsilon 48 out of 50...\n",
            "Checking epsilon 49 out of 50...\n",
            "Checking epsilon 50 out of 50...\n",
            "0.0979795918367347 0.9525065963060686\n",
            "Validation accuracy: 0.9525065963060686     Test accuracy: 0.9329805996472663\n"
          ]
        }
      ],
      "source": [
        "des_gaussE, des_gauss_valAcc, des_gauss_testAcc = checkGaussianBayes(x_train,\n",
        "                                                                        y_train,\n",
        "                                                                        x_val,\n",
        "                                                                        y_val,\n",
        "                                                                        x_test,\n",
        "                                                                        y_test,\n",
        "                                                                        'Desk',\n",
        "                                                                        show_plot=False)\n",
        "\n",
        "print(f\"Validation accuracy: {des_gauss_valAcc}     Test accuracy: {des_gauss_testAcc}\")"
      ]
    },
    {
      "cell_type": "markdown",
      "metadata": {
        "id": "lPuU2sAhGJMc"
      },
      "source": [
        "KNN"
      ]
    },
    {
      "cell_type": "code",
      "execution_count": 65,
      "metadata": {
        "colab": {
          "base_uri": "https://localhost:8080/",
          "height": 0
        },
        "id": "2KrJWw-PGJMc",
        "outputId": "3a97236d-f5e2-4f67-e16e-b4affa7cb7a9"
      },
      "outputs": [
        {
          "output_type": "stream",
          "name": "stdout",
          "text": [
            "Checking 2 neighbors out of 30...\n",
            "Checking 3 neighbors out of 30...\n",
            "Checking 4 neighbors out of 30...\n",
            "Checking 5 neighbors out of 30...\n",
            "Checking 6 neighbors out of 30...\n",
            "Checking 7 neighbors out of 30...\n",
            "Checking 8 neighbors out of 30...\n",
            "Checking 9 neighbors out of 30...\n",
            "Checking 10 neighbors out of 30...\n",
            "Checking 11 neighbors out of 30...\n",
            "Checking 12 neighbors out of 30...\n",
            "Checking 13 neighbors out of 30...\n",
            "Checking 14 neighbors out of 30...\n",
            "Checking 15 neighbors out of 30...\n",
            "Checking 16 neighbors out of 30...\n",
            "Checking 17 neighbors out of 30...\n",
            "Checking 18 neighbors out of 30...\n",
            "Checking 19 neighbors out of 30...\n",
            "Checking 20 neighbors out of 30...\n",
            "Checking 21 neighbors out of 30...\n",
            "Checking 22 neighbors out of 30...\n",
            "Checking 23 neighbors out of 30...\n",
            "Checking 24 neighbors out of 30...\n",
            "Checking 25 neighbors out of 30...\n",
            "Checking 26 neighbors out of 30...\n",
            "Checking 27 neighbors out of 30...\n",
            "Checking 28 neighbors out of 30...\n",
            "Checking 29 neighbors out of 30...\n",
            "Checking 30 neighbors out of 30...\n",
            "6 0.9604221635883905\n",
            "Validation accuracy: 0.9604221635883905     Test accuracy: 0.9382716049382716\n"
          ]
        }
      ],
      "source": [
        "des_knnE, des_knn_valAcc, des_knn_testAcc = checkKnn(x_train,\n",
        "                                                     y_train,\n",
        "                                                     x_val,\n",
        "                                                     y_val,\n",
        "                                                     x_test,\n",
        "                                                     y_test,\n",
        "                                                     'Desk',\n",
        "                                                     show_plot=False)\n",
        "\n",
        "print(f\"Validation accuracy: {des_knn_valAcc}     Test accuracy: {des_knn_testAcc}\")"
      ]
    },
    {
      "cell_type": "markdown",
      "metadata": {
        "id": "QVJyL3O61Q3-"
      },
      "source": [
        "# Dishwasher models\n",
        "\n",
        "Naive Bayes"
      ]
    },
    {
      "cell_type": "code",
      "execution_count": 66,
      "metadata": {
        "colab": {
          "base_uri": "https://localhost:8080/",
          "height": 0
        },
        "id": "5hRmtyZUmMyQ",
        "outputId": "2af24cce-3520-4611-c3c8-e06c3f5debde"
      },
      "outputs": [
        {
          "output_type": "stream",
          "name": "stdout",
          "text": [
            "Training set goes from 0 to 2838\n",
            "Validation set goes from 2839 to 3217\n",
            "Test set goes from 3218 to 3784\n"
          ]
        }
      ],
      "source": [
        "# General dataset for all features\n",
        "features = ['dishwasher','appliance','countertop','microwave','electric','convection',\n",
        "            'gas','compactor','desk','sink','freezer','garbage','pantry',\n",
        "            'grill','lazy','refrigerator','purifier','warming','wet','wine']\n",
        "\n",
        "X = data[features]\n",
        "X = X.sample(frac=1, replace=False, random_state=1) #Shuffle the data\n",
        "X = X.to_numpy()\n",
        "\n",
        "train_idx = int(len(X) * 0.75)\n",
        "val_idx = int(len(X) * 0.1)\n",
        "print(f\"Training set goes from 0 to {train_idx}\")\n",
        "print(f\"Validation set goes from {train_idx+1} to {train_idx+1+val_idx}\")\n",
        "print(f\"Test set goes from {train_idx+2+val_idx} to {len(X)}\")"
      ]
    },
    {
      "cell_type": "code",
      "execution_count": 67,
      "metadata": {
        "colab": {
          "base_uri": "https://localhost:8080/",
          "height": 0
        },
        "id": "RlYE5qpbmMyR",
        "outputId": "7c3c71fc-091b-4e4b-8b59-4923430640eb"
      },
      "outputs": [
        {
          "output_type": "stream",
          "name": "stdout",
          "text": [
            "Train set: (2838, 19), (2838,)\n",
            "Validation set: (379, 19), (379,)\n",
            "Test set: (567, 19), (567,)\n"
          ]
        }
      ],
      "source": [
        "y_train = X[:train_idx,0]\n",
        "x_train = X[:train_idx,1:]\n",
        "y_val = X[train_idx:train_idx+1+val_idx,0]\n",
        "x_val = X[train_idx:train_idx+1+val_idx,1:]\n",
        "y_test = X[train_idx+1+val_idx:,0]\n",
        "x_test = X[train_idx+1+val_idx:,1:]\n",
        "print(f\"Train set: {x_train.shape}, {y_train.shape}\")\n",
        "print(f\"Validation set: {x_val.shape}, {y_val.shape}\")\n",
        "print(f\"Test set: {x_test.shape}, {y_test.shape}\")"
      ]
    },
    {
      "cell_type": "code",
      "execution_count": 68,
      "metadata": {
        "colab": {
          "base_uri": "https://localhost:8080/",
          "height": 0
        },
        "id": "tfgc4fJ8GL7g",
        "outputId": "a8f57647-58c8-4e80-a227-4767f60ce9f0"
      },
      "outputs": [
        {
          "output_type": "stream",
          "name": "stdout",
          "text": [
            "Checking epsilon 1 out of 50...\n",
            "Checking epsilon 2 out of 50...\n",
            "Checking epsilon 3 out of 50...\n",
            "Checking epsilon 4 out of 50...\n",
            "Checking epsilon 5 out of 50...\n",
            "Checking epsilon 6 out of 50...\n",
            "Checking epsilon 7 out of 50...\n",
            "Checking epsilon 8 out of 50...\n",
            "Checking epsilon 9 out of 50...\n",
            "Checking epsilon 10 out of 50...\n",
            "Checking epsilon 11 out of 50...\n",
            "Checking epsilon 12 out of 50...\n",
            "Checking epsilon 13 out of 50...\n",
            "Checking epsilon 14 out of 50...\n",
            "Checking epsilon 15 out of 50...\n",
            "Checking epsilon 16 out of 50...\n",
            "Checking epsilon 17 out of 50...\n",
            "Checking epsilon 18 out of 50...\n",
            "Checking epsilon 19 out of 50...\n",
            "Checking epsilon 20 out of 50...\n",
            "Checking epsilon 21 out of 50...\n",
            "Checking epsilon 22 out of 50...\n",
            "Checking epsilon 23 out of 50...\n",
            "Checking epsilon 24 out of 50...\n",
            "Checking epsilon 25 out of 50...\n",
            "Checking epsilon 26 out of 50...\n",
            "Checking epsilon 27 out of 50...\n",
            "Checking epsilon 28 out of 50...\n",
            "Checking epsilon 29 out of 50...\n",
            "Checking epsilon 30 out of 50...\n",
            "Checking epsilon 31 out of 50...\n",
            "Checking epsilon 32 out of 50...\n",
            "Checking epsilon 33 out of 50...\n",
            "Checking epsilon 34 out of 50...\n",
            "Checking epsilon 35 out of 50...\n",
            "Checking epsilon 36 out of 50...\n",
            "Checking epsilon 37 out of 50...\n",
            "Checking epsilon 38 out of 50...\n",
            "Checking epsilon 39 out of 50...\n",
            "Checking epsilon 40 out of 50...\n",
            "Checking epsilon 41 out of 50...\n",
            "Checking epsilon 42 out of 50...\n",
            "Checking epsilon 43 out of 50...\n",
            "Checking epsilon 44 out of 50...\n",
            "Checking epsilon 45 out of 50...\n",
            "Checking epsilon 46 out of 50...\n",
            "Checking epsilon 47 out of 50...\n",
            "Checking epsilon 48 out of 50...\n",
            "Checking epsilon 49 out of 50...\n",
            "Checking epsilon 50 out of 50...\n",
            "0.0636326530612245 0.9709762532981531\n",
            "Validation accuracy: 0.9709762532981531     Test accuracy: 0.9664902998236331\n"
          ]
        }
      ],
      "source": [
        "dis_naiveE, dis_naive_valAcc, dis_naive_testAcc = checkNaiveBayes(x_train,\n",
        "                                                                        y_train,\n",
        "                                                                        x_val,\n",
        "                                                                        y_val,\n",
        "                                                                        x_test,\n",
        "                                                                        y_test,\n",
        "                                                                        'Dishwasher',\n",
        "                                                                        show_plot=False)\n",
        "\n",
        "print(f\"Validation accuracy: {dis_naive_valAcc}     Test accuracy: {dis_naive_testAcc}\")"
      ]
    },
    {
      "cell_type": "markdown",
      "metadata": {
        "id": "0swhwP7zGL7i"
      },
      "source": [
        "Gaussian Bayes"
      ]
    },
    {
      "cell_type": "code",
      "execution_count": 69,
      "metadata": {
        "colab": {
          "base_uri": "https://localhost:8080/",
          "height": 0
        },
        "id": "F9TfH2foGL7i",
        "outputId": "2334c8f6-9c63-45e5-fed6-d81fd7b5d1f1"
      },
      "outputs": [
        {
          "output_type": "stream",
          "name": "stdout",
          "text": [
            "Checking epsilon 1 out of 50...\n",
            "Checking epsilon 2 out of 50...\n",
            "Checking epsilon 3 out of 50...\n",
            "Checking epsilon 4 out of 50...\n",
            "Checking epsilon 5 out of 50...\n",
            "Checking epsilon 6 out of 50...\n",
            "Checking epsilon 7 out of 50...\n",
            "Checking epsilon 8 out of 50...\n",
            "Checking epsilon 9 out of 50...\n",
            "Checking epsilon 10 out of 50...\n",
            "Checking epsilon 11 out of 50...\n",
            "Checking epsilon 12 out of 50...\n",
            "Checking epsilon 13 out of 50...\n",
            "Checking epsilon 14 out of 50...\n",
            "Checking epsilon 15 out of 50...\n",
            "Checking epsilon 16 out of 50...\n",
            "Checking epsilon 17 out of 50...\n",
            "Checking epsilon 18 out of 50...\n",
            "Checking epsilon 19 out of 50...\n",
            "Checking epsilon 20 out of 50...\n",
            "Checking epsilon 21 out of 50...\n",
            "Checking epsilon 22 out of 50...\n",
            "Checking epsilon 23 out of 50...\n",
            "Checking epsilon 24 out of 50...\n",
            "Checking epsilon 25 out of 50...\n",
            "Checking epsilon 26 out of 50...\n",
            "Checking epsilon 27 out of 50...\n",
            "Checking epsilon 28 out of 50...\n",
            "Checking epsilon 29 out of 50...\n",
            "Checking epsilon 30 out of 50...\n",
            "Checking epsilon 31 out of 50...\n",
            "Checking epsilon 32 out of 50...\n",
            "Checking epsilon 33 out of 50...\n",
            "Checking epsilon 34 out of 50...\n",
            "Checking epsilon 35 out of 50...\n",
            "Checking epsilon 36 out of 50...\n",
            "Checking epsilon 37 out of 50...\n",
            "Checking epsilon 38 out of 50...\n",
            "Checking epsilon 39 out of 50...\n",
            "Checking epsilon 40 out of 50...\n",
            "Checking epsilon 41 out of 50...\n",
            "Checking epsilon 42 out of 50...\n",
            "Checking epsilon 43 out of 50...\n",
            "Checking epsilon 44 out of 50...\n",
            "Checking epsilon 45 out of 50...\n",
            "Checking epsilon 46 out of 50...\n",
            "Checking epsilon 47 out of 50...\n",
            "Checking epsilon 48 out of 50...\n",
            "Checking epsilon 49 out of 50...\n",
            "Checking epsilon 50 out of 50...\n",
            "0.08585714285714287 0.9868073878627969\n",
            "Validation accuracy: 0.9868073878627969     Test accuracy: 0.9717813051146384\n"
          ]
        }
      ],
      "source": [
        "dis_gaussE, dis_gauss_valAcc, dis_gauss_testAcc = checkGaussianBayes(x_train,\n",
        "                                                                        y_train,\n",
        "                                                                        x_val,\n",
        "                                                                        y_val,\n",
        "                                                                        x_test,\n",
        "                                                                        y_test,\n",
        "                                                                        'Dishwasher',\n",
        "                                                                        show_plot=False)\n",
        "\n",
        "print(f\"Validation accuracy: {dis_gauss_valAcc}     Test accuracy: {dis_gauss_testAcc}\")"
      ]
    },
    {
      "cell_type": "markdown",
      "metadata": {
        "id": "xuaxjGh3GL7j"
      },
      "source": [
        "KNN"
      ]
    },
    {
      "cell_type": "code",
      "execution_count": 70,
      "metadata": {
        "colab": {
          "base_uri": "https://localhost:8080/",
          "height": 0
        },
        "id": "-u-4Y2bFGL7k",
        "outputId": "3aa940b6-2fcf-43bc-f845-d82fcadcc3ee"
      },
      "outputs": [
        {
          "output_type": "stream",
          "name": "stdout",
          "text": [
            "Checking 2 neighbors out of 30...\n",
            "Checking 3 neighbors out of 30...\n",
            "Checking 4 neighbors out of 30...\n",
            "Checking 5 neighbors out of 30...\n",
            "Checking 6 neighbors out of 30...\n",
            "Checking 7 neighbors out of 30...\n",
            "Checking 8 neighbors out of 30...\n",
            "Checking 9 neighbors out of 30...\n",
            "Checking 10 neighbors out of 30...\n",
            "Checking 11 neighbors out of 30...\n",
            "Checking 12 neighbors out of 30...\n",
            "Checking 13 neighbors out of 30...\n",
            "Checking 14 neighbors out of 30...\n",
            "Checking 15 neighbors out of 30...\n",
            "Checking 16 neighbors out of 30...\n",
            "Checking 17 neighbors out of 30...\n",
            "Checking 18 neighbors out of 30...\n",
            "Checking 19 neighbors out of 30...\n",
            "Checking 20 neighbors out of 30...\n",
            "Checking 21 neighbors out of 30...\n",
            "Checking 22 neighbors out of 30...\n",
            "Checking 23 neighbors out of 30...\n",
            "Checking 24 neighbors out of 30...\n",
            "Checking 25 neighbors out of 30...\n",
            "Checking 26 neighbors out of 30...\n",
            "Checking 27 neighbors out of 30...\n",
            "Checking 28 neighbors out of 30...\n",
            "Checking 29 neighbors out of 30...\n",
            "Checking 30 neighbors out of 30...\n",
            "17 0.9841688654353562\n",
            "Validation accuracy: 0.9841688654353562     Test accuracy: 0.9753086419753086\n"
          ]
        }
      ],
      "source": [
        "dis_knnE, dis_knn_valAcc, dis_knn_testAcc = checkKnn(x_train,\n",
        "                                                     y_train,\n",
        "                                                     x_val,\n",
        "                                                     y_val,\n",
        "                                                     x_test,\n",
        "                                                     y_test,\n",
        "                                                     'Dishwasher',\n",
        "                                                     show_plot=False)\n",
        "\n",
        "print(f\"Validation accuracy: {dis_knn_valAcc}     Test accuracy: {dis_knn_testAcc}\")"
      ]
    },
    {
      "cell_type": "markdown",
      "metadata": {
        "id": "NReQxh3k1RUo"
      },
      "source": [
        "# Sink models\n",
        "\n",
        "Naive Bayes"
      ]
    },
    {
      "cell_type": "code",
      "execution_count": 71,
      "metadata": {
        "colab": {
          "base_uri": "https://localhost:8080/",
          "height": 0
        },
        "id": "oAB_M0QDmN68",
        "outputId": "09f7ecb6-fe53-496f-a2b1-d56601021b4c"
      },
      "outputs": [
        {
          "output_type": "stream",
          "name": "stdout",
          "text": [
            "Training set goes from 0 to 2838\n",
            "Validation set goes from 2839 to 3217\n",
            "Test set goes from 3218 to 3784\n"
          ]
        }
      ],
      "source": [
        "# General dataset for all features\n",
        "features = ['sink','appliance','countertop','microwave','electric','convection',\n",
        "            'gas','compactor','desk','dishwasher','freezer','garbage','pantry',\n",
        "            'grill','lazy','refrigerator','purifier','warming','wet','wine']\n",
        "\n",
        "X = data[features]\n",
        "X = X.sample(frac=1, replace=False, random_state=1) #Shuffle the data\n",
        "X = X.to_numpy()\n",
        "\n",
        "train_idx = int(len(X) * 0.75)\n",
        "val_idx = int(len(X) * 0.1)\n",
        "print(f\"Training set goes from 0 to {train_idx}\")\n",
        "print(f\"Validation set goes from {train_idx+1} to {train_idx+1+val_idx}\")\n",
        "print(f\"Test set goes from {train_idx+2+val_idx} to {len(X)}\")"
      ]
    },
    {
      "cell_type": "code",
      "execution_count": 72,
      "metadata": {
        "colab": {
          "base_uri": "https://localhost:8080/",
          "height": 0
        },
        "id": "tM9j9oqCmN69",
        "outputId": "4ade01f5-cd08-4d32-e91f-f77b77dd2a69"
      },
      "outputs": [
        {
          "output_type": "stream",
          "name": "stdout",
          "text": [
            "Train set: (2838, 19), (2838,)\n",
            "Validation set: (379, 19), (379,)\n",
            "Test set: (567, 19), (567,)\n"
          ]
        }
      ],
      "source": [
        "y_train = X[:train_idx,0]\n",
        "x_train = X[:train_idx,1:]\n",
        "y_val = X[train_idx:train_idx+1+val_idx,0]\n",
        "x_val = X[train_idx:train_idx+1+val_idx,1:]\n",
        "y_test = X[train_idx+1+val_idx:,0]\n",
        "x_test = X[train_idx+1+val_idx:,1:]\n",
        "print(f\"Train set: {x_train.shape}, {y_train.shape}\")\n",
        "print(f\"Validation set: {x_val.shape}, {y_val.shape}\")\n",
        "print(f\"Test set: {x_test.shape}, {y_test.shape}\")"
      ]
    },
    {
      "cell_type": "code",
      "execution_count": 73,
      "metadata": {
        "colab": {
          "base_uri": "https://localhost:8080/",
          "height": 0
        },
        "id": "oc2tMdEiGOrd",
        "outputId": "c54af74c-cdd0-4f91-e92b-1b1704bf64f7"
      },
      "outputs": [
        {
          "output_type": "stream",
          "name": "stdout",
          "text": [
            "Checking epsilon 1 out of 50...\n",
            "Checking epsilon 2 out of 50...\n",
            "Checking epsilon 3 out of 50...\n",
            "Checking epsilon 4 out of 50...\n",
            "Checking epsilon 5 out of 50...\n",
            "Checking epsilon 6 out of 50...\n",
            "Checking epsilon 7 out of 50...\n",
            "Checking epsilon 8 out of 50...\n",
            "Checking epsilon 9 out of 50...\n",
            "Checking epsilon 10 out of 50...\n",
            "Checking epsilon 11 out of 50...\n",
            "Checking epsilon 12 out of 50...\n",
            "Checking epsilon 13 out of 50...\n",
            "Checking epsilon 14 out of 50...\n",
            "Checking epsilon 15 out of 50...\n",
            "Checking epsilon 16 out of 50...\n",
            "Checking epsilon 17 out of 50...\n",
            "Checking epsilon 18 out of 50...\n",
            "Checking epsilon 19 out of 50...\n",
            "Checking epsilon 20 out of 50...\n",
            "Checking epsilon 21 out of 50...\n",
            "Checking epsilon 22 out of 50...\n",
            "Checking epsilon 23 out of 50...\n",
            "Checking epsilon 24 out of 50...\n",
            "Checking epsilon 25 out of 50...\n",
            "Checking epsilon 26 out of 50...\n",
            "Checking epsilon 27 out of 50...\n",
            "Checking epsilon 28 out of 50...\n",
            "Checking epsilon 29 out of 50...\n",
            "Checking epsilon 30 out of 50...\n",
            "Checking epsilon 31 out of 50...\n",
            "Checking epsilon 32 out of 50...\n",
            "Checking epsilon 33 out of 50...\n",
            "Checking epsilon 34 out of 50...\n",
            "Checking epsilon 35 out of 50...\n",
            "Checking epsilon 36 out of 50...\n",
            "Checking epsilon 37 out of 50...\n",
            "Checking epsilon 38 out of 50...\n",
            "Checking epsilon 39 out of 50...\n",
            "Checking epsilon 40 out of 50...\n",
            "Checking epsilon 41 out of 50...\n",
            "Checking epsilon 42 out of 50...\n",
            "Checking epsilon 43 out of 50...\n",
            "Checking epsilon 44 out of 50...\n",
            "Checking epsilon 45 out of 50...\n",
            "Checking epsilon 46 out of 50...\n",
            "Checking epsilon 47 out of 50...\n",
            "Checking epsilon 48 out of 50...\n",
            "Checking epsilon 49 out of 50...\n",
            "Checking epsilon 50 out of 50...\n",
            "0.02322448979591837 0.8812664907651715\n",
            "Validation accuracy: 0.8812664907651715     Test accuracy: 0.8747795414462081\n"
          ]
        }
      ],
      "source": [
        "sink_naiveE, sink_naive_valAcc, sink_naive_testAcc = checkNaiveBayes(x_train,\n",
        "                                                                        y_train,\n",
        "                                                                        x_val,\n",
        "                                                                        y_val,\n",
        "                                                                        x_test,\n",
        "                                                                        y_test,\n",
        "                                                                        'Sink',\n",
        "                                                                        show_plot=False)\n",
        "\n",
        "print(f\"Validation accuracy: {sink_naive_valAcc}     Test accuracy: {sink_naive_testAcc}\")"
      ]
    },
    {
      "cell_type": "markdown",
      "metadata": {
        "id": "UntqgPjWGOrf"
      },
      "source": [
        "Gaussian Bayes"
      ]
    },
    {
      "cell_type": "code",
      "execution_count": 74,
      "metadata": {
        "colab": {
          "base_uri": "https://localhost:8080/",
          "height": 0
        },
        "id": "3oESzJS3GOrg",
        "outputId": "78d4f909-e09e-48d5-a1c3-f42216d0ad73"
      },
      "outputs": [
        {
          "output_type": "stream",
          "name": "stdout",
          "text": [
            "Checking epsilon 1 out of 50...\n",
            "Checking epsilon 2 out of 50...\n",
            "Checking epsilon 3 out of 50...\n",
            "Checking epsilon 4 out of 50...\n",
            "Checking epsilon 5 out of 50...\n",
            "Checking epsilon 6 out of 50...\n",
            "Checking epsilon 7 out of 50...\n",
            "Checking epsilon 8 out of 50...\n",
            "Checking epsilon 9 out of 50...\n",
            "Checking epsilon 10 out of 50...\n",
            "Checking epsilon 11 out of 50...\n",
            "Checking epsilon 12 out of 50...\n",
            "Checking epsilon 13 out of 50...\n",
            "Checking epsilon 14 out of 50...\n",
            "Checking epsilon 15 out of 50...\n",
            "Checking epsilon 16 out of 50...\n",
            "Checking epsilon 17 out of 50...\n",
            "Checking epsilon 18 out of 50...\n",
            "Checking epsilon 19 out of 50...\n",
            "Checking epsilon 20 out of 50...\n",
            "Checking epsilon 21 out of 50...\n",
            "Checking epsilon 22 out of 50...\n",
            "Checking epsilon 23 out of 50...\n",
            "Checking epsilon 24 out of 50...\n",
            "Checking epsilon 25 out of 50...\n",
            "Checking epsilon 26 out of 50...\n",
            "Checking epsilon 27 out of 50...\n",
            "Checking epsilon 28 out of 50...\n",
            "Checking epsilon 29 out of 50...\n",
            "Checking epsilon 30 out of 50...\n",
            "Checking epsilon 31 out of 50...\n",
            "Checking epsilon 32 out of 50...\n",
            "Checking epsilon 33 out of 50...\n",
            "Checking epsilon 34 out of 50...\n",
            "Checking epsilon 35 out of 50...\n",
            "Checking epsilon 36 out of 50...\n",
            "Checking epsilon 37 out of 50...\n",
            "Checking epsilon 38 out of 50...\n",
            "Checking epsilon 39 out of 50...\n",
            "Checking epsilon 40 out of 50...\n",
            "Checking epsilon 41 out of 50...\n",
            "Checking epsilon 42 out of 50...\n",
            "Checking epsilon 43 out of 50...\n",
            "Checking epsilon 44 out of 50...\n",
            "Checking epsilon 45 out of 50...\n",
            "Checking epsilon 46 out of 50...\n",
            "Checking epsilon 47 out of 50...\n",
            "Checking epsilon 48 out of 50...\n",
            "Checking epsilon 49 out of 50...\n",
            "Checking epsilon 50 out of 50...\n",
            "0.02726530612244898 0.8496042216358839\n",
            "Validation accuracy: 0.8496042216358839     Test accuracy: 0.8677248677248677\n"
          ]
        }
      ],
      "source": [
        "sink_gaussE, sink_gauss_valAcc, sink_gauss_testAcc = checkGaussianBayes(x_train,\n",
        "                                                                        y_train,\n",
        "                                                                        x_val,\n",
        "                                                                        y_val,\n",
        "                                                                        x_test,\n",
        "                                                                        y_test,\n",
        "                                                                        'Sink',\n",
        "                                                                        show_plot=False)\n",
        "\n",
        "print(f\"Validation accuracy: {sink_gauss_valAcc}     Test accuracy: {sink_gauss_testAcc}\")"
      ]
    },
    {
      "cell_type": "markdown",
      "metadata": {
        "id": "Cv2QLTthGOrh"
      },
      "source": [
        "KNN"
      ]
    },
    {
      "cell_type": "code",
      "execution_count": 75,
      "metadata": {
        "colab": {
          "base_uri": "https://localhost:8080/",
          "height": 0
        },
        "id": "nrq5JRsDGOrh",
        "outputId": "d6727ea4-ff13-41c0-f66f-7007e1062471"
      },
      "outputs": [
        {
          "output_type": "stream",
          "name": "stdout",
          "text": [
            "Checking 2 neighbors out of 30...\n",
            "Checking 3 neighbors out of 30...\n",
            "Checking 4 neighbors out of 30...\n",
            "Checking 5 neighbors out of 30...\n",
            "Checking 6 neighbors out of 30...\n",
            "Checking 7 neighbors out of 30...\n",
            "Checking 8 neighbors out of 30...\n",
            "Checking 9 neighbors out of 30...\n",
            "Checking 10 neighbors out of 30...\n",
            "Checking 11 neighbors out of 30...\n",
            "Checking 12 neighbors out of 30...\n",
            "Checking 13 neighbors out of 30...\n",
            "Checking 14 neighbors out of 30...\n",
            "Checking 15 neighbors out of 30...\n",
            "Checking 16 neighbors out of 30...\n",
            "Checking 17 neighbors out of 30...\n",
            "Checking 18 neighbors out of 30...\n",
            "Checking 19 neighbors out of 30...\n",
            "Checking 20 neighbors out of 30...\n",
            "Checking 21 neighbors out of 30...\n",
            "Checking 22 neighbors out of 30...\n",
            "Checking 23 neighbors out of 30...\n",
            "Checking 24 neighbors out of 30...\n",
            "Checking 25 neighbors out of 30...\n",
            "Checking 26 neighbors out of 30...\n",
            "Checking 27 neighbors out of 30...\n",
            "Checking 28 neighbors out of 30...\n",
            "Checking 29 neighbors out of 30...\n",
            "Checking 30 neighbors out of 30...\n",
            "5 0.8944591029023746\n",
            "Validation accuracy: 0.8944591029023746     Test accuracy: 0.8694885361552028\n"
          ]
        }
      ],
      "source": [
        "sink_knnE, sink_knn_valAcc, sink_knn_testAcc = checkKnn(x_train,\n",
        "                                                     y_train,\n",
        "                                                     x_val,\n",
        "                                                     y_val,\n",
        "                                                     x_test,\n",
        "                                                     y_test,\n",
        "                                                     'Sink',\n",
        "                                                     show_plot=False)\n",
        "\n",
        "print(f\"Validation accuracy: {sink_knn_valAcc}     Test accuracy: {sink_knn_testAcc}\")"
      ]
    },
    {
      "cell_type": "markdown",
      "metadata": {
        "id": "Kn7JI3xE1Rxm"
      },
      "source": [
        "# Freezer models\n",
        "\n",
        "Naive Bayes"
      ]
    },
    {
      "cell_type": "code",
      "execution_count": 76,
      "metadata": {
        "colab": {
          "base_uri": "https://localhost:8080/",
          "height": 0
        },
        "id": "u-utZM2gmPjz",
        "outputId": "660c0142-d63e-4a39-db28-607c0dbc7db4"
      },
      "outputs": [
        {
          "output_type": "stream",
          "name": "stdout",
          "text": [
            "Training set goes from 0 to 2838\n",
            "Validation set goes from 2839 to 3217\n",
            "Test set goes from 3218 to 3784\n"
          ]
        }
      ],
      "source": [
        "# General dataset for all features\n",
        "features = ['freezer','appliance','countertop','microwave','electric','convection',\n",
        "            'gas','compactor','desk','dishwasher','sink','garbage','pantry',\n",
        "            'grill','lazy','refrigerator','purifier','warming','wet','wine']\n",
        "\n",
        "X = data[features]\n",
        "X = X.sample(frac=1, replace=False, random_state=1) #Shuffle the data\n",
        "X = X.to_numpy()\n",
        "\n",
        "train_idx = int(len(X) * 0.75)\n",
        "val_idx = int(len(X) * 0.1)\n",
        "print(f\"Training set goes from 0 to {train_idx}\")\n",
        "print(f\"Validation set goes from {train_idx+1} to {train_idx+1+val_idx}\")\n",
        "print(f\"Test set goes from {train_idx+2+val_idx} to {len(X)}\")"
      ]
    },
    {
      "cell_type": "code",
      "execution_count": 77,
      "metadata": {
        "colab": {
          "base_uri": "https://localhost:8080/",
          "height": 0
        },
        "id": "aUBgJ2cSmPj0",
        "outputId": "84565050-e2ed-4f22-88e1-75ab019287ac"
      },
      "outputs": [
        {
          "output_type": "stream",
          "name": "stdout",
          "text": [
            "Train set: (2838, 19), (2838,)\n",
            "Validation set: (379, 19), (379,)\n",
            "Test set: (567, 19), (567,)\n"
          ]
        }
      ],
      "source": [
        "y_train = X[:train_idx,0]\n",
        "x_train = X[:train_idx,1:]\n",
        "y_val = X[train_idx:train_idx+1+val_idx,0]\n",
        "x_val = X[train_idx:train_idx+1+val_idx,1:]\n",
        "y_test = X[train_idx+1+val_idx:,0]\n",
        "x_test = X[train_idx+1+val_idx:,1:]\n",
        "print(f\"Train set: {x_train.shape}, {y_train.shape}\")\n",
        "print(f\"Validation set: {x_val.shape}, {y_val.shape}\")\n",
        "print(f\"Test set: {x_test.shape}, {y_test.shape}\")"
      ]
    },
    {
      "cell_type": "code",
      "execution_count": 78,
      "metadata": {
        "colab": {
          "base_uri": "https://localhost:8080/",
          "height": 0
        },
        "id": "TDnnr3cnGSVD",
        "outputId": "1b98176c-ebcf-4a56-a81e-3c95294f8457"
      },
      "outputs": [
        {
          "output_type": "stream",
          "name": "stdout",
          "text": [
            "Checking epsilon 1 out of 50...\n",
            "Checking epsilon 2 out of 50...\n",
            "Checking epsilon 3 out of 50...\n",
            "Checking epsilon 4 out of 50...\n",
            "Checking epsilon 5 out of 50...\n",
            "Checking epsilon 6 out of 50...\n",
            "Checking epsilon 7 out of 50...\n",
            "Checking epsilon 8 out of 50...\n",
            "Checking epsilon 9 out of 50...\n",
            "Checking epsilon 10 out of 50...\n",
            "Checking epsilon 11 out of 50...\n",
            "Checking epsilon 12 out of 50...\n",
            "Checking epsilon 13 out of 50...\n",
            "Checking epsilon 14 out of 50...\n",
            "Checking epsilon 15 out of 50...\n",
            "Checking epsilon 16 out of 50...\n",
            "Checking epsilon 17 out of 50...\n",
            "Checking epsilon 18 out of 50...\n",
            "Checking epsilon 19 out of 50...\n",
            "Checking epsilon 20 out of 50...\n",
            "Checking epsilon 21 out of 50...\n",
            "Checking epsilon 22 out of 50...\n",
            "Checking epsilon 23 out of 50...\n",
            "Checking epsilon 24 out of 50...\n",
            "Checking epsilon 25 out of 50...\n",
            "Checking epsilon 26 out of 50...\n",
            "Checking epsilon 27 out of 50...\n",
            "Checking epsilon 28 out of 50...\n",
            "Checking epsilon 29 out of 50...\n",
            "Checking epsilon 30 out of 50...\n",
            "Checking epsilon 31 out of 50...\n",
            "Checking epsilon 32 out of 50...\n",
            "Checking epsilon 33 out of 50...\n",
            "Checking epsilon 34 out of 50...\n",
            "Checking epsilon 35 out of 50...\n",
            "Checking epsilon 36 out of 50...\n",
            "Checking epsilon 37 out of 50...\n",
            "Checking epsilon 38 out of 50...\n",
            "Checking epsilon 39 out of 50...\n",
            "Checking epsilon 40 out of 50...\n",
            "Checking epsilon 41 out of 50...\n",
            "Checking epsilon 42 out of 50...\n",
            "Checking epsilon 43 out of 50...\n",
            "Checking epsilon 44 out of 50...\n",
            "Checking epsilon 45 out of 50...\n",
            "Checking epsilon 46 out of 50...\n",
            "Checking epsilon 47 out of 50...\n",
            "Checking epsilon 48 out of 50...\n",
            "Checking epsilon 49 out of 50...\n",
            "Checking epsilon 50 out of 50...\n",
            "0.08989795918367348 0.8812664907651715\n",
            "Validation accuracy: 0.8812664907651715     Test accuracy: 0.8871252204585538\n"
          ]
        }
      ],
      "source": [
        "fre_naiveE, fre_naive_valAcc, fre_naive_testAcc = checkNaiveBayes(x_train,\n",
        "                                                                        y_train,\n",
        "                                                                        x_val,\n",
        "                                                                        y_val,\n",
        "                                                                        x_test,\n",
        "                                                                        y_test,\n",
        "                                                                        'Freezer',\n",
        "                                                                        show_plot=False)\n",
        "\n",
        "print(f\"Validation accuracy: {fre_naive_valAcc}     Test accuracy: {fre_naive_testAcc}\")"
      ]
    },
    {
      "cell_type": "markdown",
      "metadata": {
        "id": "e9eD97K-GSVE"
      },
      "source": [
        "Gaussian Bayes"
      ]
    },
    {
      "cell_type": "code",
      "execution_count": 79,
      "metadata": {
        "colab": {
          "base_uri": "https://localhost:8080/",
          "height": 0
        },
        "id": "6JDtZM59GSVE",
        "outputId": "442ad438-26ea-48ad-e00b-d4ed8cc405fd"
      },
      "outputs": [
        {
          "output_type": "stream",
          "name": "stdout",
          "text": [
            "Checking epsilon 1 out of 50...\n",
            "Checking epsilon 2 out of 50...\n",
            "Checking epsilon 3 out of 50...\n",
            "Checking epsilon 4 out of 50...\n",
            "Checking epsilon 5 out of 50...\n",
            "Checking epsilon 6 out of 50...\n",
            "Checking epsilon 7 out of 50...\n",
            "Checking epsilon 8 out of 50...\n",
            "Checking epsilon 9 out of 50...\n",
            "Checking epsilon 10 out of 50...\n",
            "Checking epsilon 11 out of 50...\n",
            "Checking epsilon 12 out of 50...\n",
            "Checking epsilon 13 out of 50...\n",
            "Checking epsilon 14 out of 50...\n",
            "Checking epsilon 15 out of 50...\n",
            "Checking epsilon 16 out of 50...\n",
            "Checking epsilon 17 out of 50...\n",
            "Checking epsilon 18 out of 50...\n",
            "Checking epsilon 19 out of 50...\n",
            "Checking epsilon 20 out of 50...\n",
            "Checking epsilon 21 out of 50...\n",
            "Checking epsilon 22 out of 50...\n",
            "Checking epsilon 23 out of 50...\n",
            "Checking epsilon 24 out of 50...\n",
            "Checking epsilon 25 out of 50...\n",
            "Checking epsilon 26 out of 50...\n",
            "Checking epsilon 27 out of 50...\n",
            "Checking epsilon 28 out of 50...\n",
            "Checking epsilon 29 out of 50...\n",
            "Checking epsilon 30 out of 50...\n",
            "Checking epsilon 31 out of 50...\n",
            "Checking epsilon 32 out of 50...\n",
            "Checking epsilon 33 out of 50...\n",
            "Checking epsilon 34 out of 50...\n",
            "Checking epsilon 35 out of 50...\n",
            "Checking epsilon 36 out of 50...\n",
            "Checking epsilon 37 out of 50...\n",
            "Checking epsilon 38 out of 50...\n",
            "Checking epsilon 39 out of 50...\n",
            "Checking epsilon 40 out of 50...\n",
            "Checking epsilon 41 out of 50...\n",
            "Checking epsilon 42 out of 50...\n",
            "Checking epsilon 43 out of 50...\n",
            "Checking epsilon 44 out of 50...\n",
            "Checking epsilon 45 out of 50...\n",
            "Checking epsilon 46 out of 50...\n",
            "Checking epsilon 47 out of 50...\n",
            "Checking epsilon 48 out of 50...\n",
            "Checking epsilon 49 out of 50...\n",
            "Checking epsilon 50 out of 50...\n",
            "0.0979795918367347 0.9182058047493403\n",
            "Validation accuracy: 0.9182058047493403     Test accuracy: 0.9259259259259259\n"
          ]
        }
      ],
      "source": [
        "fre_gaussE, fre_gauss_valAcc, fre_gauss_testAcc = checkGaussianBayes(x_train,\n",
        "                                                                        y_train,\n",
        "                                                                        x_val,\n",
        "                                                                        y_val,\n",
        "                                                                        x_test,\n",
        "                                                                        y_test,\n",
        "                                                                        'Freezer',\n",
        "                                                                        show_plot=False)\n",
        "\n",
        "print(f\"Validation accuracy: {fre_gauss_valAcc}     Test accuracy: {fre_gauss_testAcc}\")"
      ]
    },
    {
      "cell_type": "markdown",
      "metadata": {
        "id": "6WT6P5gXGSVE"
      },
      "source": [
        "KNN"
      ]
    },
    {
      "cell_type": "code",
      "execution_count": 80,
      "metadata": {
        "colab": {
          "base_uri": "https://localhost:8080/",
          "height": 0
        },
        "id": "BKZKTOcNGSVE",
        "outputId": "83e5ac01-0550-44ce-8b7e-cb6a48f082c8"
      },
      "outputs": [
        {
          "output_type": "stream",
          "name": "stdout",
          "text": [
            "Checking 2 neighbors out of 30...\n",
            "Checking 3 neighbors out of 30...\n",
            "Checking 4 neighbors out of 30...\n",
            "Checking 5 neighbors out of 30...\n",
            "Checking 6 neighbors out of 30...\n",
            "Checking 7 neighbors out of 30...\n",
            "Checking 8 neighbors out of 30...\n",
            "Checking 9 neighbors out of 30...\n",
            "Checking 10 neighbors out of 30...\n",
            "Checking 11 neighbors out of 30...\n",
            "Checking 12 neighbors out of 30...\n",
            "Checking 13 neighbors out of 30...\n",
            "Checking 14 neighbors out of 30...\n",
            "Checking 15 neighbors out of 30...\n",
            "Checking 16 neighbors out of 30...\n",
            "Checking 17 neighbors out of 30...\n",
            "Checking 18 neighbors out of 30...\n",
            "Checking 19 neighbors out of 30...\n",
            "Checking 20 neighbors out of 30...\n",
            "Checking 21 neighbors out of 30...\n",
            "Checking 22 neighbors out of 30...\n",
            "Checking 23 neighbors out of 30...\n",
            "Checking 24 neighbors out of 30...\n",
            "Checking 25 neighbors out of 30...\n",
            "Checking 26 neighbors out of 30...\n",
            "Checking 27 neighbors out of 30...\n",
            "Checking 28 neighbors out of 30...\n",
            "Checking 29 neighbors out of 30...\n",
            "Checking 30 neighbors out of 30...\n",
            "3 0.9182058047493403\n",
            "Validation accuracy: 0.9182058047493403     Test accuracy: 0.9312169312169312\n"
          ]
        }
      ],
      "source": [
        "fre_knnE, fre_knn_valAcc, fre_knn_testAcc = checkKnn(x_train,\n",
        "                                                     y_train,\n",
        "                                                     x_val,\n",
        "                                                     y_val,\n",
        "                                                     x_test,\n",
        "                                                     y_test,\n",
        "                                                     'Freezer',\n",
        "                                                     show_plot=False)\n",
        "\n",
        "print(f\"Validation accuracy: {fre_knn_valAcc}     Test accuracy: {fre_knn_testAcc}\")"
      ]
    },
    {
      "cell_type": "markdown",
      "metadata": {
        "id": "D69Ljn8j1SQA"
      },
      "source": [
        "# Garbage disposal models\n",
        "\n",
        "Naive Bayes"
      ]
    },
    {
      "cell_type": "code",
      "execution_count": 81,
      "metadata": {
        "colab": {
          "base_uri": "https://localhost:8080/",
          "height": 0
        },
        "id": "xM8q7fyTmRGs",
        "outputId": "76749998-5128-4977-ec1a-63b9f2d1fce0"
      },
      "outputs": [
        {
          "output_type": "stream",
          "name": "stdout",
          "text": [
            "Training set goes from 0 to 2838\n",
            "Validation set goes from 2839 to 3217\n",
            "Test set goes from 3218 to 3784\n"
          ]
        }
      ],
      "source": [
        "# General dataset for all features\n",
        "features = ['garbage','appliance','countertop','microwave','electric','convection',\n",
        "            'gas','compactor','desk','dishwasher','sink','freezer','pantry',\n",
        "            'grill','lazy','refrigerator','purifier','warming','wet','wine']\n",
        "\n",
        "X = data[features]\n",
        "X = X.sample(frac=1, replace=False, random_state=1) #Shuffle the data\n",
        "X = X.to_numpy()\n",
        "\n",
        "train_idx = int(len(X) * 0.75)\n",
        "val_idx = int(len(X) * 0.1)\n",
        "print(f\"Training set goes from 0 to {train_idx}\")\n",
        "print(f\"Validation set goes from {train_idx+1} to {train_idx+1+val_idx}\")\n",
        "print(f\"Test set goes from {train_idx+2+val_idx} to {len(X)}\")"
      ]
    },
    {
      "cell_type": "code",
      "execution_count": 82,
      "metadata": {
        "colab": {
          "base_uri": "https://localhost:8080/",
          "height": 0
        },
        "id": "D5qWahdwmRGt",
        "outputId": "1cc72304-ad39-4bf5-89b5-eeaa82a181a5"
      },
      "outputs": [
        {
          "output_type": "stream",
          "name": "stdout",
          "text": [
            "Train set: (2838, 19), (2838,)\n",
            "Validation set: (379, 19), (379,)\n",
            "Test set: (567, 19), (567,)\n"
          ]
        }
      ],
      "source": [
        "y_train = X[:train_idx,0]\n",
        "x_train = X[:train_idx,1:]\n",
        "y_val = X[train_idx:train_idx+1+val_idx,0]\n",
        "x_val = X[train_idx:train_idx+1+val_idx,1:]\n",
        "y_test = X[train_idx+1+val_idx:,0]\n",
        "x_test = X[train_idx+1+val_idx:,1:]\n",
        "print(f\"Train set: {x_train.shape}, {y_train.shape}\")\n",
        "print(f\"Validation set: {x_val.shape}, {y_val.shape}\")\n",
        "print(f\"Test set: {x_test.shape}, {y_test.shape}\")"
      ]
    },
    {
      "cell_type": "code",
      "execution_count": 83,
      "metadata": {
        "colab": {
          "base_uri": "https://localhost:8080/",
          "height": 0
        },
        "id": "vXKCrKIsGUri",
        "outputId": "e2cf78b7-205a-460c-e981-761c7f3e016f"
      },
      "outputs": [
        {
          "output_type": "stream",
          "name": "stdout",
          "text": [
            "Checking epsilon 1 out of 50...\n",
            "Checking epsilon 2 out of 50...\n",
            "Checking epsilon 3 out of 50...\n",
            "Checking epsilon 4 out of 50...\n",
            "Checking epsilon 5 out of 50...\n",
            "Checking epsilon 6 out of 50...\n",
            "Checking epsilon 7 out of 50...\n",
            "Checking epsilon 8 out of 50...\n",
            "Checking epsilon 9 out of 50...\n",
            "Checking epsilon 10 out of 50...\n",
            "Checking epsilon 11 out of 50...\n",
            "Checking epsilon 12 out of 50...\n",
            "Checking epsilon 13 out of 50...\n",
            "Checking epsilon 14 out of 50...\n",
            "Checking epsilon 15 out of 50...\n",
            "Checking epsilon 16 out of 50...\n",
            "Checking epsilon 17 out of 50...\n",
            "Checking epsilon 18 out of 50...\n",
            "Checking epsilon 19 out of 50...\n",
            "Checking epsilon 20 out of 50...\n",
            "Checking epsilon 21 out of 50...\n",
            "Checking epsilon 22 out of 50...\n",
            "Checking epsilon 23 out of 50...\n",
            "Checking epsilon 24 out of 50...\n",
            "Checking epsilon 25 out of 50...\n",
            "Checking epsilon 26 out of 50...\n",
            "Checking epsilon 27 out of 50...\n",
            "Checking epsilon 28 out of 50...\n",
            "Checking epsilon 29 out of 50...\n",
            "Checking epsilon 30 out of 50...\n",
            "Checking epsilon 31 out of 50...\n",
            "Checking epsilon 32 out of 50...\n",
            "Checking epsilon 33 out of 50...\n",
            "Checking epsilon 34 out of 50...\n",
            "Checking epsilon 35 out of 50...\n",
            "Checking epsilon 36 out of 50...\n",
            "Checking epsilon 37 out of 50...\n",
            "Checking epsilon 38 out of 50...\n",
            "Checking epsilon 39 out of 50...\n",
            "Checking epsilon 40 out of 50...\n",
            "Checking epsilon 41 out of 50...\n",
            "Checking epsilon 42 out of 50...\n",
            "Checking epsilon 43 out of 50...\n",
            "Checking epsilon 44 out of 50...\n",
            "Checking epsilon 45 out of 50...\n",
            "Checking epsilon 46 out of 50...\n",
            "Checking epsilon 47 out of 50...\n",
            "Checking epsilon 48 out of 50...\n",
            "Checking epsilon 49 out of 50...\n",
            "Checking epsilon 50 out of 50...\n",
            "0.07575510204081633 0.9393139841688655\n",
            "Validation accuracy: 0.9393139841688655     Test accuracy: 0.9135802469135802\n"
          ]
        }
      ],
      "source": [
        "gar_naiveE, gar_naive_valAcc, gar_naive_testAcc = checkNaiveBayes(x_train,\n",
        "                                                                        y_train,\n",
        "                                                                        x_val,\n",
        "                                                                        y_val,\n",
        "                                                                        x_test,\n",
        "                                                                        y_test,\n",
        "                                                                        'Garbage disposal',\n",
        "                                                                        show_plot=False)\n",
        "\n",
        "print(f\"Validation accuracy: {gar_naive_valAcc}     Test accuracy: {gar_naive_testAcc}\")"
      ]
    },
    {
      "cell_type": "markdown",
      "metadata": {
        "id": "XOr-BueNGUri"
      },
      "source": [
        "Gaussian Bayes"
      ]
    },
    {
      "cell_type": "code",
      "execution_count": 84,
      "metadata": {
        "colab": {
          "base_uri": "https://localhost:8080/",
          "height": 0
        },
        "id": "zS8ltsoJGUri",
        "outputId": "8d122ecd-1acf-43d2-fd43-4fb573054c85"
      },
      "outputs": [
        {
          "output_type": "stream",
          "name": "stdout",
          "text": [
            "Checking epsilon 1 out of 50...\n",
            "Checking epsilon 2 out of 50...\n",
            "Checking epsilon 3 out of 50...\n",
            "Checking epsilon 4 out of 50...\n",
            "Checking epsilon 5 out of 50...\n",
            "Checking epsilon 6 out of 50...\n",
            "Checking epsilon 7 out of 50...\n",
            "Checking epsilon 8 out of 50...\n",
            "Checking epsilon 9 out of 50...\n",
            "Checking epsilon 10 out of 50...\n",
            "Checking epsilon 11 out of 50...\n",
            "Checking epsilon 12 out of 50...\n",
            "Checking epsilon 13 out of 50...\n",
            "Checking epsilon 14 out of 50...\n",
            "Checking epsilon 15 out of 50...\n",
            "Checking epsilon 16 out of 50...\n",
            "Checking epsilon 17 out of 50...\n",
            "Checking epsilon 18 out of 50...\n",
            "Checking epsilon 19 out of 50...\n",
            "Checking epsilon 20 out of 50...\n",
            "Checking epsilon 21 out of 50...\n",
            "Checking epsilon 22 out of 50...\n",
            "Checking epsilon 23 out of 50...\n",
            "Checking epsilon 24 out of 50...\n",
            "Checking epsilon 25 out of 50...\n",
            "Checking epsilon 26 out of 50...\n",
            "Checking epsilon 27 out of 50...\n",
            "Checking epsilon 28 out of 50...\n",
            "Checking epsilon 29 out of 50...\n",
            "Checking epsilon 30 out of 50...\n",
            "Checking epsilon 31 out of 50...\n",
            "Checking epsilon 32 out of 50...\n",
            "Checking epsilon 33 out of 50...\n",
            "Checking epsilon 34 out of 50...\n",
            "Checking epsilon 35 out of 50...\n",
            "Checking epsilon 36 out of 50...\n",
            "Checking epsilon 37 out of 50...\n",
            "Checking epsilon 38 out of 50...\n",
            "Checking epsilon 39 out of 50...\n",
            "Checking epsilon 40 out of 50...\n",
            "Checking epsilon 41 out of 50...\n",
            "Checking epsilon 42 out of 50...\n",
            "Checking epsilon 43 out of 50...\n",
            "Checking epsilon 44 out of 50...\n",
            "Checking epsilon 45 out of 50...\n",
            "Checking epsilon 46 out of 50...\n",
            "Checking epsilon 47 out of 50...\n",
            "Checking epsilon 48 out of 50...\n",
            "Checking epsilon 49 out of 50...\n",
            "Checking epsilon 50 out of 50...\n",
            "0.08787755102040817 0.941952506596306\n",
            "Validation accuracy: 0.941952506596306     Test accuracy: 0.9135802469135802\n"
          ]
        }
      ],
      "source": [
        "gar_gaussE, gar_gauss_valAcc, gar_gauss_testAcc = checkGaussianBayes(x_train,\n",
        "                                                                        y_train,\n",
        "                                                                        x_val,\n",
        "                                                                        y_val,\n",
        "                                                                        x_test,\n",
        "                                                                        y_test,\n",
        "                                                                        'Garbage disposal',\n",
        "                                                                        show_plot=False)\n",
        "\n",
        "print(f\"Validation accuracy: {gar_gauss_valAcc}     Test accuracy: {gar_gauss_testAcc}\")"
      ]
    },
    {
      "cell_type": "markdown",
      "metadata": {
        "id": "wo1rt6SGGUrj"
      },
      "source": [
        "KNN"
      ]
    },
    {
      "cell_type": "code",
      "execution_count": 85,
      "metadata": {
        "colab": {
          "base_uri": "https://localhost:8080/",
          "height": 0
        },
        "id": "t2-pINdjGUrj",
        "outputId": "6817695f-1e09-45d1-d141-0494b71b2027"
      },
      "outputs": [
        {
          "output_type": "stream",
          "name": "stdout",
          "text": [
            "Checking 2 neighbors out of 30...\n",
            "Checking 3 neighbors out of 30...\n",
            "Checking 4 neighbors out of 30...\n",
            "Checking 5 neighbors out of 30...\n",
            "Checking 6 neighbors out of 30...\n",
            "Checking 7 neighbors out of 30...\n",
            "Checking 8 neighbors out of 30...\n",
            "Checking 9 neighbors out of 30...\n",
            "Checking 10 neighbors out of 30...\n",
            "Checking 11 neighbors out of 30...\n",
            "Checking 12 neighbors out of 30...\n",
            "Checking 13 neighbors out of 30...\n",
            "Checking 14 neighbors out of 30...\n",
            "Checking 15 neighbors out of 30...\n",
            "Checking 16 neighbors out of 30...\n",
            "Checking 17 neighbors out of 30...\n",
            "Checking 18 neighbors out of 30...\n",
            "Checking 19 neighbors out of 30...\n",
            "Checking 20 neighbors out of 30...\n",
            "Checking 21 neighbors out of 30...\n",
            "Checking 22 neighbors out of 30...\n",
            "Checking 23 neighbors out of 30...\n",
            "Checking 24 neighbors out of 30...\n",
            "Checking 25 neighbors out of 30...\n",
            "Checking 26 neighbors out of 30...\n",
            "Checking 27 neighbors out of 30...\n",
            "Checking 28 neighbors out of 30...\n",
            "Checking 29 neighbors out of 30...\n",
            "Checking 30 neighbors out of 30...\n",
            "18 0.9393139841688655\n",
            "Validation accuracy: 0.9393139841688655     Test accuracy: 0.9118165784832452\n"
          ]
        }
      ],
      "source": [
        "gar_knnE, gar_knn_valAcc, gar_knn_testAcc = checkKnn(x_train,\n",
        "                                                     y_train,\n",
        "                                                     x_val,\n",
        "                                                     y_val,\n",
        "                                                     x_test,\n",
        "                                                     y_test,\n",
        "                                                     'Garbage disposal',\n",
        "                                                     show_plot=False)\n",
        "\n",
        "print(f\"Validation accuracy: {gar_knn_valAcc}     Test accuracy: {gar_knn_testAcc}\")"
      ]
    },
    {
      "cell_type": "markdown",
      "metadata": {
        "id": "4xrUlsta1Ss3"
      },
      "source": [
        "# Pantry models\n",
        "\n",
        "Naive Bayes"
      ]
    },
    {
      "cell_type": "code",
      "execution_count": 86,
      "metadata": {
        "colab": {
          "base_uri": "https://localhost:8080/",
          "height": 0
        },
        "id": "yc5ram1cmSHr",
        "outputId": "d3c7ff87-b545-4d39-c965-870bdcc4c9ce"
      },
      "outputs": [
        {
          "output_type": "stream",
          "name": "stdout",
          "text": [
            "Training set goes from 0 to 2838\n",
            "Validation set goes from 2839 to 3217\n",
            "Test set goes from 3218 to 3784\n"
          ]
        }
      ],
      "source": [
        "# General dataset for all features\n",
        "features = ['pantry','appliance','countertop','microwave','electric','convection',\n",
        "            'gas','compactor','desk','dishwasher','sink','freezer','garbage',\n",
        "            'grill','lazy','refrigerator','purifier','warming','wet','wine']\n",
        "\n",
        "X = data[features]\n",
        "X = X.sample(frac=1, replace=False, random_state=1) #Shuffle the data\n",
        "X = X.to_numpy()\n",
        "\n",
        "train_idx = int(len(X) * 0.75)\n",
        "val_idx = int(len(X) * 0.1)\n",
        "print(f\"Training set goes from 0 to {train_idx}\")\n",
        "print(f\"Validation set goes from {train_idx+1} to {train_idx+1+val_idx}\")\n",
        "print(f\"Test set goes from {train_idx+2+val_idx} to {len(X)}\")"
      ]
    },
    {
      "cell_type": "code",
      "execution_count": 87,
      "metadata": {
        "colab": {
          "base_uri": "https://localhost:8080/",
          "height": 0
        },
        "id": "d-AxKHbwmSHs",
        "outputId": "9b6aa480-d6b2-4a5e-8d14-872b793b57d1"
      },
      "outputs": [
        {
          "output_type": "stream",
          "name": "stdout",
          "text": [
            "Train set: (2838, 19), (2838,)\n",
            "Validation set: (379, 19), (379,)\n",
            "Test set: (567, 19), (567,)\n"
          ]
        }
      ],
      "source": [
        "y_train = X[:train_idx,0]\n",
        "x_train = X[:train_idx,1:]\n",
        "y_val = X[train_idx:train_idx+1+val_idx,0]\n",
        "x_val = X[train_idx:train_idx+1+val_idx,1:]\n",
        "y_test = X[train_idx+1+val_idx:,0]\n",
        "x_test = X[train_idx+1+val_idx:,1:]\n",
        "print(f\"Train set: {x_train.shape}, {y_train.shape}\")\n",
        "print(f\"Validation set: {x_val.shape}, {y_val.shape}\")\n",
        "print(f\"Test set: {x_test.shape}, {y_test.shape}\")"
      ]
    },
    {
      "cell_type": "code",
      "execution_count": 88,
      "metadata": {
        "colab": {
          "base_uri": "https://localhost:8080/",
          "height": 0
        },
        "id": "9gLzthu0GXjP",
        "outputId": "6371c159-c3fe-4251-99a8-09957d61008f"
      },
      "outputs": [
        {
          "output_type": "stream",
          "name": "stdout",
          "text": [
            "Checking epsilon 1 out of 50...\n",
            "Checking epsilon 2 out of 50...\n",
            "Checking epsilon 3 out of 50...\n",
            "Checking epsilon 4 out of 50...\n",
            "Checking epsilon 5 out of 50...\n",
            "Checking epsilon 6 out of 50...\n",
            "Checking epsilon 7 out of 50...\n",
            "Checking epsilon 8 out of 50...\n",
            "Checking epsilon 9 out of 50...\n",
            "Checking epsilon 10 out of 50...\n",
            "Checking epsilon 11 out of 50...\n",
            "Checking epsilon 12 out of 50...\n",
            "Checking epsilon 13 out of 50...\n",
            "Checking epsilon 14 out of 50...\n",
            "Checking epsilon 15 out of 50...\n",
            "Checking epsilon 16 out of 50...\n",
            "Checking epsilon 17 out of 50...\n",
            "Checking epsilon 18 out of 50...\n",
            "Checking epsilon 19 out of 50...\n",
            "Checking epsilon 20 out of 50...\n",
            "Checking epsilon 21 out of 50...\n",
            "Checking epsilon 22 out of 50...\n",
            "Checking epsilon 23 out of 50...\n",
            "Checking epsilon 24 out of 50...\n",
            "Checking epsilon 25 out of 50...\n",
            "Checking epsilon 26 out of 50...\n",
            "Checking epsilon 27 out of 50...\n",
            "Checking epsilon 28 out of 50...\n",
            "Checking epsilon 29 out of 50...\n",
            "Checking epsilon 30 out of 50...\n",
            "Checking epsilon 31 out of 50...\n",
            "Checking epsilon 32 out of 50...\n",
            "Checking epsilon 33 out of 50...\n",
            "Checking epsilon 34 out of 50...\n",
            "Checking epsilon 35 out of 50...\n",
            "Checking epsilon 36 out of 50...\n",
            "Checking epsilon 37 out of 50...\n",
            "Checking epsilon 38 out of 50...\n",
            "Checking epsilon 39 out of 50...\n",
            "Checking epsilon 40 out of 50...\n",
            "Checking epsilon 41 out of 50...\n",
            "Checking epsilon 42 out of 50...\n",
            "Checking epsilon 43 out of 50...\n",
            "Checking epsilon 44 out of 50...\n",
            "Checking epsilon 45 out of 50...\n",
            "Checking epsilon 46 out of 50...\n",
            "Checking epsilon 47 out of 50...\n",
            "Checking epsilon 48 out of 50...\n",
            "Checking epsilon 49 out of 50...\n",
            "Checking epsilon 50 out of 50...\n",
            "0.05555102040816327 0.9129287598944591\n",
            "Validation accuracy: 0.9129287598944591     Test accuracy: 0.9241622574955908\n"
          ]
        }
      ],
      "source": [
        "pan_naiveE, pan_naive_valAcc, pan_naive_testAcc = checkNaiveBayes(x_train,\n",
        "                                                                        y_train,\n",
        "                                                                        x_val,\n",
        "                                                                        y_val,\n",
        "                                                                        x_test,\n",
        "                                                                        y_test,\n",
        "                                                                        'Pantry',\n",
        "                                                                        show_plot=False)\n",
        "\n",
        "print(f\"Validation accuracy: {pan_naive_valAcc}     Test accuracy: {pan_naive_testAcc}\")"
      ]
    },
    {
      "cell_type": "markdown",
      "metadata": {
        "id": "63ypONpIGXjR"
      },
      "source": [
        "Gaussian Bayes"
      ]
    },
    {
      "cell_type": "code",
      "execution_count": 89,
      "metadata": {
        "colab": {
          "base_uri": "https://localhost:8080/",
          "height": 0
        },
        "id": "dDlc1J3UGXjR",
        "outputId": "1b495329-1532-480f-da0c-24ee6fe53c76"
      },
      "outputs": [
        {
          "output_type": "stream",
          "name": "stdout",
          "text": [
            "Checking epsilon 1 out of 50...\n",
            "Checking epsilon 2 out of 50...\n",
            "Checking epsilon 3 out of 50...\n",
            "Checking epsilon 4 out of 50...\n",
            "Checking epsilon 5 out of 50...\n",
            "Checking epsilon 6 out of 50...\n",
            "Checking epsilon 7 out of 50...\n",
            "Checking epsilon 8 out of 50...\n",
            "Checking epsilon 9 out of 50...\n",
            "Checking epsilon 10 out of 50...\n",
            "Checking epsilon 11 out of 50...\n",
            "Checking epsilon 12 out of 50...\n",
            "Checking epsilon 13 out of 50...\n",
            "Checking epsilon 14 out of 50...\n",
            "Checking epsilon 15 out of 50...\n",
            "Checking epsilon 16 out of 50...\n",
            "Checking epsilon 17 out of 50...\n",
            "Checking epsilon 18 out of 50...\n",
            "Checking epsilon 19 out of 50...\n",
            "Checking epsilon 20 out of 50...\n",
            "Checking epsilon 21 out of 50...\n",
            "Checking epsilon 22 out of 50...\n",
            "Checking epsilon 23 out of 50...\n",
            "Checking epsilon 24 out of 50...\n",
            "Checking epsilon 25 out of 50...\n",
            "Checking epsilon 26 out of 50...\n",
            "Checking epsilon 27 out of 50...\n",
            "Checking epsilon 28 out of 50...\n",
            "Checking epsilon 29 out of 50...\n",
            "Checking epsilon 30 out of 50...\n",
            "Checking epsilon 31 out of 50...\n",
            "Checking epsilon 32 out of 50...\n",
            "Checking epsilon 33 out of 50...\n",
            "Checking epsilon 34 out of 50...\n",
            "Checking epsilon 35 out of 50...\n",
            "Checking epsilon 36 out of 50...\n",
            "Checking epsilon 37 out of 50...\n",
            "Checking epsilon 38 out of 50...\n",
            "Checking epsilon 39 out of 50...\n",
            "Checking epsilon 40 out of 50...\n",
            "Checking epsilon 41 out of 50...\n",
            "Checking epsilon 42 out of 50...\n",
            "Checking epsilon 43 out of 50...\n",
            "Checking epsilon 44 out of 50...\n",
            "Checking epsilon 45 out of 50...\n",
            "Checking epsilon 46 out of 50...\n",
            "Checking epsilon 47 out of 50...\n",
            "Checking epsilon 48 out of 50...\n",
            "Checking epsilon 49 out of 50...\n",
            "Checking epsilon 50 out of 50...\n",
            "0.02322448979591837 0.9155672823218998\n",
            "Validation accuracy: 0.9155672823218998     Test accuracy: 0.927689594356261\n"
          ]
        }
      ],
      "source": [
        "pan_gaussE, pan_gauss_valAcc, pan_gauss_testAcc = checkGaussianBayes(x_train,\n",
        "                                                                        y_train,\n",
        "                                                                        x_val,\n",
        "                                                                        y_val,\n",
        "                                                                        x_test,\n",
        "                                                                        y_test,\n",
        "                                                                        'Pantry',\n",
        "                                                                        show_plot=False)\n",
        "\n",
        "print(f\"Validation accuracy: {pan_gauss_valAcc}     Test accuracy: {pan_gauss_testAcc}\")"
      ]
    },
    {
      "cell_type": "markdown",
      "metadata": {
        "id": "4ETP_e3DGXjS"
      },
      "source": [
        "KNN"
      ]
    },
    {
      "cell_type": "code",
      "execution_count": 90,
      "metadata": {
        "colab": {
          "base_uri": "https://localhost:8080/",
          "height": 0
        },
        "id": "eWEq7ZNiGXjS",
        "outputId": "57999b9c-d38e-45f4-ef90-2509e2ba5ce0"
      },
      "outputs": [
        {
          "output_type": "stream",
          "name": "stdout",
          "text": [
            "Checking 2 neighbors out of 30...\n",
            "Checking 3 neighbors out of 30...\n",
            "Checking 4 neighbors out of 30...\n",
            "Checking 5 neighbors out of 30...\n",
            "Checking 6 neighbors out of 30...\n",
            "Checking 7 neighbors out of 30...\n",
            "Checking 8 neighbors out of 30...\n",
            "Checking 9 neighbors out of 30...\n",
            "Checking 10 neighbors out of 30...\n",
            "Checking 11 neighbors out of 30...\n",
            "Checking 12 neighbors out of 30...\n",
            "Checking 13 neighbors out of 30...\n",
            "Checking 14 neighbors out of 30...\n",
            "Checking 15 neighbors out of 30...\n",
            "Checking 16 neighbors out of 30...\n",
            "Checking 17 neighbors out of 30...\n",
            "Checking 18 neighbors out of 30...\n",
            "Checking 19 neighbors out of 30...\n",
            "Checking 20 neighbors out of 30...\n",
            "Checking 21 neighbors out of 30...\n",
            "Checking 22 neighbors out of 30...\n",
            "Checking 23 neighbors out of 30...\n",
            "Checking 24 neighbors out of 30...\n",
            "Checking 25 neighbors out of 30...\n",
            "Checking 26 neighbors out of 30...\n",
            "Checking 27 neighbors out of 30...\n",
            "Checking 28 neighbors out of 30...\n",
            "Checking 29 neighbors out of 30...\n",
            "Checking 30 neighbors out of 30...\n",
            "10 0.9102902374670184\n",
            "Validation accuracy: 0.9102902374670184     Test accuracy: 0.9153439153439153\n"
          ]
        }
      ],
      "source": [
        "pan_knnE, pan_knn_valAcc, pan_knn_testAcc = checkKnn(x_train,\n",
        "                                                     y_train,\n",
        "                                                     x_val,\n",
        "                                                     y_val,\n",
        "                                                     x_test,\n",
        "                                                     y_test,\n",
        "                                                     'Pantry',\n",
        "                                                     show_plot=False)\n",
        "\n",
        "print(f\"Validation accuracy: {pan_knn_valAcc}     Test accuracy: {pan_knn_testAcc}\")"
      ]
    },
    {
      "cell_type": "markdown",
      "metadata": {
        "id": "SlIrZvSd1THO"
      },
      "source": [
        "# Indoor grill models\n",
        "\n",
        "Naive Bayes"
      ]
    },
    {
      "cell_type": "code",
      "execution_count": 91,
      "metadata": {
        "colab": {
          "base_uri": "https://localhost:8080/",
          "height": 0
        },
        "id": "OJGNSJOemTgP",
        "outputId": "2a13d9b3-7cce-46c1-96c9-b6afcef220c9"
      },
      "outputs": [
        {
          "output_type": "stream",
          "name": "stdout",
          "text": [
            "Training set goes from 0 to 2838\n",
            "Validation set goes from 2839 to 3217\n",
            "Test set goes from 3218 to 3784\n"
          ]
        }
      ],
      "source": [
        "# General dataset for all features\n",
        "features = ['grill','appliance','countertop','microwave','electric','convection',\n",
        "            'gas','compactor','desk','dishwasher','sink','freezer','garbage',\n",
        "            'pantry','lazy','refrigerator','purifier','warming','wet','wine']\n",
        "\n",
        "X = data[features]\n",
        "X = X.sample(frac=1, replace=False, random_state=1) #Shuffle the data\n",
        "X = X.to_numpy()\n",
        "\n",
        "train_idx = int(len(X) * 0.75)\n",
        "val_idx = int(len(X) * 0.1)\n",
        "print(f\"Training set goes from 0 to {train_idx}\")\n",
        "print(f\"Validation set goes from {train_idx+1} to {train_idx+1+val_idx}\")\n",
        "print(f\"Test set goes from {train_idx+2+val_idx} to {len(X)}\")"
      ]
    },
    {
      "cell_type": "code",
      "execution_count": 92,
      "metadata": {
        "colab": {
          "base_uri": "https://localhost:8080/",
          "height": 0
        },
        "id": "rwZ_QbSsmTgQ",
        "outputId": "e489d034-7ea8-4576-d161-d80ce2c9451d"
      },
      "outputs": [
        {
          "output_type": "stream",
          "name": "stdout",
          "text": [
            "Train set: (2838, 19), (2838,)\n",
            "Validation set: (379, 19), (379,)\n",
            "Test set: (567, 19), (567,)\n"
          ]
        }
      ],
      "source": [
        "y_train = X[:train_idx,0]\n",
        "x_train = X[:train_idx,1:]\n",
        "y_val = X[train_idx:train_idx+1+val_idx,0]\n",
        "x_val = X[train_idx:train_idx+1+val_idx,1:]\n",
        "y_test = X[train_idx+1+val_idx:,0]\n",
        "x_test = X[train_idx+1+val_idx:,1:]\n",
        "print(f\"Train set: {x_train.shape}, {y_train.shape}\")\n",
        "print(f\"Validation set: {x_val.shape}, {y_val.shape}\")\n",
        "print(f\"Test set: {x_test.shape}, {y_test.shape}\")"
      ]
    },
    {
      "cell_type": "code",
      "execution_count": 93,
      "metadata": {
        "colab": {
          "base_uri": "https://localhost:8080/",
          "height": 0
        },
        "id": "8YWDfAefGaIY",
        "outputId": "82494eba-e690-40dc-f393-8ed6db1ec6ba"
      },
      "outputs": [
        {
          "output_type": "stream",
          "name": "stdout",
          "text": [
            "Checking epsilon 1 out of 50...\n",
            "Checking epsilon 2 out of 50...\n",
            "Checking epsilon 3 out of 50...\n",
            "Checking epsilon 4 out of 50...\n",
            "Checking epsilon 5 out of 50...\n",
            "Checking epsilon 6 out of 50...\n",
            "Checking epsilon 7 out of 50...\n",
            "Checking epsilon 8 out of 50...\n",
            "Checking epsilon 9 out of 50...\n",
            "Checking epsilon 10 out of 50...\n",
            "Checking epsilon 11 out of 50...\n",
            "Checking epsilon 12 out of 50...\n",
            "Checking epsilon 13 out of 50...\n",
            "Checking epsilon 14 out of 50...\n",
            "Checking epsilon 15 out of 50...\n",
            "Checking epsilon 16 out of 50...\n",
            "Checking epsilon 17 out of 50...\n",
            "Checking epsilon 18 out of 50...\n",
            "Checking epsilon 19 out of 50...\n",
            "Checking epsilon 20 out of 50...\n",
            "Checking epsilon 21 out of 50...\n",
            "Checking epsilon 22 out of 50...\n",
            "Checking epsilon 23 out of 50...\n",
            "Checking epsilon 24 out of 50...\n",
            "Checking epsilon 25 out of 50...\n",
            "Checking epsilon 26 out of 50...\n",
            "Checking epsilon 27 out of 50...\n",
            "Checking epsilon 28 out of 50...\n",
            "Checking epsilon 29 out of 50...\n",
            "Checking epsilon 30 out of 50...\n",
            "Checking epsilon 31 out of 50...\n",
            "Checking epsilon 32 out of 50...\n",
            "Checking epsilon 33 out of 50...\n",
            "Checking epsilon 34 out of 50...\n",
            "Checking epsilon 35 out of 50...\n",
            "Checking epsilon 36 out of 50...\n",
            "Checking epsilon 37 out of 50...\n",
            "Checking epsilon 38 out of 50...\n",
            "Checking epsilon 39 out of 50...\n",
            "Checking epsilon 40 out of 50...\n",
            "Checking epsilon 41 out of 50...\n",
            "Checking epsilon 42 out of 50...\n",
            "Checking epsilon 43 out of 50...\n",
            "Checking epsilon 44 out of 50...\n",
            "Checking epsilon 45 out of 50...\n",
            "Checking epsilon 46 out of 50...\n",
            "Checking epsilon 47 out of 50...\n",
            "Checking epsilon 48 out of 50...\n",
            "Checking epsilon 49 out of 50...\n",
            "Checking epsilon 50 out of 50...\n",
            "0.1 0.9366754617414248\n",
            "Validation accuracy: 0.9366754617414248     Test accuracy: 0.9188712522045855\n"
          ]
        }
      ],
      "source": [
        "grill_naiveE, grill_naive_valAcc, grill_naive_testAcc = checkNaiveBayes(x_train,\n",
        "                                                                        y_train,\n",
        "                                                                        x_val,\n",
        "                                                                        y_val,\n",
        "                                                                        x_test,\n",
        "                                                                        y_test,\n",
        "                                                                        'Indoor grill',\n",
        "                                                                        show_plot=False)\n",
        "\n",
        "print(f\"Validation accuracy: {grill_naive_valAcc}     Test accuracy: {grill_naive_testAcc}\")"
      ]
    },
    {
      "cell_type": "markdown",
      "metadata": {
        "id": "PAUcEfPIGaIZ"
      },
      "source": [
        "Gaussian Bayes"
      ]
    },
    {
      "cell_type": "code",
      "execution_count": 94,
      "metadata": {
        "colab": {
          "base_uri": "https://localhost:8080/",
          "height": 0
        },
        "id": "p9hEI8o2GaIZ",
        "outputId": "d238f274-9a0d-40d8-d720-2ce72415df85"
      },
      "outputs": [
        {
          "output_type": "stream",
          "name": "stdout",
          "text": [
            "Checking epsilon 1 out of 50...\n",
            "Checking epsilon 2 out of 50...\n",
            "Checking epsilon 3 out of 50...\n",
            "Checking epsilon 4 out of 50...\n",
            "Checking epsilon 5 out of 50...\n",
            "Checking epsilon 6 out of 50...\n",
            "Checking epsilon 7 out of 50...\n",
            "Checking epsilon 8 out of 50...\n",
            "Checking epsilon 9 out of 50...\n",
            "Checking epsilon 10 out of 50...\n",
            "Checking epsilon 11 out of 50...\n",
            "Checking epsilon 12 out of 50...\n",
            "Checking epsilon 13 out of 50...\n",
            "Checking epsilon 14 out of 50...\n",
            "Checking epsilon 15 out of 50...\n",
            "Checking epsilon 16 out of 50...\n",
            "Checking epsilon 17 out of 50...\n",
            "Checking epsilon 18 out of 50...\n",
            "Checking epsilon 19 out of 50...\n",
            "Checking epsilon 20 out of 50...\n",
            "Checking epsilon 21 out of 50...\n",
            "Checking epsilon 22 out of 50...\n",
            "Checking epsilon 23 out of 50...\n",
            "Checking epsilon 24 out of 50...\n",
            "Checking epsilon 25 out of 50...\n",
            "Checking epsilon 26 out of 50...\n",
            "Checking epsilon 27 out of 50...\n",
            "Checking epsilon 28 out of 50...\n",
            "Checking epsilon 29 out of 50...\n",
            "Checking epsilon 30 out of 50...\n",
            "Checking epsilon 31 out of 50...\n",
            "Checking epsilon 32 out of 50...\n",
            "Checking epsilon 33 out of 50...\n",
            "Checking epsilon 34 out of 50...\n",
            "Checking epsilon 35 out of 50...\n",
            "Checking epsilon 36 out of 50...\n",
            "Checking epsilon 37 out of 50...\n",
            "Checking epsilon 38 out of 50...\n",
            "Checking epsilon 39 out of 50...\n",
            "Checking epsilon 40 out of 50...\n",
            "Checking epsilon 41 out of 50...\n",
            "Checking epsilon 42 out of 50...\n",
            "Checking epsilon 43 out of 50...\n",
            "Checking epsilon 44 out of 50...\n",
            "Checking epsilon 45 out of 50...\n",
            "Checking epsilon 46 out of 50...\n",
            "Checking epsilon 47 out of 50...\n",
            "Checking epsilon 48 out of 50...\n",
            "Checking epsilon 49 out of 50...\n",
            "Checking epsilon 50 out of 50...\n",
            "0.08787755102040817 0.9815303430079155\n",
            "Validation accuracy: 0.9815303430079155     Test accuracy: 0.9717813051146384\n"
          ]
        }
      ],
      "source": [
        "grill_gaussE, grill_gauss_valAcc, grill_gauss_testAcc = checkGaussianBayes(x_train,\n",
        "                                                                        y_train,\n",
        "                                                                        x_val,\n",
        "                                                                        y_val,\n",
        "                                                                        x_test,\n",
        "                                                                        y_test,\n",
        "                                                                        'Indoor grill',\n",
        "                                                                        show_plot=False)\n",
        "\n",
        "print(f\"Validation accuracy: {grill_gauss_valAcc}     Test accuracy: {grill_gauss_testAcc}\")"
      ]
    },
    {
      "cell_type": "markdown",
      "metadata": {
        "id": "yMMI-90mGaIa"
      },
      "source": [
        "KNN"
      ]
    },
    {
      "cell_type": "code",
      "execution_count": 95,
      "metadata": {
        "colab": {
          "base_uri": "https://localhost:8080/",
          "height": 0
        },
        "id": "Fenwzp74GaIa",
        "outputId": "c01b03ac-14be-48e1-ef9b-dd088bc402ab"
      },
      "outputs": [
        {
          "output_type": "stream",
          "name": "stdout",
          "text": [
            "Checking 2 neighbors out of 30...\n",
            "Checking 3 neighbors out of 30...\n",
            "Checking 4 neighbors out of 30...\n",
            "Checking 5 neighbors out of 30...\n",
            "Checking 6 neighbors out of 30...\n",
            "Checking 7 neighbors out of 30...\n",
            "Checking 8 neighbors out of 30...\n",
            "Checking 9 neighbors out of 30...\n",
            "Checking 10 neighbors out of 30...\n",
            "Checking 11 neighbors out of 30...\n",
            "Checking 12 neighbors out of 30...\n",
            "Checking 13 neighbors out of 30...\n",
            "Checking 14 neighbors out of 30...\n",
            "Checking 15 neighbors out of 30...\n",
            "Checking 16 neighbors out of 30...\n",
            "Checking 17 neighbors out of 30...\n",
            "Checking 18 neighbors out of 30...\n",
            "Checking 19 neighbors out of 30...\n",
            "Checking 20 neighbors out of 30...\n",
            "Checking 21 neighbors out of 30...\n",
            "Checking 22 neighbors out of 30...\n",
            "Checking 23 neighbors out of 30...\n",
            "Checking 24 neighbors out of 30...\n",
            "Checking 25 neighbors out of 30...\n",
            "Checking 26 neighbors out of 30...\n",
            "Checking 27 neighbors out of 30...\n",
            "Checking 28 neighbors out of 30...\n",
            "Checking 29 neighbors out of 30...\n",
            "Checking 30 neighbors out of 30...\n",
            "17 0.9894459102902374\n",
            "Validation accuracy: 0.9894459102902374     Test accuracy: 0.9858906525573192\n"
          ]
        }
      ],
      "source": [
        "grill_knnE, grill_knn_valAcc, grill_knn_testAcc = checkKnn(x_train,\n",
        "                                                     y_train,\n",
        "                                                     x_val,\n",
        "                                                     y_val,\n",
        "                                                     x_test,\n",
        "                                                     y_test,\n",
        "                                                     'Indoor grill',\n",
        "                                                     show_plot=False)\n",
        "\n",
        "print(f\"Validation accuracy: {grill_knn_valAcc}     Test accuracy: {grill_knn_testAcc}\")"
      ]
    },
    {
      "cell_type": "markdown",
      "metadata": {
        "id": "ExM6jsQD1Tio"
      },
      "source": [
        "# Lazy Susan models\n",
        "\n",
        "Naive Bayes"
      ]
    },
    {
      "cell_type": "code",
      "execution_count": 96,
      "metadata": {
        "colab": {
          "base_uri": "https://localhost:8080/",
          "height": 0
        },
        "id": "n64QXgxomU7x",
        "outputId": "8e28dd6a-0fab-4a76-95f1-7577a3758b61"
      },
      "outputs": [
        {
          "output_type": "stream",
          "name": "stdout",
          "text": [
            "Training set goes from 0 to 2838\n",
            "Validation set goes from 2839 to 3217\n",
            "Test set goes from 3218 to 3784\n"
          ]
        }
      ],
      "source": [
        "# General dataset for all features\n",
        "features = ['lazy','appliance','countertop','microwave','electric','convection',\n",
        "            'gas','compactor','desk','dishwasher','sink','freezer','garbage',\n",
        "            'pantry','grill','refrigerator','purifier','warming','wet','wine']\n",
        "\n",
        "X = data[features]\n",
        "X = X.sample(frac=1, replace=False, random_state=1) #Shuffle the data\n",
        "X = X.to_numpy()\n",
        "\n",
        "train_idx = int(len(X) * 0.75)\n",
        "val_idx = int(len(X) * 0.1)\n",
        "print(f\"Training set goes from 0 to {train_idx}\")\n",
        "print(f\"Validation set goes from {train_idx+1} to {train_idx+1+val_idx}\")\n",
        "print(f\"Test set goes from {train_idx+2+val_idx} to {len(X)}\")"
      ]
    },
    {
      "cell_type": "code",
      "execution_count": 97,
      "metadata": {
        "colab": {
          "base_uri": "https://localhost:8080/",
          "height": 0
        },
        "id": "MareuLdlmU70",
        "outputId": "53ed3400-6bdf-466e-8221-f1f173f48f18"
      },
      "outputs": [
        {
          "output_type": "stream",
          "name": "stdout",
          "text": [
            "Train set: (2838, 19), (2838,)\n",
            "Validation set: (379, 19), (379,)\n",
            "Test set: (567, 19), (567,)\n"
          ]
        }
      ],
      "source": [
        "y_train = X[:train_idx,0]\n",
        "x_train = X[:train_idx,1:]\n",
        "y_val = X[train_idx:train_idx+1+val_idx,0]\n",
        "x_val = X[train_idx:train_idx+1+val_idx,1:]\n",
        "y_test = X[train_idx+1+val_idx:,0]\n",
        "x_test = X[train_idx+1+val_idx:,1:]\n",
        "print(f\"Train set: {x_train.shape}, {y_train.shape}\")\n",
        "print(f\"Validation set: {x_val.shape}, {y_val.shape}\")\n",
        "print(f\"Test set: {x_test.shape}, {y_test.shape}\")"
      ]
    },
    {
      "cell_type": "code",
      "execution_count": 98,
      "metadata": {
        "colab": {
          "base_uri": "https://localhost:8080/",
          "height": 0
        },
        "id": "C-OBg-NpGc49",
        "outputId": "b71cdcd4-7307-4afe-c425-b594d005a917"
      },
      "outputs": [
        {
          "output_type": "stream",
          "name": "stdout",
          "text": [
            "Checking epsilon 1 out of 50...\n",
            "Checking epsilon 2 out of 50...\n",
            "Checking epsilon 3 out of 50...\n",
            "Checking epsilon 4 out of 50...\n",
            "Checking epsilon 5 out of 50...\n",
            "Checking epsilon 6 out of 50...\n",
            "Checking epsilon 7 out of 50...\n",
            "Checking epsilon 8 out of 50...\n",
            "Checking epsilon 9 out of 50...\n",
            "Checking epsilon 10 out of 50...\n",
            "Checking epsilon 11 out of 50...\n",
            "Checking epsilon 12 out of 50...\n",
            "Checking epsilon 13 out of 50...\n",
            "Checking epsilon 14 out of 50...\n",
            "Checking epsilon 15 out of 50...\n",
            "Checking epsilon 16 out of 50...\n",
            "Checking epsilon 17 out of 50...\n",
            "Checking epsilon 18 out of 50...\n",
            "Checking epsilon 19 out of 50...\n",
            "Checking epsilon 20 out of 50...\n",
            "Checking epsilon 21 out of 50...\n",
            "Checking epsilon 22 out of 50...\n",
            "Checking epsilon 23 out of 50...\n",
            "Checking epsilon 24 out of 50...\n",
            "Checking epsilon 25 out of 50...\n",
            "Checking epsilon 26 out of 50...\n",
            "Checking epsilon 27 out of 50...\n",
            "Checking epsilon 28 out of 50...\n",
            "Checking epsilon 29 out of 50...\n",
            "Checking epsilon 30 out of 50...\n",
            "Checking epsilon 31 out of 50...\n",
            "Checking epsilon 32 out of 50...\n",
            "Checking epsilon 33 out of 50...\n",
            "Checking epsilon 34 out of 50...\n",
            "Checking epsilon 35 out of 50...\n",
            "Checking epsilon 36 out of 50...\n",
            "Checking epsilon 37 out of 50...\n",
            "Checking epsilon 38 out of 50...\n",
            "Checking epsilon 39 out of 50...\n",
            "Checking epsilon 40 out of 50...\n",
            "Checking epsilon 41 out of 50...\n",
            "Checking epsilon 42 out of 50...\n",
            "Checking epsilon 43 out of 50...\n",
            "Checking epsilon 44 out of 50...\n",
            "Checking epsilon 45 out of 50...\n",
            "Checking epsilon 46 out of 50...\n",
            "Checking epsilon 47 out of 50...\n",
            "Checking epsilon 48 out of 50...\n",
            "Checking epsilon 49 out of 50...\n",
            "Checking epsilon 50 out of 50...\n",
            "0.07171428571428572 0.8469656992084432\n",
            "Validation accuracy: 0.8469656992084432     Test accuracy: 0.8130511463844797\n"
          ]
        }
      ],
      "source": [
        "laz_naiveE, laz_naive_valAcc, laz_naive_testAcc = checkNaiveBayes(x_train,\n",
        "                                                                        y_train,\n",
        "                                                                        x_val,\n",
        "                                                                        y_val,\n",
        "                                                                        x_test,\n",
        "                                                                        y_test,\n",
        "                                                                        'Lazy Susan',\n",
        "                                                                        show_plot=False)\n",
        "\n",
        "print(f\"Validation accuracy: {laz_naive_valAcc}     Test accuracy: {laz_naive_testAcc}\")"
      ]
    },
    {
      "cell_type": "markdown",
      "metadata": {
        "id": "8S5ZHhZrGc4-"
      },
      "source": [
        "Gaussian Bayes"
      ]
    },
    {
      "cell_type": "code",
      "execution_count": 99,
      "metadata": {
        "colab": {
          "base_uri": "https://localhost:8080/",
          "height": 0
        },
        "id": "YyXv4kAxGc4-",
        "outputId": "523d06fa-e6c5-45b0-de56-019f904594bd"
      },
      "outputs": [
        {
          "output_type": "stream",
          "name": "stdout",
          "text": [
            "Checking epsilon 1 out of 50...\n",
            "Checking epsilon 2 out of 50...\n",
            "Checking epsilon 3 out of 50...\n",
            "Checking epsilon 4 out of 50...\n",
            "Checking epsilon 5 out of 50...\n",
            "Checking epsilon 6 out of 50...\n",
            "Checking epsilon 7 out of 50...\n",
            "Checking epsilon 8 out of 50...\n",
            "Checking epsilon 9 out of 50...\n",
            "Checking epsilon 10 out of 50...\n",
            "Checking epsilon 11 out of 50...\n",
            "Checking epsilon 12 out of 50...\n",
            "Checking epsilon 13 out of 50...\n",
            "Checking epsilon 14 out of 50...\n",
            "Checking epsilon 15 out of 50...\n",
            "Checking epsilon 16 out of 50...\n",
            "Checking epsilon 17 out of 50...\n",
            "Checking epsilon 18 out of 50...\n",
            "Checking epsilon 19 out of 50...\n",
            "Checking epsilon 20 out of 50...\n",
            "Checking epsilon 21 out of 50...\n",
            "Checking epsilon 22 out of 50...\n",
            "Checking epsilon 23 out of 50...\n",
            "Checking epsilon 24 out of 50...\n",
            "Checking epsilon 25 out of 50...\n",
            "Checking epsilon 26 out of 50...\n",
            "Checking epsilon 27 out of 50...\n",
            "Checking epsilon 28 out of 50...\n",
            "Checking epsilon 29 out of 50...\n",
            "Checking epsilon 30 out of 50...\n",
            "Checking epsilon 31 out of 50...\n",
            "Checking epsilon 32 out of 50...\n",
            "Checking epsilon 33 out of 50...\n",
            "Checking epsilon 34 out of 50...\n",
            "Checking epsilon 35 out of 50...\n",
            "Checking epsilon 36 out of 50...\n",
            "Checking epsilon 37 out of 50...\n",
            "Checking epsilon 38 out of 50...\n",
            "Checking epsilon 39 out of 50...\n",
            "Checking epsilon 40 out of 50...\n",
            "Checking epsilon 41 out of 50...\n",
            "Checking epsilon 42 out of 50...\n",
            "Checking epsilon 43 out of 50...\n",
            "Checking epsilon 44 out of 50...\n",
            "Checking epsilon 45 out of 50...\n",
            "Checking epsilon 46 out of 50...\n",
            "Checking epsilon 47 out of 50...\n",
            "Checking epsilon 48 out of 50...\n",
            "Checking epsilon 49 out of 50...\n",
            "Checking epsilon 50 out of 50...\n",
            "0.09191836734693878 0.920844327176781\n",
            "Validation accuracy: 0.920844327176781     Test accuracy: 0.91005291005291\n"
          ]
        }
      ],
      "source": [
        "laz_gaussE, laz_gauss_valAcc, laz_gauss_testAcc = checkGaussianBayes(x_train,\n",
        "                                                                        y_train,\n",
        "                                                                        x_val,\n",
        "                                                                        y_val,\n",
        "                                                                        x_test,\n",
        "                                                                        y_test,\n",
        "                                                                        'Lazy Susan',\n",
        "                                                                        show_plot=False)\n",
        "\n",
        "print(f\"Validation accuracy: {laz_gauss_valAcc}     Test accuracy: {laz_gauss_testAcc}\")"
      ]
    },
    {
      "cell_type": "markdown",
      "metadata": {
        "id": "1d0s3wtWGc4-"
      },
      "source": [
        "KNN"
      ]
    },
    {
      "cell_type": "code",
      "execution_count": 100,
      "metadata": {
        "colab": {
          "base_uri": "https://localhost:8080/",
          "height": 0
        },
        "id": "xoD5RGzbGc4-",
        "outputId": "c67fecf2-e43a-4f9b-d4ff-1e1fdc7c45a8"
      },
      "outputs": [
        {
          "output_type": "stream",
          "name": "stdout",
          "text": [
            "Checking 2 neighbors out of 30...\n",
            "Checking 3 neighbors out of 30...\n",
            "Checking 4 neighbors out of 30...\n",
            "Checking 5 neighbors out of 30...\n",
            "Checking 6 neighbors out of 30...\n",
            "Checking 7 neighbors out of 30...\n",
            "Checking 8 neighbors out of 30...\n",
            "Checking 9 neighbors out of 30...\n",
            "Checking 10 neighbors out of 30...\n",
            "Checking 11 neighbors out of 30...\n",
            "Checking 12 neighbors out of 30...\n",
            "Checking 13 neighbors out of 30...\n",
            "Checking 14 neighbors out of 30...\n",
            "Checking 15 neighbors out of 30...\n",
            "Checking 16 neighbors out of 30...\n",
            "Checking 17 neighbors out of 30...\n",
            "Checking 18 neighbors out of 30...\n",
            "Checking 19 neighbors out of 30...\n",
            "Checking 20 neighbors out of 30...\n",
            "Checking 21 neighbors out of 30...\n",
            "Checking 22 neighbors out of 30...\n",
            "Checking 23 neighbors out of 30...\n",
            "Checking 24 neighbors out of 30...\n",
            "Checking 25 neighbors out of 30...\n",
            "Checking 26 neighbors out of 30...\n",
            "Checking 27 neighbors out of 30...\n",
            "Checking 28 neighbors out of 30...\n",
            "Checking 29 neighbors out of 30...\n",
            "Checking 30 neighbors out of 30...\n",
            "5 0.920844327176781\n",
            "Validation accuracy: 0.920844327176781     Test accuracy: 0.9223985890652557\n"
          ]
        }
      ],
      "source": [
        "laz_knnE, laz_knn_valAcc, laz_knn_testAcc = checkKnn(x_train,\n",
        "                                                     y_train,\n",
        "                                                     x_val,\n",
        "                                                     y_val,\n",
        "                                                     x_test,\n",
        "                                                     y_test,\n",
        "                                                     'Lazy Susan',\n",
        "                                                     show_plot=False)\n",
        "\n",
        "print(f\"Validation accuracy: {laz_knn_valAcc}     Test accuracy: {laz_knn_testAcc}\")"
      ]
    },
    {
      "cell_type": "markdown",
      "metadata": {
        "id": "6GWaToVV1T_F"
      },
      "source": [
        "# Refrigerator models\n",
        "\n",
        "Naive Bayes"
      ]
    },
    {
      "cell_type": "code",
      "execution_count": 101,
      "metadata": {
        "colab": {
          "base_uri": "https://localhost:8080/",
          "height": 0
        },
        "id": "6-lUmJWOmWTJ",
        "outputId": "c327571b-3513-46f7-82fb-3239b8418c0d"
      },
      "outputs": [
        {
          "output_type": "stream",
          "name": "stdout",
          "text": [
            "Training set goes from 0 to 2838\n",
            "Validation set goes from 2839 to 3217\n",
            "Test set goes from 3218 to 3784\n"
          ]
        }
      ],
      "source": [
        "# General dataset for all features\n",
        "features = ['refrigerator','appliance','countertop','microwave','electric','convection',\n",
        "            'gas','compactor','desk','dishwasher','sink','freezer','garbage',\n",
        "            'pantry','grill','lazy','purifier','warming','wet','wine']\n",
        "\n",
        "X = data[features]\n",
        "X = X.sample(frac=1, replace=False, random_state=1) #Shuffle the data\n",
        "X = X.to_numpy()\n",
        "\n",
        "train_idx = int(len(X) * 0.75)\n",
        "val_idx = int(len(X) * 0.1)\n",
        "print(f\"Training set goes from 0 to {train_idx}\")\n",
        "print(f\"Validation set goes from {train_idx+1} to {train_idx+1+val_idx}\")\n",
        "print(f\"Test set goes from {train_idx+2+val_idx} to {len(X)}\")"
      ]
    },
    {
      "cell_type": "code",
      "execution_count": 102,
      "metadata": {
        "colab": {
          "base_uri": "https://localhost:8080/",
          "height": 0
        },
        "id": "6NRrarjPmWTJ",
        "outputId": "35c3916a-5042-4d5d-b9bb-7c957e01c201"
      },
      "outputs": [
        {
          "output_type": "stream",
          "name": "stdout",
          "text": [
            "Train set: (2838, 19), (2838,)\n",
            "Validation set: (379, 19), (379,)\n",
            "Test set: (567, 19), (567,)\n"
          ]
        }
      ],
      "source": [
        "y_train = X[:train_idx,0]\n",
        "x_train = X[:train_idx,1:]\n",
        "y_val = X[train_idx:train_idx+1+val_idx,0]\n",
        "x_val = X[train_idx:train_idx+1+val_idx,1:]\n",
        "y_test = X[train_idx+1+val_idx:,0]\n",
        "x_test = X[train_idx+1+val_idx:,1:]\n",
        "print(f\"Train set: {x_train.shape}, {y_train.shape}\")\n",
        "print(f\"Validation set: {x_val.shape}, {y_val.shape}\")\n",
        "print(f\"Test set: {x_test.shape}, {y_test.shape}\")"
      ]
    },
    {
      "cell_type": "code",
      "execution_count": 103,
      "metadata": {
        "colab": {
          "base_uri": "https://localhost:8080/",
          "height": 0
        },
        "id": "s1EDt6_1GfV-",
        "outputId": "3b5a4dbb-43cb-492d-d60f-1acc29783818"
      },
      "outputs": [
        {
          "output_type": "stream",
          "name": "stdout",
          "text": [
            "Checking epsilon 1 out of 50...\n",
            "Checking epsilon 2 out of 50...\n",
            "Checking epsilon 3 out of 50...\n",
            "Checking epsilon 4 out of 50...\n",
            "Checking epsilon 5 out of 50...\n",
            "Checking epsilon 6 out of 50...\n",
            "Checking epsilon 7 out of 50...\n",
            "Checking epsilon 8 out of 50...\n",
            "Checking epsilon 9 out of 50...\n",
            "Checking epsilon 10 out of 50...\n",
            "Checking epsilon 11 out of 50...\n",
            "Checking epsilon 12 out of 50...\n",
            "Checking epsilon 13 out of 50...\n",
            "Checking epsilon 14 out of 50...\n",
            "Checking epsilon 15 out of 50...\n",
            "Checking epsilon 16 out of 50...\n",
            "Checking epsilon 17 out of 50...\n",
            "Checking epsilon 18 out of 50...\n",
            "Checking epsilon 19 out of 50...\n",
            "Checking epsilon 20 out of 50...\n",
            "Checking epsilon 21 out of 50...\n",
            "Checking epsilon 22 out of 50...\n",
            "Checking epsilon 23 out of 50...\n",
            "Checking epsilon 24 out of 50...\n",
            "Checking epsilon 25 out of 50...\n",
            "Checking epsilon 26 out of 50...\n",
            "Checking epsilon 27 out of 50...\n",
            "Checking epsilon 28 out of 50...\n",
            "Checking epsilon 29 out of 50...\n",
            "Checking epsilon 30 out of 50...\n",
            "Checking epsilon 31 out of 50...\n",
            "Checking epsilon 32 out of 50...\n",
            "Checking epsilon 33 out of 50...\n",
            "Checking epsilon 34 out of 50...\n",
            "Checking epsilon 35 out of 50...\n",
            "Checking epsilon 36 out of 50...\n",
            "Checking epsilon 37 out of 50...\n",
            "Checking epsilon 38 out of 50...\n",
            "Checking epsilon 39 out of 50...\n",
            "Checking epsilon 40 out of 50...\n",
            "Checking epsilon 41 out of 50...\n",
            "Checking epsilon 42 out of 50...\n",
            "Checking epsilon 43 out of 50...\n",
            "Checking epsilon 44 out of 50...\n",
            "Checking epsilon 45 out of 50...\n",
            "Checking epsilon 46 out of 50...\n",
            "Checking epsilon 47 out of 50...\n",
            "Checking epsilon 48 out of 50...\n",
            "Checking epsilon 49 out of 50...\n",
            "Checking epsilon 50 out of 50...\n",
            "0.1 0.8496042216358839\n",
            "Validation accuracy: 0.8496042216358839     Test accuracy: 0.8395061728395061\n"
          ]
        }
      ],
      "source": [
        "ref_naiveE, ref_naive_valAcc, ref_naive_testAcc = checkNaiveBayes(x_train,\n",
        "                                                                        y_train,\n",
        "                                                                        x_val,\n",
        "                                                                        y_val,\n",
        "                                                                        x_test,\n",
        "                                                                        y_test,\n",
        "                                                                        'Refrigerator',\n",
        "                                                                        show_plot=False)\n",
        "\n",
        "print(f\"Validation accuracy: {ref_naive_valAcc}     Test accuracy: {ref_naive_testAcc}\")"
      ]
    },
    {
      "cell_type": "markdown",
      "metadata": {
        "id": "3Y7NPjhlGfV_"
      },
      "source": [
        "Gaussian Bayes"
      ]
    },
    {
      "cell_type": "code",
      "execution_count": 104,
      "metadata": {
        "colab": {
          "base_uri": "https://localhost:8080/",
          "height": 0
        },
        "id": "4eTh1DwrGfV_",
        "outputId": "9783536e-59e9-4c80-f576-1c39f2b85010"
      },
      "outputs": [
        {
          "output_type": "stream",
          "name": "stdout",
          "text": [
            "Checking epsilon 1 out of 50...\n",
            "Checking epsilon 2 out of 50...\n",
            "Checking epsilon 3 out of 50...\n",
            "Checking epsilon 4 out of 50...\n",
            "Checking epsilon 5 out of 50...\n",
            "Checking epsilon 6 out of 50...\n",
            "Checking epsilon 7 out of 50...\n",
            "Checking epsilon 8 out of 50...\n",
            "Checking epsilon 9 out of 50...\n",
            "Checking epsilon 10 out of 50...\n",
            "Checking epsilon 11 out of 50...\n",
            "Checking epsilon 12 out of 50...\n",
            "Checking epsilon 13 out of 50...\n",
            "Checking epsilon 14 out of 50...\n",
            "Checking epsilon 15 out of 50...\n",
            "Checking epsilon 16 out of 50...\n",
            "Checking epsilon 17 out of 50...\n",
            "Checking epsilon 18 out of 50...\n",
            "Checking epsilon 19 out of 50...\n",
            "Checking epsilon 20 out of 50...\n",
            "Checking epsilon 21 out of 50...\n",
            "Checking epsilon 22 out of 50...\n",
            "Checking epsilon 23 out of 50...\n",
            "Checking epsilon 24 out of 50...\n",
            "Checking epsilon 25 out of 50...\n",
            "Checking epsilon 26 out of 50...\n",
            "Checking epsilon 27 out of 50...\n",
            "Checking epsilon 28 out of 50...\n",
            "Checking epsilon 29 out of 50...\n",
            "Checking epsilon 30 out of 50...\n",
            "Checking epsilon 31 out of 50...\n",
            "Checking epsilon 32 out of 50...\n",
            "Checking epsilon 33 out of 50...\n",
            "Checking epsilon 34 out of 50...\n",
            "Checking epsilon 35 out of 50...\n",
            "Checking epsilon 36 out of 50...\n",
            "Checking epsilon 37 out of 50...\n",
            "Checking epsilon 38 out of 50...\n",
            "Checking epsilon 39 out of 50...\n",
            "Checking epsilon 40 out of 50...\n",
            "Checking epsilon 41 out of 50...\n",
            "Checking epsilon 42 out of 50...\n",
            "Checking epsilon 43 out of 50...\n",
            "Checking epsilon 44 out of 50...\n",
            "Checking epsilon 45 out of 50...\n",
            "Checking epsilon 46 out of 50...\n",
            "Checking epsilon 47 out of 50...\n",
            "Checking epsilon 48 out of 50...\n",
            "Checking epsilon 49 out of 50...\n",
            "Checking epsilon 50 out of 50...\n",
            "0.0656530612244898 0.8601583113456465\n",
            "Validation accuracy: 0.8601583113456465     Test accuracy: 0.8571428571428571\n"
          ]
        }
      ],
      "source": [
        "ref_gaussE, ref_gauss_valAcc, ref_gauss_testAcc = checkGaussianBayes(x_train,\n",
        "                                                                        y_train,\n",
        "                                                                        x_val,\n",
        "                                                                        y_val,\n",
        "                                                                        x_test,\n",
        "                                                                        y_test,\n",
        "                                                                        'Refrigerator',\n",
        "                                                                        show_plot=False)\n",
        "\n",
        "print(f\"Validation accuracy: {ref_gauss_valAcc}     Test accuracy: {ref_gauss_testAcc}\")"
      ]
    },
    {
      "cell_type": "markdown",
      "metadata": {
        "id": "VwAuABH4GfWF"
      },
      "source": [
        "KNN"
      ]
    },
    {
      "cell_type": "code",
      "execution_count": 105,
      "metadata": {
        "colab": {
          "base_uri": "https://localhost:8080/",
          "height": 0
        },
        "id": "MZXfwM8cGfWF",
        "outputId": "a3412c92-1ca8-4d13-8352-5aae8cfaf0c3"
      },
      "outputs": [
        {
          "output_type": "stream",
          "name": "stdout",
          "text": [
            "Checking 2 neighbors out of 30...\n",
            "Checking 3 neighbors out of 30...\n",
            "Checking 4 neighbors out of 30...\n",
            "Checking 5 neighbors out of 30...\n",
            "Checking 6 neighbors out of 30...\n",
            "Checking 7 neighbors out of 30...\n",
            "Checking 8 neighbors out of 30...\n",
            "Checking 9 neighbors out of 30...\n",
            "Checking 10 neighbors out of 30...\n",
            "Checking 11 neighbors out of 30...\n",
            "Checking 12 neighbors out of 30...\n",
            "Checking 13 neighbors out of 30...\n",
            "Checking 14 neighbors out of 30...\n",
            "Checking 15 neighbors out of 30...\n",
            "Checking 16 neighbors out of 30...\n",
            "Checking 17 neighbors out of 30...\n",
            "Checking 18 neighbors out of 30...\n",
            "Checking 19 neighbors out of 30...\n",
            "Checking 20 neighbors out of 30...\n",
            "Checking 21 neighbors out of 30...\n",
            "Checking 22 neighbors out of 30...\n",
            "Checking 23 neighbors out of 30...\n",
            "Checking 24 neighbors out of 30...\n",
            "Checking 25 neighbors out of 30...\n",
            "Checking 26 neighbors out of 30...\n",
            "Checking 27 neighbors out of 30...\n",
            "Checking 28 neighbors out of 30...\n",
            "Checking 29 neighbors out of 30...\n",
            "Checking 30 neighbors out of 30...\n",
            "22 0.8522427440633246\n",
            "Validation accuracy: 0.8522427440633246     Test accuracy: 0.8624338624338624\n"
          ]
        }
      ],
      "source": [
        "ref_knnE, ref_knn_valAcc, ref_knn_testAcc = checkKnn(x_train,\n",
        "                                                     y_train,\n",
        "                                                     x_val,\n",
        "                                                     y_val,\n",
        "                                                     x_test,\n",
        "                                                     y_test,\n",
        "                                                     'Refrigerator',\n",
        "                                                     show_plot=False)\n",
        "\n",
        "print(f\"Validation accuracy: {ref_knn_valAcc}     Test accuracy: {ref_knn_testAcc}\")"
      ]
    },
    {
      "cell_type": "markdown",
      "metadata": {
        "id": "C68IFNKt1Uea"
      },
      "source": [
        "# Water purifier models\n",
        "\n",
        "Naive Bayes"
      ]
    },
    {
      "cell_type": "code",
      "execution_count": 106,
      "metadata": {
        "colab": {
          "base_uri": "https://localhost:8080/",
          "height": 0
        },
        "id": "NOAXyloSmXf6",
        "outputId": "723489b2-42e0-4ee6-c205-f73b9b929748"
      },
      "outputs": [
        {
          "output_type": "stream",
          "name": "stdout",
          "text": [
            "Training set goes from 0 to 2838\n",
            "Validation set goes from 2839 to 3217\n",
            "Test set goes from 3218 to 3784\n"
          ]
        }
      ],
      "source": [
        "# General dataset for all features\n",
        "features = ['purifier','appliance','countertop','microwave','electric','convection',\n",
        "            'gas','compactor','desk','dishwasher','sink','freezer','garbage',\n",
        "            'pantry','grill','lazy','refrigerator','warming','wet','wine']\n",
        "\n",
        "X = data[features]\n",
        "X = X.sample(frac=1, replace=False, random_state=1) #Shuffle the data\n",
        "X = X.to_numpy()\n",
        "\n",
        "train_idx = int(len(X) * 0.75)\n",
        "val_idx = int(len(X) * 0.1)\n",
        "print(f\"Training set goes from 0 to {train_idx}\")\n",
        "print(f\"Validation set goes from {train_idx+1} to {train_idx+1+val_idx}\")\n",
        "print(f\"Test set goes from {train_idx+2+val_idx} to {len(X)}\")"
      ]
    },
    {
      "cell_type": "code",
      "execution_count": 107,
      "metadata": {
        "colab": {
          "base_uri": "https://localhost:8080/",
          "height": 0
        },
        "id": "VTtgtrLZmXf8",
        "outputId": "aef85d68-5233-4f29-8bbe-89166a1aa18d"
      },
      "outputs": [
        {
          "output_type": "stream",
          "name": "stdout",
          "text": [
            "Train set: (2838, 19), (2838,)\n",
            "Validation set: (379, 19), (379,)\n",
            "Test set: (567, 19), (567,)\n"
          ]
        }
      ],
      "source": [
        "y_train = X[:train_idx,0]\n",
        "x_train = X[:train_idx,1:]\n",
        "y_val = X[train_idx:train_idx+1+val_idx,0]\n",
        "x_val = X[train_idx:train_idx+1+val_idx,1:]\n",
        "y_test = X[train_idx+1+val_idx:,0]\n",
        "x_test = X[train_idx+1+val_idx:,1:]\n",
        "print(f\"Train set: {x_train.shape}, {y_train.shape}\")\n",
        "print(f\"Validation set: {x_val.shape}, {y_val.shape}\")\n",
        "print(f\"Test set: {x_test.shape}, {y_test.shape}\")"
      ]
    },
    {
      "cell_type": "code",
      "execution_count": 108,
      "metadata": {
        "colab": {
          "base_uri": "https://localhost:8080/",
          "height": 0
        },
        "id": "FNP3qTpQGh2P",
        "outputId": "edbc8104-2e49-4ab4-ccc9-cd978ff5f744"
      },
      "outputs": [
        {
          "output_type": "stream",
          "name": "stdout",
          "text": [
            "Checking epsilon 1 out of 50...\n",
            "Checking epsilon 2 out of 50...\n",
            "Checking epsilon 3 out of 50...\n",
            "Checking epsilon 4 out of 50...\n",
            "Checking epsilon 5 out of 50...\n",
            "Checking epsilon 6 out of 50...\n",
            "Checking epsilon 7 out of 50...\n",
            "Checking epsilon 8 out of 50...\n",
            "Checking epsilon 9 out of 50...\n",
            "Checking epsilon 10 out of 50...\n",
            "Checking epsilon 11 out of 50...\n",
            "Checking epsilon 12 out of 50...\n",
            "Checking epsilon 13 out of 50...\n",
            "Checking epsilon 14 out of 50...\n",
            "Checking epsilon 15 out of 50...\n",
            "Checking epsilon 16 out of 50...\n",
            "Checking epsilon 17 out of 50...\n",
            "Checking epsilon 18 out of 50...\n",
            "Checking epsilon 19 out of 50...\n",
            "Checking epsilon 20 out of 50...\n",
            "Checking epsilon 21 out of 50...\n",
            "Checking epsilon 22 out of 50...\n",
            "Checking epsilon 23 out of 50...\n",
            "Checking epsilon 24 out of 50...\n",
            "Checking epsilon 25 out of 50...\n",
            "Checking epsilon 26 out of 50...\n",
            "Checking epsilon 27 out of 50...\n",
            "Checking epsilon 28 out of 50...\n",
            "Checking epsilon 29 out of 50...\n",
            "Checking epsilon 30 out of 50...\n",
            "Checking epsilon 31 out of 50...\n",
            "Checking epsilon 32 out of 50...\n",
            "Checking epsilon 33 out of 50...\n",
            "Checking epsilon 34 out of 50...\n",
            "Checking epsilon 35 out of 50...\n",
            "Checking epsilon 36 out of 50...\n",
            "Checking epsilon 37 out of 50...\n",
            "Checking epsilon 38 out of 50...\n",
            "Checking epsilon 39 out of 50...\n",
            "Checking epsilon 40 out of 50...\n",
            "Checking epsilon 41 out of 50...\n",
            "Checking epsilon 42 out of 50...\n",
            "Checking epsilon 43 out of 50...\n",
            "Checking epsilon 44 out of 50...\n",
            "Checking epsilon 45 out of 50...\n",
            "Checking epsilon 46 out of 50...\n",
            "Checking epsilon 47 out of 50...\n",
            "Checking epsilon 48 out of 50...\n",
            "Checking epsilon 49 out of 50...\n",
            "Checking epsilon 50 out of 50...\n",
            "0.1 0.8364116094986808\n",
            "Validation accuracy: 0.8364116094986808     Test accuracy: 0.8236331569664903\n"
          ]
        }
      ],
      "source": [
        "wat_naiveE, wat_naive_valAcc, wat_naive_testAcc = checkNaiveBayes(x_train,\n",
        "                                                                        y_train,\n",
        "                                                                        x_val,\n",
        "                                                                        y_val,\n",
        "                                                                        x_test,\n",
        "                                                                        y_test,\n",
        "                                                                        'Water purifier',\n",
        "                                                                        show_plot=False)\n",
        "\n",
        "print(f\"Validation accuracy: {wat_naive_valAcc}     Test accuracy: {wat_naive_testAcc}\")"
      ]
    },
    {
      "cell_type": "markdown",
      "metadata": {
        "id": "G1qP6vCvGh2Q"
      },
      "source": [
        "Gaussian Bayes"
      ]
    },
    {
      "cell_type": "code",
      "execution_count": 109,
      "metadata": {
        "colab": {
          "base_uri": "https://localhost:8080/",
          "height": 0
        },
        "id": "VdSXxoavGh2Q",
        "outputId": "200a1d3d-a7bc-4e41-f141-0c20890937e8"
      },
      "outputs": [
        {
          "output_type": "stream",
          "name": "stdout",
          "text": [
            "Checking epsilon 1 out of 50...\n",
            "Checking epsilon 2 out of 50...\n",
            "Checking epsilon 3 out of 50...\n",
            "Checking epsilon 4 out of 50...\n",
            "Checking epsilon 5 out of 50...\n",
            "Checking epsilon 6 out of 50...\n",
            "Checking epsilon 7 out of 50...\n",
            "Checking epsilon 8 out of 50...\n",
            "Checking epsilon 9 out of 50...\n",
            "Checking epsilon 10 out of 50...\n",
            "Checking epsilon 11 out of 50...\n",
            "Checking epsilon 12 out of 50...\n",
            "Checking epsilon 13 out of 50...\n",
            "Checking epsilon 14 out of 50...\n",
            "Checking epsilon 15 out of 50...\n",
            "Checking epsilon 16 out of 50...\n",
            "Checking epsilon 17 out of 50...\n",
            "Checking epsilon 18 out of 50...\n",
            "Checking epsilon 19 out of 50...\n",
            "Checking epsilon 20 out of 50...\n",
            "Checking epsilon 21 out of 50...\n",
            "Checking epsilon 22 out of 50...\n",
            "Checking epsilon 23 out of 50...\n",
            "Checking epsilon 24 out of 50...\n",
            "Checking epsilon 25 out of 50...\n",
            "Checking epsilon 26 out of 50...\n",
            "Checking epsilon 27 out of 50...\n",
            "Checking epsilon 28 out of 50...\n",
            "Checking epsilon 29 out of 50...\n",
            "Checking epsilon 30 out of 50...\n",
            "Checking epsilon 31 out of 50...\n",
            "Checking epsilon 32 out of 50...\n",
            "Checking epsilon 33 out of 50...\n",
            "Checking epsilon 34 out of 50...\n",
            "Checking epsilon 35 out of 50...\n",
            "Checking epsilon 36 out of 50...\n",
            "Checking epsilon 37 out of 50...\n",
            "Checking epsilon 38 out of 50...\n",
            "Checking epsilon 39 out of 50...\n",
            "Checking epsilon 40 out of 50...\n",
            "Checking epsilon 41 out of 50...\n",
            "Checking epsilon 42 out of 50...\n",
            "Checking epsilon 43 out of 50...\n",
            "Checking epsilon 44 out of 50...\n",
            "Checking epsilon 45 out of 50...\n",
            "Checking epsilon 46 out of 50...\n",
            "Checking epsilon 47 out of 50...\n",
            "Checking epsilon 48 out of 50...\n",
            "Checking epsilon 49 out of 50...\n",
            "Checking epsilon 50 out of 50...\n",
            "0.09191836734693878 0.9261213720316622\n",
            "Validation accuracy: 0.9261213720316622     Test accuracy: 0.9012345679012346\n"
          ]
        }
      ],
      "source": [
        "wat_gaussE, wat_gauss_valAcc, wat_gauss_testAcc = checkGaussianBayes(x_train,\n",
        "                                                                        y_train,\n",
        "                                                                        x_val,\n",
        "                                                                        y_val,\n",
        "                                                                        x_test,\n",
        "                                                                        y_test,\n",
        "                                                                        'Water purifier',\n",
        "                                                                        show_plot=False)\n",
        "\n",
        "print(f\"Validation accuracy: {wat_gauss_valAcc}     Test accuracy: {wat_gauss_testAcc}\")"
      ]
    },
    {
      "cell_type": "markdown",
      "metadata": {
        "id": "gjsnapE4Gh2Q"
      },
      "source": [
        "KNN"
      ]
    },
    {
      "cell_type": "code",
      "execution_count": 110,
      "metadata": {
        "colab": {
          "base_uri": "https://localhost:8080/",
          "height": 0
        },
        "id": "-XhqDaiTGh2Q",
        "outputId": "226b6813-f9cf-4233-eec2-e7a051cf6ea6"
      },
      "outputs": [
        {
          "output_type": "stream",
          "name": "stdout",
          "text": [
            "Checking 2 neighbors out of 30...\n",
            "Checking 3 neighbors out of 30...\n",
            "Checking 4 neighbors out of 30...\n",
            "Checking 5 neighbors out of 30...\n",
            "Checking 6 neighbors out of 30...\n",
            "Checking 7 neighbors out of 30...\n",
            "Checking 8 neighbors out of 30...\n",
            "Checking 9 neighbors out of 30...\n",
            "Checking 10 neighbors out of 30...\n",
            "Checking 11 neighbors out of 30...\n",
            "Checking 12 neighbors out of 30...\n",
            "Checking 13 neighbors out of 30...\n",
            "Checking 14 neighbors out of 30...\n",
            "Checking 15 neighbors out of 30...\n",
            "Checking 16 neighbors out of 30...\n",
            "Checking 17 neighbors out of 30...\n",
            "Checking 18 neighbors out of 30...\n",
            "Checking 19 neighbors out of 30...\n",
            "Checking 20 neighbors out of 30...\n",
            "Checking 21 neighbors out of 30...\n",
            "Checking 22 neighbors out of 30...\n",
            "Checking 23 neighbors out of 30...\n",
            "Checking 24 neighbors out of 30...\n",
            "Checking 25 neighbors out of 30...\n",
            "Checking 26 neighbors out of 30...\n",
            "Checking 27 neighbors out of 30...\n",
            "Checking 28 neighbors out of 30...\n",
            "Checking 29 neighbors out of 30...\n",
            "Checking 30 neighbors out of 30...\n",
            "4 0.9551451187335093\n",
            "Validation accuracy: 0.9551451187335093     Test accuracy: 0.9065255731922398\n"
          ]
        }
      ],
      "source": [
        "wat_knnE, wat_knn_valAcc, wat_knn_testAcc = checkKnn(x_train,\n",
        "                                                     y_train,\n",
        "                                                     x_val,\n",
        "                                                     y_val,\n",
        "                                                     x_test,\n",
        "                                                     y_test,\n",
        "                                                     'Water purifier',\n",
        "                                                     show_plot=False)\n",
        "\n",
        "print(f\"Validation accuracy: {wat_knn_valAcc}     Test accuracy: {wat_knn_testAcc}\")"
      ]
    },
    {
      "cell_type": "markdown",
      "metadata": {
        "id": "PzOzV-ld1U7x"
      },
      "source": [
        "# Warming drawer models\n",
        "\n",
        "Naive Bayes"
      ]
    },
    {
      "cell_type": "code",
      "execution_count": 111,
      "metadata": {
        "colab": {
          "base_uri": "https://localhost:8080/",
          "height": 0
        },
        "id": "q6LQqPZtmYx5",
        "outputId": "9c6cc2fd-a735-48aa-98c5-005a3785e6f7"
      },
      "outputs": [
        {
          "output_type": "stream",
          "name": "stdout",
          "text": [
            "Training set goes from 0 to 2838\n",
            "Validation set goes from 2839 to 3217\n",
            "Test set goes from 3218 to 3784\n"
          ]
        }
      ],
      "source": [
        "# General dataset for all features\n",
        "features = ['warming','appliance','countertop','microwave','electric','convection',\n",
        "            'gas','compactor','desk','dishwasher','sink','freezer','garbage',\n",
        "            'pantry','grill','lazy','refrigerator','purifier','wet','wine']\n",
        "\n",
        "X = data[features]\n",
        "X = X.sample(frac=1, replace=False, random_state=1) #Shuffle the data\n",
        "X = X.to_numpy()\n",
        "\n",
        "train_idx = int(len(X) * 0.75)\n",
        "val_idx = int(len(X) * 0.1)\n",
        "print(f\"Training set goes from 0 to {train_idx}\")\n",
        "print(f\"Validation set goes from {train_idx+1} to {train_idx+1+val_idx}\")\n",
        "print(f\"Test set goes from {train_idx+2+val_idx} to {len(X)}\")"
      ]
    },
    {
      "cell_type": "code",
      "execution_count": 112,
      "metadata": {
        "colab": {
          "base_uri": "https://localhost:8080/",
          "height": 0
        },
        "id": "hIljBygVmYx6",
        "outputId": "80c80c23-6f48-457f-f280-104d13896ec4"
      },
      "outputs": [
        {
          "output_type": "stream",
          "name": "stdout",
          "text": [
            "Train set: (2838, 19), (2838,)\n",
            "Validation set: (379, 19), (379,)\n",
            "Test set: (567, 19), (567,)\n"
          ]
        }
      ],
      "source": [
        "y_train = X[:train_idx,0]\n",
        "x_train = X[:train_idx,1:]\n",
        "y_val = X[train_idx:train_idx+1+val_idx,0]\n",
        "x_val = X[train_idx:train_idx+1+val_idx,1:]\n",
        "y_test = X[train_idx+1+val_idx:,0]\n",
        "x_test = X[train_idx+1+val_idx:,1:]\n",
        "print(f\"Train set: {x_train.shape}, {y_train.shape}\")\n",
        "print(f\"Validation set: {x_val.shape}, {y_val.shape}\")\n",
        "print(f\"Test set: {x_test.shape}, {y_test.shape}\")"
      ]
    },
    {
      "cell_type": "code",
      "execution_count": 113,
      "metadata": {
        "colab": {
          "base_uri": "https://localhost:8080/",
          "height": 0
        },
        "id": "39rHm2-6GkVQ",
        "outputId": "ff42e056-0248-47ff-f535-c7f745450d44"
      },
      "outputs": [
        {
          "output_type": "stream",
          "name": "stdout",
          "text": [
            "Checking epsilon 1 out of 50...\n",
            "Checking epsilon 2 out of 50...\n",
            "Checking epsilon 3 out of 50...\n",
            "Checking epsilon 4 out of 50...\n",
            "Checking epsilon 5 out of 50...\n",
            "Checking epsilon 6 out of 50...\n",
            "Checking epsilon 7 out of 50...\n",
            "Checking epsilon 8 out of 50...\n",
            "Checking epsilon 9 out of 50...\n",
            "Checking epsilon 10 out of 50...\n",
            "Checking epsilon 11 out of 50...\n",
            "Checking epsilon 12 out of 50...\n",
            "Checking epsilon 13 out of 50...\n",
            "Checking epsilon 14 out of 50...\n",
            "Checking epsilon 15 out of 50...\n",
            "Checking epsilon 16 out of 50...\n",
            "Checking epsilon 17 out of 50...\n",
            "Checking epsilon 18 out of 50...\n",
            "Checking epsilon 19 out of 50...\n",
            "Checking epsilon 20 out of 50...\n",
            "Checking epsilon 21 out of 50...\n",
            "Checking epsilon 22 out of 50...\n",
            "Checking epsilon 23 out of 50...\n",
            "Checking epsilon 24 out of 50...\n",
            "Checking epsilon 25 out of 50...\n",
            "Checking epsilon 26 out of 50...\n",
            "Checking epsilon 27 out of 50...\n",
            "Checking epsilon 28 out of 50...\n",
            "Checking epsilon 29 out of 50...\n",
            "Checking epsilon 30 out of 50...\n",
            "Checking epsilon 31 out of 50...\n",
            "Checking epsilon 32 out of 50...\n",
            "Checking epsilon 33 out of 50...\n",
            "Checking epsilon 34 out of 50...\n",
            "Checking epsilon 35 out of 50...\n",
            "Checking epsilon 36 out of 50...\n",
            "Checking epsilon 37 out of 50...\n",
            "Checking epsilon 38 out of 50...\n",
            "Checking epsilon 39 out of 50...\n",
            "Checking epsilon 40 out of 50...\n",
            "Checking epsilon 41 out of 50...\n",
            "Checking epsilon 42 out of 50...\n",
            "Checking epsilon 43 out of 50...\n",
            "Checking epsilon 44 out of 50...\n",
            "Checking epsilon 45 out of 50...\n",
            "Checking epsilon 46 out of 50...\n",
            "Checking epsilon 47 out of 50...\n",
            "Checking epsilon 48 out of 50...\n",
            "Checking epsilon 49 out of 50...\n",
            "Checking epsilon 50 out of 50...\n",
            "0.09393877551020409 0.8759894459102903\n",
            "Validation accuracy: 0.8759894459102903     Test accuracy: 0.8395061728395061\n"
          ]
        }
      ],
      "source": [
        "war_naiveE, war_naive_valAcc, war_naive_testAcc = checkNaiveBayes(x_train,\n",
        "                                                                        y_train,\n",
        "                                                                        x_val,\n",
        "                                                                        y_val,\n",
        "                                                                        x_test,\n",
        "                                                                        y_test,\n",
        "                                                                        'Warming drawer',\n",
        "                                                                        show_plot=False)\n",
        "\n",
        "print(f\"Validation accuracy: {war_naive_valAcc}     Test accuracy: {war_naive_testAcc}\")"
      ]
    },
    {
      "cell_type": "markdown",
      "metadata": {
        "id": "nbTPeePLGkVR"
      },
      "source": [
        "Gaussian Bayes"
      ]
    },
    {
      "cell_type": "code",
      "execution_count": 114,
      "metadata": {
        "colab": {
          "base_uri": "https://localhost:8080/",
          "height": 0
        },
        "id": "ejgNfd7EGkVS",
        "outputId": "a170ebf4-4b13-4c53-879e-503ad7bd2035"
      },
      "outputs": [
        {
          "output_type": "stream",
          "name": "stdout",
          "text": [
            "Checking epsilon 1 out of 50...\n",
            "Checking epsilon 2 out of 50...\n",
            "Checking epsilon 3 out of 50...\n",
            "Checking epsilon 4 out of 50...\n",
            "Checking epsilon 5 out of 50...\n",
            "Checking epsilon 6 out of 50...\n",
            "Checking epsilon 7 out of 50...\n",
            "Checking epsilon 8 out of 50...\n",
            "Checking epsilon 9 out of 50...\n",
            "Checking epsilon 10 out of 50...\n",
            "Checking epsilon 11 out of 50...\n",
            "Checking epsilon 12 out of 50...\n",
            "Checking epsilon 13 out of 50...\n",
            "Checking epsilon 14 out of 50...\n",
            "Checking epsilon 15 out of 50...\n",
            "Checking epsilon 16 out of 50...\n",
            "Checking epsilon 17 out of 50...\n",
            "Checking epsilon 18 out of 50...\n",
            "Checking epsilon 19 out of 50...\n",
            "Checking epsilon 20 out of 50...\n",
            "Checking epsilon 21 out of 50...\n",
            "Checking epsilon 22 out of 50...\n",
            "Checking epsilon 23 out of 50...\n",
            "Checking epsilon 24 out of 50...\n",
            "Checking epsilon 25 out of 50...\n",
            "Checking epsilon 26 out of 50...\n",
            "Checking epsilon 27 out of 50...\n",
            "Checking epsilon 28 out of 50...\n",
            "Checking epsilon 29 out of 50...\n",
            "Checking epsilon 30 out of 50...\n",
            "Checking epsilon 31 out of 50...\n",
            "Checking epsilon 32 out of 50...\n",
            "Checking epsilon 33 out of 50...\n",
            "Checking epsilon 34 out of 50...\n",
            "Checking epsilon 35 out of 50...\n",
            "Checking epsilon 36 out of 50...\n",
            "Checking epsilon 37 out of 50...\n",
            "Checking epsilon 38 out of 50...\n",
            "Checking epsilon 39 out of 50...\n",
            "Checking epsilon 40 out of 50...\n",
            "Checking epsilon 41 out of 50...\n",
            "Checking epsilon 42 out of 50...\n",
            "Checking epsilon 43 out of 50...\n",
            "Checking epsilon 44 out of 50...\n",
            "Checking epsilon 45 out of 50...\n",
            "Checking epsilon 46 out of 50...\n",
            "Checking epsilon 47 out of 50...\n",
            "Checking epsilon 48 out of 50...\n",
            "Checking epsilon 49 out of 50...\n",
            "Checking epsilon 50 out of 50...\n",
            "0.1 0.9525065963060686\n",
            "Validation accuracy: 0.9525065963060686     Test accuracy: 0.9435626102292769\n"
          ]
        }
      ],
      "source": [
        "war_gaussE, war_gauss_valAcc, war_gauss_testAcc = checkGaussianBayes(x_train,\n",
        "                                                                        y_train,\n",
        "                                                                        x_val,\n",
        "                                                                        y_val,\n",
        "                                                                        x_test,\n",
        "                                                                        y_test,\n",
        "                                                                        'Warming drawer',\n",
        "                                                                        show_plot=False)\n",
        "\n",
        "print(f\"Validation accuracy: {war_gauss_valAcc}     Test accuracy: {war_gauss_testAcc}\")"
      ]
    },
    {
      "cell_type": "markdown",
      "metadata": {
        "id": "uw7cMx3cGkVS"
      },
      "source": [
        "KNN"
      ]
    },
    {
      "cell_type": "code",
      "execution_count": 115,
      "metadata": {
        "colab": {
          "base_uri": "https://localhost:8080/",
          "height": 0
        },
        "id": "4ulUoVAUGkVT",
        "outputId": "5f700541-7a18-43a0-e601-278c4ad5610b"
      },
      "outputs": [
        {
          "output_type": "stream",
          "name": "stdout",
          "text": [
            "Checking 2 neighbors out of 30...\n",
            "Checking 3 neighbors out of 30...\n",
            "Checking 4 neighbors out of 30...\n",
            "Checking 5 neighbors out of 30...\n",
            "Checking 6 neighbors out of 30...\n",
            "Checking 7 neighbors out of 30...\n",
            "Checking 8 neighbors out of 30...\n",
            "Checking 9 neighbors out of 30...\n",
            "Checking 10 neighbors out of 30...\n",
            "Checking 11 neighbors out of 30...\n",
            "Checking 12 neighbors out of 30...\n",
            "Checking 13 neighbors out of 30...\n",
            "Checking 14 neighbors out of 30...\n",
            "Checking 15 neighbors out of 30...\n",
            "Checking 16 neighbors out of 30...\n",
            "Checking 17 neighbors out of 30...\n",
            "Checking 18 neighbors out of 30...\n",
            "Checking 19 neighbors out of 30...\n",
            "Checking 20 neighbors out of 30...\n",
            "Checking 21 neighbors out of 30...\n",
            "Checking 22 neighbors out of 30...\n",
            "Checking 23 neighbors out of 30...\n",
            "Checking 24 neighbors out of 30...\n",
            "Checking 25 neighbors out of 30...\n",
            "Checking 26 neighbors out of 30...\n",
            "Checking 27 neighbors out of 30...\n",
            "Checking 28 neighbors out of 30...\n",
            "Checking 29 neighbors out of 30...\n",
            "Checking 30 neighbors out of 30...\n",
            "5 0.9604221635883905\n",
            "Validation accuracy: 0.9604221635883905     Test accuracy: 0.9488536155202821\n"
          ]
        }
      ],
      "source": [
        "war_knnE, war_knn_valAcc, war_knn_testAcc = checkKnn(x_train,\n",
        "                                                     y_train,\n",
        "                                                     x_val,\n",
        "                                                     y_val,\n",
        "                                                     x_test,\n",
        "                                                     y_test,\n",
        "                                                     'Warming drawer',\n",
        "                                                     show_plot=False)\n",
        "\n",
        "print(f\"Validation accuracy: {war_knn_valAcc}     Test accuracy: {war_knn_testAcc}\")"
      ]
    },
    {
      "cell_type": "markdown",
      "metadata": {
        "id": "Ys0J3M1U1Vbl"
      },
      "source": [
        "# Wet bar models\n",
        "\n",
        "Naive Bayes"
      ]
    },
    {
      "cell_type": "code",
      "execution_count": 116,
      "metadata": {
        "colab": {
          "base_uri": "https://localhost:8080/",
          "height": 0
        },
        "id": "6RtdSpJqmZ-a",
        "outputId": "34fbd349-a1a4-40fb-eb90-a2fabab94511"
      },
      "outputs": [
        {
          "output_type": "stream",
          "name": "stdout",
          "text": [
            "Training set goes from 0 to 2838\n",
            "Validation set goes from 2839 to 3217\n",
            "Test set goes from 3218 to 3784\n"
          ]
        }
      ],
      "source": [
        "# General dataset for all features\n",
        "features = ['wet','appliance','countertop','microwave','electric','convection',\n",
        "            'gas','compactor','desk','dishwasher','sink','freezer','garbage',\n",
        "            'pantry','grill','lazy','refrigerator','purifier','warming','wine']\n",
        "\n",
        "X = data[features]\n",
        "X = X.sample(frac=1, replace=False, random_state=1) #Shuffle the data\n",
        "X = X.to_numpy()\n",
        "\n",
        "train_idx = int(len(X) * 0.75)\n",
        "val_idx = int(len(X) * 0.1)\n",
        "print(f\"Training set goes from 0 to {train_idx}\")\n",
        "print(f\"Validation set goes from {train_idx+1} to {train_idx+1+val_idx}\")\n",
        "print(f\"Test set goes from {train_idx+2+val_idx} to {len(X)}\")"
      ]
    },
    {
      "cell_type": "code",
      "execution_count": 117,
      "metadata": {
        "colab": {
          "base_uri": "https://localhost:8080/",
          "height": 0
        },
        "id": "8cqqsw7ZmZ-b",
        "outputId": "49efebd9-9f5f-4d5d-a696-78961912e652"
      },
      "outputs": [
        {
          "output_type": "stream",
          "name": "stdout",
          "text": [
            "Train set: (2838, 19), (2838,)\n",
            "Validation set: (379, 19), (379,)\n",
            "Test set: (567, 19), (567,)\n"
          ]
        }
      ],
      "source": [
        "y_train = X[:train_idx,0]\n",
        "x_train = X[:train_idx,1:]\n",
        "y_val = X[train_idx:train_idx+1+val_idx,0]\n",
        "x_val = X[train_idx:train_idx+1+val_idx,1:]\n",
        "y_test = X[train_idx+1+val_idx:,0]\n",
        "x_test = X[train_idx+1+val_idx:,1:]\n",
        "print(f\"Train set: {x_train.shape}, {y_train.shape}\")\n",
        "print(f\"Validation set: {x_val.shape}, {y_val.shape}\")\n",
        "print(f\"Test set: {x_test.shape}, {y_test.shape}\")"
      ]
    },
    {
      "cell_type": "code",
      "execution_count": 118,
      "metadata": {
        "colab": {
          "base_uri": "https://localhost:8080/",
          "height": 0
        },
        "id": "yVS8kTLnGmsU",
        "outputId": "b40c1640-5b74-4e9b-d674-24bef9f9a72f"
      },
      "outputs": [
        {
          "output_type": "stream",
          "name": "stdout",
          "text": [
            "Checking epsilon 1 out of 50...\n",
            "Checking epsilon 2 out of 50...\n",
            "Checking epsilon 3 out of 50...\n",
            "Checking epsilon 4 out of 50...\n",
            "Checking epsilon 5 out of 50...\n",
            "Checking epsilon 6 out of 50...\n",
            "Checking epsilon 7 out of 50...\n",
            "Checking epsilon 8 out of 50...\n",
            "Checking epsilon 9 out of 50...\n",
            "Checking epsilon 10 out of 50...\n",
            "Checking epsilon 11 out of 50...\n",
            "Checking epsilon 12 out of 50...\n",
            "Checking epsilon 13 out of 50...\n",
            "Checking epsilon 14 out of 50...\n",
            "Checking epsilon 15 out of 50...\n",
            "Checking epsilon 16 out of 50...\n",
            "Checking epsilon 17 out of 50...\n",
            "Checking epsilon 18 out of 50...\n",
            "Checking epsilon 19 out of 50...\n",
            "Checking epsilon 20 out of 50...\n",
            "Checking epsilon 21 out of 50...\n",
            "Checking epsilon 22 out of 50...\n",
            "Checking epsilon 23 out of 50...\n",
            "Checking epsilon 24 out of 50...\n",
            "Checking epsilon 25 out of 50...\n",
            "Checking epsilon 26 out of 50...\n",
            "Checking epsilon 27 out of 50...\n",
            "Checking epsilon 28 out of 50...\n",
            "Checking epsilon 29 out of 50...\n",
            "Checking epsilon 30 out of 50...\n",
            "Checking epsilon 31 out of 50...\n",
            "Checking epsilon 32 out of 50...\n",
            "Checking epsilon 33 out of 50...\n",
            "Checking epsilon 34 out of 50...\n",
            "Checking epsilon 35 out of 50...\n",
            "Checking epsilon 36 out of 50...\n",
            "Checking epsilon 37 out of 50...\n",
            "Checking epsilon 38 out of 50...\n",
            "Checking epsilon 39 out of 50...\n",
            "Checking epsilon 40 out of 50...\n",
            "Checking epsilon 41 out of 50...\n",
            "Checking epsilon 42 out of 50...\n",
            "Checking epsilon 43 out of 50...\n",
            "Checking epsilon 44 out of 50...\n",
            "Checking epsilon 45 out of 50...\n",
            "Checking epsilon 46 out of 50...\n",
            "Checking epsilon 47 out of 50...\n",
            "Checking epsilon 48 out of 50...\n",
            "Checking epsilon 49 out of 50...\n",
            "Checking epsilon 50 out of 50...\n",
            "0.0959591836734694 0.8786279683377308\n",
            "Validation accuracy: 0.8786279683377308     Test accuracy: 0.8589065255731922\n"
          ]
        }
      ],
      "source": [
        "wet_naiveE, wet_naive_valAcc, wet_naive_testAcc = checkNaiveBayes(x_train,\n",
        "                                                                        y_train,\n",
        "                                                                        x_val,\n",
        "                                                                        y_val,\n",
        "                                                                        x_test,\n",
        "                                                                        y_test,\n",
        "                                                                        'Wet bar',\n",
        "                                                                        show_plot=False)\n",
        "\n",
        "print(f\"Validation accuracy: {wet_naive_valAcc}     Test accuracy: {wet_naive_testAcc}\")"
      ]
    },
    {
      "cell_type": "markdown",
      "metadata": {
        "id": "J09S7ISqGmsV"
      },
      "source": [
        "Gaussian Bayes"
      ]
    },
    {
      "cell_type": "code",
      "execution_count": 119,
      "metadata": {
        "colab": {
          "base_uri": "https://localhost:8080/",
          "height": 0
        },
        "id": "dFaQeuSrGmsV",
        "outputId": "bd357dbb-8149-4cfd-e89c-bdab7ba8ce75"
      },
      "outputs": [
        {
          "output_type": "stream",
          "name": "stdout",
          "text": [
            "Checking epsilon 1 out of 50...\n",
            "Checking epsilon 2 out of 50...\n",
            "Checking epsilon 3 out of 50...\n",
            "Checking epsilon 4 out of 50...\n",
            "Checking epsilon 5 out of 50...\n",
            "Checking epsilon 6 out of 50...\n",
            "Checking epsilon 7 out of 50...\n",
            "Checking epsilon 8 out of 50...\n",
            "Checking epsilon 9 out of 50...\n",
            "Checking epsilon 10 out of 50...\n",
            "Checking epsilon 11 out of 50...\n",
            "Checking epsilon 12 out of 50...\n",
            "Checking epsilon 13 out of 50...\n",
            "Checking epsilon 14 out of 50...\n",
            "Checking epsilon 15 out of 50...\n",
            "Checking epsilon 16 out of 50...\n",
            "Checking epsilon 17 out of 50...\n",
            "Checking epsilon 18 out of 50...\n",
            "Checking epsilon 19 out of 50...\n",
            "Checking epsilon 20 out of 50...\n",
            "Checking epsilon 21 out of 50...\n",
            "Checking epsilon 22 out of 50...\n",
            "Checking epsilon 23 out of 50...\n",
            "Checking epsilon 24 out of 50...\n",
            "Checking epsilon 25 out of 50...\n",
            "Checking epsilon 26 out of 50...\n",
            "Checking epsilon 27 out of 50...\n",
            "Checking epsilon 28 out of 50...\n",
            "Checking epsilon 29 out of 50...\n",
            "Checking epsilon 30 out of 50...\n",
            "Checking epsilon 31 out of 50...\n",
            "Checking epsilon 32 out of 50...\n",
            "Checking epsilon 33 out of 50...\n",
            "Checking epsilon 34 out of 50...\n",
            "Checking epsilon 35 out of 50...\n",
            "Checking epsilon 36 out of 50...\n",
            "Checking epsilon 37 out of 50...\n",
            "Checking epsilon 38 out of 50...\n",
            "Checking epsilon 39 out of 50...\n",
            "Checking epsilon 40 out of 50...\n",
            "Checking epsilon 41 out of 50...\n",
            "Checking epsilon 42 out of 50...\n",
            "Checking epsilon 43 out of 50...\n",
            "Checking epsilon 44 out of 50...\n",
            "Checking epsilon 45 out of 50...\n",
            "Checking epsilon 46 out of 50...\n",
            "Checking epsilon 47 out of 50...\n",
            "Checking epsilon 48 out of 50...\n",
            "Checking epsilon 49 out of 50...\n",
            "Checking epsilon 50 out of 50...\n",
            "0.0979795918367347 0.9445910290237467\n",
            "Validation accuracy: 0.9445910290237467     Test accuracy: 0.9259259259259259\n"
          ]
        }
      ],
      "source": [
        "wet_gaussE, wet_gauss_valAcc, wet_gauss_testAcc = checkGaussianBayes(x_train,\n",
        "                                                                        y_train,\n",
        "                                                                        x_val,\n",
        "                                                                        y_val,\n",
        "                                                                        x_test,\n",
        "                                                                        y_test,\n",
        "                                                                        'Wet bar',\n",
        "                                                                        show_plot=False)\n",
        "\n",
        "print(f\"Validation accuracy: {wet_gauss_valAcc}     Test accuracy: {wet_gauss_testAcc}\")"
      ]
    },
    {
      "cell_type": "markdown",
      "metadata": {
        "id": "cXR_vcWVGmsV"
      },
      "source": [
        "KNN"
      ]
    },
    {
      "cell_type": "code",
      "execution_count": 120,
      "metadata": {
        "colab": {
          "base_uri": "https://localhost:8080/",
          "height": 0
        },
        "id": "1_Ckgg0cGmsV",
        "outputId": "4e5dc59b-e42e-482c-a2bb-eb7498cd3c7b"
      },
      "outputs": [
        {
          "output_type": "stream",
          "name": "stdout",
          "text": [
            "Checking 2 neighbors out of 30...\n",
            "Checking 3 neighbors out of 30...\n",
            "Checking 4 neighbors out of 30...\n",
            "Checking 5 neighbors out of 30...\n",
            "Checking 6 neighbors out of 30...\n",
            "Checking 7 neighbors out of 30...\n",
            "Checking 8 neighbors out of 30...\n",
            "Checking 9 neighbors out of 30...\n",
            "Checking 10 neighbors out of 30...\n",
            "Checking 11 neighbors out of 30...\n",
            "Checking 12 neighbors out of 30...\n",
            "Checking 13 neighbors out of 30...\n",
            "Checking 14 neighbors out of 30...\n",
            "Checking 15 neighbors out of 30...\n",
            "Checking 16 neighbors out of 30...\n",
            "Checking 17 neighbors out of 30...\n",
            "Checking 18 neighbors out of 30...\n",
            "Checking 19 neighbors out of 30...\n",
            "Checking 20 neighbors out of 30...\n",
            "Checking 21 neighbors out of 30...\n",
            "Checking 22 neighbors out of 30...\n",
            "Checking 23 neighbors out of 30...\n",
            "Checking 24 neighbors out of 30...\n",
            "Checking 25 neighbors out of 30...\n",
            "Checking 26 neighbors out of 30...\n",
            "Checking 27 neighbors out of 30...\n",
            "Checking 28 neighbors out of 30...\n",
            "Checking 29 neighbors out of 30...\n",
            "Checking 30 neighbors out of 30...\n",
            "4 0.9577836411609498\n",
            "Validation accuracy: 0.9577836411609498     Test accuracy: 0.9470899470899471\n"
          ]
        }
      ],
      "source": [
        "wet_knnE, wet_knn_valAcc, wet_knn_testAcc = checkKnn(x_train,\n",
        "                                                     y_train,\n",
        "                                                     x_val,\n",
        "                                                     y_val,\n",
        "                                                     x_test,\n",
        "                                                     y_test,\n",
        "                                                     'Wet bar',\n",
        "                                                     show_plot=False)\n",
        "\n",
        "print(f\"Validation accuracy: {wet_knn_valAcc}     Test accuracy: {wet_knn_testAcc}\")"
      ]
    },
    {
      "cell_type": "markdown",
      "metadata": {
        "id": "0vSoO-w01V2w"
      },
      "source": [
        "# Wine cooler models\n",
        "\n",
        "Naive Bayes"
      ]
    },
    {
      "cell_type": "code",
      "execution_count": 121,
      "metadata": {
        "colab": {
          "base_uri": "https://localhost:8080/",
          "height": 0
        },
        "id": "mJ6eLGrimbGE",
        "outputId": "d53db858-1426-45db-b8eb-be649b80765c"
      },
      "outputs": [
        {
          "output_type": "stream",
          "name": "stdout",
          "text": [
            "Training set goes from 0 to 2838\n",
            "Validation set goes from 2839 to 3217\n",
            "Test set goes from 3218 to 3784\n"
          ]
        }
      ],
      "source": [
        "# General dataset for all features\n",
        "features = ['wine','appliance','countertop','microwave','electric','convection',\n",
        "            'gas','compactor','desk','dishwasher','sink','freezer','garbage',\n",
        "            'pantry','grill','lazy','refrigerator','purifier','warming','wet']\n",
        "\n",
        "X = data[features]\n",
        "X = X.sample(frac=1, replace=False, random_state=1) #Shuffle the data\n",
        "X = X.to_numpy()\n",
        "\n",
        "train_idx = int(len(X) * 0.75)\n",
        "val_idx = int(len(X) * 0.1)\n",
        "print(f\"Training set goes from 0 to {train_idx}\")\n",
        "print(f\"Validation set goes from {train_idx+1} to {train_idx+1+val_idx}\")\n",
        "print(f\"Test set goes from {train_idx+2+val_idx} to {len(X)}\")"
      ]
    },
    {
      "cell_type": "code",
      "execution_count": 122,
      "metadata": {
        "colab": {
          "base_uri": "https://localhost:8080/",
          "height": 0
        },
        "id": "BOjhoHxNmbGG",
        "outputId": "dda3a9c4-ae7e-4792-d829-4b11d9db84ac"
      },
      "outputs": [
        {
          "output_type": "stream",
          "name": "stdout",
          "text": [
            "Train set: (2838, 19), (2838,)\n",
            "Validation set: (379, 19), (379,)\n",
            "Test set: (567, 19), (567,)\n"
          ]
        }
      ],
      "source": [
        "y_train = X[:train_idx,0]\n",
        "x_train = X[:train_idx,1:]\n",
        "y_val = X[train_idx:train_idx+1+val_idx,0]\n",
        "x_val = X[train_idx:train_idx+1+val_idx,1:]\n",
        "y_test = X[train_idx+1+val_idx:,0]\n",
        "x_test = X[train_idx+1+val_idx:,1:]\n",
        "print(f\"Train set: {x_train.shape}, {y_train.shape}\")\n",
        "print(f\"Validation set: {x_val.shape}, {y_val.shape}\")\n",
        "print(f\"Test set: {x_test.shape}, {y_test.shape}\")"
      ]
    },
    {
      "cell_type": "code",
      "execution_count": 123,
      "metadata": {
        "colab": {
          "base_uri": "https://localhost:8080/",
          "height": 0
        },
        "id": "vxbR5vaXGo_r",
        "outputId": "59639978-decf-4d1e-bcf5-6d711441c162"
      },
      "outputs": [
        {
          "output_type": "stream",
          "name": "stdout",
          "text": [
            "Checking epsilon 1 out of 50...\n",
            "Checking epsilon 2 out of 50...\n",
            "Checking epsilon 3 out of 50...\n",
            "Checking epsilon 4 out of 50...\n",
            "Checking epsilon 5 out of 50...\n",
            "Checking epsilon 6 out of 50...\n",
            "Checking epsilon 7 out of 50...\n",
            "Checking epsilon 8 out of 50...\n",
            "Checking epsilon 9 out of 50...\n",
            "Checking epsilon 10 out of 50...\n",
            "Checking epsilon 11 out of 50...\n",
            "Checking epsilon 12 out of 50...\n",
            "Checking epsilon 13 out of 50...\n",
            "Checking epsilon 14 out of 50...\n",
            "Checking epsilon 15 out of 50...\n",
            "Checking epsilon 16 out of 50...\n",
            "Checking epsilon 17 out of 50...\n",
            "Checking epsilon 18 out of 50...\n",
            "Checking epsilon 19 out of 50...\n",
            "Checking epsilon 20 out of 50...\n",
            "Checking epsilon 21 out of 50...\n",
            "Checking epsilon 22 out of 50...\n",
            "Checking epsilon 23 out of 50...\n",
            "Checking epsilon 24 out of 50...\n",
            "Checking epsilon 25 out of 50...\n",
            "Checking epsilon 26 out of 50...\n",
            "Checking epsilon 27 out of 50...\n",
            "Checking epsilon 28 out of 50...\n",
            "Checking epsilon 29 out of 50...\n",
            "Checking epsilon 30 out of 50...\n",
            "Checking epsilon 31 out of 50...\n",
            "Checking epsilon 32 out of 50...\n",
            "Checking epsilon 33 out of 50...\n",
            "Checking epsilon 34 out of 50...\n",
            "Checking epsilon 35 out of 50...\n",
            "Checking epsilon 36 out of 50...\n",
            "Checking epsilon 37 out of 50...\n",
            "Checking epsilon 38 out of 50...\n",
            "Checking epsilon 39 out of 50...\n",
            "Checking epsilon 40 out of 50...\n",
            "Checking epsilon 41 out of 50...\n",
            "Checking epsilon 42 out of 50...\n",
            "Checking epsilon 43 out of 50...\n",
            "Checking epsilon 44 out of 50...\n",
            "Checking epsilon 45 out of 50...\n",
            "Checking epsilon 46 out of 50...\n",
            "Checking epsilon 47 out of 50...\n",
            "Checking epsilon 48 out of 50...\n",
            "Checking epsilon 49 out of 50...\n",
            "Checking epsilon 50 out of 50...\n",
            "0.08989795918367348 0.9920844327176781\n",
            "Validation accuracy: 0.9920844327176781     Test accuracy: 0.982363315696649\n"
          ]
        }
      ],
      "source": [
        "win_naiveE, win_naive_valAcc, win_naive_testAcc = checkNaiveBayes(x_train,\n",
        "                                                                        y_train,\n",
        "                                                                        x_val,\n",
        "                                                                        y_val,\n",
        "                                                                        x_test,\n",
        "                                                                        y_test,\n",
        "                                                                        'Wine cooler',\n",
        "                                                                        show_plot=False)\n",
        "\n",
        "print(f\"Validation accuracy: {win_naive_valAcc}     Test accuracy: {win_naive_testAcc}\")"
      ]
    },
    {
      "cell_type": "markdown",
      "metadata": {
        "id": "g7NIyf0QGo_s"
      },
      "source": [
        "Gaussian Bayes"
      ]
    },
    {
      "cell_type": "code",
      "execution_count": 124,
      "metadata": {
        "colab": {
          "base_uri": "https://localhost:8080/",
          "height": 0
        },
        "id": "j-eZrfVKGo_s",
        "outputId": "46177e64-f053-48bb-dc8d-e3274317b9ca"
      },
      "outputs": [
        {
          "output_type": "stream",
          "name": "stdout",
          "text": [
            "Checking epsilon 1 out of 50...\n",
            "Checking epsilon 2 out of 50...\n",
            "Checking epsilon 3 out of 50...\n",
            "Checking epsilon 4 out of 50...\n",
            "Checking epsilon 5 out of 50...\n",
            "Checking epsilon 6 out of 50...\n",
            "Checking epsilon 7 out of 50...\n",
            "Checking epsilon 8 out of 50...\n",
            "Checking epsilon 9 out of 50...\n",
            "Checking epsilon 10 out of 50...\n",
            "Checking epsilon 11 out of 50...\n",
            "Checking epsilon 12 out of 50...\n",
            "Checking epsilon 13 out of 50...\n",
            "Checking epsilon 14 out of 50...\n",
            "Checking epsilon 15 out of 50...\n",
            "Checking epsilon 16 out of 50...\n",
            "Checking epsilon 17 out of 50...\n",
            "Checking epsilon 18 out of 50...\n",
            "Checking epsilon 19 out of 50...\n",
            "Checking epsilon 20 out of 50...\n",
            "Checking epsilon 21 out of 50...\n",
            "Checking epsilon 22 out of 50...\n",
            "Checking epsilon 23 out of 50...\n",
            "Checking epsilon 24 out of 50...\n",
            "Checking epsilon 25 out of 50...\n",
            "Checking epsilon 26 out of 50...\n",
            "Checking epsilon 27 out of 50...\n",
            "Checking epsilon 28 out of 50...\n",
            "Checking epsilon 29 out of 50...\n",
            "Checking epsilon 30 out of 50...\n",
            "Checking epsilon 31 out of 50...\n",
            "Checking epsilon 32 out of 50...\n",
            "Checking epsilon 33 out of 50...\n",
            "Checking epsilon 34 out of 50...\n",
            "Checking epsilon 35 out of 50...\n",
            "Checking epsilon 36 out of 50...\n",
            "Checking epsilon 37 out of 50...\n",
            "Checking epsilon 38 out of 50...\n",
            "Checking epsilon 39 out of 50...\n",
            "Checking epsilon 40 out of 50...\n",
            "Checking epsilon 41 out of 50...\n",
            "Checking epsilon 42 out of 50...\n",
            "Checking epsilon 43 out of 50...\n",
            "Checking epsilon 44 out of 50...\n",
            "Checking epsilon 45 out of 50...\n",
            "Checking epsilon 46 out of 50...\n",
            "Checking epsilon 47 out of 50...\n",
            "Checking epsilon 48 out of 50...\n",
            "Checking epsilon 49 out of 50...\n",
            "Checking epsilon 50 out of 50...\n",
            "0.001 1.0\n",
            "Validation accuracy: 1.0     Test accuracy: 0.9982363315696648\n"
          ]
        }
      ],
      "source": [
        "win_gaussE, win_gauss_valAcc, win_gauss_testAcc = checkGaussianBayes(x_train,\n",
        "                                                                        y_train,\n",
        "                                                                        x_val,\n",
        "                                                                        y_val,\n",
        "                                                                        x_test,\n",
        "                                                                        y_test,\n",
        "                                                                        'Wine cooler',\n",
        "                                                                        show_plot=False)\n",
        "\n",
        "print(f\"Validation accuracy: {win_gauss_valAcc}     Test accuracy: {win_gauss_testAcc}\")"
      ]
    },
    {
      "cell_type": "markdown",
      "metadata": {
        "id": "FLFnI5fxGo_s"
      },
      "source": [
        "KNN"
      ]
    },
    {
      "cell_type": "code",
      "execution_count": 125,
      "metadata": {
        "colab": {
          "base_uri": "https://localhost:8080/",
          "height": 0
        },
        "id": "2WiaY-NUGo_s",
        "outputId": "3b9857d0-30df-4353-be40-3e3f8d49d1ca"
      },
      "outputs": [
        {
          "output_type": "stream",
          "name": "stdout",
          "text": [
            "Checking 2 neighbors out of 30...\n",
            "Checking 3 neighbors out of 30...\n",
            "Checking 4 neighbors out of 30...\n",
            "Checking 5 neighbors out of 30...\n",
            "Checking 6 neighbors out of 30...\n",
            "Checking 7 neighbors out of 30...\n",
            "Checking 8 neighbors out of 30...\n",
            "Checking 9 neighbors out of 30...\n",
            "Checking 10 neighbors out of 30...\n",
            "Checking 11 neighbors out of 30...\n",
            "Checking 12 neighbors out of 30...\n",
            "Checking 13 neighbors out of 30...\n",
            "Checking 14 neighbors out of 30...\n",
            "Checking 15 neighbors out of 30...\n",
            "Checking 16 neighbors out of 30...\n",
            "Checking 17 neighbors out of 30...\n",
            "Checking 18 neighbors out of 30...\n",
            "Checking 19 neighbors out of 30...\n",
            "Checking 20 neighbors out of 30...\n",
            "Checking 21 neighbors out of 30...\n",
            "Checking 22 neighbors out of 30...\n",
            "Checking 23 neighbors out of 30...\n",
            "Checking 24 neighbors out of 30...\n",
            "Checking 25 neighbors out of 30...\n",
            "Checking 26 neighbors out of 30...\n",
            "Checking 27 neighbors out of 30...\n",
            "Checking 28 neighbors out of 30...\n",
            "Checking 29 neighbors out of 30...\n",
            "Checking 30 neighbors out of 30...\n",
            "16 1.0\n",
            "Validation accuracy: 1.0     Test accuracy: 1.0\n"
          ]
        }
      ],
      "source": [
        "win_knnE, win_knn_valAcc, win_knn_testAcc = checkKnn(x_train,\n",
        "                                                     y_train,\n",
        "                                                     x_val,\n",
        "                                                     y_val,\n",
        "                                                     x_test,\n",
        "                                                     y_test,\n",
        "                                                     'Wine cooler',\n",
        "                                                     show_plot=False)\n",
        "\n",
        "print(f\"Validation accuracy: {win_knn_valAcc}     Test accuracy: {win_knn_testAcc}\")"
      ]
    },
    {
      "cell_type": "markdown",
      "metadata": {
        "id": "8mDl4q9Tu2ln"
      },
      "source": [
        "# Predict prices with kitchen features\n",
        "\n",
        "Given certain kitchen features, predict how much the house should cost."
      ]
    },
    {
      "cell_type": "code",
      "execution_count": 126,
      "metadata": {
        "colab": {
          "base_uri": "https://localhost:8080/",
          "height": 0
        },
        "id": "yhMBvgsGvrZx",
        "outputId": "b713d906-e4a6-4e7b-fc1a-3bdf4aa68102"
      },
      "outputs": [
        {
          "output_type": "stream",
          "name": "stdout",
          "text": [
            "Training set goes from 0 to 2838\n",
            "Validation set goes from 2839 to 3217\n",
            "Test set goes from 3218 to 3784\n"
          ]
        }
      ],
      "source": [
        "features = ['sold_price','appliance','countertop','microwave','electric','convection',\n",
        "            'gas','compactor','desk','dishwasher','sink','freezer','garbage',\n",
        "            'pantry','grill','lazy','refrigerator','purifier','warming','wet','wine']\n",
        "\n",
        "X = data[features]\n",
        "X = X.sample(frac=1, replace=False, random_state=1) #Shuffle the data\n",
        "X = X.to_numpy()\n",
        "\n",
        "train_idx = int(len(X) * 0.75)\n",
        "val_idx = int(len(X) * 0.1)\n",
        "print(f\"Training set goes from 0 to {train_idx}\")\n",
        "print(f\"Validation set goes from {train_idx+1} to {train_idx+1+val_idx}\")\n",
        "print(f\"Test set goes from {train_idx+2+val_idx} to {len(X)}\")"
      ]
    },
    {
      "cell_type": "code",
      "execution_count": 127,
      "metadata": {
        "colab": {
          "base_uri": "https://localhost:8080/",
          "height": 0
        },
        "id": "6K-ATIdVv-ED",
        "outputId": "f5157a6f-5ff0-4200-feb8-6c7b01466fb9"
      },
      "outputs": [
        {
          "output_type": "stream",
          "name": "stdout",
          "text": [
            "Train set: (2838, 20), (2838,)\n",
            "Validation set: (379, 20), (379,)\n",
            "Test set: (567, 20), (567,)\n"
          ]
        }
      ],
      "source": [
        "y_train = X[:train_idx,0]\n",
        "x_train = X[:train_idx,1:]\n",
        "y_val = X[train_idx:train_idx+1+val_idx,0]\n",
        "x_val = X[train_idx:train_idx+1+val_idx,1:]\n",
        "y_test = X[train_idx+1+val_idx:,0]\n",
        "x_test = X[train_idx+1+val_idx:,1:]\n",
        "print(f\"Train set: {x_train.shape}, {y_train.shape}\")\n",
        "print(f\"Validation set: {x_val.shape}, {y_val.shape}\")\n",
        "print(f\"Test set: {x_test.shape}, {y_test.shape}\")"
      ]
    },
    {
      "cell_type": "markdown",
      "metadata": {
        "id": "OFiNZCQBxjDe"
      },
      "source": [
        "Multiple Linear Regression"
      ]
    },
    {
      "cell_type": "code",
      "execution_count": 128,
      "metadata": {
        "id": "vPi8CXwlwB9Z"
      },
      "outputs": [],
      "source": [
        "prices_mlr = mlr()\n",
        "prices_mlr.fit(x_train,y_train)"
      ]
    },
    {
      "cell_type": "code",
      "execution_count": 129,
      "metadata": {
        "colab": {
          "base_uri": "https://localhost:8080/",
          "height": 778
        },
        "id": "Fj_gXvVpyO5x",
        "outputId": "108ab899-3c11-40f4-d31a-1fc5ef59605b"
      },
      "outputs": [
        {
          "output_type": "error",
          "ename": "ValueError",
          "evalue": "ignored",
          "traceback": [
            "\u001b[0;31m---------------------------------------------------------------------------\u001b[0m",
            "\u001b[0;31mValueError\u001b[0m                                Traceback (most recent call last)",
            "\u001b[0;32m<ipython-input-129-032d2002d750>\u001b[0m in \u001b[0;36m<module>\u001b[0;34m()\u001b[0m\n\u001b[1;32m      1\u001b[0m \u001b[0mplt\u001b[0m\u001b[0;34m.\u001b[0m\u001b[0mfigure\u001b[0m\u001b[0;34m(\u001b[0m\u001b[0mfigsize\u001b[0m\u001b[0;34m=\u001b[0m\u001b[0;34m(\u001b[0m\u001b[0;36m10\u001b[0m\u001b[0;34m,\u001b[0m\u001b[0;36m7\u001b[0m\u001b[0;34m)\u001b[0m\u001b[0;34m)\u001b[0m\u001b[0;34m\u001b[0m\u001b[0;34m\u001b[0m\u001b[0m\n\u001b[0;32m----> 2\u001b[0;31m \u001b[0mplt\u001b[0m\u001b[0;34m.\u001b[0m\u001b[0mscatter\u001b[0m\u001b[0;34m(\u001b[0m\u001b[0mx_train\u001b[0m\u001b[0;34m,\u001b[0m \u001b[0my_train\u001b[0m\u001b[0;34m,\u001b[0m \u001b[0ms\u001b[0m\u001b[0;34m=\u001b[0m\u001b[0;36m8\u001b[0m\u001b[0;34m)\u001b[0m\u001b[0;34m\u001b[0m\u001b[0;34m\u001b[0m\u001b[0m\n\u001b[0m\u001b[1;32m      3\u001b[0m \u001b[0;31m#plt.plot(x_test, y_hat, color='#FF0000')\u001b[0m\u001b[0;34m\u001b[0m\u001b[0;34m\u001b[0m\u001b[0;34m\u001b[0m\u001b[0m\n",
            "\u001b[0;32m/usr/local/lib/python3.7/dist-packages/matplotlib/pyplot.py\u001b[0m in \u001b[0;36mscatter\u001b[0;34m(x, y, s, c, marker, cmap, norm, vmin, vmax, alpha, linewidths, verts, edgecolors, plotnonfinite, data, **kwargs)\u001b[0m\n\u001b[1;32m   2814\u001b[0m         \u001b[0mverts\u001b[0m\u001b[0;34m=\u001b[0m\u001b[0mverts\u001b[0m\u001b[0;34m,\u001b[0m \u001b[0medgecolors\u001b[0m\u001b[0;34m=\u001b[0m\u001b[0medgecolors\u001b[0m\u001b[0;34m,\u001b[0m\u001b[0;34m\u001b[0m\u001b[0;34m\u001b[0m\u001b[0m\n\u001b[1;32m   2815\u001b[0m         plotnonfinite=plotnonfinite, **({\"data\": data} if data is not\n\u001b[0;32m-> 2816\u001b[0;31m         None else {}), **kwargs)\n\u001b[0m\u001b[1;32m   2817\u001b[0m     \u001b[0msci\u001b[0m\u001b[0;34m(\u001b[0m\u001b[0m__ret\u001b[0m\u001b[0;34m)\u001b[0m\u001b[0;34m\u001b[0m\u001b[0;34m\u001b[0m\u001b[0m\n\u001b[1;32m   2818\u001b[0m     \u001b[0;32mreturn\u001b[0m \u001b[0m__ret\u001b[0m\u001b[0;34m\u001b[0m\u001b[0;34m\u001b[0m\u001b[0m\n",
            "\u001b[0;32m/usr/local/lib/python3.7/dist-packages/matplotlib/__init__.py\u001b[0m in \u001b[0;36minner\u001b[0;34m(ax, data, *args, **kwargs)\u001b[0m\n\u001b[1;32m   1563\u001b[0m     \u001b[0;32mdef\u001b[0m \u001b[0minner\u001b[0m\u001b[0;34m(\u001b[0m\u001b[0max\u001b[0m\u001b[0;34m,\u001b[0m \u001b[0;34m*\u001b[0m\u001b[0margs\u001b[0m\u001b[0;34m,\u001b[0m \u001b[0mdata\u001b[0m\u001b[0;34m=\u001b[0m\u001b[0;32mNone\u001b[0m\u001b[0;34m,\u001b[0m \u001b[0;34m**\u001b[0m\u001b[0mkwargs\u001b[0m\u001b[0;34m)\u001b[0m\u001b[0;34m:\u001b[0m\u001b[0;34m\u001b[0m\u001b[0;34m\u001b[0m\u001b[0m\n\u001b[1;32m   1564\u001b[0m         \u001b[0;32mif\u001b[0m \u001b[0mdata\u001b[0m \u001b[0;32mis\u001b[0m \u001b[0;32mNone\u001b[0m\u001b[0;34m:\u001b[0m\u001b[0;34m\u001b[0m\u001b[0;34m\u001b[0m\u001b[0m\n\u001b[0;32m-> 1565\u001b[0;31m             \u001b[0;32mreturn\u001b[0m \u001b[0mfunc\u001b[0m\u001b[0;34m(\u001b[0m\u001b[0max\u001b[0m\u001b[0;34m,\u001b[0m \u001b[0;34m*\u001b[0m\u001b[0mmap\u001b[0m\u001b[0;34m(\u001b[0m\u001b[0msanitize_sequence\u001b[0m\u001b[0;34m,\u001b[0m \u001b[0margs\u001b[0m\u001b[0;34m)\u001b[0m\u001b[0;34m,\u001b[0m \u001b[0;34m**\u001b[0m\u001b[0mkwargs\u001b[0m\u001b[0;34m)\u001b[0m\u001b[0;34m\u001b[0m\u001b[0;34m\u001b[0m\u001b[0m\n\u001b[0m\u001b[1;32m   1566\u001b[0m \u001b[0;34m\u001b[0m\u001b[0m\n\u001b[1;32m   1567\u001b[0m         \u001b[0mbound\u001b[0m \u001b[0;34m=\u001b[0m \u001b[0mnew_sig\u001b[0m\u001b[0;34m.\u001b[0m\u001b[0mbind\u001b[0m\u001b[0;34m(\u001b[0m\u001b[0max\u001b[0m\u001b[0;34m,\u001b[0m \u001b[0;34m*\u001b[0m\u001b[0margs\u001b[0m\u001b[0;34m,\u001b[0m \u001b[0;34m**\u001b[0m\u001b[0mkwargs\u001b[0m\u001b[0;34m)\u001b[0m\u001b[0;34m\u001b[0m\u001b[0;34m\u001b[0m\u001b[0m\n",
            "\u001b[0;32m/usr/local/lib/python3.7/dist-packages/matplotlib/cbook/deprecation.py\u001b[0m in \u001b[0;36mwrapper\u001b[0;34m(*args, **kwargs)\u001b[0m\n\u001b[1;32m    356\u001b[0m                 \u001b[0;34mf\"%(removal)s.  If any parameter follows {name!r}, they \"\u001b[0m\u001b[0;34m\u001b[0m\u001b[0;34m\u001b[0m\u001b[0m\n\u001b[1;32m    357\u001b[0m                 f\"should be pass as keyword, not positionally.\")\n\u001b[0;32m--> 358\u001b[0;31m         \u001b[0;32mreturn\u001b[0m \u001b[0mfunc\u001b[0m\u001b[0;34m(\u001b[0m\u001b[0;34m*\u001b[0m\u001b[0margs\u001b[0m\u001b[0;34m,\u001b[0m \u001b[0;34m**\u001b[0m\u001b[0mkwargs\u001b[0m\u001b[0;34m)\u001b[0m\u001b[0;34m\u001b[0m\u001b[0;34m\u001b[0m\u001b[0m\n\u001b[0m\u001b[1;32m    359\u001b[0m \u001b[0;34m\u001b[0m\u001b[0m\n\u001b[1;32m    360\u001b[0m     \u001b[0;32mreturn\u001b[0m \u001b[0mwrapper\u001b[0m\u001b[0;34m\u001b[0m\u001b[0;34m\u001b[0m\u001b[0m\n",
            "\u001b[0;32m/usr/local/lib/python3.7/dist-packages/matplotlib/axes/_axes.py\u001b[0m in \u001b[0;36mscatter\u001b[0;34m(self, x, y, s, c, marker, cmap, norm, vmin, vmax, alpha, linewidths, verts, edgecolors, plotnonfinite, **kwargs)\u001b[0m\n\u001b[1;32m   4389\u001b[0m         \u001b[0my\u001b[0m \u001b[0;34m=\u001b[0m \u001b[0mnp\u001b[0m\u001b[0;34m.\u001b[0m\u001b[0mma\u001b[0m\u001b[0;34m.\u001b[0m\u001b[0mravel\u001b[0m\u001b[0;34m(\u001b[0m\u001b[0my\u001b[0m\u001b[0;34m)\u001b[0m\u001b[0;34m\u001b[0m\u001b[0;34m\u001b[0m\u001b[0m\n\u001b[1;32m   4390\u001b[0m         \u001b[0;32mif\u001b[0m \u001b[0mx\u001b[0m\u001b[0;34m.\u001b[0m\u001b[0msize\u001b[0m \u001b[0;34m!=\u001b[0m \u001b[0my\u001b[0m\u001b[0;34m.\u001b[0m\u001b[0msize\u001b[0m\u001b[0;34m:\u001b[0m\u001b[0;34m\u001b[0m\u001b[0;34m\u001b[0m\u001b[0m\n\u001b[0;32m-> 4391\u001b[0;31m             \u001b[0;32mraise\u001b[0m \u001b[0mValueError\u001b[0m\u001b[0;34m(\u001b[0m\u001b[0;34m\"x and y must be the same size\"\u001b[0m\u001b[0;34m)\u001b[0m\u001b[0;34m\u001b[0m\u001b[0;34m\u001b[0m\u001b[0m\n\u001b[0m\u001b[1;32m   4392\u001b[0m \u001b[0;34m\u001b[0m\u001b[0m\n\u001b[1;32m   4393\u001b[0m         \u001b[0;32mif\u001b[0m \u001b[0ms\u001b[0m \u001b[0;32mis\u001b[0m \u001b[0;32mNone\u001b[0m\u001b[0;34m:\u001b[0m\u001b[0;34m\u001b[0m\u001b[0;34m\u001b[0m\u001b[0m\n",
            "\u001b[0;31mValueError\u001b[0m: x and y must be the same size"
          ]
        },
        {
          "output_type": "display_data",
          "data": {
            "text/plain": [
              "<Figure size 720x504 with 1 Axes>"
            ],
            "image/png": "[encoded data removed]"
          },
          "metadata": {
            "needs_background": "light"
          }
        }
      ],
      "source": [
        "plt.figure(figsize=(10,7))\n",
        "plt.scatter(x_train, y_train, s=8)\n",
        "#plt.plot(x_test, y_hat, color='#FF0000')"
      ]
    },
    {
      "cell_type": "code",
      "execution_count": 130,
      "metadata": {
        "colab": {
          "base_uri": "https://localhost:8080/",
          "height": 0
        },
        "id": "l8vExjvLxs_O",
        "outputId": "c5ae4e2d-508a-4e3f-d025-027d23ab00b6"
      },
      "outputs": [
        {
          "output_type": "stream",
          "name": "stdout",
          "text": [
            "-0.028873737620649598\n"
          ]
        }
      ],
      "source": [
        "y_mlr_val = prices_mlr.predict(x_val)\n",
        "r2_val = R2(y_val, y_mlr_val)\n",
        "print(r2_val)"
      ]
    },
    {
      "cell_type": "code",
      "execution_count": null,
      "metadata": {
        "id": "Jgc9dko-yLTa"
      },
      "outputs": [],
      "source": [
        ""
      ]
    }
  ],
  "metadata": {
    "accelerator": "GPU",
    "colab": {
      "collapsed_sections": [
        "6LzCd8iF3rmB",
        "VdIGCnZ0JLHP",
        "uuvOMc4DB7vL",
        "m9n0vqSwIjYP",
        "N1hX9HBK0ueN",
        "tO7dZ9LH1K_a",
        "18MMRJvI1OKE",
        "vhWMMR3S1Otz",
        "hlVWeajy1PTZ",
        "NFOW__ou1P1X",
        "69EerU2s1Qao",
        "QVJyL3O61Q3-"
      ],
      "name": "House_Redecoration.ipynb",
      "provenance": []
    },
    "kernelspec": {
      "display_name": "Python 3",
      "name": "python3"
    },
    "language_info": {
      "name": "python"
    }
  },
  "nbformat": 4,
  "nbformat_minor": 0
}